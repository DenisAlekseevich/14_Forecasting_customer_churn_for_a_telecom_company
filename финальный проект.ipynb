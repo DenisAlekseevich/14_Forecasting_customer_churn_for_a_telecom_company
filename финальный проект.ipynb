{
 "cells": [
  {
   "cell_type": "markdown",
   "metadata": {},
   "source": [
    "Условие задачи\n",
    "\n",
    "Оператор связи «Ниединогоразрыва.ком» хочет научиться прогнозировать отток клиентов. Если выяснится, что пользователь планирует уйти, ему будут предложены промокоды и специальные условия. Команда оператора собрала персональные данные о некоторых клиентах, информацию об их тарифах и договорах.\n",
    "Описание услуг\n",
    "\n",
    "Оператор предоставляет два основных типа услуг:\n",
    "\n",
    "    Стационарную телефонную связь. Возможно подключение телефонного аппарата к нескольким линиям одновременно.\n",
    "    Интернет. Подключение может быть двух типов: через телефонную линию (DSL, от англ. digital subscriber line, «цифровая абонентская линия») или оптоволоконный кабель (Fiber optic).\n",
    "\n",
    "Также доступны такие услуги:\n",
    "\n",
    "    Интернет-безопасность: антивирус (DeviceProtection) и блокировка небезопасных сайтов (OnlineSecurity);\n",
    "    Выделенная линия технической поддержки (TechSupport);\n",
    "    Облачное хранилище файлов для резервного копирования данных (OnlineBackup);\n",
    "    Стриминговое телевидение (StreamingTV) и каталог фильмов (StreamingMovies).\n",
    "\n",
    "За услуги клиенты могут платить каждый месяц или заключить договор на 1–2 года. Доступны различные способы расчёта и возможность получения электронного чека."
   ]
  },
  {
   "cell_type": "markdown",
   "metadata": {},
   "source": [
    "Описание данных\n",
    "\n",
    "Данные состоят из файлов, полученных из разных источников:\n",
    "\n",
    "    contract.csv — информация о договоре;\n",
    "    personal.csv — персональные данные клиента;\n",
    "    internet.csv — информация об интернет-услугах;\n",
    "    phone.csv — информация об услугах телефонии.\n",
    "\n",
    "Во всех файлах столбец customerID содержит код клиента.\n",
    "\n",
    "Информация о договорах актуальна на 1 февраля 2020."
   ]
  },
  {
   "cell_type": "markdown",
   "metadata": {},
   "source": [
    "**План работы**:\n",
    "\n",
    "1. Анализ и предобработка данных:\n",
    "- поиск пропущенных значений, аномалий и дубликатов, их обработка;\n",
    "- создание столбцов с дополнительными фичами и с целевым признаком;\n",
    "- создание единого датафрейма.\n",
    "\n",
    "2. Исследовательский анализ данных:\n",
    "- сравнение распределения различных признаков для ушедших и оставшихся клиентов, построение графиков для наглядности;\n",
    "- выявление признаков, которые будут лишними и бесполезными при обучении моделей.\n",
    "\n",
    "3. Работа с моделями:\n",
    "- подготовка данных для моделей(работа с дисбалансом классов, кодирование, масштабирование);\n",
    "- обучение моделей, их тестирование и выбор лучшей.\n",
    "\n",
    "4. Общие выводы."
   ]
  },
  {
   "cell_type": "markdown",
   "metadata": {},
   "source": [
    "## Анализ и предобработка данных."
   ]
  },
  {
   "cell_type": "code",
   "execution_count": 1,
   "metadata": {},
   "outputs": [],
   "source": [
    "import pandas as pd\n",
    "import numpy as np\n",
    "import matplotlib.pyplot as plt\n",
    "import seaborn as sns\n",
    "\n",
    "from sklearn.preprocessing import StandardScaler\n",
    "from sklearn.model_selection import train_test_split, cross_val_score, GridSearchCV\n",
    "\n",
    "from sklearn.metrics import accuracy_score, confusion_matrix, recall_score, precision_score, roc_curve, roc_auc_score\n",
    "from sklearn.tree import DecisionTreeClassifier\n",
    "from sklearn.ensemble import RandomForestClassifier,GradientBoostingClassifier\n",
    "from sklearn.linear_model import LogisticRegression\n",
    "from catboost import CatBoostClassifier\n",
    "from lightgbm import LGBMClassifier\n",
    "#from scipy.stats import chi2_contingency\n",
    "\n",
    "\n",
    "from IPython.display import display\n",
    "pd.set_option('display.max_columns', 100)\n",
    "import warnings \n",
    "warnings.filterwarnings('ignore')"
   ]
  },
  {
   "cell_type": "code",
   "execution_count": 2,
   "metadata": {},
   "outputs": [],
   "source": [
    "RANDOM_STATE = 19612\n",
    "ALPHA = 0.05"
   ]
  },
  {
   "cell_type": "code",
   "execution_count": 3,
   "metadata": {},
   "outputs": [],
   "source": [
    "contract = pd.read_csv('/datasets/final_provider/contract.csv')\n",
    "personal = pd.read_csv('/datasets/final_provider/personal.csv')\n",
    "internet = pd.read_csv('/datasets/final_provider/internet.csv')\n",
    "phone = pd.read_csv('/datasets/final_provider/phone.csv')"
   ]
  },
  {
   "cell_type": "markdown",
   "metadata": {},
   "source": [
    "Данные, находящиеся в столбцах датафреймов, почти не описаны. Значит вместе с анализом этих данных будем так же и описывать их."
   ]
  },
  {
   "cell_type": "markdown",
   "metadata": {},
   "source": [
    "### Contract"
   ]
  },
  {
   "cell_type": "code",
   "execution_count": 4,
   "metadata": {},
   "outputs": [
    {
     "name": "stdout",
     "output_type": "stream",
     "text": [
      "<class 'pandas.core.frame.DataFrame'>\n",
      "RangeIndex: 7043 entries, 0 to 7042\n",
      "Data columns (total 8 columns):\n",
      " #   Column            Non-Null Count  Dtype  \n",
      "---  ------            --------------  -----  \n",
      " 0   customerID        7043 non-null   object \n",
      " 1   BeginDate         7043 non-null   object \n",
      " 2   EndDate           7043 non-null   object \n",
      " 3   Type              7043 non-null   object \n",
      " 4   PaperlessBilling  7043 non-null   object \n",
      " 5   PaymentMethod     7043 non-null   object \n",
      " 6   MonthlyCharges    7043 non-null   float64\n",
      " 7   TotalCharges      7043 non-null   object \n",
      "dtypes: float64(1), object(7)\n",
      "memory usage: 440.3+ KB\n"
     ]
    },
    {
     "data": {
      "text/html": [
       "<div>\n",
       "<style scoped>\n",
       "    .dataframe tbody tr th:only-of-type {\n",
       "        vertical-align: middle;\n",
       "    }\n",
       "\n",
       "    .dataframe tbody tr th {\n",
       "        vertical-align: top;\n",
       "    }\n",
       "\n",
       "    .dataframe thead th {\n",
       "        text-align: right;\n",
       "    }\n",
       "</style>\n",
       "<table border=\"1\" class=\"dataframe\">\n",
       "  <thead>\n",
       "    <tr style=\"text-align: right;\">\n",
       "      <th></th>\n",
       "      <th>customerID</th>\n",
       "      <th>BeginDate</th>\n",
       "      <th>EndDate</th>\n",
       "      <th>Type</th>\n",
       "      <th>PaperlessBilling</th>\n",
       "      <th>PaymentMethod</th>\n",
       "      <th>MonthlyCharges</th>\n",
       "      <th>TotalCharges</th>\n",
       "    </tr>\n",
       "  </thead>\n",
       "  <tbody>\n",
       "    <tr>\n",
       "      <th>0</th>\n",
       "      <td>7590-VHVEG</td>\n",
       "      <td>2020-01-01</td>\n",
       "      <td>No</td>\n",
       "      <td>Month-to-month</td>\n",
       "      <td>Yes</td>\n",
       "      <td>Electronic check</td>\n",
       "      <td>29.85</td>\n",
       "      <td>29.85</td>\n",
       "    </tr>\n",
       "    <tr>\n",
       "      <th>1</th>\n",
       "      <td>5575-GNVDE</td>\n",
       "      <td>2017-04-01</td>\n",
       "      <td>No</td>\n",
       "      <td>One year</td>\n",
       "      <td>No</td>\n",
       "      <td>Mailed check</td>\n",
       "      <td>56.95</td>\n",
       "      <td>1889.5</td>\n",
       "    </tr>\n",
       "    <tr>\n",
       "      <th>2</th>\n",
       "      <td>3668-QPYBK</td>\n",
       "      <td>2019-10-01</td>\n",
       "      <td>2019-12-01 00:00:00</td>\n",
       "      <td>Month-to-month</td>\n",
       "      <td>Yes</td>\n",
       "      <td>Mailed check</td>\n",
       "      <td>53.85</td>\n",
       "      <td>108.15</td>\n",
       "    </tr>\n",
       "    <tr>\n",
       "      <th>3</th>\n",
       "      <td>7795-CFOCW</td>\n",
       "      <td>2016-05-01</td>\n",
       "      <td>No</td>\n",
       "      <td>One year</td>\n",
       "      <td>No</td>\n",
       "      <td>Bank transfer (automatic)</td>\n",
       "      <td>42.30</td>\n",
       "      <td>1840.75</td>\n",
       "    </tr>\n",
       "    <tr>\n",
       "      <th>4</th>\n",
       "      <td>9237-HQITU</td>\n",
       "      <td>2019-09-01</td>\n",
       "      <td>2019-11-01 00:00:00</td>\n",
       "      <td>Month-to-month</td>\n",
       "      <td>Yes</td>\n",
       "      <td>Electronic check</td>\n",
       "      <td>70.70</td>\n",
       "      <td>151.65</td>\n",
       "    </tr>\n",
       "  </tbody>\n",
       "</table>\n",
       "</div>"
      ],
      "text/plain": [
       "   customerID   BeginDate              EndDate            Type  \\\n",
       "0  7590-VHVEG  2020-01-01                   No  Month-to-month   \n",
       "1  5575-GNVDE  2017-04-01                   No        One year   \n",
       "2  3668-QPYBK  2019-10-01  2019-12-01 00:00:00  Month-to-month   \n",
       "3  7795-CFOCW  2016-05-01                   No        One year   \n",
       "4  9237-HQITU  2019-09-01  2019-11-01 00:00:00  Month-to-month   \n",
       "\n",
       "  PaperlessBilling              PaymentMethod  MonthlyCharges TotalCharges  \n",
       "0              Yes           Electronic check           29.85        29.85  \n",
       "1               No               Mailed check           56.95       1889.5  \n",
       "2              Yes               Mailed check           53.85       108.15  \n",
       "3               No  Bank transfer (automatic)           42.30      1840.75  \n",
       "4              Yes           Electronic check           70.70       151.65  "
      ]
     },
     "metadata": {},
     "output_type": "display_data"
    },
    {
     "data": {
      "text/plain": [
       "None"
      ]
     },
     "metadata": {},
     "output_type": "display_data"
    }
   ],
   "source": [
    "display(contract.head(), contract.info())"
   ]
  },
  {
   "cell_type": "code",
   "execution_count": 5,
   "metadata": {},
   "outputs": [
    {
     "data": {
      "text/plain": [
       "0"
      ]
     },
     "metadata": {},
     "output_type": "display_data"
    },
    {
     "data": {
      "text/plain": [
       "array(['Month-to-month', 'One year', 'Two year'], dtype=object)"
      ]
     },
     "metadata": {},
     "output_type": "display_data"
    },
    {
     "data": {
      "text/plain": [
       "array(['Yes', 'No'], dtype=object)"
      ]
     },
     "metadata": {},
     "output_type": "display_data"
    },
    {
     "data": {
      "text/plain": [
       "array(['Electronic check', 'Mailed check', 'Bank transfer (automatic)',\n",
       "       'Credit card (automatic)'], dtype=object)"
      ]
     },
     "metadata": {},
     "output_type": "display_data"
    }
   ],
   "source": [
    "display(contract['customerID'].duplicated().sum(), \n",
    "        contract['Type'].unique(), \n",
    "        contract['PaperlessBilling'].unique(), \n",
    "        contract['PaymentMethod'].unique())"
   ]
  },
  {
   "cell_type": "markdown",
   "metadata": {},
   "source": [
    "В датафрейме **contract** имеются следующие столбцы:\n",
    "- **'customerID'** - код клиента;\n",
    "- **'BeginDate'** - дата заключения договора с клиентом;\n",
    "- **'EndDate'** - дата завершения договора с клиентом;\n",
    "- **'Type'** - периодичность оплаты услуг клиентом(из месяца в месяц, раз в год, раз в два года);\n",
    "- **'PaperlessBilling'** - выставление счетов без использования бумаги(электронно);\n",
    "- **'PaymentMethod'** - способ оплаты услуг клиентом(электронный чек, чек по почте, автоматический банковский перевод или кредитной картой);\n",
    "- **'MonthlyCharges'** - сумма месячного платежа;\n",
    "- **'TotalCharges'** - сумма всех платежей клиента."
   ]
  },
  {
   "cell_type": "markdown",
   "metadata": {},
   "source": [
    "Дубликатов кодов клиента отсутствуют. Пропуски - тоже. Нужно только:\n",
    "- изменить тип данных в **'BeginDate'**, **'EndDate'**; \n",
    "- заменить значения 'yes/no' на '1/0' в  **'PaperlessBilling'**;\n",
    "- заполнить пропуски в **'TotalCharges'**;\n",
    "- добавить пару столбцов, которые помогут в дальнейшем анализе."
   ]
  },
  {
   "cell_type": "code",
   "execution_count": 6,
   "metadata": {},
   "outputs": [],
   "source": [
    "# Добавим столбец 'СurrentСlient', где True - клиент остался, False - клиент ушел\n",
    "contract['СurrentСlient'] = 0\n",
    "contract.loc[contract['EndDate'] == 'No', 'СurrentСlient'] = 1\n",
    "#contract['СurrentСlient'] = contract['СurrentСlient'].astype('bool')"
   ]
  },
  {
   "cell_type": "code",
   "execution_count": 7,
   "metadata": {},
   "outputs": [],
   "source": [
    "# Изменим тип данных в столбеце 'PaperlessBilling'\n",
    "contract['PaperlessBilling'] = contract['PaperlessBilling'].replace('No', 0)\n",
    "contract['PaperlessBilling'] = contract['PaperlessBilling'].replace('Yes', 1)\n",
    "contract['PaperlessBilling'] = contract['PaperlessBilling'].astype('bool')"
   ]
  },
  {
   "cell_type": "code",
   "execution_count": 8,
   "metadata": {},
   "outputs": [],
   "source": [
    "# Изменим тим данных в столбцах с датой\n",
    "contract['End_']= contract['EndDate'].replace('No', '2020-02-01')\n",
    "contract['End_']= pd.to_datetime(contract['End_'], format='%Y-%m-%dT%H:%M:%S')\n",
    "contract['BeginDate']= pd.to_datetime(contract['BeginDate'], format='%Y-%m-%d')\n",
    "contract['EndDate']= pd.to_datetime(contract['EndDate'], format='%Y-%m-%dT%H:%M:%S',errors='coerce')"
   ]
  },
  {
   "cell_type": "code",
   "execution_count": 9,
   "metadata": {},
   "outputs": [],
   "source": [
    "# Заполним пропуски в 'TotalCharges' для клиентов, которые подключились меньше месяца назад\n",
    "contract.loc[contract['TotalCharges'] == ' ', 'TotalCharges'] = contract['MonthlyCharges']\n",
    "contract['TotalCharges'] = contract['TotalCharges'].astype('float')"
   ]
  },
  {
   "cell_type": "code",
   "execution_count": 10,
   "metadata": {},
   "outputs": [],
   "source": [
    "# Добавим столбец 'LifeTime', в котором посчитаем сколько дней данный человек является(являлся) нашим клиентом\n",
    "contract['LifeTime'] = (contract['End_'] - contract['BeginDate']).dt.days"
   ]
  },
  {
   "cell_type": "code",
   "execution_count": 11,
   "metadata": {},
   "outputs": [],
   "source": [
    "# Удаляем ненужный столбец\n",
    "contract = contract.drop('End_', axis=1)"
   ]
  },
  {
   "cell_type": "code",
   "execution_count": 12,
   "metadata": {},
   "outputs": [
    {
     "name": "stdout",
     "output_type": "stream",
     "text": [
      "<class 'pandas.core.frame.DataFrame'>\n",
      "RangeIndex: 7043 entries, 0 to 7042\n",
      "Data columns (total 10 columns):\n",
      " #   Column            Non-Null Count  Dtype         \n",
      "---  ------            --------------  -----         \n",
      " 0   customerID        7043 non-null   object        \n",
      " 1   BeginDate         7043 non-null   datetime64[ns]\n",
      " 2   EndDate           1869 non-null   datetime64[ns]\n",
      " 3   Type              7043 non-null   object        \n",
      " 4   PaperlessBilling  7043 non-null   bool          \n",
      " 5   PaymentMethod     7043 non-null   object        \n",
      " 6   MonthlyCharges    7043 non-null   float64       \n",
      " 7   TotalCharges      7043 non-null   float64       \n",
      " 8   СurrentСlient     7043 non-null   int64         \n",
      " 9   LifeTime          7043 non-null   int64         \n",
      "dtypes: bool(1), datetime64[ns](2), float64(2), int64(2), object(3)\n",
      "memory usage: 502.2+ KB\n"
     ]
    },
    {
     "data": {
      "text/html": [
       "<div>\n",
       "<style scoped>\n",
       "    .dataframe tbody tr th:only-of-type {\n",
       "        vertical-align: middle;\n",
       "    }\n",
       "\n",
       "    .dataframe tbody tr th {\n",
       "        vertical-align: top;\n",
       "    }\n",
       "\n",
       "    .dataframe thead th {\n",
       "        text-align: right;\n",
       "    }\n",
       "</style>\n",
       "<table border=\"1\" class=\"dataframe\">\n",
       "  <thead>\n",
       "    <tr style=\"text-align: right;\">\n",
       "      <th></th>\n",
       "      <th>customerID</th>\n",
       "      <th>BeginDate</th>\n",
       "      <th>EndDate</th>\n",
       "      <th>Type</th>\n",
       "      <th>PaperlessBilling</th>\n",
       "      <th>PaymentMethod</th>\n",
       "      <th>MonthlyCharges</th>\n",
       "      <th>TotalCharges</th>\n",
       "      <th>СurrentСlient</th>\n",
       "      <th>LifeTime</th>\n",
       "    </tr>\n",
       "  </thead>\n",
       "  <tbody>\n",
       "    <tr>\n",
       "      <th>0</th>\n",
       "      <td>7590-VHVEG</td>\n",
       "      <td>2020-01-01</td>\n",
       "      <td>NaT</td>\n",
       "      <td>Month-to-month</td>\n",
       "      <td>True</td>\n",
       "      <td>Electronic check</td>\n",
       "      <td>29.85</td>\n",
       "      <td>29.85</td>\n",
       "      <td>1</td>\n",
       "      <td>31</td>\n",
       "    </tr>\n",
       "    <tr>\n",
       "      <th>1</th>\n",
       "      <td>5575-GNVDE</td>\n",
       "      <td>2017-04-01</td>\n",
       "      <td>NaT</td>\n",
       "      <td>One year</td>\n",
       "      <td>False</td>\n",
       "      <td>Mailed check</td>\n",
       "      <td>56.95</td>\n",
       "      <td>1889.50</td>\n",
       "      <td>1</td>\n",
       "      <td>1036</td>\n",
       "    </tr>\n",
       "    <tr>\n",
       "      <th>2</th>\n",
       "      <td>3668-QPYBK</td>\n",
       "      <td>2019-10-01</td>\n",
       "      <td>2019-12-01</td>\n",
       "      <td>Month-to-month</td>\n",
       "      <td>True</td>\n",
       "      <td>Mailed check</td>\n",
       "      <td>53.85</td>\n",
       "      <td>108.15</td>\n",
       "      <td>0</td>\n",
       "      <td>61</td>\n",
       "    </tr>\n",
       "    <tr>\n",
       "      <th>3</th>\n",
       "      <td>7795-CFOCW</td>\n",
       "      <td>2016-05-01</td>\n",
       "      <td>NaT</td>\n",
       "      <td>One year</td>\n",
       "      <td>False</td>\n",
       "      <td>Bank transfer (automatic)</td>\n",
       "      <td>42.30</td>\n",
       "      <td>1840.75</td>\n",
       "      <td>1</td>\n",
       "      <td>1371</td>\n",
       "    </tr>\n",
       "    <tr>\n",
       "      <th>4</th>\n",
       "      <td>9237-HQITU</td>\n",
       "      <td>2019-09-01</td>\n",
       "      <td>2019-11-01</td>\n",
       "      <td>Month-to-month</td>\n",
       "      <td>True</td>\n",
       "      <td>Electronic check</td>\n",
       "      <td>70.70</td>\n",
       "      <td>151.65</td>\n",
       "      <td>0</td>\n",
       "      <td>61</td>\n",
       "    </tr>\n",
       "    <tr>\n",
       "      <th>5</th>\n",
       "      <td>9305-CDSKC</td>\n",
       "      <td>2019-03-01</td>\n",
       "      <td>2019-11-01</td>\n",
       "      <td>Month-to-month</td>\n",
       "      <td>True</td>\n",
       "      <td>Electronic check</td>\n",
       "      <td>99.65</td>\n",
       "      <td>820.50</td>\n",
       "      <td>0</td>\n",
       "      <td>245</td>\n",
       "    </tr>\n",
       "    <tr>\n",
       "      <th>6</th>\n",
       "      <td>1452-KIOVK</td>\n",
       "      <td>2018-04-01</td>\n",
       "      <td>NaT</td>\n",
       "      <td>Month-to-month</td>\n",
       "      <td>True</td>\n",
       "      <td>Credit card (automatic)</td>\n",
       "      <td>89.10</td>\n",
       "      <td>1949.40</td>\n",
       "      <td>1</td>\n",
       "      <td>671</td>\n",
       "    </tr>\n",
       "    <tr>\n",
       "      <th>7</th>\n",
       "      <td>6713-OKOMC</td>\n",
       "      <td>2019-04-01</td>\n",
       "      <td>NaT</td>\n",
       "      <td>Month-to-month</td>\n",
       "      <td>False</td>\n",
       "      <td>Mailed check</td>\n",
       "      <td>29.75</td>\n",
       "      <td>301.90</td>\n",
       "      <td>1</td>\n",
       "      <td>306</td>\n",
       "    </tr>\n",
       "    <tr>\n",
       "      <th>8</th>\n",
       "      <td>7892-POOKP</td>\n",
       "      <td>2017-07-01</td>\n",
       "      <td>2019-11-01</td>\n",
       "      <td>Month-to-month</td>\n",
       "      <td>True</td>\n",
       "      <td>Electronic check</td>\n",
       "      <td>104.80</td>\n",
       "      <td>3046.05</td>\n",
       "      <td>0</td>\n",
       "      <td>853</td>\n",
       "    </tr>\n",
       "    <tr>\n",
       "      <th>9</th>\n",
       "      <td>6388-TABGU</td>\n",
       "      <td>2014-12-01</td>\n",
       "      <td>NaT</td>\n",
       "      <td>One year</td>\n",
       "      <td>False</td>\n",
       "      <td>Bank transfer (automatic)</td>\n",
       "      <td>56.15</td>\n",
       "      <td>3487.95</td>\n",
       "      <td>1</td>\n",
       "      <td>1888</td>\n",
       "    </tr>\n",
       "  </tbody>\n",
       "</table>\n",
       "</div>"
      ],
      "text/plain": [
       "   customerID  BeginDate    EndDate            Type  PaperlessBilling  \\\n",
       "0  7590-VHVEG 2020-01-01        NaT  Month-to-month              True   \n",
       "1  5575-GNVDE 2017-04-01        NaT        One year             False   \n",
       "2  3668-QPYBK 2019-10-01 2019-12-01  Month-to-month              True   \n",
       "3  7795-CFOCW 2016-05-01        NaT        One year             False   \n",
       "4  9237-HQITU 2019-09-01 2019-11-01  Month-to-month              True   \n",
       "5  9305-CDSKC 2019-03-01 2019-11-01  Month-to-month              True   \n",
       "6  1452-KIOVK 2018-04-01        NaT  Month-to-month              True   \n",
       "7  6713-OKOMC 2019-04-01        NaT  Month-to-month             False   \n",
       "8  7892-POOKP 2017-07-01 2019-11-01  Month-to-month              True   \n",
       "9  6388-TABGU 2014-12-01        NaT        One year             False   \n",
       "\n",
       "               PaymentMethod  MonthlyCharges  TotalCharges  СurrentСlient  \\\n",
       "0           Electronic check           29.85         29.85              1   \n",
       "1               Mailed check           56.95       1889.50              1   \n",
       "2               Mailed check           53.85        108.15              0   \n",
       "3  Bank transfer (automatic)           42.30       1840.75              1   \n",
       "4           Electronic check           70.70        151.65              0   \n",
       "5           Electronic check           99.65        820.50              0   \n",
       "6    Credit card (automatic)           89.10       1949.40              1   \n",
       "7               Mailed check           29.75        301.90              1   \n",
       "8           Electronic check          104.80       3046.05              0   \n",
       "9  Bank transfer (automatic)           56.15       3487.95              1   \n",
       "\n",
       "   LifeTime  \n",
       "0        31  \n",
       "1      1036  \n",
       "2        61  \n",
       "3      1371  \n",
       "4        61  \n",
       "5       245  \n",
       "6       671  \n",
       "7       306  \n",
       "8       853  \n",
       "9      1888  "
      ]
     },
     "metadata": {},
     "output_type": "display_data"
    },
    {
     "data": {
      "text/plain": [
       "None"
      ]
     },
     "metadata": {},
     "output_type": "display_data"
    }
   ],
   "source": [
    "display(contract.head(10), contract.info())"
   ]
  },
  {
   "cell_type": "markdown",
   "metadata": {},
   "source": [
    "### Personal"
   ]
  },
  {
   "cell_type": "code",
   "execution_count": 13,
   "metadata": {},
   "outputs": [
    {
     "name": "stdout",
     "output_type": "stream",
     "text": [
      "<class 'pandas.core.frame.DataFrame'>\n",
      "RangeIndex: 7043 entries, 0 to 7042\n",
      "Data columns (total 5 columns):\n",
      " #   Column         Non-Null Count  Dtype \n",
      "---  ------         --------------  ----- \n",
      " 0   customerID     7043 non-null   object\n",
      " 1   gender         7043 non-null   object\n",
      " 2   SeniorCitizen  7043 non-null   int64 \n",
      " 3   Partner        7043 non-null   object\n",
      " 4   Dependents     7043 non-null   object\n",
      "dtypes: int64(1), object(4)\n",
      "memory usage: 275.2+ KB\n"
     ]
    },
    {
     "data": {
      "text/html": [
       "<div>\n",
       "<style scoped>\n",
       "    .dataframe tbody tr th:only-of-type {\n",
       "        vertical-align: middle;\n",
       "    }\n",
       "\n",
       "    .dataframe tbody tr th {\n",
       "        vertical-align: top;\n",
       "    }\n",
       "\n",
       "    .dataframe thead th {\n",
       "        text-align: right;\n",
       "    }\n",
       "</style>\n",
       "<table border=\"1\" class=\"dataframe\">\n",
       "  <thead>\n",
       "    <tr style=\"text-align: right;\">\n",
       "      <th></th>\n",
       "      <th>customerID</th>\n",
       "      <th>gender</th>\n",
       "      <th>SeniorCitizen</th>\n",
       "      <th>Partner</th>\n",
       "      <th>Dependents</th>\n",
       "    </tr>\n",
       "  </thead>\n",
       "  <tbody>\n",
       "    <tr>\n",
       "      <th>0</th>\n",
       "      <td>7590-VHVEG</td>\n",
       "      <td>Female</td>\n",
       "      <td>0</td>\n",
       "      <td>Yes</td>\n",
       "      <td>No</td>\n",
       "    </tr>\n",
       "    <tr>\n",
       "      <th>1</th>\n",
       "      <td>5575-GNVDE</td>\n",
       "      <td>Male</td>\n",
       "      <td>0</td>\n",
       "      <td>No</td>\n",
       "      <td>No</td>\n",
       "    </tr>\n",
       "    <tr>\n",
       "      <th>2</th>\n",
       "      <td>3668-QPYBK</td>\n",
       "      <td>Male</td>\n",
       "      <td>0</td>\n",
       "      <td>No</td>\n",
       "      <td>No</td>\n",
       "    </tr>\n",
       "    <tr>\n",
       "      <th>3</th>\n",
       "      <td>7795-CFOCW</td>\n",
       "      <td>Male</td>\n",
       "      <td>0</td>\n",
       "      <td>No</td>\n",
       "      <td>No</td>\n",
       "    </tr>\n",
       "    <tr>\n",
       "      <th>4</th>\n",
       "      <td>9237-HQITU</td>\n",
       "      <td>Female</td>\n",
       "      <td>0</td>\n",
       "      <td>No</td>\n",
       "      <td>No</td>\n",
       "    </tr>\n",
       "  </tbody>\n",
       "</table>\n",
       "</div>"
      ],
      "text/plain": [
       "   customerID  gender  SeniorCitizen Partner Dependents\n",
       "0  7590-VHVEG  Female              0     Yes         No\n",
       "1  5575-GNVDE    Male              0      No         No\n",
       "2  3668-QPYBK    Male              0      No         No\n",
       "3  7795-CFOCW    Male              0      No         No\n",
       "4  9237-HQITU  Female              0      No         No"
      ]
     },
     "metadata": {},
     "output_type": "display_data"
    },
    {
     "data": {
      "text/plain": [
       "None"
      ]
     },
     "metadata": {},
     "output_type": "display_data"
    }
   ],
   "source": [
    "display(personal.head(), personal.info())"
   ]
  },
  {
   "cell_type": "code",
   "execution_count": 14,
   "metadata": {},
   "outputs": [
    {
     "data": {
      "text/plain": [
       "0"
      ]
     },
     "metadata": {},
     "output_type": "display_data"
    },
    {
     "data": {
      "text/plain": [
       "array(['Female', 'Male'], dtype=object)"
      ]
     },
     "metadata": {},
     "output_type": "display_data"
    },
    {
     "data": {
      "text/plain": [
       "array([0, 1])"
      ]
     },
     "metadata": {},
     "output_type": "display_data"
    },
    {
     "data": {
      "text/plain": [
       "array(['Yes', 'No'], dtype=object)"
      ]
     },
     "metadata": {},
     "output_type": "display_data"
    },
    {
     "data": {
      "text/plain": [
       "array(['No', 'Yes'], dtype=object)"
      ]
     },
     "metadata": {},
     "output_type": "display_data"
    }
   ],
   "source": [
    "display(personal['customerID'].duplicated().sum(), \n",
    "        personal['gender'].unique(), \n",
    "        personal['SeniorCitizen'].unique(), \n",
    "        personal['Partner'].unique(), \n",
    "        personal['Dependents'].unique())"
   ]
  },
  {
   "cell_type": "markdown",
   "metadata": {},
   "source": [
    "В датафрейме **contract** имеются следующие столбцы:\n",
    "\n",
    "- **'customerID'** - код клиента;\n",
    "- **'gender'** - пол клиента;\n",
    "- **'SeniorCitizen'** - является ли клиент пенсионером;\n",
    "- **'Partner'** - состоит ли клиент в браке;\n",
    "- **'Dependents'** - есть ли у клиента иждивенцы."
   ]
  },
  {
   "cell_type": "markdown",
   "metadata": {},
   "source": [
    "Дубликаты в **'customerID'** отсутствуют. Все остальные столбцы имеют бинарные значения, поэтому можно их перевести в булев тип."
   ]
  },
  {
   "cell_type": "code",
   "execution_count": 15,
   "metadata": {},
   "outputs": [],
   "source": [
    "# Сменим тип данных столбца 'SeniorCitizen' на булев тип\n",
    "personal['SeniorCitizen'] = personal['SeniorCitizen'].astype('bool')"
   ]
  },
  {
   "cell_type": "code",
   "execution_count": 16,
   "metadata": {},
   "outputs": [],
   "source": [
    "# Сменим тип данных столбца 'Partner' на булев тип\n",
    "personal['Partner'] = personal['Partner'].replace('No', 0)\n",
    "personal['Partner'] = personal['Partner'].replace('Yes', 1)\n",
    "personal['Partner'] = personal['Partner'].astype('bool')"
   ]
  },
  {
   "cell_type": "code",
   "execution_count": 17,
   "metadata": {},
   "outputs": [],
   "source": [
    "# Сменим тип данных столбца 'Dependents' на булев тип\n",
    "personal['Dependents'] = personal['Dependents'].replace('No', 0)\n",
    "personal['Dependents'] = personal['Dependents'].replace('Yes', 1)\n",
    "personal['Dependents'] = personal['Dependents'].astype('bool')"
   ]
  },
  {
   "cell_type": "code",
   "execution_count": 18,
   "metadata": {},
   "outputs": [
    {
     "name": "stdout",
     "output_type": "stream",
     "text": [
      "<class 'pandas.core.frame.DataFrame'>\n",
      "RangeIndex: 7043 entries, 0 to 7042\n",
      "Data columns (total 5 columns):\n",
      " #   Column         Non-Null Count  Dtype \n",
      "---  ------         --------------  ----- \n",
      " 0   customerID     7043 non-null   object\n",
      " 1   gender         7043 non-null   object\n",
      " 2   SeniorCitizen  7043 non-null   bool  \n",
      " 3   Partner        7043 non-null   bool  \n",
      " 4   Dependents     7043 non-null   bool  \n",
      "dtypes: bool(3), object(2)\n",
      "memory usage: 130.8+ KB\n"
     ]
    },
    {
     "data": {
      "text/html": [
       "<div>\n",
       "<style scoped>\n",
       "    .dataframe tbody tr th:only-of-type {\n",
       "        vertical-align: middle;\n",
       "    }\n",
       "\n",
       "    .dataframe tbody tr th {\n",
       "        vertical-align: top;\n",
       "    }\n",
       "\n",
       "    .dataframe thead th {\n",
       "        text-align: right;\n",
       "    }\n",
       "</style>\n",
       "<table border=\"1\" class=\"dataframe\">\n",
       "  <thead>\n",
       "    <tr style=\"text-align: right;\">\n",
       "      <th></th>\n",
       "      <th>customerID</th>\n",
       "      <th>gender</th>\n",
       "      <th>SeniorCitizen</th>\n",
       "      <th>Partner</th>\n",
       "      <th>Dependents</th>\n",
       "    </tr>\n",
       "  </thead>\n",
       "  <tbody>\n",
       "    <tr>\n",
       "      <th>0</th>\n",
       "      <td>7590-VHVEG</td>\n",
       "      <td>Female</td>\n",
       "      <td>False</td>\n",
       "      <td>True</td>\n",
       "      <td>False</td>\n",
       "    </tr>\n",
       "    <tr>\n",
       "      <th>1</th>\n",
       "      <td>5575-GNVDE</td>\n",
       "      <td>Male</td>\n",
       "      <td>False</td>\n",
       "      <td>False</td>\n",
       "      <td>False</td>\n",
       "    </tr>\n",
       "    <tr>\n",
       "      <th>2</th>\n",
       "      <td>3668-QPYBK</td>\n",
       "      <td>Male</td>\n",
       "      <td>False</td>\n",
       "      <td>False</td>\n",
       "      <td>False</td>\n",
       "    </tr>\n",
       "    <tr>\n",
       "      <th>3</th>\n",
       "      <td>7795-CFOCW</td>\n",
       "      <td>Male</td>\n",
       "      <td>False</td>\n",
       "      <td>False</td>\n",
       "      <td>False</td>\n",
       "    </tr>\n",
       "    <tr>\n",
       "      <th>4</th>\n",
       "      <td>9237-HQITU</td>\n",
       "      <td>Female</td>\n",
       "      <td>False</td>\n",
       "      <td>False</td>\n",
       "      <td>False</td>\n",
       "    </tr>\n",
       "  </tbody>\n",
       "</table>\n",
       "</div>"
      ],
      "text/plain": [
       "   customerID  gender  SeniorCitizen  Partner  Dependents\n",
       "0  7590-VHVEG  Female          False     True       False\n",
       "1  5575-GNVDE    Male          False    False       False\n",
       "2  3668-QPYBK    Male          False    False       False\n",
       "3  7795-CFOCW    Male          False    False       False\n",
       "4  9237-HQITU  Female          False    False       False"
      ]
     },
     "metadata": {},
     "output_type": "display_data"
    },
    {
     "data": {
      "text/plain": [
       "None"
      ]
     },
     "metadata": {},
     "output_type": "display_data"
    }
   ],
   "source": [
    "display(personal.head(), personal.info())"
   ]
  },
  {
   "cell_type": "markdown",
   "metadata": {},
   "source": [
    "### Internet"
   ]
  },
  {
   "cell_type": "code",
   "execution_count": 19,
   "metadata": {},
   "outputs": [
    {
     "name": "stdout",
     "output_type": "stream",
     "text": [
      "<class 'pandas.core.frame.DataFrame'>\n",
      "RangeIndex: 5517 entries, 0 to 5516\n",
      "Data columns (total 8 columns):\n",
      " #   Column            Non-Null Count  Dtype \n",
      "---  ------            --------------  ----- \n",
      " 0   customerID        5517 non-null   object\n",
      " 1   InternetService   5517 non-null   object\n",
      " 2   OnlineSecurity    5517 non-null   object\n",
      " 3   OnlineBackup      5517 non-null   object\n",
      " 4   DeviceProtection  5517 non-null   object\n",
      " 5   TechSupport       5517 non-null   object\n",
      " 6   StreamingTV       5517 non-null   object\n",
      " 7   StreamingMovies   5517 non-null   object\n",
      "dtypes: object(8)\n",
      "memory usage: 344.9+ KB\n"
     ]
    },
    {
     "data": {
      "text/html": [
       "<div>\n",
       "<style scoped>\n",
       "    .dataframe tbody tr th:only-of-type {\n",
       "        vertical-align: middle;\n",
       "    }\n",
       "\n",
       "    .dataframe tbody tr th {\n",
       "        vertical-align: top;\n",
       "    }\n",
       "\n",
       "    .dataframe thead th {\n",
       "        text-align: right;\n",
       "    }\n",
       "</style>\n",
       "<table border=\"1\" class=\"dataframe\">\n",
       "  <thead>\n",
       "    <tr style=\"text-align: right;\">\n",
       "      <th></th>\n",
       "      <th>customerID</th>\n",
       "      <th>InternetService</th>\n",
       "      <th>OnlineSecurity</th>\n",
       "      <th>OnlineBackup</th>\n",
       "      <th>DeviceProtection</th>\n",
       "      <th>TechSupport</th>\n",
       "      <th>StreamingTV</th>\n",
       "      <th>StreamingMovies</th>\n",
       "    </tr>\n",
       "  </thead>\n",
       "  <tbody>\n",
       "    <tr>\n",
       "      <th>0</th>\n",
       "      <td>7590-VHVEG</td>\n",
       "      <td>DSL</td>\n",
       "      <td>No</td>\n",
       "      <td>Yes</td>\n",
       "      <td>No</td>\n",
       "      <td>No</td>\n",
       "      <td>No</td>\n",
       "      <td>No</td>\n",
       "    </tr>\n",
       "    <tr>\n",
       "      <th>1</th>\n",
       "      <td>5575-GNVDE</td>\n",
       "      <td>DSL</td>\n",
       "      <td>Yes</td>\n",
       "      <td>No</td>\n",
       "      <td>Yes</td>\n",
       "      <td>No</td>\n",
       "      <td>No</td>\n",
       "      <td>No</td>\n",
       "    </tr>\n",
       "    <tr>\n",
       "      <th>2</th>\n",
       "      <td>3668-QPYBK</td>\n",
       "      <td>DSL</td>\n",
       "      <td>Yes</td>\n",
       "      <td>Yes</td>\n",
       "      <td>No</td>\n",
       "      <td>No</td>\n",
       "      <td>No</td>\n",
       "      <td>No</td>\n",
       "    </tr>\n",
       "    <tr>\n",
       "      <th>3</th>\n",
       "      <td>7795-CFOCW</td>\n",
       "      <td>DSL</td>\n",
       "      <td>Yes</td>\n",
       "      <td>No</td>\n",
       "      <td>Yes</td>\n",
       "      <td>Yes</td>\n",
       "      <td>No</td>\n",
       "      <td>No</td>\n",
       "    </tr>\n",
       "    <tr>\n",
       "      <th>4</th>\n",
       "      <td>9237-HQITU</td>\n",
       "      <td>Fiber optic</td>\n",
       "      <td>No</td>\n",
       "      <td>No</td>\n",
       "      <td>No</td>\n",
       "      <td>No</td>\n",
       "      <td>No</td>\n",
       "      <td>No</td>\n",
       "    </tr>\n",
       "  </tbody>\n",
       "</table>\n",
       "</div>"
      ],
      "text/plain": [
       "   customerID InternetService OnlineSecurity OnlineBackup DeviceProtection  \\\n",
       "0  7590-VHVEG             DSL             No          Yes               No   \n",
       "1  5575-GNVDE             DSL            Yes           No              Yes   \n",
       "2  3668-QPYBK             DSL            Yes          Yes               No   \n",
       "3  7795-CFOCW             DSL            Yes           No              Yes   \n",
       "4  9237-HQITU     Fiber optic             No           No               No   \n",
       "\n",
       "  TechSupport StreamingTV StreamingMovies  \n",
       "0          No          No              No  \n",
       "1          No          No              No  \n",
       "2          No          No              No  \n",
       "3         Yes          No              No  \n",
       "4          No          No              No  "
      ]
     },
     "metadata": {},
     "output_type": "display_data"
    },
    {
     "data": {
      "text/plain": [
       "None"
      ]
     },
     "metadata": {},
     "output_type": "display_data"
    }
   ],
   "source": [
    "display(internet.head(), internet.info())"
   ]
  },
  {
   "cell_type": "code",
   "execution_count": 20,
   "metadata": {},
   "outputs": [
    {
     "data": {
      "text/plain": [
       "0"
      ]
     },
     "metadata": {},
     "output_type": "display_data"
    },
    {
     "data": {
      "text/plain": [
       "array(['DSL', 'Fiber optic'], dtype=object)"
      ]
     },
     "metadata": {},
     "output_type": "display_data"
    },
    {
     "data": {
      "text/plain": [
       "array(['No', 'Yes'], dtype=object)"
      ]
     },
     "metadata": {},
     "output_type": "display_data"
    },
    {
     "data": {
      "text/plain": [
       "array(['Yes', 'No'], dtype=object)"
      ]
     },
     "metadata": {},
     "output_type": "display_data"
    },
    {
     "data": {
      "text/plain": [
       "array(['No', 'Yes'], dtype=object)"
      ]
     },
     "metadata": {},
     "output_type": "display_data"
    },
    {
     "data": {
      "text/plain": [
       "array(['No', 'Yes'], dtype=object)"
      ]
     },
     "metadata": {},
     "output_type": "display_data"
    },
    {
     "data": {
      "text/plain": [
       "array(['No', 'Yes'], dtype=object)"
      ]
     },
     "metadata": {},
     "output_type": "display_data"
    },
    {
     "data": {
      "text/plain": [
       "array(['No', 'Yes'], dtype=object)"
      ]
     },
     "metadata": {},
     "output_type": "display_data"
    }
   ],
   "source": [
    "display(internet['customerID'].duplicated().sum(), \n",
    "        internet['InternetService'].unique(), \n",
    "        internet['OnlineSecurity'].unique(), \n",
    "        internet['OnlineBackup'].unique(), \n",
    "        internet['DeviceProtection'].unique(), \n",
    "        internet['TechSupport'].unique(), \n",
    "        internet['StreamingTV'].unique(), \n",
    "        internet['StreamingMovies'].unique())"
   ]
  },
  {
   "cell_type": "markdown",
   "metadata": {},
   "source": [
    "В датафрейме **internet** имеются следующие столбцы:\n",
    "\n",
    "- **'customerID'** - код клиента;\n",
    "- **'InternetService'** - наличие подключения услуги Internet Service;\n",
    "- **'OnlineSecurity'** - наличие подключения услуги Online Security;\n",
    "- **'OnlineBackup'** - наличие подключения услуги Online Backup;\n",
    "- **'DeviceProtection'** - наличие подключения услуги Device Protection;\n",
    "- **'TechSupport'** - наличие подключения услуги Tech Support;\n",
    "- **'StreamingTV'** - наличие подключения услуги Streaming TV;\n",
    "- **'StreamingMovies'** - наличие подключения услуги Streaming Movies."
   ]
  },
  {
   "cell_type": "markdown",
   "metadata": {},
   "source": [
    "Дубликаты в **'customerID'** отсутствуют. "
   ]
  },
  {
   "cell_type": "markdown",
   "metadata": {},
   "source": [
    "### Phone"
   ]
  },
  {
   "cell_type": "code",
   "execution_count": 21,
   "metadata": {},
   "outputs": [
    {
     "name": "stdout",
     "output_type": "stream",
     "text": [
      "<class 'pandas.core.frame.DataFrame'>\n",
      "RangeIndex: 6361 entries, 0 to 6360\n",
      "Data columns (total 2 columns):\n",
      " #   Column         Non-Null Count  Dtype \n",
      "---  ------         --------------  ----- \n",
      " 0   customerID     6361 non-null   object\n",
      " 1   MultipleLines  6361 non-null   object\n",
      "dtypes: object(2)\n",
      "memory usage: 99.5+ KB\n"
     ]
    },
    {
     "data": {
      "text/html": [
       "<div>\n",
       "<style scoped>\n",
       "    .dataframe tbody tr th:only-of-type {\n",
       "        vertical-align: middle;\n",
       "    }\n",
       "\n",
       "    .dataframe tbody tr th {\n",
       "        vertical-align: top;\n",
       "    }\n",
       "\n",
       "    .dataframe thead th {\n",
       "        text-align: right;\n",
       "    }\n",
       "</style>\n",
       "<table border=\"1\" class=\"dataframe\">\n",
       "  <thead>\n",
       "    <tr style=\"text-align: right;\">\n",
       "      <th></th>\n",
       "      <th>customerID</th>\n",
       "      <th>MultipleLines</th>\n",
       "    </tr>\n",
       "  </thead>\n",
       "  <tbody>\n",
       "    <tr>\n",
       "      <th>0</th>\n",
       "      <td>5575-GNVDE</td>\n",
       "      <td>No</td>\n",
       "    </tr>\n",
       "    <tr>\n",
       "      <th>1</th>\n",
       "      <td>3668-QPYBK</td>\n",
       "      <td>No</td>\n",
       "    </tr>\n",
       "    <tr>\n",
       "      <th>2</th>\n",
       "      <td>9237-HQITU</td>\n",
       "      <td>No</td>\n",
       "    </tr>\n",
       "    <tr>\n",
       "      <th>3</th>\n",
       "      <td>9305-CDSKC</td>\n",
       "      <td>Yes</td>\n",
       "    </tr>\n",
       "    <tr>\n",
       "      <th>4</th>\n",
       "      <td>1452-KIOVK</td>\n",
       "      <td>Yes</td>\n",
       "    </tr>\n",
       "  </tbody>\n",
       "</table>\n",
       "</div>"
      ],
      "text/plain": [
       "   customerID MultipleLines\n",
       "0  5575-GNVDE            No\n",
       "1  3668-QPYBK            No\n",
       "2  9237-HQITU            No\n",
       "3  9305-CDSKC           Yes\n",
       "4  1452-KIOVK           Yes"
      ]
     },
     "metadata": {},
     "output_type": "display_data"
    },
    {
     "data": {
      "text/plain": [
       "None"
      ]
     },
     "metadata": {},
     "output_type": "display_data"
    }
   ],
   "source": [
    "display(phone.head(), phone.info())"
   ]
  },
  {
   "cell_type": "code",
   "execution_count": 22,
   "metadata": {},
   "outputs": [
    {
     "data": {
      "text/plain": [
       "0"
      ]
     },
     "metadata": {},
     "output_type": "display_data"
    },
    {
     "data": {
      "text/plain": [
       "array(['No', 'Yes'], dtype=object)"
      ]
     },
     "metadata": {},
     "output_type": "display_data"
    }
   ],
   "source": [
    "display(phone['customerID'].duplicated().sum(), phone['MultipleLines'].unique())"
   ]
  },
  {
   "cell_type": "markdown",
   "metadata": {},
   "source": [
    "В датафрейме **phone** имеются следующие столбцы:\n",
    "\n",
    "- **'customerID'** - код клиента;\n",
    "- **'MultipleLines'** - наличие подключения услуги Multiple Lines."
   ]
  },
  {
   "cell_type": "markdown",
   "metadata": {},
   "source": [
    "Дубликаты в **'customerID'** отсутствуют."
   ]
  },
  {
   "cell_type": "markdown",
   "metadata": {},
   "source": [
    "### Создание единого датафрейма"
   ]
  },
  {
   "cell_type": "markdown",
   "metadata": {},
   "source": [
    "Объединим все данные в один датафрейм"
   ]
  },
  {
   "cell_type": "code",
   "execution_count": 23,
   "metadata": {},
   "outputs": [],
   "source": [
    "full = pd.merge(personal, contract, on = 'customerID', how = 'left')"
   ]
  },
  {
   "cell_type": "code",
   "execution_count": 24,
   "metadata": {},
   "outputs": [],
   "source": [
    "full = pd.merge(full, phone, on ='customerID',how= 'left')"
   ]
  },
  {
   "cell_type": "code",
   "execution_count": 25,
   "metadata": {},
   "outputs": [],
   "source": [
    "full = pd.merge(full, internet, on ='customerID',how= 'left')"
   ]
  },
  {
   "cell_type": "code",
   "execution_count": 26,
   "metadata": {},
   "outputs": [
    {
     "name": "stdout",
     "output_type": "stream",
     "text": [
      "<class 'pandas.core.frame.DataFrame'>\n",
      "Int64Index: 7043 entries, 0 to 7042\n",
      "Data columns (total 22 columns):\n",
      " #   Column            Non-Null Count  Dtype         \n",
      "---  ------            --------------  -----         \n",
      " 0   customerID        7043 non-null   object        \n",
      " 1   gender            7043 non-null   object        \n",
      " 2   SeniorCitizen     7043 non-null   bool          \n",
      " 3   Partner           7043 non-null   bool          \n",
      " 4   Dependents        7043 non-null   bool          \n",
      " 5   BeginDate         7043 non-null   datetime64[ns]\n",
      " 6   EndDate           1869 non-null   datetime64[ns]\n",
      " 7   Type              7043 non-null   object        \n",
      " 8   PaperlessBilling  7043 non-null   bool          \n",
      " 9   PaymentMethod     7043 non-null   object        \n",
      " 10  MonthlyCharges    7043 non-null   float64       \n",
      " 11  TotalCharges      7043 non-null   float64       \n",
      " 12  СurrentСlient     7043 non-null   int64         \n",
      " 13  LifeTime          7043 non-null   int64         \n",
      " 14  MultipleLines     6361 non-null   object        \n",
      " 15  InternetService   5517 non-null   object        \n",
      " 16  OnlineSecurity    5517 non-null   object        \n",
      " 17  OnlineBackup      5517 non-null   object        \n",
      " 18  DeviceProtection  5517 non-null   object        \n",
      " 19  TechSupport       5517 non-null   object        \n",
      " 20  StreamingTV       5517 non-null   object        \n",
      " 21  StreamingMovies   5517 non-null   object        \n",
      "dtypes: bool(4), datetime64[ns](2), float64(2), int64(2), object(12)\n",
      "memory usage: 1.0+ MB\n"
     ]
    },
    {
     "data": {
      "text/html": [
       "<div>\n",
       "<style scoped>\n",
       "    .dataframe tbody tr th:only-of-type {\n",
       "        vertical-align: middle;\n",
       "    }\n",
       "\n",
       "    .dataframe tbody tr th {\n",
       "        vertical-align: top;\n",
       "    }\n",
       "\n",
       "    .dataframe thead th {\n",
       "        text-align: right;\n",
       "    }\n",
       "</style>\n",
       "<table border=\"1\" class=\"dataframe\">\n",
       "  <thead>\n",
       "    <tr style=\"text-align: right;\">\n",
       "      <th></th>\n",
       "      <th>customerID</th>\n",
       "      <th>gender</th>\n",
       "      <th>SeniorCitizen</th>\n",
       "      <th>Partner</th>\n",
       "      <th>Dependents</th>\n",
       "      <th>BeginDate</th>\n",
       "      <th>EndDate</th>\n",
       "      <th>Type</th>\n",
       "      <th>PaperlessBilling</th>\n",
       "      <th>PaymentMethod</th>\n",
       "      <th>MonthlyCharges</th>\n",
       "      <th>TotalCharges</th>\n",
       "      <th>СurrentСlient</th>\n",
       "      <th>LifeTime</th>\n",
       "      <th>MultipleLines</th>\n",
       "      <th>InternetService</th>\n",
       "      <th>OnlineSecurity</th>\n",
       "      <th>OnlineBackup</th>\n",
       "      <th>DeviceProtection</th>\n",
       "      <th>TechSupport</th>\n",
       "      <th>StreamingTV</th>\n",
       "      <th>StreamingMovies</th>\n",
       "    </tr>\n",
       "  </thead>\n",
       "  <tbody>\n",
       "    <tr>\n",
       "      <th>0</th>\n",
       "      <td>7590-VHVEG</td>\n",
       "      <td>Female</td>\n",
       "      <td>False</td>\n",
       "      <td>True</td>\n",
       "      <td>False</td>\n",
       "      <td>2020-01-01</td>\n",
       "      <td>NaT</td>\n",
       "      <td>Month-to-month</td>\n",
       "      <td>True</td>\n",
       "      <td>Electronic check</td>\n",
       "      <td>29.85</td>\n",
       "      <td>29.85</td>\n",
       "      <td>1</td>\n",
       "      <td>31</td>\n",
       "      <td>NaN</td>\n",
       "      <td>DSL</td>\n",
       "      <td>No</td>\n",
       "      <td>Yes</td>\n",
       "      <td>No</td>\n",
       "      <td>No</td>\n",
       "      <td>No</td>\n",
       "      <td>No</td>\n",
       "    </tr>\n",
       "    <tr>\n",
       "      <th>1</th>\n",
       "      <td>5575-GNVDE</td>\n",
       "      <td>Male</td>\n",
       "      <td>False</td>\n",
       "      <td>False</td>\n",
       "      <td>False</td>\n",
       "      <td>2017-04-01</td>\n",
       "      <td>NaT</td>\n",
       "      <td>One year</td>\n",
       "      <td>False</td>\n",
       "      <td>Mailed check</td>\n",
       "      <td>56.95</td>\n",
       "      <td>1889.50</td>\n",
       "      <td>1</td>\n",
       "      <td>1036</td>\n",
       "      <td>No</td>\n",
       "      <td>DSL</td>\n",
       "      <td>Yes</td>\n",
       "      <td>No</td>\n",
       "      <td>Yes</td>\n",
       "      <td>No</td>\n",
       "      <td>No</td>\n",
       "      <td>No</td>\n",
       "    </tr>\n",
       "    <tr>\n",
       "      <th>2</th>\n",
       "      <td>3668-QPYBK</td>\n",
       "      <td>Male</td>\n",
       "      <td>False</td>\n",
       "      <td>False</td>\n",
       "      <td>False</td>\n",
       "      <td>2019-10-01</td>\n",
       "      <td>2019-12-01</td>\n",
       "      <td>Month-to-month</td>\n",
       "      <td>True</td>\n",
       "      <td>Mailed check</td>\n",
       "      <td>53.85</td>\n",
       "      <td>108.15</td>\n",
       "      <td>0</td>\n",
       "      <td>61</td>\n",
       "      <td>No</td>\n",
       "      <td>DSL</td>\n",
       "      <td>Yes</td>\n",
       "      <td>Yes</td>\n",
       "      <td>No</td>\n",
       "      <td>No</td>\n",
       "      <td>No</td>\n",
       "      <td>No</td>\n",
       "    </tr>\n",
       "    <tr>\n",
       "      <th>3</th>\n",
       "      <td>7795-CFOCW</td>\n",
       "      <td>Male</td>\n",
       "      <td>False</td>\n",
       "      <td>False</td>\n",
       "      <td>False</td>\n",
       "      <td>2016-05-01</td>\n",
       "      <td>NaT</td>\n",
       "      <td>One year</td>\n",
       "      <td>False</td>\n",
       "      <td>Bank transfer (automatic)</td>\n",
       "      <td>42.30</td>\n",
       "      <td>1840.75</td>\n",
       "      <td>1</td>\n",
       "      <td>1371</td>\n",
       "      <td>NaN</td>\n",
       "      <td>DSL</td>\n",
       "      <td>Yes</td>\n",
       "      <td>No</td>\n",
       "      <td>Yes</td>\n",
       "      <td>Yes</td>\n",
       "      <td>No</td>\n",
       "      <td>No</td>\n",
       "    </tr>\n",
       "    <tr>\n",
       "      <th>4</th>\n",
       "      <td>9237-HQITU</td>\n",
       "      <td>Female</td>\n",
       "      <td>False</td>\n",
       "      <td>False</td>\n",
       "      <td>False</td>\n",
       "      <td>2019-09-01</td>\n",
       "      <td>2019-11-01</td>\n",
       "      <td>Month-to-month</td>\n",
       "      <td>True</td>\n",
       "      <td>Electronic check</td>\n",
       "      <td>70.70</td>\n",
       "      <td>151.65</td>\n",
       "      <td>0</td>\n",
       "      <td>61</td>\n",
       "      <td>No</td>\n",
       "      <td>Fiber optic</td>\n",
       "      <td>No</td>\n",
       "      <td>No</td>\n",
       "      <td>No</td>\n",
       "      <td>No</td>\n",
       "      <td>No</td>\n",
       "      <td>No</td>\n",
       "    </tr>\n",
       "  </tbody>\n",
       "</table>\n",
       "</div>"
      ],
      "text/plain": [
       "   customerID  gender  SeniorCitizen  Partner  Dependents  BeginDate  \\\n",
       "0  7590-VHVEG  Female          False     True       False 2020-01-01   \n",
       "1  5575-GNVDE    Male          False    False       False 2017-04-01   \n",
       "2  3668-QPYBK    Male          False    False       False 2019-10-01   \n",
       "3  7795-CFOCW    Male          False    False       False 2016-05-01   \n",
       "4  9237-HQITU  Female          False    False       False 2019-09-01   \n",
       "\n",
       "     EndDate            Type  PaperlessBilling              PaymentMethod  \\\n",
       "0        NaT  Month-to-month              True           Electronic check   \n",
       "1        NaT        One year             False               Mailed check   \n",
       "2 2019-12-01  Month-to-month              True               Mailed check   \n",
       "3        NaT        One year             False  Bank transfer (automatic)   \n",
       "4 2019-11-01  Month-to-month              True           Electronic check   \n",
       "\n",
       "   MonthlyCharges  TotalCharges  СurrentСlient  LifeTime MultipleLines  \\\n",
       "0           29.85         29.85              1        31           NaN   \n",
       "1           56.95       1889.50              1      1036            No   \n",
       "2           53.85        108.15              0        61            No   \n",
       "3           42.30       1840.75              1      1371           NaN   \n",
       "4           70.70        151.65              0        61            No   \n",
       "\n",
       "  InternetService OnlineSecurity OnlineBackup DeviceProtection TechSupport  \\\n",
       "0             DSL             No          Yes               No          No   \n",
       "1             DSL            Yes           No              Yes          No   \n",
       "2             DSL            Yes          Yes               No          No   \n",
       "3             DSL            Yes           No              Yes         Yes   \n",
       "4     Fiber optic             No           No               No          No   \n",
       "\n",
       "  StreamingTV StreamingMovies  \n",
       "0          No              No  \n",
       "1          No              No  \n",
       "2          No              No  \n",
       "3          No              No  \n",
       "4          No              No  "
      ]
     },
     "metadata": {},
     "output_type": "display_data"
    },
    {
     "data": {
      "text/plain": [
       "None"
      ]
     },
     "metadata": {},
     "output_type": "display_data"
    }
   ],
   "source": [
    "display(full.head(), full.info())"
   ]
  },
  {
   "cell_type": "markdown",
   "metadata": {},
   "source": [
    "После объединения таблиц в некоторых столбцах появились пропущенные значения. Они возникли из-за того, что не каждый клиент пользовался услугами и телефонии и интернета одновременно. Заполним эти пропуски."
   ]
  },
  {
   "cell_type": "code",
   "execution_count": 27,
   "metadata": {},
   "outputs": [
    {
     "name": "stdout",
     "output_type": "stream",
     "text": [
      "Пропуски заполнены\n"
     ]
    }
   ],
   "source": [
    "for i in ['MultipleLines', \n",
    "          'InternetService', \n",
    "          'OnlineSecurity', \n",
    "          'OnlineBackup', \n",
    "          'DeviceProtection', \n",
    "          'TechSupport', \n",
    "          'StreamingTV', \n",
    "          'StreamingMovies']:\n",
    "    #full[i] = full[i].replace('No', 0)\n",
    "    #full[i] = full[i].replace('Yes', 1)\n",
    "    full[i] = full[i].fillna('disabled')\n",
    "print('Пропуски заполнены')"
   ]
  },
  {
   "cell_type": "code",
   "execution_count": 28,
   "metadata": {},
   "outputs": [
    {
     "name": "stdout",
     "output_type": "stream",
     "text": [
      "<class 'pandas.core.frame.DataFrame'>\n",
      "Int64Index: 7043 entries, 0 to 7042\n",
      "Data columns (total 22 columns):\n",
      " #   Column            Non-Null Count  Dtype         \n",
      "---  ------            --------------  -----         \n",
      " 0   customerID        7043 non-null   object        \n",
      " 1   gender            7043 non-null   object        \n",
      " 2   SeniorCitizen     7043 non-null   bool          \n",
      " 3   Partner           7043 non-null   bool          \n",
      " 4   Dependents        7043 non-null   bool          \n",
      " 5   BeginDate         7043 non-null   datetime64[ns]\n",
      " 6   EndDate           1869 non-null   datetime64[ns]\n",
      " 7   Type              7043 non-null   object        \n",
      " 8   PaperlessBilling  7043 non-null   bool          \n",
      " 9   PaymentMethod     7043 non-null   object        \n",
      " 10  MonthlyCharges    7043 non-null   float64       \n",
      " 11  TotalCharges      7043 non-null   float64       \n",
      " 12  СurrentСlient     7043 non-null   int64         \n",
      " 13  LifeTime          7043 non-null   int64         \n",
      " 14  MultipleLines     7043 non-null   object        \n",
      " 15  InternetService   7043 non-null   object        \n",
      " 16  OnlineSecurity    7043 non-null   object        \n",
      " 17  OnlineBackup      7043 non-null   object        \n",
      " 18  DeviceProtection  7043 non-null   object        \n",
      " 19  TechSupport       7043 non-null   object        \n",
      " 20  StreamingTV       7043 non-null   object        \n",
      " 21  StreamingMovies   7043 non-null   object        \n",
      "dtypes: bool(4), datetime64[ns](2), float64(2), int64(2), object(12)\n",
      "memory usage: 1.0+ MB\n"
     ]
    },
    {
     "data": {
      "text/html": [
       "<div>\n",
       "<style scoped>\n",
       "    .dataframe tbody tr th:only-of-type {\n",
       "        vertical-align: middle;\n",
       "    }\n",
       "\n",
       "    .dataframe tbody tr th {\n",
       "        vertical-align: top;\n",
       "    }\n",
       "\n",
       "    .dataframe thead th {\n",
       "        text-align: right;\n",
       "    }\n",
       "</style>\n",
       "<table border=\"1\" class=\"dataframe\">\n",
       "  <thead>\n",
       "    <tr style=\"text-align: right;\">\n",
       "      <th></th>\n",
       "      <th>customerID</th>\n",
       "      <th>gender</th>\n",
       "      <th>SeniorCitizen</th>\n",
       "      <th>Partner</th>\n",
       "      <th>Dependents</th>\n",
       "      <th>BeginDate</th>\n",
       "      <th>EndDate</th>\n",
       "      <th>Type</th>\n",
       "      <th>PaperlessBilling</th>\n",
       "      <th>PaymentMethod</th>\n",
       "      <th>MonthlyCharges</th>\n",
       "      <th>TotalCharges</th>\n",
       "      <th>СurrentСlient</th>\n",
       "      <th>LifeTime</th>\n",
       "      <th>MultipleLines</th>\n",
       "      <th>InternetService</th>\n",
       "      <th>OnlineSecurity</th>\n",
       "      <th>OnlineBackup</th>\n",
       "      <th>DeviceProtection</th>\n",
       "      <th>TechSupport</th>\n",
       "      <th>StreamingTV</th>\n",
       "      <th>StreamingMovies</th>\n",
       "    </tr>\n",
       "  </thead>\n",
       "  <tbody>\n",
       "    <tr>\n",
       "      <th>0</th>\n",
       "      <td>7590-VHVEG</td>\n",
       "      <td>Female</td>\n",
       "      <td>False</td>\n",
       "      <td>True</td>\n",
       "      <td>False</td>\n",
       "      <td>2020-01-01</td>\n",
       "      <td>NaT</td>\n",
       "      <td>Month-to-month</td>\n",
       "      <td>True</td>\n",
       "      <td>Electronic check</td>\n",
       "      <td>29.85</td>\n",
       "      <td>29.85</td>\n",
       "      <td>1</td>\n",
       "      <td>31</td>\n",
       "      <td>disabled</td>\n",
       "      <td>DSL</td>\n",
       "      <td>No</td>\n",
       "      <td>Yes</td>\n",
       "      <td>No</td>\n",
       "      <td>No</td>\n",
       "      <td>No</td>\n",
       "      <td>No</td>\n",
       "    </tr>\n",
       "    <tr>\n",
       "      <th>1</th>\n",
       "      <td>5575-GNVDE</td>\n",
       "      <td>Male</td>\n",
       "      <td>False</td>\n",
       "      <td>False</td>\n",
       "      <td>False</td>\n",
       "      <td>2017-04-01</td>\n",
       "      <td>NaT</td>\n",
       "      <td>One year</td>\n",
       "      <td>False</td>\n",
       "      <td>Mailed check</td>\n",
       "      <td>56.95</td>\n",
       "      <td>1889.50</td>\n",
       "      <td>1</td>\n",
       "      <td>1036</td>\n",
       "      <td>No</td>\n",
       "      <td>DSL</td>\n",
       "      <td>Yes</td>\n",
       "      <td>No</td>\n",
       "      <td>Yes</td>\n",
       "      <td>No</td>\n",
       "      <td>No</td>\n",
       "      <td>No</td>\n",
       "    </tr>\n",
       "    <tr>\n",
       "      <th>2</th>\n",
       "      <td>3668-QPYBK</td>\n",
       "      <td>Male</td>\n",
       "      <td>False</td>\n",
       "      <td>False</td>\n",
       "      <td>False</td>\n",
       "      <td>2019-10-01</td>\n",
       "      <td>2019-12-01</td>\n",
       "      <td>Month-to-month</td>\n",
       "      <td>True</td>\n",
       "      <td>Mailed check</td>\n",
       "      <td>53.85</td>\n",
       "      <td>108.15</td>\n",
       "      <td>0</td>\n",
       "      <td>61</td>\n",
       "      <td>No</td>\n",
       "      <td>DSL</td>\n",
       "      <td>Yes</td>\n",
       "      <td>Yes</td>\n",
       "      <td>No</td>\n",
       "      <td>No</td>\n",
       "      <td>No</td>\n",
       "      <td>No</td>\n",
       "    </tr>\n",
       "    <tr>\n",
       "      <th>3</th>\n",
       "      <td>7795-CFOCW</td>\n",
       "      <td>Male</td>\n",
       "      <td>False</td>\n",
       "      <td>False</td>\n",
       "      <td>False</td>\n",
       "      <td>2016-05-01</td>\n",
       "      <td>NaT</td>\n",
       "      <td>One year</td>\n",
       "      <td>False</td>\n",
       "      <td>Bank transfer (automatic)</td>\n",
       "      <td>42.30</td>\n",
       "      <td>1840.75</td>\n",
       "      <td>1</td>\n",
       "      <td>1371</td>\n",
       "      <td>disabled</td>\n",
       "      <td>DSL</td>\n",
       "      <td>Yes</td>\n",
       "      <td>No</td>\n",
       "      <td>Yes</td>\n",
       "      <td>Yes</td>\n",
       "      <td>No</td>\n",
       "      <td>No</td>\n",
       "    </tr>\n",
       "    <tr>\n",
       "      <th>4</th>\n",
       "      <td>9237-HQITU</td>\n",
       "      <td>Female</td>\n",
       "      <td>False</td>\n",
       "      <td>False</td>\n",
       "      <td>False</td>\n",
       "      <td>2019-09-01</td>\n",
       "      <td>2019-11-01</td>\n",
       "      <td>Month-to-month</td>\n",
       "      <td>True</td>\n",
       "      <td>Electronic check</td>\n",
       "      <td>70.70</td>\n",
       "      <td>151.65</td>\n",
       "      <td>0</td>\n",
       "      <td>61</td>\n",
       "      <td>No</td>\n",
       "      <td>Fiber optic</td>\n",
       "      <td>No</td>\n",
       "      <td>No</td>\n",
       "      <td>No</td>\n",
       "      <td>No</td>\n",
       "      <td>No</td>\n",
       "      <td>No</td>\n",
       "    </tr>\n",
       "  </tbody>\n",
       "</table>\n",
       "</div>"
      ],
      "text/plain": [
       "   customerID  gender  SeniorCitizen  Partner  Dependents  BeginDate  \\\n",
       "0  7590-VHVEG  Female          False     True       False 2020-01-01   \n",
       "1  5575-GNVDE    Male          False    False       False 2017-04-01   \n",
       "2  3668-QPYBK    Male          False    False       False 2019-10-01   \n",
       "3  7795-CFOCW    Male          False    False       False 2016-05-01   \n",
       "4  9237-HQITU  Female          False    False       False 2019-09-01   \n",
       "\n",
       "     EndDate            Type  PaperlessBilling              PaymentMethod  \\\n",
       "0        NaT  Month-to-month              True           Electronic check   \n",
       "1        NaT        One year             False               Mailed check   \n",
       "2 2019-12-01  Month-to-month              True               Mailed check   \n",
       "3        NaT        One year             False  Bank transfer (automatic)   \n",
       "4 2019-11-01  Month-to-month              True           Electronic check   \n",
       "\n",
       "   MonthlyCharges  TotalCharges  СurrentСlient  LifeTime MultipleLines  \\\n",
       "0           29.85         29.85              1        31      disabled   \n",
       "1           56.95       1889.50              1      1036            No   \n",
       "2           53.85        108.15              0        61            No   \n",
       "3           42.30       1840.75              1      1371      disabled   \n",
       "4           70.70        151.65              0        61            No   \n",
       "\n",
       "  InternetService OnlineSecurity OnlineBackup DeviceProtection TechSupport  \\\n",
       "0             DSL             No          Yes               No          No   \n",
       "1             DSL            Yes           No              Yes          No   \n",
       "2             DSL            Yes          Yes               No          No   \n",
       "3             DSL            Yes           No              Yes         Yes   \n",
       "4     Fiber optic             No           No               No          No   \n",
       "\n",
       "  StreamingTV StreamingMovies  \n",
       "0          No              No  \n",
       "1          No              No  \n",
       "2          No              No  \n",
       "3          No              No  \n",
       "4          No              No  "
      ]
     },
     "metadata": {},
     "output_type": "display_data"
    },
    {
     "data": {
      "text/plain": [
       "None"
      ]
     },
     "metadata": {},
     "output_type": "display_data"
    }
   ],
   "source": [
    "display(full.head(), full.info())"
   ]
  },
  {
   "cell_type": "markdown",
   "metadata": {},
   "source": [
    "### Вывод:"
   ]
  },
  {
   "cell_type": "markdown",
   "metadata": {},
   "source": [
    "Дубликатов в данных нет. Пропусков в первичных таблицах - тоже. Часть данных была переведена в другой формат. Были добавлены столбцы **'СurrentСlient'**(признак того, остался клиент или ушел) и **'LifeTime'**(\"время жизни\" клиента)."
   ]
  },
  {
   "cell_type": "markdown",
   "metadata": {},
   "source": [
    "## Исследовательский анализ данных."
   ]
  },
  {
   "cell_type": "markdown",
   "metadata": {},
   "source": [
    "Для  начала узнаем, сколько клиентов ушли."
   ]
  },
  {
   "cell_type": "code",
   "execution_count": 29,
   "metadata": {},
   "outputs": [
    {
     "name": "stdout",
     "output_type": "stream",
     "text": [
      "Количество ушедших: 1869 ( 26.54 % от общего количества клиентов)\n"
     ]
    }
   ],
   "source": [
    "print('Количество ушедших:', full[(full['СurrentСlient']==0)]['СurrentСlient'].count(), \n",
    "      '(', \n",
    "      round((full[(full['СurrentСlient']==0)]['СurrentСlient'].count() / full.shape[0]) * 100, 2),\n",
    "      '% от общего количества клиентов)')"
   ]
  },
  {
   "cell_type": "markdown",
   "metadata": {},
   "source": [
    "Рассмотрим годы подключения и отключения ушедших клиентов."
   ]
  },
  {
   "cell_type": "code",
   "execution_count": 30,
   "metadata": {},
   "outputs": [
    {
     "data": {
      "text/html": [
       "<div>\n",
       "<style scoped>\n",
       "    .dataframe tbody tr th:only-of-type {\n",
       "        vertical-align: middle;\n",
       "    }\n",
       "\n",
       "    .dataframe tbody tr th {\n",
       "        vertical-align: top;\n",
       "    }\n",
       "\n",
       "    .dataframe thead th {\n",
       "        text-align: right;\n",
       "    }\n",
       "</style>\n",
       "<table border=\"1\" class=\"dataframe\">\n",
       "  <thead>\n",
       "    <tr style=\"text-align: right;\">\n",
       "      <th></th>\n",
       "      <th>customerID</th>\n",
       "      <th>gender</th>\n",
       "      <th>SeniorCitizen</th>\n",
       "      <th>Partner</th>\n",
       "      <th>Dependents</th>\n",
       "      <th>BeginDate</th>\n",
       "      <th>EndDate</th>\n",
       "      <th>Type</th>\n",
       "      <th>PaperlessBilling</th>\n",
       "      <th>PaymentMethod</th>\n",
       "      <th>MonthlyCharges</th>\n",
       "      <th>TotalCharges</th>\n",
       "      <th>СurrentСlient</th>\n",
       "      <th>LifeTime</th>\n",
       "      <th>MultipleLines</th>\n",
       "      <th>InternetService</th>\n",
       "      <th>OnlineSecurity</th>\n",
       "      <th>OnlineBackup</th>\n",
       "      <th>DeviceProtection</th>\n",
       "      <th>TechSupport</th>\n",
       "      <th>StreamingTV</th>\n",
       "      <th>StreamingMovies</th>\n",
       "      <th>BeginYear</th>\n",
       "      <th>EndYear</th>\n",
       "    </tr>\n",
       "  </thead>\n",
       "  <tbody>\n",
       "    <tr>\n",
       "      <th>0</th>\n",
       "      <td>7590-VHVEG</td>\n",
       "      <td>Female</td>\n",
       "      <td>False</td>\n",
       "      <td>True</td>\n",
       "      <td>False</td>\n",
       "      <td>2020-01-01</td>\n",
       "      <td>NaT</td>\n",
       "      <td>Month-to-month</td>\n",
       "      <td>True</td>\n",
       "      <td>Electronic check</td>\n",
       "      <td>29.85</td>\n",
       "      <td>29.85</td>\n",
       "      <td>1</td>\n",
       "      <td>31</td>\n",
       "      <td>disabled</td>\n",
       "      <td>DSL</td>\n",
       "      <td>No</td>\n",
       "      <td>Yes</td>\n",
       "      <td>No</td>\n",
       "      <td>No</td>\n",
       "      <td>No</td>\n",
       "      <td>No</td>\n",
       "      <td>2020</td>\n",
       "      <td>2021</td>\n",
       "    </tr>\n",
       "    <tr>\n",
       "      <th>1</th>\n",
       "      <td>5575-GNVDE</td>\n",
       "      <td>Male</td>\n",
       "      <td>False</td>\n",
       "      <td>False</td>\n",
       "      <td>False</td>\n",
       "      <td>2017-04-01</td>\n",
       "      <td>NaT</td>\n",
       "      <td>One year</td>\n",
       "      <td>False</td>\n",
       "      <td>Mailed check</td>\n",
       "      <td>56.95</td>\n",
       "      <td>1889.50</td>\n",
       "      <td>1</td>\n",
       "      <td>1036</td>\n",
       "      <td>No</td>\n",
       "      <td>DSL</td>\n",
       "      <td>Yes</td>\n",
       "      <td>No</td>\n",
       "      <td>Yes</td>\n",
       "      <td>No</td>\n",
       "      <td>No</td>\n",
       "      <td>No</td>\n",
       "      <td>2017</td>\n",
       "      <td>2021</td>\n",
       "    </tr>\n",
       "    <tr>\n",
       "      <th>2</th>\n",
       "      <td>3668-QPYBK</td>\n",
       "      <td>Male</td>\n",
       "      <td>False</td>\n",
       "      <td>False</td>\n",
       "      <td>False</td>\n",
       "      <td>2019-10-01</td>\n",
       "      <td>2019-12-01</td>\n",
       "      <td>Month-to-month</td>\n",
       "      <td>True</td>\n",
       "      <td>Mailed check</td>\n",
       "      <td>53.85</td>\n",
       "      <td>108.15</td>\n",
       "      <td>0</td>\n",
       "      <td>61</td>\n",
       "      <td>No</td>\n",
       "      <td>DSL</td>\n",
       "      <td>Yes</td>\n",
       "      <td>Yes</td>\n",
       "      <td>No</td>\n",
       "      <td>No</td>\n",
       "      <td>No</td>\n",
       "      <td>No</td>\n",
       "      <td>2019</td>\n",
       "      <td>2019</td>\n",
       "    </tr>\n",
       "    <tr>\n",
       "      <th>3</th>\n",
       "      <td>7795-CFOCW</td>\n",
       "      <td>Male</td>\n",
       "      <td>False</td>\n",
       "      <td>False</td>\n",
       "      <td>False</td>\n",
       "      <td>2016-05-01</td>\n",
       "      <td>NaT</td>\n",
       "      <td>One year</td>\n",
       "      <td>False</td>\n",
       "      <td>Bank transfer (automatic)</td>\n",
       "      <td>42.30</td>\n",
       "      <td>1840.75</td>\n",
       "      <td>1</td>\n",
       "      <td>1371</td>\n",
       "      <td>disabled</td>\n",
       "      <td>DSL</td>\n",
       "      <td>Yes</td>\n",
       "      <td>No</td>\n",
       "      <td>Yes</td>\n",
       "      <td>Yes</td>\n",
       "      <td>No</td>\n",
       "      <td>No</td>\n",
       "      <td>2016</td>\n",
       "      <td>2021</td>\n",
       "    </tr>\n",
       "    <tr>\n",
       "      <th>4</th>\n",
       "      <td>9237-HQITU</td>\n",
       "      <td>Female</td>\n",
       "      <td>False</td>\n",
       "      <td>False</td>\n",
       "      <td>False</td>\n",
       "      <td>2019-09-01</td>\n",
       "      <td>2019-11-01</td>\n",
       "      <td>Month-to-month</td>\n",
       "      <td>True</td>\n",
       "      <td>Electronic check</td>\n",
       "      <td>70.70</td>\n",
       "      <td>151.65</td>\n",
       "      <td>0</td>\n",
       "      <td>61</td>\n",
       "      <td>No</td>\n",
       "      <td>Fiber optic</td>\n",
       "      <td>No</td>\n",
       "      <td>No</td>\n",
       "      <td>No</td>\n",
       "      <td>No</td>\n",
       "      <td>No</td>\n",
       "      <td>No</td>\n",
       "      <td>2019</td>\n",
       "      <td>2019</td>\n",
       "    </tr>\n",
       "  </tbody>\n",
       "</table>\n",
       "</div>"
      ],
      "text/plain": [
       "   customerID  gender  SeniorCitizen  Partner  Dependents  BeginDate  \\\n",
       "0  7590-VHVEG  Female          False     True       False 2020-01-01   \n",
       "1  5575-GNVDE    Male          False    False       False 2017-04-01   \n",
       "2  3668-QPYBK    Male          False    False       False 2019-10-01   \n",
       "3  7795-CFOCW    Male          False    False       False 2016-05-01   \n",
       "4  9237-HQITU  Female          False    False       False 2019-09-01   \n",
       "\n",
       "     EndDate            Type  PaperlessBilling              PaymentMethod  \\\n",
       "0        NaT  Month-to-month              True           Electronic check   \n",
       "1        NaT        One year             False               Mailed check   \n",
       "2 2019-12-01  Month-to-month              True               Mailed check   \n",
       "3        NaT        One year             False  Bank transfer (automatic)   \n",
       "4 2019-11-01  Month-to-month              True           Electronic check   \n",
       "\n",
       "   MonthlyCharges  TotalCharges  СurrentСlient  LifeTime MultipleLines  \\\n",
       "0           29.85         29.85              1        31      disabled   \n",
       "1           56.95       1889.50              1      1036            No   \n",
       "2           53.85        108.15              0        61            No   \n",
       "3           42.30       1840.75              1      1371      disabled   \n",
       "4           70.70        151.65              0        61            No   \n",
       "\n",
       "  InternetService OnlineSecurity OnlineBackup DeviceProtection TechSupport  \\\n",
       "0             DSL             No          Yes               No          No   \n",
       "1             DSL            Yes           No              Yes          No   \n",
       "2             DSL            Yes          Yes               No          No   \n",
       "3             DSL            Yes           No              Yes         Yes   \n",
       "4     Fiber optic             No           No               No          No   \n",
       "\n",
       "  StreamingTV StreamingMovies  BeginYear  EndYear  \n",
       "0          No              No       2020     2021  \n",
       "1          No              No       2017     2021  \n",
       "2          No              No       2019     2019  \n",
       "3          No              No       2016     2021  \n",
       "4          No              No       2019     2019  "
      ]
     },
     "execution_count": 30,
     "metadata": {},
     "output_type": "execute_result"
    }
   ],
   "source": [
    "# добавим столбцы в годом подключения и отключения клиента\n",
    "full['BeginYear'] = pd.DatetimeIndex(full['BeginDate']).year\n",
    "full['EndYear'] = pd.DatetimeIndex(full['EndDate']).year\n",
    "full['EndYear'] = full['EndYear'].fillna(2021).astype('int')\n",
    "full.head()"
   ]
  },
  {
   "cell_type": "code",
   "execution_count": 31,
   "metadata": {},
   "outputs": [
    {
     "data": {
      "image/png": "[encoded data removed]",
      "text/plain": [
       "<Figure size 864x576 with 1 Axes>"
      ]
     },
     "metadata": {
      "needs_background": "light"
     },
     "output_type": "display_data"
    }
   ],
   "source": [
    "plt.figure(figsize=(12,8))\n",
    "full.query('СurrentСlient == False')['BeginYear'].plot(kind='hist', bins=30, grid=True)\n",
    "plt.title('Гистограмма ушедших клиентов по году начала пользования услугами')\n",
    "plt.xlabel('Год подключения')\n",
    "plt.ylabel('Количество ушедших клиентов')\n",
    "plt.show()"
   ]
  },
  {
   "cell_type": "code",
   "execution_count": 32,
   "metadata": {},
   "outputs": [
    {
     "data": {
      "text/plain": [
       "array([2019, 2020])"
      ]
     },
     "execution_count": 32,
     "metadata": {},
     "output_type": "execute_result"
    }
   ],
   "source": [
    "full.query('СurrentСlient == False')['EndYear'].unique()"
   ]
  },
  {
   "cell_type": "markdown",
   "metadata": {},
   "source": [
    "Клиенты начали уходить в 2019 году и большая часть этих клиентов в 2019 году и подключилась."
   ]
  },
  {
   "cell_type": "markdown",
   "metadata": {},
   "source": [
    "Теперь рассмотрим соотношение ушедших и оставшихся приентов по некоторым признакам."
   ]
  },
  {
   "cell_type": "code",
   "execution_count": 33,
   "metadata": {},
   "outputs": [],
   "source": [
    "def his(col, xlab):\n",
    "    plt.figure(figsize=(12,8))\n",
    "    sns.countplot(x = col, hue = 'СurrentСlient', data = full)\n",
    "    plt.title('Сравнение клиентов по столбцу ' + col)\n",
    "    plt.xlabel(xlab)\n",
    "    plt.ylabel('Количество клиентов')\n",
    "    plt.legend(['Ушедшие клиенты', 'Актуальные клиенты'])\n",
    "    plt.grid('True')\n",
    "    plt.show()"
   ]
  },
  {
   "cell_type": "markdown",
   "metadata": {},
   "source": [
    "**Пол клиента**."
   ]
  },
  {
   "cell_type": "code",
   "execution_count": 34,
   "metadata": {
    "scrolled": false
   },
   "outputs": [
    {
     "data": {
      "image/png": "[encoded data removed]",
      "text/plain": [
       "<Figure size 864x576 with 1 Axes>"
      ]
     },
     "metadata": {
      "needs_background": "light"
     },
     "output_type": "display_data"
    }
   ],
   "source": [
    "his('gender', 'Пол клиента')"
   ]
  },
  {
   "cell_type": "markdown",
   "metadata": {},
   "source": [
    "Распределение по полу оставшихся и ушедших клиентов одинаковое - 50%/50%. Признак не несет никакой информации, которая поможет в обучении модели, его можно удалить."
   ]
  },
  {
   "cell_type": "markdown",
   "metadata": {},
   "source": [
    "**Пенсионеры.**"
   ]
  },
  {
   "cell_type": "code",
   "execution_count": 35,
   "metadata": {},
   "outputs": [
    {
     "data": {
      "image/png": "[encoded data removed]",
      "text/plain": [
       "<Figure size 864x576 with 1 Axes>"
      ]
     },
     "metadata": {
      "needs_background": "light"
     },
     "output_type": "display_data"
    }
   ],
   "source": [
    "his('SeniorCitizen', 'Является ли клиент пенсионером')"
   ]
  },
  {
   "cell_type": "markdown",
   "metadata": {},
   "source": [
    "Среди пенсионеров количество ушедших и оставшихся отличается на 10%-15% в пользу вторых. Среди не пенсионеров доля актуальных клиентов превышает долю ушедших в 3 раза. Соотношение ушедших пенсионеров к не пенсионерам примерно 1:3."
   ]
  },
  {
   "cell_type": "markdown",
   "metadata": {},
   "source": [
    "**Наличие супруга.**"
   ]
  },
  {
   "cell_type": "code",
   "execution_count": 36,
   "metadata": {},
   "outputs": [
    {
     "data": {
      "image/png": "[encoded data removed]",
      "text/plain": [
       "<Figure size 864x576 with 1 Axes>"
      ]
     },
     "metadata": {
      "needs_background": "light"
     },
     "output_type": "display_data"
    }
   ],
   "source": [
    "his('Partner', 'Наличие супруга')"
   ]
  },
  {
   "cell_type": "markdown",
   "metadata": {},
   "source": [
    "Среди ушедших клиентов доля не состоящих в браке выше примерно в 2 раза."
   ]
  },
  {
   "cell_type": "markdown",
   "metadata": {},
   "source": [
    "**Наличие иждивенцев.**"
   ]
  },
  {
   "cell_type": "code",
   "execution_count": 37,
   "metadata": {
    "scrolled": false
   },
   "outputs": [
    {
     "data": {
      "image/png": "[encoded data removed]",
      "text/plain": [
       "<Figure size 864x576 with 1 Axes>"
      ]
     },
     "metadata": {
      "needs_background": "light"
     },
     "output_type": "display_data"
    }
   ],
   "source": [
    "his('Dependents', 'Наличие иждивенцев')"
   ]
  },
  {
   "cell_type": "markdown",
   "metadata": {},
   "source": [
    "Среди ушедших клиентов в 5 раз больше тех, кто не имеет иждивенцев."
   ]
  },
  {
   "cell_type": "markdown",
   "metadata": {},
   "source": [
    "**Тип оплаты.**"
   ]
  },
  {
   "cell_type": "code",
   "execution_count": 38,
   "metadata": {
    "scrolled": false
   },
   "outputs": [
    {
     "data": {
      "image/png": "[encoded data removed]",
      "text/plain": [
       "<Figure size 864x576 with 1 Axes>"
      ]
     },
     "metadata": {
      "needs_background": "light"
     },
     "output_type": "display_data"
    }
   ],
   "source": [
    "his('Type', 'Тип оплаты')"
   ]
  },
  {
   "cell_type": "markdown",
   "metadata": {},
   "source": [
    "Около 90% ушедших клиентов пользовались помесячной оплатой услуг провайдера."
   ]
  },
  {
   "cell_type": "markdown",
   "metadata": {},
   "source": [
    "**Использование интернет-услуг.**"
   ]
  },
  {
   "cell_type": "code",
   "execution_count": 39,
   "metadata": {
    "scrolled": false
   },
   "outputs": [
    {
     "data": {
      "image/png": "[encoded data removed]",
      "text/plain": [
       "<Figure size 864x576 with 1 Axes>"
      ]
     },
     "metadata": {
      "needs_background": "light"
     },
     "output_type": "display_data"
    },
    {
     "data": {
      "image/png": "[encoded data removed]",
      "text/plain": [
       "<Figure size 864x576 with 1 Axes>"
      ]
     },
     "metadata": {
      "needs_background": "light"
     },
     "output_type": "display_data"
    },
    {
     "data": {
      "image/png": "[encoded data removed]",
      "text/plain": [
       "<Figure size 864x576 with 1 Axes>"
      ]
     },
     "metadata": {
      "needs_background": "light"
     },
     "output_type": "display_data"
    },
    {
     "data": {
      "image/png": "[encoded data removed]",
      "text/plain": [
       "<Figure size 864x576 with 1 Axes>"
      ]
     },
     "metadata": {
      "needs_background": "light"
     },
     "output_type": "display_data"
    },
    {
     "data": {
      "image/png": "[encoded data removed]",
      "text/plain": [
       "<Figure size 864x576 with 1 Axes>"
      ]
     },
     "metadata": {
      "needs_background": "light"
     },
     "output_type": "display_data"
    },
    {
     "data": {
      "image/png": "[encoded data removed]",
      "text/plain": [
       "<Figure size 864x576 with 1 Axes>"
      ]
     },
     "metadata": {
      "needs_background": "light"
     },
     "output_type": "display_data"
    }
   ],
   "source": [
    "for i in ['OnlineSecurity','OnlineBackup','DeviceProtection','TechSupport','StreamingTV','StreamingMovies']:\n",
    "    his(i, 'Использование услуги ' + i)"
   ]
  },
  {
   "cell_type": "markdown",
   "metadata": {},
   "source": [
    "**Тип интернет подключения.**"
   ]
  },
  {
   "cell_type": "code",
   "execution_count": 40,
   "metadata": {
    "scrolled": false
   },
   "outputs": [
    {
     "data": {
      "image/png": "[encoded data removed]",
      "text/plain": [
       "<Figure size 864x576 with 1 Axes>"
      ]
     },
     "metadata": {
      "needs_background": "light"
     },
     "output_type": "display_data"
    }
   ],
   "source": [
    "his('InternetService', 'Тип интернет подключения')"
   ]
  },
  {
   "cell_type": "markdown",
   "metadata": {},
   "source": [
    "Значительная часть ушедших клиентов пользовалась интернетом через оптоволоконное подключение."
   ]
  },
  {
   "cell_type": "markdown",
   "metadata": {},
   "source": [
    "**Размер ежемесячных платежей.**"
   ]
  },
  {
   "cell_type": "code",
   "execution_count": 41,
   "metadata": {},
   "outputs": [
    {
     "data": {
      "image/png": "[encoded data removed]",
      "text/plain": [
       "<Figure size 864x576 with 1 Axes>"
      ]
     },
     "metadata": {
      "needs_background": "light"
     },
     "output_type": "display_data"
    }
   ],
   "source": [
    "ax = full.query('СurrentСlient == True').plot(kind = 'hist', \n",
    "                                              y = 'MonthlyCharges', \n",
    "                                              ec = 'black', \n",
    "                                              bins = 25,\n",
    "                                              linewidth = 1, \n",
    "                                              alpha = 0.5, \n",
    "                                              label = 'Оставшиеся клиенты', \n",
    "                                              color = 'r')\n",
    "\n",
    "full.query('СurrentСlient == False').plot(kind = 'hist', \n",
    "                                          y = 'MonthlyCharges', \n",
    "                                          ec = 'black', \n",
    "                                          bins = 25,\n",
    "                                          linewidth = 1, \n",
    "                                          alpha = 0.5, \n",
    "                                          label = 'Ушедшие клиенты', \n",
    "                                          ax = ax, \n",
    "                                          figsize = (12,8),\n",
    "                                          grid = True, \n",
    "                                          color = 'g')\n",
    "\n",
    "ax.set_xlabel('Ежемесячный платеж')\n",
    "ax.set_ylabel('Частота значений')\n",
    "ax.set_title('Распределение ежемесячных платежей')\n",
    "plt.show()"
   ]
  },
  {
   "cell_type": "code",
   "execution_count": 42,
   "metadata": {},
   "outputs": [
    {
     "name": "stdout",
     "output_type": "stream",
     "text": [
      "Медианное значение месячного платежа: \n",
      "у оставшихся - 64 \n",
      "у ушедших - 80\n"
     ]
    }
   ],
   "source": [
    "print('Медианное значение месячного платежа: \\nу оставшихся -', \n",
    "      round(full.query('СurrentСlient == True')['MonthlyCharges'].median()),\n",
    "      '\\nу ушедших -',\n",
    "      round(full.query('СurrentСlient == False')['MonthlyCharges'].median()))"
   ]
  },
  {
   "cell_type": "markdown",
   "metadata": {},
   "source": [
    "Из графика видно, что среди ушедших клиентов большая часть имела месячный платеж от 70 до 110. У оставшихся основное распределение платежа лежит в диапазоне от 45 до 110. Однако и у тех, у и других плиентов есть всплески у минимумов.\n",
    "Медианное значение также выше у ушедших клиентов."
   ]
  },
  {
   "cell_type": "markdown",
   "metadata": {},
   "source": [
    "**Время жизни клиента.**"
   ]
  },
  {
   "cell_type": "code",
   "execution_count": 43,
   "metadata": {},
   "outputs": [
    {
     "data": {
      "image/png": "[encoded data removed]",
      "text/plain": [
       "<Figure size 864x576 with 1 Axes>"
      ]
     },
     "metadata": {
      "needs_background": "light"
     },
     "output_type": "display_data"
    }
   ],
   "source": [
    "full.query('СurrentСlient == False').plot(kind = 'hist', \n",
    "                                          y = 'LifeTime', \n",
    "                                          ec = 'black', \n",
    "                                          bins = 40,\n",
    "                                          linewidth = 1, \n",
    "                                          alpha = 0.5,  \n",
    "                                          figsize = (12,8),\n",
    "                                          grid = True)\n",
    "\n",
    "plt.xlabel('Ежемесячный платеж')\n",
    "plt.ylabel('Частота значений')\n",
    "plt.title('Распределение времени жизни ушедших клиентов')\n",
    "plt.show()"
   ]
  },
  {
   "cell_type": "code",
   "execution_count": 44,
   "metadata": {},
   "outputs": [
    {
     "data": {
      "text/html": [
       "<div>\n",
       "<style scoped>\n",
       "    .dataframe tbody tr th:only-of-type {\n",
       "        vertical-align: middle;\n",
       "    }\n",
       "\n",
       "    .dataframe tbody tr th {\n",
       "        vertical-align: top;\n",
       "    }\n",
       "\n",
       "    .dataframe thead th {\n",
       "        text-align: right;\n",
       "    }\n",
       "</style>\n",
       "<table border=\"1\" class=\"dataframe\">\n",
       "  <thead>\n",
       "    <tr style=\"text-align: right;\">\n",
       "      <th></th>\n",
       "      <th>count</th>\n",
       "    </tr>\n",
       "    <tr>\n",
       "      <th>LifeTime</th>\n",
       "      <th></th>\n",
       "    </tr>\n",
       "  </thead>\n",
       "  <tbody>\n",
       "    <tr>\n",
       "      <th>31</th>\n",
       "      <td>198</td>\n",
       "    </tr>\n",
       "    <tr>\n",
       "      <th>30</th>\n",
       "      <td>182</td>\n",
       "    </tr>\n",
       "    <tr>\n",
       "      <th>61</th>\n",
       "      <td>123</td>\n",
       "    </tr>\n",
       "    <tr>\n",
       "      <th>153</th>\n",
       "      <td>64</td>\n",
       "    </tr>\n",
       "    <tr>\n",
       "      <th>92</th>\n",
       "      <td>63</td>\n",
       "    </tr>\n",
       "  </tbody>\n",
       "</table>\n",
       "</div>"
      ],
      "text/plain": [
       "          count\n",
       "LifeTime       \n",
       "31          198\n",
       "30          182\n",
       "61          123\n",
       "153          64\n",
       "92           63"
      ]
     },
     "metadata": {},
     "output_type": "display_data"
    }
   ],
   "source": [
    "lt = full.query('СurrentСlient == False').pivot_table(index = 'LifeTime', values = 'customerID', aggfunc = 'count')\n",
    "lt.columns = ['count']\n",
    "display(lt.sort_values(by = 'count', ascending = False).head())"
   ]
  },
  {
   "cell_type": "markdown",
   "metadata": {},
   "source": [
    "Из распределения видно, что большая часть ушедших - это \"молодые\" клиенты. Значительная часть клиентов ушли в через 1-2 месяца после подключения."
   ]
  },
  {
   "cell_type": "markdown",
   "metadata": {},
   "source": [
    "### Вывод:"
   ]
  },
  {
   "cell_type": "markdown",
   "metadata": {},
   "source": [
    "Количество ушедших клиентов - 1869, что составляет 26.54 % от их общего количества. Начали отключаться клиенты с 2019 года и максимум отключившихся приходится на подключившихся в том же году. Среди ушедших клиентов преобладают люди допенсионного возраста, без детей и супруга, а так же те, что пользовался интернетом через оптоволокно.\n",
    "Около 90% ушедших клиентов пользовались помесячной оплатой услуг провайдера. Так же в среднем месячная плата ушедших клиентов была выше, чем у оставшихся. Медианное значение - 80 против 64 у оставшихся.\n",
    "Так же выяснилось, что чем меньше человек являлся клиентом компании, тем выше была вероятноть того, что он отключится. Значительная часть клиентов ушли после первого-второго месяца пользования услуг компании.\n",
    "\n",
    "Есть вероятность того, что у компании либо изменилась ценовая политика(или же понизилось качество оказываемых услуг и поддержки), либо появился конкурент."
   ]
  },
  {
   "cell_type": "markdown",
   "metadata": {},
   "source": [
    "## Работа с моделями."
   ]
  },
  {
   "cell_type": "markdown",
   "metadata": {},
   "source": [
    "### Подготовка данных."
   ]
  },
  {
   "cell_type": "markdown",
   "metadata": {},
   "source": [
    "Для начала удалим признаки с датами и годами, чтобы избежать утечки данных. Так же удалим признак пола и ID клиента, так как от них совсем не зависит, уйдет ли клиент или нет."
   ]
  },
  {
   "cell_type": "code",
   "execution_count": 45,
   "metadata": {},
   "outputs": [],
   "source": [
    "full = full.drop(['customerID', 'gender', 'BeginDate', 'EndDate', 'BeginYear', 'EndYear'], axis=1)"
   ]
  },
  {
   "cell_type": "markdown",
   "metadata": {},
   "source": [
    "Рассмотрим корреляцию признаков между собой."
   ]
  },
  {
   "cell_type": "code",
   "execution_count": 46,
   "metadata": {},
   "outputs": [
    {
     "data": {
      "image/png": "[encoded data removed]",
      "text/plain": [
       "<Figure size 864x576 with 2 Axes>"
      ]
     },
     "metadata": {
      "needs_background": "light"
     },
     "output_type": "display_data"
    }
   ],
   "source": [
    "plt.figure(figsize = (12,8))\n",
    "sns.heatmap(full[['MonthlyCharges', 'TotalCharges', 'LifeTime']].corr(),cmap = sns.color_palette(palette=\"RdBu\"), linewidths = 0.1, annot=True).title.set_text('Корреляция признаков для всех клиентов')\n",
    "plt.show()"
   ]
  },
  {
   "cell_type": "markdown",
   "metadata": {},
   "source": [
    "Мы видим большую корреляцию признака **'TotalCharges'** с **'LifeTime'** (0,83) и так как **'TotalCharges'** коррелирует и с **'MonthlyCharges'** (0,65), то для предотвращения переобучения модели избавимся именно от признака **'TotalCharges'**."
   ]
  },
  {
   "cell_type": "code",
   "execution_count": 47,
   "metadata": {},
   "outputs": [],
   "source": [
    "full = full.drop(['TotalCharges'], axis=1)"
   ]
  },
  {
   "cell_type": "markdown",
   "metadata": {},
   "source": [
    "Объединим данные по интернет-услугам в один столбец - количество используемых услуг."
   ]
  },
  {
   "cell_type": "code",
   "execution_count": 48,
   "metadata": {},
   "outputs": [],
   "source": [
    "for i in ['OnlineSecurity','OnlineBackup','DeviceProtection','TechSupport','StreamingTV','StreamingMovies']:\n",
    "    full[i] = full[i].replace(['No', 'disabled'], 0)\n",
    "    full[i] = full[i].replace('Yes', 1)\n",
    "full['IntServiceCount'] = full['OnlineSecurity']+full['OnlineBackup']+full['DeviceProtection']+full['TechSupport']+full['StreamingTV']+full['StreamingMovies']\n",
    "full['IntServiceCount'] = full['IntServiceCount'].astype('int')\n",
    "full = full.drop(['OnlineSecurity','OnlineBackup','DeviceProtection','TechSupport','StreamingTV','StreamingMovies'],axis=1)"
   ]
  },
  {
   "cell_type": "markdown",
   "metadata": {},
   "source": [
    "От лишних признаков мы избавились. \n",
    "Дисбаланс классов у нас примерно 1:3(ушедших клиентов около 27%). Я считаю, что это не такой большой дисбаланс, с которым необходимо бороться дополнительным преобразованием датасета(upsampling'ом, например). Однако при разделении на выборки дисбаланс можно учесть."
   ]
  },
  {
   "cell_type": "markdown",
   "metadata": {},
   "source": [
    "#### Кодирование признаков."
   ]
  },
  {
   "cell_type": "code",
   "execution_count": 49,
   "metadata": {},
   "outputs": [
    {
     "data": {
      "text/plain": [
       "Index(['SeniorCitizen', 'Partner', 'Dependents', 'Type', 'PaperlessBilling',\n",
       "       'PaymentMethod', 'MonthlyCharges', 'СurrentСlient', 'LifeTime',\n",
       "       'MultipleLines', 'InternetService', 'IntServiceCount'],\n",
       "      dtype='object')"
      ]
     },
     "metadata": {},
     "output_type": "display_data"
    },
    {
     "data": {
      "text/html": [
       "<div>\n",
       "<style scoped>\n",
       "    .dataframe tbody tr th:only-of-type {\n",
       "        vertical-align: middle;\n",
       "    }\n",
       "\n",
       "    .dataframe tbody tr th {\n",
       "        vertical-align: top;\n",
       "    }\n",
       "\n",
       "    .dataframe thead th {\n",
       "        text-align: right;\n",
       "    }\n",
       "</style>\n",
       "<table border=\"1\" class=\"dataframe\">\n",
       "  <thead>\n",
       "    <tr style=\"text-align: right;\">\n",
       "      <th></th>\n",
       "      <th>SeniorCitizen</th>\n",
       "      <th>Partner</th>\n",
       "      <th>Dependents</th>\n",
       "      <th>Type</th>\n",
       "      <th>PaperlessBilling</th>\n",
       "      <th>PaymentMethod</th>\n",
       "      <th>MonthlyCharges</th>\n",
       "      <th>СurrentСlient</th>\n",
       "      <th>LifeTime</th>\n",
       "      <th>MultipleLines</th>\n",
       "      <th>InternetService</th>\n",
       "      <th>IntServiceCount</th>\n",
       "    </tr>\n",
       "  </thead>\n",
       "  <tbody>\n",
       "    <tr>\n",
       "      <th>0</th>\n",
       "      <td>False</td>\n",
       "      <td>True</td>\n",
       "      <td>False</td>\n",
       "      <td>Month-to-month</td>\n",
       "      <td>True</td>\n",
       "      <td>Electronic check</td>\n",
       "      <td>29.85</td>\n",
       "      <td>1</td>\n",
       "      <td>31</td>\n",
       "      <td>disabled</td>\n",
       "      <td>DSL</td>\n",
       "      <td>1</td>\n",
       "    </tr>\n",
       "    <tr>\n",
       "      <th>1</th>\n",
       "      <td>False</td>\n",
       "      <td>False</td>\n",
       "      <td>False</td>\n",
       "      <td>One year</td>\n",
       "      <td>False</td>\n",
       "      <td>Mailed check</td>\n",
       "      <td>56.95</td>\n",
       "      <td>1</td>\n",
       "      <td>1036</td>\n",
       "      <td>No</td>\n",
       "      <td>DSL</td>\n",
       "      <td>2</td>\n",
       "    </tr>\n",
       "    <tr>\n",
       "      <th>2</th>\n",
       "      <td>False</td>\n",
       "      <td>False</td>\n",
       "      <td>False</td>\n",
       "      <td>Month-to-month</td>\n",
       "      <td>True</td>\n",
       "      <td>Mailed check</td>\n",
       "      <td>53.85</td>\n",
       "      <td>0</td>\n",
       "      <td>61</td>\n",
       "      <td>No</td>\n",
       "      <td>DSL</td>\n",
       "      <td>2</td>\n",
       "    </tr>\n",
       "    <tr>\n",
       "      <th>3</th>\n",
       "      <td>False</td>\n",
       "      <td>False</td>\n",
       "      <td>False</td>\n",
       "      <td>One year</td>\n",
       "      <td>False</td>\n",
       "      <td>Bank transfer (automatic)</td>\n",
       "      <td>42.30</td>\n",
       "      <td>1</td>\n",
       "      <td>1371</td>\n",
       "      <td>disabled</td>\n",
       "      <td>DSL</td>\n",
       "      <td>3</td>\n",
       "    </tr>\n",
       "    <tr>\n",
       "      <th>4</th>\n",
       "      <td>False</td>\n",
       "      <td>False</td>\n",
       "      <td>False</td>\n",
       "      <td>Month-to-month</td>\n",
       "      <td>True</td>\n",
       "      <td>Electronic check</td>\n",
       "      <td>70.70</td>\n",
       "      <td>0</td>\n",
       "      <td>61</td>\n",
       "      <td>No</td>\n",
       "      <td>Fiber optic</td>\n",
       "      <td>0</td>\n",
       "    </tr>\n",
       "  </tbody>\n",
       "</table>\n",
       "</div>"
      ],
      "text/plain": [
       "   SeniorCitizen  Partner  Dependents            Type  PaperlessBilling  \\\n",
       "0          False     True       False  Month-to-month              True   \n",
       "1          False    False       False        One year             False   \n",
       "2          False    False       False  Month-to-month              True   \n",
       "3          False    False       False        One year             False   \n",
       "4          False    False       False  Month-to-month              True   \n",
       "\n",
       "               PaymentMethod  MonthlyCharges  СurrentСlient  LifeTime  \\\n",
       "0           Electronic check           29.85              1        31   \n",
       "1               Mailed check           56.95              1      1036   \n",
       "2               Mailed check           53.85              0        61   \n",
       "3  Bank transfer (automatic)           42.30              1      1371   \n",
       "4           Electronic check           70.70              0        61   \n",
       "\n",
       "  MultipleLines InternetService  IntServiceCount  \n",
       "0      disabled             DSL                1  \n",
       "1            No             DSL                2  \n",
       "2            No             DSL                2  \n",
       "3      disabled             DSL                3  \n",
       "4            No     Fiber optic                0  "
      ]
     },
     "metadata": {},
     "output_type": "display_data"
    }
   ],
   "source": [
    "display(full.columns, full.head())"
   ]
  },
  {
   "cell_type": "code",
   "execution_count": 50,
   "metadata": {},
   "outputs": [
    {
     "name": "stdout",
     "output_type": "stream",
     "text": [
      "Данные закодированы\n"
     ]
    }
   ],
   "source": [
    "full_cat = full.copy()\n",
    "\n",
    "cat_features = ['Type', \n",
    "                'PaymentMethod', \n",
    "                'MultipleLines',\n",
    "                'InternetService']\n",
    "\n",
    "num_features = ['MonthlyCharges', 'LifeTime', 'IntServiceCount']\n",
    "full = pd.get_dummies(full, drop_first = True)\n",
    "print('Данные закодированы')"
   ]
  },
  {
   "cell_type": "code",
   "execution_count": 51,
   "metadata": {},
   "outputs": [
    {
     "data": {
      "text/html": [
       "<div>\n",
       "<style scoped>\n",
       "    .dataframe tbody tr th:only-of-type {\n",
       "        vertical-align: middle;\n",
       "    }\n",
       "\n",
       "    .dataframe tbody tr th {\n",
       "        vertical-align: top;\n",
       "    }\n",
       "\n",
       "    .dataframe thead th {\n",
       "        text-align: right;\n",
       "    }\n",
       "</style>\n",
       "<table border=\"1\" class=\"dataframe\">\n",
       "  <thead>\n",
       "    <tr style=\"text-align: right;\">\n",
       "      <th></th>\n",
       "      <th>SeniorCitizen</th>\n",
       "      <th>Partner</th>\n",
       "      <th>Dependents</th>\n",
       "      <th>PaperlessBilling</th>\n",
       "      <th>MonthlyCharges</th>\n",
       "      <th>СurrentСlient</th>\n",
       "      <th>LifeTime</th>\n",
       "      <th>IntServiceCount</th>\n",
       "      <th>Type_One year</th>\n",
       "      <th>Type_Two year</th>\n",
       "      <th>PaymentMethod_Credit card (automatic)</th>\n",
       "      <th>PaymentMethod_Electronic check</th>\n",
       "      <th>PaymentMethod_Mailed check</th>\n",
       "      <th>MultipleLines_Yes</th>\n",
       "      <th>MultipleLines_disabled</th>\n",
       "      <th>InternetService_Fiber optic</th>\n",
       "      <th>InternetService_disabled</th>\n",
       "    </tr>\n",
       "  </thead>\n",
       "  <tbody>\n",
       "    <tr>\n",
       "      <th>0</th>\n",
       "      <td>False</td>\n",
       "      <td>True</td>\n",
       "      <td>False</td>\n",
       "      <td>True</td>\n",
       "      <td>29.85</td>\n",
       "      <td>1</td>\n",
       "      <td>31</td>\n",
       "      <td>1</td>\n",
       "      <td>0</td>\n",
       "      <td>0</td>\n",
       "      <td>0</td>\n",
       "      <td>1</td>\n",
       "      <td>0</td>\n",
       "      <td>0</td>\n",
       "      <td>1</td>\n",
       "      <td>0</td>\n",
       "      <td>0</td>\n",
       "    </tr>\n",
       "    <tr>\n",
       "      <th>1</th>\n",
       "      <td>False</td>\n",
       "      <td>False</td>\n",
       "      <td>False</td>\n",
       "      <td>False</td>\n",
       "      <td>56.95</td>\n",
       "      <td>1</td>\n",
       "      <td>1036</td>\n",
       "      <td>2</td>\n",
       "      <td>1</td>\n",
       "      <td>0</td>\n",
       "      <td>0</td>\n",
       "      <td>0</td>\n",
       "      <td>1</td>\n",
       "      <td>0</td>\n",
       "      <td>0</td>\n",
       "      <td>0</td>\n",
       "      <td>0</td>\n",
       "    </tr>\n",
       "    <tr>\n",
       "      <th>2</th>\n",
       "      <td>False</td>\n",
       "      <td>False</td>\n",
       "      <td>False</td>\n",
       "      <td>True</td>\n",
       "      <td>53.85</td>\n",
       "      <td>0</td>\n",
       "      <td>61</td>\n",
       "      <td>2</td>\n",
       "      <td>0</td>\n",
       "      <td>0</td>\n",
       "      <td>0</td>\n",
       "      <td>0</td>\n",
       "      <td>1</td>\n",
       "      <td>0</td>\n",
       "      <td>0</td>\n",
       "      <td>0</td>\n",
       "      <td>0</td>\n",
       "    </tr>\n",
       "    <tr>\n",
       "      <th>3</th>\n",
       "      <td>False</td>\n",
       "      <td>False</td>\n",
       "      <td>False</td>\n",
       "      <td>False</td>\n",
       "      <td>42.30</td>\n",
       "      <td>1</td>\n",
       "      <td>1371</td>\n",
       "      <td>3</td>\n",
       "      <td>1</td>\n",
       "      <td>0</td>\n",
       "      <td>0</td>\n",
       "      <td>0</td>\n",
       "      <td>0</td>\n",
       "      <td>0</td>\n",
       "      <td>1</td>\n",
       "      <td>0</td>\n",
       "      <td>0</td>\n",
       "    </tr>\n",
       "    <tr>\n",
       "      <th>4</th>\n",
       "      <td>False</td>\n",
       "      <td>False</td>\n",
       "      <td>False</td>\n",
       "      <td>True</td>\n",
       "      <td>70.70</td>\n",
       "      <td>0</td>\n",
       "      <td>61</td>\n",
       "      <td>0</td>\n",
       "      <td>0</td>\n",
       "      <td>0</td>\n",
       "      <td>0</td>\n",
       "      <td>1</td>\n",
       "      <td>0</td>\n",
       "      <td>0</td>\n",
       "      <td>0</td>\n",
       "      <td>1</td>\n",
       "      <td>0</td>\n",
       "    </tr>\n",
       "  </tbody>\n",
       "</table>\n",
       "</div>"
      ],
      "text/plain": [
       "   SeniorCitizen  Partner  Dependents  PaperlessBilling  MonthlyCharges  \\\n",
       "0          False     True       False              True           29.85   \n",
       "1          False    False       False             False           56.95   \n",
       "2          False    False       False              True           53.85   \n",
       "3          False    False       False             False           42.30   \n",
       "4          False    False       False              True           70.70   \n",
       "\n",
       "   СurrentСlient  LifeTime  IntServiceCount  Type_One year  Type_Two year  \\\n",
       "0              1        31                1              0              0   \n",
       "1              1      1036                2              1              0   \n",
       "2              0        61                2              0              0   \n",
       "3              1      1371                3              1              0   \n",
       "4              0        61                0              0              0   \n",
       "\n",
       "   PaymentMethod_Credit card (automatic)  PaymentMethod_Electronic check  \\\n",
       "0                                      0                               1   \n",
       "1                                      0                               0   \n",
       "2                                      0                               0   \n",
       "3                                      0                               0   \n",
       "4                                      0                               1   \n",
       "\n",
       "   PaymentMethod_Mailed check  MultipleLines_Yes  MultipleLines_disabled  \\\n",
       "0                           0                  0                       1   \n",
       "1                           1                  0                       0   \n",
       "2                           1                  0                       0   \n",
       "3                           0                  0                       1   \n",
       "4                           0                  0                       0   \n",
       "\n",
       "   InternetService_Fiber optic  InternetService_disabled  \n",
       "0                            0                         0  \n",
       "1                            0                         0  \n",
       "2                            0                         0  \n",
       "3                            0                         0  \n",
       "4                            1                         0  "
      ]
     },
     "execution_count": 51,
     "metadata": {},
     "output_type": "execute_result"
    }
   ],
   "source": [
    "full.head()"
   ]
  },
  {
   "cell_type": "markdown",
   "metadata": {},
   "source": [
    "#### Создание обучающей и тестовой выборок"
   ]
  },
  {
   "cell_type": "code",
   "execution_count": 52,
   "metadata": {},
   "outputs": [
    {
     "name": "stdout",
     "output_type": "stream",
     "text": [
      "Целевой признак отделен.\n",
      "Размер обучающей выборки: (5634, 16)\n",
      "Размер тестовой выборки: (1409, 16)\n"
     ]
    }
   ],
   "source": [
    "# Кодированные данные\n",
    "X = full.drop('СurrentСlient',axis=1)\n",
    "y = full['СurrentСlient']\n",
    "print('Целевой признак отделен.')\n",
    "X_train, X_test, y_train, y_test = train_test_split(X, y, test_size=0.2, random_state = RANDOM_STATE, stratify = y)\n",
    "print('Размер обучающей выборки:', X_train.shape)\n",
    "print('Размер тестовой выборки:', X_test.shape)"
   ]
  },
  {
   "cell_type": "code",
   "execution_count": 53,
   "metadata": {},
   "outputs": [
    {
     "name": "stdout",
     "output_type": "stream",
     "text": [
      "Целевой признак отделен.\n",
      "Размер обучающей выборки: (5634, 11)\n",
      "Размер тестовой выборки: (1409, 11)\n"
     ]
    }
   ],
   "source": [
    "# Некодированные данные\n",
    "X_cat = full_cat.drop('СurrentСlient',axis=1)\n",
    "y_cat = full_cat['СurrentСlient']\n",
    "print('Целевой признак отделен.')\n",
    "X_cat_train, X_cat_test, y_cat_train, y_cat_test = train_test_split(X_cat, y_cat, test_size=0.2, random_state = RANDOM_STATE, stratify = y_cat)\n",
    "print('Размер обучающей выборки:', X_cat_train.shape)\n",
    "print('Размер тестовой выборки:', X_cat_test.shape)"
   ]
  },
  {
   "cell_type": "markdown",
   "metadata": {},
   "source": [
    "#### Стандартизация признаков."
   ]
  },
  {
   "cell_type": "code",
   "execution_count": 54,
   "metadata": {},
   "outputs": [
    {
     "data": {
      "text/html": [
       "<div>\n",
       "<style scoped>\n",
       "    .dataframe tbody tr th:only-of-type {\n",
       "        vertical-align: middle;\n",
       "    }\n",
       "\n",
       "    .dataframe tbody tr th {\n",
       "        vertical-align: top;\n",
       "    }\n",
       "\n",
       "    .dataframe thead th {\n",
       "        text-align: right;\n",
       "    }\n",
       "</style>\n",
       "<table border=\"1\" class=\"dataframe\">\n",
       "  <thead>\n",
       "    <tr style=\"text-align: right;\">\n",
       "      <th></th>\n",
       "      <th>SeniorCitizen</th>\n",
       "      <th>Partner</th>\n",
       "      <th>Dependents</th>\n",
       "      <th>PaperlessBilling</th>\n",
       "      <th>MonthlyCharges</th>\n",
       "      <th>LifeTime</th>\n",
       "      <th>IntServiceCount</th>\n",
       "      <th>Type_One year</th>\n",
       "      <th>Type_Two year</th>\n",
       "      <th>PaymentMethod_Credit card (automatic)</th>\n",
       "      <th>PaymentMethod_Electronic check</th>\n",
       "      <th>PaymentMethod_Mailed check</th>\n",
       "      <th>MultipleLines_Yes</th>\n",
       "      <th>MultipleLines_disabled</th>\n",
       "      <th>InternetService_Fiber optic</th>\n",
       "      <th>InternetService_disabled</th>\n",
       "    </tr>\n",
       "  </thead>\n",
       "  <tbody>\n",
       "    <tr>\n",
       "      <th>2453</th>\n",
       "      <td>True</td>\n",
       "      <td>False</td>\n",
       "      <td>False</td>\n",
       "      <td>True</td>\n",
       "      <td>74.45</td>\n",
       "      <td>123</td>\n",
       "      <td>0</td>\n",
       "      <td>0</td>\n",
       "      <td>0</td>\n",
       "      <td>0</td>\n",
       "      <td>1</td>\n",
       "      <td>0</td>\n",
       "      <td>1</td>\n",
       "      <td>0</td>\n",
       "      <td>1</td>\n",
       "      <td>0</td>\n",
       "    </tr>\n",
       "    <tr>\n",
       "      <th>4211</th>\n",
       "      <td>True</td>\n",
       "      <td>False</td>\n",
       "      <td>False</td>\n",
       "      <td>True</td>\n",
       "      <td>102.95</td>\n",
       "      <td>730</td>\n",
       "      <td>4</td>\n",
       "      <td>0</td>\n",
       "      <td>0</td>\n",
       "      <td>1</td>\n",
       "      <td>0</td>\n",
       "      <td>0</td>\n",
       "      <td>1</td>\n",
       "      <td>0</td>\n",
       "      <td>1</td>\n",
       "      <td>0</td>\n",
       "    </tr>\n",
       "    <tr>\n",
       "      <th>633</th>\n",
       "      <td>False</td>\n",
       "      <td>False</td>\n",
       "      <td>False</td>\n",
       "      <td>False</td>\n",
       "      <td>20.35</td>\n",
       "      <td>306</td>\n",
       "      <td>0</td>\n",
       "      <td>1</td>\n",
       "      <td>0</td>\n",
       "      <td>0</td>\n",
       "      <td>0</td>\n",
       "      <td>1</td>\n",
       "      <td>0</td>\n",
       "      <td>0</td>\n",
       "      <td>0</td>\n",
       "      <td>1</td>\n",
       "    </tr>\n",
       "    <tr>\n",
       "      <th>2111</th>\n",
       "      <td>False</td>\n",
       "      <td>True</td>\n",
       "      <td>True</td>\n",
       "      <td>False</td>\n",
       "      <td>21.25</td>\n",
       "      <td>914</td>\n",
       "      <td>0</td>\n",
       "      <td>0</td>\n",
       "      <td>1</td>\n",
       "      <td>0</td>\n",
       "      <td>0</td>\n",
       "      <td>1</td>\n",
       "      <td>0</td>\n",
       "      <td>0</td>\n",
       "      <td>0</td>\n",
       "      <td>1</td>\n",
       "    </tr>\n",
       "    <tr>\n",
       "      <th>4703</th>\n",
       "      <td>True</td>\n",
       "      <td>True</td>\n",
       "      <td>False</td>\n",
       "      <td>True</td>\n",
       "      <td>78.85</td>\n",
       "      <td>730</td>\n",
       "      <td>1</td>\n",
       "      <td>0</td>\n",
       "      <td>0</td>\n",
       "      <td>0</td>\n",
       "      <td>1</td>\n",
       "      <td>0</td>\n",
       "      <td>1</td>\n",
       "      <td>0</td>\n",
       "      <td>1</td>\n",
       "      <td>0</td>\n",
       "    </tr>\n",
       "    <tr>\n",
       "      <th>...</th>\n",
       "      <td>...</td>\n",
       "      <td>...</td>\n",
       "      <td>...</td>\n",
       "      <td>...</td>\n",
       "      <td>...</td>\n",
       "      <td>...</td>\n",
       "      <td>...</td>\n",
       "      <td>...</td>\n",
       "      <td>...</td>\n",
       "      <td>...</td>\n",
       "      <td>...</td>\n",
       "      <td>...</td>\n",
       "      <td>...</td>\n",
       "      <td>...</td>\n",
       "      <td>...</td>\n",
       "      <td>...</td>\n",
       "    </tr>\n",
       "    <tr>\n",
       "      <th>3765</th>\n",
       "      <td>False</td>\n",
       "      <td>False</td>\n",
       "      <td>False</td>\n",
       "      <td>False</td>\n",
       "      <td>25.45</td>\n",
       "      <td>153</td>\n",
       "      <td>0</td>\n",
       "      <td>0</td>\n",
       "      <td>0</td>\n",
       "      <td>0</td>\n",
       "      <td>0</td>\n",
       "      <td>1</td>\n",
       "      <td>1</td>\n",
       "      <td>0</td>\n",
       "      <td>0</td>\n",
       "      <td>1</td>\n",
       "    </tr>\n",
       "    <tr>\n",
       "      <th>5495</th>\n",
       "      <td>False</td>\n",
       "      <td>False</td>\n",
       "      <td>False</td>\n",
       "      <td>True</td>\n",
       "      <td>73.85</td>\n",
       "      <td>335</td>\n",
       "      <td>1</td>\n",
       "      <td>0</td>\n",
       "      <td>0</td>\n",
       "      <td>0</td>\n",
       "      <td>1</td>\n",
       "      <td>0</td>\n",
       "      <td>0</td>\n",
       "      <td>0</td>\n",
       "      <td>1</td>\n",
       "      <td>0</td>\n",
       "    </tr>\n",
       "    <tr>\n",
       "      <th>3502</th>\n",
       "      <td>False</td>\n",
       "      <td>False</td>\n",
       "      <td>False</td>\n",
       "      <td>True</td>\n",
       "      <td>54.00</td>\n",
       "      <td>1340</td>\n",
       "      <td>4</td>\n",
       "      <td>1</td>\n",
       "      <td>0</td>\n",
       "      <td>0</td>\n",
       "      <td>1</td>\n",
       "      <td>0</td>\n",
       "      <td>0</td>\n",
       "      <td>1</td>\n",
       "      <td>0</td>\n",
       "      <td>0</td>\n",
       "    </tr>\n",
       "    <tr>\n",
       "      <th>4898</th>\n",
       "      <td>False</td>\n",
       "      <td>False</td>\n",
       "      <td>False</td>\n",
       "      <td>False</td>\n",
       "      <td>25.25</td>\n",
       "      <td>92</td>\n",
       "      <td>0</td>\n",
       "      <td>0</td>\n",
       "      <td>0</td>\n",
       "      <td>0</td>\n",
       "      <td>1</td>\n",
       "      <td>0</td>\n",
       "      <td>0</td>\n",
       "      <td>1</td>\n",
       "      <td>0</td>\n",
       "      <td>0</td>\n",
       "    </tr>\n",
       "    <tr>\n",
       "      <th>2504</th>\n",
       "      <td>False</td>\n",
       "      <td>False</td>\n",
       "      <td>False</td>\n",
       "      <td>True</td>\n",
       "      <td>75.70</td>\n",
       "      <td>61</td>\n",
       "      <td>1</td>\n",
       "      <td>0</td>\n",
       "      <td>0</td>\n",
       "      <td>0</td>\n",
       "      <td>1</td>\n",
       "      <td>0</td>\n",
       "      <td>0</td>\n",
       "      <td>0</td>\n",
       "      <td>1</td>\n",
       "      <td>0</td>\n",
       "    </tr>\n",
       "  </tbody>\n",
       "</table>\n",
       "<p>5634 rows × 16 columns</p>\n",
       "</div>"
      ],
      "text/plain": [
       "      SeniorCitizen  Partner  Dependents  PaperlessBilling  MonthlyCharges  \\\n",
       "2453           True    False       False              True           74.45   \n",
       "4211           True    False       False              True          102.95   \n",
       "633           False    False       False             False           20.35   \n",
       "2111          False     True        True             False           21.25   \n",
       "4703           True     True       False              True           78.85   \n",
       "...             ...      ...         ...               ...             ...   \n",
       "3765          False    False       False             False           25.45   \n",
       "5495          False    False       False              True           73.85   \n",
       "3502          False    False       False              True           54.00   \n",
       "4898          False    False       False             False           25.25   \n",
       "2504          False    False       False              True           75.70   \n",
       "\n",
       "      LifeTime  IntServiceCount  Type_One year  Type_Two year  \\\n",
       "2453       123                0              0              0   \n",
       "4211       730                4              0              0   \n",
       "633        306                0              1              0   \n",
       "2111       914                0              0              1   \n",
       "4703       730                1              0              0   \n",
       "...        ...              ...            ...            ...   \n",
       "3765       153                0              0              0   \n",
       "5495       335                1              0              0   \n",
       "3502      1340                4              1              0   \n",
       "4898        92                0              0              0   \n",
       "2504        61                1              0              0   \n",
       "\n",
       "      PaymentMethod_Credit card (automatic)  PaymentMethod_Electronic check  \\\n",
       "2453                                      0                               1   \n",
       "4211                                      1                               0   \n",
       "633                                       0                               0   \n",
       "2111                                      0                               0   \n",
       "4703                                      0                               1   \n",
       "...                                     ...                             ...   \n",
       "3765                                      0                               0   \n",
       "5495                                      0                               1   \n",
       "3502                                      0                               1   \n",
       "4898                                      0                               1   \n",
       "2504                                      0                               1   \n",
       "\n",
       "      PaymentMethod_Mailed check  MultipleLines_Yes  MultipleLines_disabled  \\\n",
       "2453                           0                  1                       0   \n",
       "4211                           0                  1                       0   \n",
       "633                            1                  0                       0   \n",
       "2111                           1                  0                       0   \n",
       "4703                           0                  1                       0   \n",
       "...                          ...                ...                     ...   \n",
       "3765                           1                  1                       0   \n",
       "5495                           0                  0                       0   \n",
       "3502                           0                  0                       1   \n",
       "4898                           0                  0                       1   \n",
       "2504                           0                  0                       0   \n",
       "\n",
       "      InternetService_Fiber optic  InternetService_disabled  \n",
       "2453                            1                         0  \n",
       "4211                            1                         0  \n",
       "633                             0                         1  \n",
       "2111                            0                         1  \n",
       "4703                            1                         0  \n",
       "...                           ...                       ...  \n",
       "3765                            0                         1  \n",
       "5495                            1                         0  \n",
       "3502                            0                         0  \n",
       "4898                            0                         0  \n",
       "2504                            1                         0  \n",
       "\n",
       "[5634 rows x 16 columns]"
      ]
     },
     "metadata": {},
     "output_type": "display_data"
    },
    {
     "data": {
      "text/html": [
       "<div>\n",
       "<style scoped>\n",
       "    .dataframe tbody tr th:only-of-type {\n",
       "        vertical-align: middle;\n",
       "    }\n",
       "\n",
       "    .dataframe tbody tr th {\n",
       "        vertical-align: top;\n",
       "    }\n",
       "\n",
       "    .dataframe thead th {\n",
       "        text-align: right;\n",
       "    }\n",
       "</style>\n",
       "<table border=\"1\" class=\"dataframe\">\n",
       "  <thead>\n",
       "    <tr style=\"text-align: right;\">\n",
       "      <th></th>\n",
       "      <th>SeniorCitizen</th>\n",
       "      <th>Partner</th>\n",
       "      <th>Dependents</th>\n",
       "      <th>Type</th>\n",
       "      <th>PaperlessBilling</th>\n",
       "      <th>PaymentMethod</th>\n",
       "      <th>MonthlyCharges</th>\n",
       "      <th>LifeTime</th>\n",
       "      <th>MultipleLines</th>\n",
       "      <th>InternetService</th>\n",
       "      <th>IntServiceCount</th>\n",
       "    </tr>\n",
       "  </thead>\n",
       "  <tbody>\n",
       "    <tr>\n",
       "      <th>2453</th>\n",
       "      <td>True</td>\n",
       "      <td>False</td>\n",
       "      <td>False</td>\n",
       "      <td>Month-to-month</td>\n",
       "      <td>True</td>\n",
       "      <td>Electronic check</td>\n",
       "      <td>74.45</td>\n",
       "      <td>123</td>\n",
       "      <td>Yes</td>\n",
       "      <td>Fiber optic</td>\n",
       "      <td>0</td>\n",
       "    </tr>\n",
       "    <tr>\n",
       "      <th>4211</th>\n",
       "      <td>True</td>\n",
       "      <td>False</td>\n",
       "      <td>False</td>\n",
       "      <td>Month-to-month</td>\n",
       "      <td>True</td>\n",
       "      <td>Credit card (automatic)</td>\n",
       "      <td>102.95</td>\n",
       "      <td>730</td>\n",
       "      <td>Yes</td>\n",
       "      <td>Fiber optic</td>\n",
       "      <td>4</td>\n",
       "    </tr>\n",
       "    <tr>\n",
       "      <th>633</th>\n",
       "      <td>False</td>\n",
       "      <td>False</td>\n",
       "      <td>False</td>\n",
       "      <td>One year</td>\n",
       "      <td>False</td>\n",
       "      <td>Mailed check</td>\n",
       "      <td>20.35</td>\n",
       "      <td>306</td>\n",
       "      <td>No</td>\n",
       "      <td>disabled</td>\n",
       "      <td>0</td>\n",
       "    </tr>\n",
       "    <tr>\n",
       "      <th>2111</th>\n",
       "      <td>False</td>\n",
       "      <td>True</td>\n",
       "      <td>True</td>\n",
       "      <td>Two year</td>\n",
       "      <td>False</td>\n",
       "      <td>Mailed check</td>\n",
       "      <td>21.25</td>\n",
       "      <td>914</td>\n",
       "      <td>No</td>\n",
       "      <td>disabled</td>\n",
       "      <td>0</td>\n",
       "    </tr>\n",
       "    <tr>\n",
       "      <th>4703</th>\n",
       "      <td>True</td>\n",
       "      <td>True</td>\n",
       "      <td>False</td>\n",
       "      <td>Month-to-month</td>\n",
       "      <td>True</td>\n",
       "      <td>Electronic check</td>\n",
       "      <td>78.85</td>\n",
       "      <td>730</td>\n",
       "      <td>Yes</td>\n",
       "      <td>Fiber optic</td>\n",
       "      <td>1</td>\n",
       "    </tr>\n",
       "    <tr>\n",
       "      <th>...</th>\n",
       "      <td>...</td>\n",
       "      <td>...</td>\n",
       "      <td>...</td>\n",
       "      <td>...</td>\n",
       "      <td>...</td>\n",
       "      <td>...</td>\n",
       "      <td>...</td>\n",
       "      <td>...</td>\n",
       "      <td>...</td>\n",
       "      <td>...</td>\n",
       "      <td>...</td>\n",
       "    </tr>\n",
       "    <tr>\n",
       "      <th>3765</th>\n",
       "      <td>False</td>\n",
       "      <td>False</td>\n",
       "      <td>False</td>\n",
       "      <td>Month-to-month</td>\n",
       "      <td>False</td>\n",
       "      <td>Mailed check</td>\n",
       "      <td>25.45</td>\n",
       "      <td>153</td>\n",
       "      <td>Yes</td>\n",
       "      <td>disabled</td>\n",
       "      <td>0</td>\n",
       "    </tr>\n",
       "    <tr>\n",
       "      <th>5495</th>\n",
       "      <td>False</td>\n",
       "      <td>False</td>\n",
       "      <td>False</td>\n",
       "      <td>Month-to-month</td>\n",
       "      <td>True</td>\n",
       "      <td>Electronic check</td>\n",
       "      <td>73.85</td>\n",
       "      <td>335</td>\n",
       "      <td>No</td>\n",
       "      <td>Fiber optic</td>\n",
       "      <td>1</td>\n",
       "    </tr>\n",
       "    <tr>\n",
       "      <th>3502</th>\n",
       "      <td>False</td>\n",
       "      <td>False</td>\n",
       "      <td>False</td>\n",
       "      <td>One year</td>\n",
       "      <td>True</td>\n",
       "      <td>Electronic check</td>\n",
       "      <td>54.00</td>\n",
       "      <td>1340</td>\n",
       "      <td>disabled</td>\n",
       "      <td>DSL</td>\n",
       "      <td>4</td>\n",
       "    </tr>\n",
       "    <tr>\n",
       "      <th>4898</th>\n",
       "      <td>False</td>\n",
       "      <td>False</td>\n",
       "      <td>False</td>\n",
       "      <td>Month-to-month</td>\n",
       "      <td>False</td>\n",
       "      <td>Electronic check</td>\n",
       "      <td>25.25</td>\n",
       "      <td>92</td>\n",
       "      <td>disabled</td>\n",
       "      <td>DSL</td>\n",
       "      <td>0</td>\n",
       "    </tr>\n",
       "    <tr>\n",
       "      <th>2504</th>\n",
       "      <td>False</td>\n",
       "      <td>False</td>\n",
       "      <td>False</td>\n",
       "      <td>Month-to-month</td>\n",
       "      <td>True</td>\n",
       "      <td>Electronic check</td>\n",
       "      <td>75.70</td>\n",
       "      <td>61</td>\n",
       "      <td>No</td>\n",
       "      <td>Fiber optic</td>\n",
       "      <td>1</td>\n",
       "    </tr>\n",
       "  </tbody>\n",
       "</table>\n",
       "<p>5634 rows × 11 columns</p>\n",
       "</div>"
      ],
      "text/plain": [
       "      SeniorCitizen  Partner  Dependents            Type  PaperlessBilling  \\\n",
       "2453           True    False       False  Month-to-month              True   \n",
       "4211           True    False       False  Month-to-month              True   \n",
       "633           False    False       False        One year             False   \n",
       "2111          False     True        True        Two year             False   \n",
       "4703           True     True       False  Month-to-month              True   \n",
       "...             ...      ...         ...             ...               ...   \n",
       "3765          False    False       False  Month-to-month             False   \n",
       "5495          False    False       False  Month-to-month              True   \n",
       "3502          False    False       False        One year              True   \n",
       "4898          False    False       False  Month-to-month             False   \n",
       "2504          False    False       False  Month-to-month              True   \n",
       "\n",
       "                PaymentMethod  MonthlyCharges  LifeTime MultipleLines  \\\n",
       "2453         Electronic check           74.45       123           Yes   \n",
       "4211  Credit card (automatic)          102.95       730           Yes   \n",
       "633              Mailed check           20.35       306            No   \n",
       "2111             Mailed check           21.25       914            No   \n",
       "4703         Electronic check           78.85       730           Yes   \n",
       "...                       ...             ...       ...           ...   \n",
       "3765             Mailed check           25.45       153           Yes   \n",
       "5495         Electronic check           73.85       335            No   \n",
       "3502         Electronic check           54.00      1340      disabled   \n",
       "4898         Electronic check           25.25        92      disabled   \n",
       "2504         Electronic check           75.70        61            No   \n",
       "\n",
       "     InternetService  IntServiceCount  \n",
       "2453     Fiber optic                0  \n",
       "4211     Fiber optic                4  \n",
       "633         disabled                0  \n",
       "2111        disabled                0  \n",
       "4703     Fiber optic                1  \n",
       "...              ...              ...  \n",
       "3765        disabled                0  \n",
       "5495     Fiber optic                1  \n",
       "3502             DSL                4  \n",
       "4898             DSL                0  \n",
       "2504     Fiber optic                1  \n",
       "\n",
       "[5634 rows x 11 columns]"
      ]
     },
     "metadata": {},
     "output_type": "display_data"
    },
    {
     "data": {
      "text/plain": [
       "['MonthlyCharges', 'LifeTime', 'IntServiceCount']"
      ]
     },
     "metadata": {},
     "output_type": "display_data"
    }
   ],
   "source": [
    "display(X_train, X_cat_train, num_features)\n"
   ]
  },
  {
   "cell_type": "code",
   "execution_count": 55,
   "metadata": {},
   "outputs": [
    {
     "name": "stdout",
     "output_type": "stream",
     "text": [
      "Признаки кодированного датасета стандартизированы.\n"
     ]
    },
    {
     "data": {
      "text/html": [
       "<div>\n",
       "<style scoped>\n",
       "    .dataframe tbody tr th:only-of-type {\n",
       "        vertical-align: middle;\n",
       "    }\n",
       "\n",
       "    .dataframe tbody tr th {\n",
       "        vertical-align: top;\n",
       "    }\n",
       "\n",
       "    .dataframe thead th {\n",
       "        text-align: right;\n",
       "    }\n",
       "</style>\n",
       "<table border=\"1\" class=\"dataframe\">\n",
       "  <thead>\n",
       "    <tr style=\"text-align: right;\">\n",
       "      <th></th>\n",
       "      <th>SeniorCitizen</th>\n",
       "      <th>Partner</th>\n",
       "      <th>Dependents</th>\n",
       "      <th>PaperlessBilling</th>\n",
       "      <th>MonthlyCharges</th>\n",
       "      <th>LifeTime</th>\n",
       "      <th>IntServiceCount</th>\n",
       "      <th>Type_One year</th>\n",
       "      <th>Type_Two year</th>\n",
       "      <th>PaymentMethod_Credit card (automatic)</th>\n",
       "      <th>PaymentMethod_Electronic check</th>\n",
       "      <th>PaymentMethod_Mailed check</th>\n",
       "      <th>MultipleLines_Yes</th>\n",
       "      <th>MultipleLines_disabled</th>\n",
       "      <th>InternetService_Fiber optic</th>\n",
       "      <th>InternetService_disabled</th>\n",
       "    </tr>\n",
       "  </thead>\n",
       "  <tbody>\n",
       "    <tr>\n",
       "      <th>2453</th>\n",
       "      <td>True</td>\n",
       "      <td>False</td>\n",
       "      <td>False</td>\n",
       "      <td>True</td>\n",
       "      <td>0.327815</td>\n",
       "      <td>-1.158865</td>\n",
       "      <td>-1.105974</td>\n",
       "      <td>0</td>\n",
       "      <td>0</td>\n",
       "      <td>0</td>\n",
       "      <td>1</td>\n",
       "      <td>0</td>\n",
       "      <td>1</td>\n",
       "      <td>0</td>\n",
       "      <td>1</td>\n",
       "      <td>0</td>\n",
       "    </tr>\n",
       "    <tr>\n",
       "      <th>4211</th>\n",
       "      <td>True</td>\n",
       "      <td>False</td>\n",
       "      <td>False</td>\n",
       "      <td>True</td>\n",
       "      <td>1.277819</td>\n",
       "      <td>-0.347100</td>\n",
       "      <td>1.063237</td>\n",
       "      <td>0</td>\n",
       "      <td>0</td>\n",
       "      <td>1</td>\n",
       "      <td>0</td>\n",
       "      <td>0</td>\n",
       "      <td>1</td>\n",
       "      <td>0</td>\n",
       "      <td>1</td>\n",
       "      <td>0</td>\n",
       "    </tr>\n",
       "    <tr>\n",
       "      <th>633</th>\n",
       "      <td>False</td>\n",
       "      <td>False</td>\n",
       "      <td>False</td>\n",
       "      <td>False</td>\n",
       "      <td>-1.475526</td>\n",
       "      <td>-0.914132</td>\n",
       "      <td>-1.105974</td>\n",
       "      <td>1</td>\n",
       "      <td>0</td>\n",
       "      <td>0</td>\n",
       "      <td>0</td>\n",
       "      <td>1</td>\n",
       "      <td>0</td>\n",
       "      <td>0</td>\n",
       "      <td>0</td>\n",
       "      <td>1</td>\n",
       "    </tr>\n",
       "    <tr>\n",
       "      <th>2111</th>\n",
       "      <td>False</td>\n",
       "      <td>True</td>\n",
       "      <td>True</td>\n",
       "      <td>False</td>\n",
       "      <td>-1.445526</td>\n",
       "      <td>-0.101030</td>\n",
       "      <td>-1.105974</td>\n",
       "      <td>0</td>\n",
       "      <td>1</td>\n",
       "      <td>0</td>\n",
       "      <td>0</td>\n",
       "      <td>1</td>\n",
       "      <td>0</td>\n",
       "      <td>0</td>\n",
       "      <td>0</td>\n",
       "      <td>1</td>\n",
       "    </tr>\n",
       "    <tr>\n",
       "      <th>4703</th>\n",
       "      <td>True</td>\n",
       "      <td>True</td>\n",
       "      <td>False</td>\n",
       "      <td>True</td>\n",
       "      <td>0.474483</td>\n",
       "      <td>-0.347100</td>\n",
       "      <td>-0.563671</td>\n",
       "      <td>0</td>\n",
       "      <td>0</td>\n",
       "      <td>0</td>\n",
       "      <td>1</td>\n",
       "      <td>0</td>\n",
       "      <td>1</td>\n",
       "      <td>0</td>\n",
       "      <td>1</td>\n",
       "      <td>0</td>\n",
       "    </tr>\n",
       "  </tbody>\n",
       "</table>\n",
       "</div>"
      ],
      "text/plain": [
       "      SeniorCitizen  Partner  Dependents  PaperlessBilling  MonthlyCharges  \\\n",
       "2453           True    False       False              True        0.327815   \n",
       "4211           True    False       False              True        1.277819   \n",
       "633           False    False       False             False       -1.475526   \n",
       "2111          False     True        True             False       -1.445526   \n",
       "4703           True     True       False              True        0.474483   \n",
       "\n",
       "      LifeTime  IntServiceCount  Type_One year  Type_Two year  \\\n",
       "2453 -1.158865        -1.105974              0              0   \n",
       "4211 -0.347100         1.063237              0              0   \n",
       "633  -0.914132        -1.105974              1              0   \n",
       "2111 -0.101030        -1.105974              0              1   \n",
       "4703 -0.347100        -0.563671              0              0   \n",
       "\n",
       "      PaymentMethod_Credit card (automatic)  PaymentMethod_Electronic check  \\\n",
       "2453                                      0                               1   \n",
       "4211                                      1                               0   \n",
       "633                                       0                               0   \n",
       "2111                                      0                               0   \n",
       "4703                                      0                               1   \n",
       "\n",
       "      PaymentMethod_Mailed check  MultipleLines_Yes  MultipleLines_disabled  \\\n",
       "2453                           0                  1                       0   \n",
       "4211                           0                  1                       0   \n",
       "633                            1                  0                       0   \n",
       "2111                           1                  0                       0   \n",
       "4703                           0                  1                       0   \n",
       "\n",
       "      InternetService_Fiber optic  InternetService_disabled  \n",
       "2453                            1                         0  \n",
       "4211                            1                         0  \n",
       "633                             0                         1  \n",
       "2111                            0                         1  \n",
       "4703                            1                         0  "
      ]
     },
     "metadata": {},
     "output_type": "display_data"
    }
   ],
   "source": [
    "# Кодированные данные\n",
    "Scaler = StandardScaler()\n",
    "X_train[num_features] = Scaler.fit_transform(X_train[num_features])\n",
    "X_test[num_features] = Scaler.transform(X_test[num_features])\n",
    "print('Признаки кодированного датасета стандартизированы.')\n",
    "display(X_train.head())"
   ]
  },
  {
   "cell_type": "code",
   "execution_count": 56,
   "metadata": {},
   "outputs": [
    {
     "name": "stdout",
     "output_type": "stream",
     "text": [
      "Признаки некодированного датасета стандартизированы.\n"
     ]
    },
    {
     "data": {
      "text/html": [
       "<div>\n",
       "<style scoped>\n",
       "    .dataframe tbody tr th:only-of-type {\n",
       "        vertical-align: middle;\n",
       "    }\n",
       "\n",
       "    .dataframe tbody tr th {\n",
       "        vertical-align: top;\n",
       "    }\n",
       "\n",
       "    .dataframe thead th {\n",
       "        text-align: right;\n",
       "    }\n",
       "</style>\n",
       "<table border=\"1\" class=\"dataframe\">\n",
       "  <thead>\n",
       "    <tr style=\"text-align: right;\">\n",
       "      <th></th>\n",
       "      <th>SeniorCitizen</th>\n",
       "      <th>Partner</th>\n",
       "      <th>Dependents</th>\n",
       "      <th>Type</th>\n",
       "      <th>PaperlessBilling</th>\n",
       "      <th>PaymentMethod</th>\n",
       "      <th>MonthlyCharges</th>\n",
       "      <th>LifeTime</th>\n",
       "      <th>MultipleLines</th>\n",
       "      <th>InternetService</th>\n",
       "      <th>IntServiceCount</th>\n",
       "    </tr>\n",
       "  </thead>\n",
       "  <tbody>\n",
       "    <tr>\n",
       "      <th>2453</th>\n",
       "      <td>True</td>\n",
       "      <td>False</td>\n",
       "      <td>False</td>\n",
       "      <td>Month-to-month</td>\n",
       "      <td>True</td>\n",
       "      <td>Electronic check</td>\n",
       "      <td>0.327815</td>\n",
       "      <td>-1.158865</td>\n",
       "      <td>Yes</td>\n",
       "      <td>Fiber optic</td>\n",
       "      <td>-1.105974</td>\n",
       "    </tr>\n",
       "    <tr>\n",
       "      <th>4211</th>\n",
       "      <td>True</td>\n",
       "      <td>False</td>\n",
       "      <td>False</td>\n",
       "      <td>Month-to-month</td>\n",
       "      <td>True</td>\n",
       "      <td>Credit card (automatic)</td>\n",
       "      <td>1.277819</td>\n",
       "      <td>-0.347100</td>\n",
       "      <td>Yes</td>\n",
       "      <td>Fiber optic</td>\n",
       "      <td>1.063237</td>\n",
       "    </tr>\n",
       "    <tr>\n",
       "      <th>633</th>\n",
       "      <td>False</td>\n",
       "      <td>False</td>\n",
       "      <td>False</td>\n",
       "      <td>One year</td>\n",
       "      <td>False</td>\n",
       "      <td>Mailed check</td>\n",
       "      <td>-1.475526</td>\n",
       "      <td>-0.914132</td>\n",
       "      <td>No</td>\n",
       "      <td>disabled</td>\n",
       "      <td>-1.105974</td>\n",
       "    </tr>\n",
       "    <tr>\n",
       "      <th>2111</th>\n",
       "      <td>False</td>\n",
       "      <td>True</td>\n",
       "      <td>True</td>\n",
       "      <td>Two year</td>\n",
       "      <td>False</td>\n",
       "      <td>Mailed check</td>\n",
       "      <td>-1.445526</td>\n",
       "      <td>-0.101030</td>\n",
       "      <td>No</td>\n",
       "      <td>disabled</td>\n",
       "      <td>-1.105974</td>\n",
       "    </tr>\n",
       "    <tr>\n",
       "      <th>4703</th>\n",
       "      <td>True</td>\n",
       "      <td>True</td>\n",
       "      <td>False</td>\n",
       "      <td>Month-to-month</td>\n",
       "      <td>True</td>\n",
       "      <td>Electronic check</td>\n",
       "      <td>0.474483</td>\n",
       "      <td>-0.347100</td>\n",
       "      <td>Yes</td>\n",
       "      <td>Fiber optic</td>\n",
       "      <td>-0.563671</td>\n",
       "    </tr>\n",
       "  </tbody>\n",
       "</table>\n",
       "</div>"
      ],
      "text/plain": [
       "      SeniorCitizen  Partner  Dependents            Type  PaperlessBilling  \\\n",
       "2453           True    False       False  Month-to-month              True   \n",
       "4211           True    False       False  Month-to-month              True   \n",
       "633           False    False       False        One year             False   \n",
       "2111          False     True        True        Two year             False   \n",
       "4703           True     True       False  Month-to-month              True   \n",
       "\n",
       "                PaymentMethod  MonthlyCharges  LifeTime MultipleLines  \\\n",
       "2453         Electronic check        0.327815 -1.158865           Yes   \n",
       "4211  Credit card (automatic)        1.277819 -0.347100           Yes   \n",
       "633              Mailed check       -1.475526 -0.914132            No   \n",
       "2111             Mailed check       -1.445526 -0.101030            No   \n",
       "4703         Electronic check        0.474483 -0.347100           Yes   \n",
       "\n",
       "     InternetService  IntServiceCount  \n",
       "2453     Fiber optic        -1.105974  \n",
       "4211     Fiber optic         1.063237  \n",
       "633         disabled        -1.105974  \n",
       "2111        disabled        -1.105974  \n",
       "4703     Fiber optic        -0.563671  "
      ]
     },
     "metadata": {},
     "output_type": "display_data"
    }
   ],
   "source": [
    "# Некодированные данные\n",
    "Scaler = StandardScaler()\n",
    "X_cat_train[num_features] = Scaler.fit_transform(X_cat_train[num_features])\n",
    "X_cat_test[num_features] = Scaler.transform(X_cat_test[num_features])\n",
    "print('Признаки некодированного датасета стандартизированы.')\n",
    "display(X_cat_train.head())"
   ]
  },
  {
   "cell_type": "markdown",
   "metadata": {},
   "source": [
    "### Обучение и тестирование моделей."
   ]
  },
  {
   "cell_type": "code",
   "execution_count": 57,
   "metadata": {},
   "outputs": [],
   "source": [
    "# Вывод параметров модели\n",
    "def print_basic_metrics(target_valid, predicted_valid, model, features_valid, model_name, roc_auc_train, acc_train):\n",
    "    accuracy = accuracy_score(target_valid,predicted_valid)\n",
    "    roc_auc = roc_auc_score(target_valid,model.predict_proba(features_valid)[::,1])\n",
    "    recall = recall_score(target_valid,predicted_valid)\n",
    "    precision = precision_score(target_valid,predicted_valid)    \n",
    "    print()\n",
    "    print('\\033[1m'+'Метрики для модели '+model_name+' (на тестовых данных)'+'\\033[0m')\n",
    "    print()\n",
    "    print(f\"Значение меры auc roc = {roc_auc:.5f}\")\n",
    "    print(f\"Значение меры accuracy = {accuracy:.5f}\")\n",
    "    print(f\"Значение меры recall = {recall:.5f}\")\n",
    "    print(f\"Значение меры precision = {precision:.5f}\")\n",
    "    return accuracy, recall, precision, roc_auc"
   ]
  },
  {
   "cell_type": "code",
   "execution_count": 58,
   "metadata": {},
   "outputs": [
    {
     "name": "stdout",
     "output_type": "stream",
     "text": [
      "Датасет для сравнения моделей успешно создан\n"
     ]
    }
   ],
   "source": [
    "# Добавление параметров лучшей модели в датасет для сравнения лучших\n",
    "def add_to_model_types_compare(mtc,mod_name,roc_auc_train,roc_auc_test,time, acc_train, acc_test):\n",
    "    mtc = mtc.append({'model_name':mod_name,\n",
    "                      'acc (train)':acc_train,\n",
    "                      'acc (test)':acc_test,\n",
    "                      'ROC AUC (train)':roc_auc_train,\n",
    "                      'ROC AUC (test)':roc_auc_test,\n",
    "                      'fit time':time},ignore_index = True)\n",
    "    display(mtc)\n",
    "    return mtc\n",
    "model_types_compare = pd.DataFrame()\n",
    "print('Датасет для сравнения моделей успешно создан')"
   ]
  },
  {
   "cell_type": "code",
   "execution_count": 59,
   "metadata": {},
   "outputs": [],
   "source": [
    "# Подбор гиперпараметров и выбор лучшей модели\n",
    "def find_best_model(model, \n",
    "                    params, \n",
    "                    features_train, \n",
    "                    target_train, \n",
    "                    features_test, \n",
    "                    target_test, \n",
    "                    mtc, \n",
    "                    mod_name, \n",
    "                    mod_lib, \n",
    "                    cat_features):\n",
    "    \n",
    "    grd = GridSearchCV(estimator = model, param_grid = params, \n",
    "                               cv = 5, n_jobs = -1, scoring = 'roc_auc')\n",
    "    if mod_lib == 'CB':\n",
    "        grd.fit(features_train, target_train,cat_features = cat_features)\n",
    "    elif mod_lib == 'SL':\n",
    "        grd.fit(features_train, target_train)\n",
    "    elif mod_lib == 'LGBM':\n",
    "        grd.fit(features_train, target_train,categorical_feature = 'auto')\n",
    "    bp = grd.best_params_\n",
    "    est = grd.best_estimator_\n",
    "    \n",
    "    pred = est.predict(features_test)\n",
    "    train_pred = est.predict(features_train)\n",
    "    \n",
    "    train_score = roc_auc_score(target_train,est.predict_proba(features_train)[::,1])\n",
    "    test_score = roc_auc_score(target_test,est.predict_proba(features_test)[::,1])\n",
    "    time = grd.refit_time_\n",
    "    acc_train = accuracy_score(target_train,train_pred)\n",
    "    acc_test = accuracy_score(target_test,pred)\n",
    "    \n",
    "    mtc = add_to_model_types_compare(mtc,mod_name,train_score,test_score,time,acc_train,acc_test)\n",
    "    print_basic_metrics(target_test, pred, est, features_test,mod_name,train_score,acc_train)\n",
    "    print('Параметры лучшей модели:')\n",
    "    print(grd.best_params_)\n",
    "    return mtc, est, bp"
   ]
  },
  {
   "cell_type": "markdown",
   "metadata": {},
   "source": [
    "#### Константная модель"
   ]
  },
  {
   "cell_type": "code",
   "execution_count": 60,
   "metadata": {},
   "outputs": [
    {
     "name": "stdout",
     "output_type": "stream",
     "text": [
      "\u001b[1mМетрики для константной модели \u001b[0m\n",
      "\n",
      "Значение меры auc roc = 0.50000\n",
      "Значение меры accuracy = 0.73463\n"
     ]
    }
   ],
   "source": [
    "pred_bl = [1] * y.shape[0]\n",
    "roc_auc_bl = roc_auc_score(y.values, pred_bl)\n",
    "accuracy_bl = accuracy_score(y.values, pred_bl)\n",
    "print('\\033[1m'+'Метрики для константной модели '+'\\033[0m')\n",
    "print()\n",
    "print(f\"Значение меры auc roc = {roc_auc_bl:.5f}\")\n",
    "print(f\"Значение меры accuracy = {accuracy_bl:.5f}\")"
   ]
  },
  {
   "cell_type": "markdown",
   "metadata": {},
   "source": [
    "#### Дерево решений"
   ]
  },
  {
   "cell_type": "code",
   "execution_count": 61,
   "metadata": {},
   "outputs": [
    {
     "data": {
      "text/html": [
       "<div>\n",
       "<style scoped>\n",
       "    .dataframe tbody tr th:only-of-type {\n",
       "        vertical-align: middle;\n",
       "    }\n",
       "\n",
       "    .dataframe tbody tr th {\n",
       "        vertical-align: top;\n",
       "    }\n",
       "\n",
       "    .dataframe thead th {\n",
       "        text-align: right;\n",
       "    }\n",
       "</style>\n",
       "<table border=\"1\" class=\"dataframe\">\n",
       "  <thead>\n",
       "    <tr style=\"text-align: right;\">\n",
       "      <th></th>\n",
       "      <th>ROC AUC (test)</th>\n",
       "      <th>ROC AUC (train)</th>\n",
       "      <th>acc (test)</th>\n",
       "      <th>acc (train)</th>\n",
       "      <th>fit time</th>\n",
       "      <th>model_name</th>\n",
       "    </tr>\n",
       "  </thead>\n",
       "  <tbody>\n",
       "    <tr>\n",
       "      <th>0</th>\n",
       "      <td>0.862795</td>\n",
       "      <td>0.872742</td>\n",
       "      <td>0.823989</td>\n",
       "      <td>0.824281</td>\n",
       "      <td>0.013037</td>\n",
       "      <td>DecisionTree</td>\n",
       "    </tr>\n",
       "  </tbody>\n",
       "</table>\n",
       "</div>"
      ],
      "text/plain": [
       "   ROC AUC (test)  ROC AUC (train)  acc (test)  acc (train)  fit time  \\\n",
       "0        0.862795         0.872742    0.823989     0.824281  0.013037   \n",
       "\n",
       "     model_name  \n",
       "0  DecisionTree  "
      ]
     },
     "metadata": {},
     "output_type": "display_data"
    },
    {
     "name": "stdout",
     "output_type": "stream",
     "text": [
      "\n",
      "\u001b[1mМетрики для модели DecisionTree (на тестовых данных)\u001b[0m\n",
      "\n",
      "Значение меры auc roc = 0.86280\n",
      "Значение меры accuracy = 0.82399\n",
      "Значение меры recall = 0.92560\n",
      "Значение меры precision = 0.84854\n",
      "Параметры лучшей модели:\n",
      "{'class_weight': None, 'max_depth': 6, 'random_state': 19612}\n",
      "CPU times: user 9.77 s, sys: 18.3 ms, total: 9.79 s\n",
      "Wall time: 9.8 s\n"
     ]
    }
   ],
   "source": [
    "%%time\n",
    "dec_tree = DecisionTreeClassifier()\n",
    "depth_list = [i for i in range(1,50)]\n",
    "params = {'max_depth':depth_list,'random_state':[RANDOM_STATE],'class_weight':[None,'balanced']}\n",
    "model_types_compare, best_DT, best_DT_BP = find_best_model(dec_tree,params,\n",
    "                                                           X_train,\n",
    "                                                           y_train,\n",
    "                                                           X_test,\n",
    "                                                           y_test,\n",
    "                                                           model_types_compare,\n",
    "                                                           'DecisionTree',\n",
    "                                                           'SL',\n",
    "                                                           [])"
   ]
  },
  {
   "cell_type": "markdown",
   "metadata": {},
   "source": [
    "#### Случайный лес"
   ]
  },
  {
   "cell_type": "code",
   "execution_count": 62,
   "metadata": {},
   "outputs": [
    {
     "data": {
      "text/html": [
       "<div>\n",
       "<style scoped>\n",
       "    .dataframe tbody tr th:only-of-type {\n",
       "        vertical-align: middle;\n",
       "    }\n",
       "\n",
       "    .dataframe tbody tr th {\n",
       "        vertical-align: top;\n",
       "    }\n",
       "\n",
       "    .dataframe thead th {\n",
       "        text-align: right;\n",
       "    }\n",
       "</style>\n",
       "<table border=\"1\" class=\"dataframe\">\n",
       "  <thead>\n",
       "    <tr style=\"text-align: right;\">\n",
       "      <th></th>\n",
       "      <th>ROC AUC (test)</th>\n",
       "      <th>ROC AUC (train)</th>\n",
       "      <th>acc (test)</th>\n",
       "      <th>acc (train)</th>\n",
       "      <th>fit time</th>\n",
       "      <th>model_name</th>\n",
       "    </tr>\n",
       "  </thead>\n",
       "  <tbody>\n",
       "    <tr>\n",
       "      <th>0</th>\n",
       "      <td>0.862795</td>\n",
       "      <td>0.872742</td>\n",
       "      <td>0.823989</td>\n",
       "      <td>0.824281</td>\n",
       "      <td>0.013037</td>\n",
       "      <td>DecisionTree</td>\n",
       "    </tr>\n",
       "    <tr>\n",
       "      <th>1</th>\n",
       "      <td>0.864344</td>\n",
       "      <td>0.907976</td>\n",
       "      <td>0.826118</td>\n",
       "      <td>0.837593</td>\n",
       "      <td>0.212811</td>\n",
       "      <td>RandomForest</td>\n",
       "    </tr>\n",
       "  </tbody>\n",
       "</table>\n",
       "</div>"
      ],
      "text/plain": [
       "   ROC AUC (test)  ROC AUC (train)  acc (test)  acc (train)  fit time  \\\n",
       "0        0.862795         0.872742    0.823989     0.824281  0.013037   \n",
       "1        0.864344         0.907976    0.826118     0.837593  0.212811   \n",
       "\n",
       "     model_name  \n",
       "0  DecisionTree  \n",
       "1  RandomForest  "
      ]
     },
     "metadata": {},
     "output_type": "display_data"
    },
    {
     "name": "stdout",
     "output_type": "stream",
     "text": [
      "\n",
      "\u001b[1mМетрики для модели RandomForest (на тестовых данных)\u001b[0m\n",
      "\n",
      "Значение меры auc roc = 0.86434\n",
      "Значение меры accuracy = 0.82612\n",
      "Значение меры recall = 0.92271\n",
      "Значение меры precision = 0.85268\n",
      "Параметры лучшей модели:\n",
      "{'class_weight': None, 'max_depth': 8, 'n_estimators': 65, 'random_state': 19612}\n",
      "CPU times: user 1min 39s, sys: 511 ms, total: 1min 39s\n",
      "Wall time: 1min 39s\n"
     ]
    }
   ],
   "source": [
    "%%time\n",
    "random_forest = RandomForestClassifier()\n",
    "depth_list = [i for i in range(2,12)]\n",
    "estim_list = [i for i in range(45,75,5)]\n",
    "params = {'max_depth':depth_list,'n_estimators':estim_list,'random_state':[RANDOM_STATE],'class_weight':[None,'balanced']}\n",
    "model_types_compare,best_RF,best_RF_BP = find_best_model(random_forest,\n",
    "                                                         params,\n",
    "                                                         X_train,\n",
    "                                                         y_train,\n",
    "                                                         X_test,\n",
    "                                                         y_test,\n",
    "                                                         model_types_compare,\n",
    "                                                         'RandomForest',\n",
    "                                                         'SL',\n",
    "                                                         [])"
   ]
  },
  {
   "cell_type": "markdown",
   "metadata": {},
   "source": [
    "#### Логистическая регрессия"
   ]
  },
  {
   "cell_type": "code",
   "execution_count": 63,
   "metadata": {},
   "outputs": [
    {
     "data": {
      "text/html": [
       "<div>\n",
       "<style scoped>\n",
       "    .dataframe tbody tr th:only-of-type {\n",
       "        vertical-align: middle;\n",
       "    }\n",
       "\n",
       "    .dataframe tbody tr th {\n",
       "        vertical-align: top;\n",
       "    }\n",
       "\n",
       "    .dataframe thead th {\n",
       "        text-align: right;\n",
       "    }\n",
       "</style>\n",
       "<table border=\"1\" class=\"dataframe\">\n",
       "  <thead>\n",
       "    <tr style=\"text-align: right;\">\n",
       "      <th></th>\n",
       "      <th>ROC AUC (test)</th>\n",
       "      <th>ROC AUC (train)</th>\n",
       "      <th>acc (test)</th>\n",
       "      <th>acc (train)</th>\n",
       "      <th>fit time</th>\n",
       "      <th>model_name</th>\n",
       "    </tr>\n",
       "  </thead>\n",
       "  <tbody>\n",
       "    <tr>\n",
       "      <th>0</th>\n",
       "      <td>0.862795</td>\n",
       "      <td>0.872742</td>\n",
       "      <td>0.823989</td>\n",
       "      <td>0.824281</td>\n",
       "      <td>0.013037</td>\n",
       "      <td>DecisionTree</td>\n",
       "    </tr>\n",
       "    <tr>\n",
       "      <th>1</th>\n",
       "      <td>0.864344</td>\n",
       "      <td>0.907976</td>\n",
       "      <td>0.826118</td>\n",
       "      <td>0.837593</td>\n",
       "      <td>0.212811</td>\n",
       "      <td>RandomForest</td>\n",
       "    </tr>\n",
       "    <tr>\n",
       "      <th>2</th>\n",
       "      <td>0.844807</td>\n",
       "      <td>0.844293</td>\n",
       "      <td>0.811214</td>\n",
       "      <td>0.802804</td>\n",
       "      <td>0.495518</td>\n",
       "      <td>LogisticRegression</td>\n",
       "    </tr>\n",
       "  </tbody>\n",
       "</table>\n",
       "</div>"
      ],
      "text/plain": [
       "   ROC AUC (test)  ROC AUC (train)  acc (test)  acc (train)  fit time  \\\n",
       "0        0.862795         0.872742    0.823989     0.824281  0.013037   \n",
       "1        0.864344         0.907976    0.826118     0.837593  0.212811   \n",
       "2        0.844807         0.844293    0.811214     0.802804  0.495518   \n",
       "\n",
       "           model_name  \n",
       "0        DecisionTree  \n",
       "1        RandomForest  \n",
       "2  LogisticRegression  "
      ]
     },
     "metadata": {},
     "output_type": "display_data"
    },
    {
     "name": "stdout",
     "output_type": "stream",
     "text": [
      "\n",
      "\u001b[1mМетрики для модели LogisticRegression (на тестовых данных)\u001b[0m\n",
      "\n",
      "Значение меры auc roc = 0.84481\n",
      "Значение меры accuracy = 0.81121\n",
      "Значение меры recall = 0.89758\n",
      "Значение меры precision = 0.85308\n",
      "Параметры лучшей модели:\n",
      "{'C': 65, 'class_weight': None, 'penalty': 'l2', 'random_state': 19612}\n",
      "CPU times: user 27.4 s, sys: 38.4 s, total: 1min 5s\n",
      "Wall time: 1min 6s\n"
     ]
    }
   ],
   "source": [
    "%%time\n",
    "LogReg = LogisticRegression()\n",
    "params = {'penalty':['l1','l2'],'C':[35,36,37,38,39,40,45,50,55,60,65,70],'random_state':[RANDOM_STATE],'class_weight':[None,'balanced']}\n",
    "model_types_compare,best_LR,best_LR_BP = find_best_model(LogReg,\n",
    "                                                         params,\n",
    "                                                         X_train,\n",
    "                                                         y_train,\n",
    "                                                         X_test,\n",
    "                                                         y_test,\n",
    "                                                         model_types_compare,\n",
    "                                                         'LogisticRegression',\n",
    "                                                         'SL',\n",
    "                                                         [])"
   ]
  },
  {
   "cell_type": "markdown",
   "metadata": {},
   "source": [
    "#### Градиентный бустинг"
   ]
  },
  {
   "cell_type": "code",
   "execution_count": 64,
   "metadata": {},
   "outputs": [
    {
     "data": {
      "text/html": [
       "<div>\n",
       "<style scoped>\n",
       "    .dataframe tbody tr th:only-of-type {\n",
       "        vertical-align: middle;\n",
       "    }\n",
       "\n",
       "    .dataframe tbody tr th {\n",
       "        vertical-align: top;\n",
       "    }\n",
       "\n",
       "    .dataframe thead th {\n",
       "        text-align: right;\n",
       "    }\n",
       "</style>\n",
       "<table border=\"1\" class=\"dataframe\">\n",
       "  <thead>\n",
       "    <tr style=\"text-align: right;\">\n",
       "      <th></th>\n",
       "      <th>ROC AUC (test)</th>\n",
       "      <th>ROC AUC (train)</th>\n",
       "      <th>acc (test)</th>\n",
       "      <th>acc (train)</th>\n",
       "      <th>fit time</th>\n",
       "      <th>model_name</th>\n",
       "    </tr>\n",
       "  </thead>\n",
       "  <tbody>\n",
       "    <tr>\n",
       "      <th>0</th>\n",
       "      <td>0.862795</td>\n",
       "      <td>0.872742</td>\n",
       "      <td>0.823989</td>\n",
       "      <td>0.824281</td>\n",
       "      <td>0.013037</td>\n",
       "      <td>DecisionTree</td>\n",
       "    </tr>\n",
       "    <tr>\n",
       "      <th>1</th>\n",
       "      <td>0.864344</td>\n",
       "      <td>0.907976</td>\n",
       "      <td>0.826118</td>\n",
       "      <td>0.837593</td>\n",
       "      <td>0.212811</td>\n",
       "      <td>RandomForest</td>\n",
       "    </tr>\n",
       "    <tr>\n",
       "      <th>2</th>\n",
       "      <td>0.844807</td>\n",
       "      <td>0.844293</td>\n",
       "      <td>0.811214</td>\n",
       "      <td>0.802804</td>\n",
       "      <td>0.495518</td>\n",
       "      <td>LogisticRegression</td>\n",
       "    </tr>\n",
       "    <tr>\n",
       "      <th>3</th>\n",
       "      <td>0.928114</td>\n",
       "      <td>0.982293</td>\n",
       "      <td>0.878637</td>\n",
       "      <td>0.942137</td>\n",
       "      <td>0.749501</td>\n",
       "      <td>GradientBoostingClassifier</td>\n",
       "    </tr>\n",
       "  </tbody>\n",
       "</table>\n",
       "</div>"
      ],
      "text/plain": [
       "   ROC AUC (test)  ROC AUC (train)  acc (test)  acc (train)  fit time  \\\n",
       "0        0.862795         0.872742    0.823989     0.824281  0.013037   \n",
       "1        0.864344         0.907976    0.826118     0.837593  0.212811   \n",
       "2        0.844807         0.844293    0.811214     0.802804  0.495518   \n",
       "3        0.928114         0.982293    0.878637     0.942137  0.749501   \n",
       "\n",
       "                   model_name  \n",
       "0                DecisionTree  \n",
       "1                RandomForest  \n",
       "2          LogisticRegression  \n",
       "3  GradientBoostingClassifier  "
      ]
     },
     "metadata": {},
     "output_type": "display_data"
    },
    {
     "name": "stdout",
     "output_type": "stream",
     "text": [
      "\n",
      "\u001b[1mМетрики для модели GradientBoostingClassifier (на тестовых данных)\u001b[0m\n",
      "\n",
      "Значение меры auc roc = 0.92811\n",
      "Значение меры accuracy = 0.87864\n",
      "Значение меры recall = 0.94203\n",
      "Значение меры precision = 0.89779\n",
      "Параметры лучшей модели:\n",
      "{'learning_rate': 0.5, 'n_estimators': 155, 'random_state': 19612}\n",
      "CPU times: user 31.6 s, sys: 220 ms, total: 31.9 s\n",
      "Wall time: 31.9 s\n"
     ]
    }
   ],
   "source": [
    "%%time\n",
    "gb_boost = GradientBoostingClassifier()\n",
    "estim_list = [i for i in range(150,160,5)]\n",
    "params = {'learning_rate':[0.001,0.05,0.1,0.5,1],'n_estimators':estim_list,'random_state':[RANDOM_STATE]}\n",
    "model_types_compare,best_GB,best_GB_BP = find_best_model(gb_boost,\n",
    "                                                         params,\n",
    "                                                         X_train,\n",
    "                                                         y_train,\n",
    "                                                         X_test,\n",
    "                                                         y_test,\n",
    "                                                         model_types_compare,\n",
    "                                                         'GradientBoostingClassifier',\n",
    "                                                         'SL',\n",
    "                                                         [])"
   ]
  },
  {
   "cell_type": "markdown",
   "metadata": {},
   "source": [
    "#### CatBoost"
   ]
  },
  {
   "cell_type": "code",
   "execution_count": 65,
   "metadata": {
    "scrolled": false
   },
   "outputs": [
    {
     "name": "stdout",
     "output_type": "stream",
     "text": [
      "0:\tlearn: 0.6306136\ttotal: 57ms\tremaining: 51.2s\n",
      "899:\tlearn: 0.1256315\ttotal: 5.88s\tremaining: 0us\n",
      "0:\tlearn: 0.6253252\ttotal: 7.45ms\tremaining: 6.7s\n",
      "899:\tlearn: 0.1209230\ttotal: 5.91s\tremaining: 0us\n",
      "0:\tlearn: 0.6296310\ttotal: 7.63ms\tremaining: 6.86s\n",
      "899:\tlearn: 0.1271882\ttotal: 5.89s\tremaining: 0us\n",
      "0:\tlearn: 0.6280225\ttotal: 8.51ms\tremaining: 7.65s\n",
      "899:\tlearn: 0.1262113\ttotal: 5.95s\tremaining: 0us\n",
      "0:\tlearn: 0.6331142\ttotal: 7.59ms\tremaining: 6.83s\n",
      "899:\tlearn: 0.1260442\ttotal: 5.75s\tremaining: 0us\n",
      "0:\tlearn: 0.6306136\ttotal: 7.93ms\tremaining: 7.92s\n",
      "999:\tlearn: 0.1155754\ttotal: 6.54s\tremaining: 0us\n",
      "0:\tlearn: 0.6253252\ttotal: 7.85ms\tremaining: 7.84s\n",
      "999:\tlearn: 0.1113755\ttotal: 6.63s\tremaining: 0us\n",
      "0:\tlearn: 0.6296310\ttotal: 7.79ms\tremaining: 7.78s\n",
      "999:\tlearn: 0.1181134\ttotal: 6.54s\tremaining: 0us\n",
      "0:\tlearn: 0.6280225\ttotal: 7.98ms\tremaining: 7.97s\n",
      "999:\tlearn: 0.1160535\ttotal: 6.87s\tremaining: 0us\n",
      "0:\tlearn: 0.6331142\ttotal: 7.27ms\tremaining: 7.27s\n",
      "999:\tlearn: 0.1153070\ttotal: 6.64s\tremaining: 0us\n",
      "0:\tlearn: 0.6038300\ttotal: 7.76ms\tremaining: 6.98s\n",
      "899:\tlearn: 0.0847904\ttotal: 6.11s\tremaining: 0us\n",
      "0:\tlearn: 0.5967035\ttotal: 7.81ms\tremaining: 7.02s\n",
      "899:\tlearn: 0.0834530\ttotal: 5.98s\tremaining: 0us\n",
      "0:\tlearn: 0.6025236\ttotal: 7.77ms\tremaining: 6.99s\n",
      "899:\tlearn: 0.0870576\ttotal: 5.95s\tremaining: 0us\n",
      "0:\tlearn: 0.6003420\ttotal: 7.96ms\tremaining: 7.16s\n",
      "899:\tlearn: 0.0835735\ttotal: 6.09s\tremaining: 0us\n",
      "0:\tlearn: 0.6069490\ttotal: 7.63ms\tremaining: 6.86s\n",
      "899:\tlearn: 0.0869712\ttotal: 6.03s\tremaining: 0us\n",
      "0:\tlearn: 0.6038300\ttotal: 7.68ms\tremaining: 7.68s\n",
      "999:\tlearn: 0.0767263\ttotal: 6.78s\tremaining: 0us\n",
      "0:\tlearn: 0.5967035\ttotal: 7.68ms\tremaining: 7.67s\n",
      "999:\tlearn: 0.0747589\ttotal: 6.87s\tremaining: 0us\n",
      "0:\tlearn: 0.6025236\ttotal: 7.73ms\tremaining: 7.73s\n",
      "999:\tlearn: 0.0792126\ttotal: 6.74s\tremaining: 0us\n",
      "0:\tlearn: 0.6003420\ttotal: 7.7ms\tremaining: 7.69s\n",
      "999:\tlearn: 0.0765598\ttotal: 6.79s\tremaining: 0us\n",
      "0:\tlearn: 0.6069490\ttotal: 7.39ms\tremaining: 7.38s\n",
      "999:\tlearn: 0.0781973\ttotal: 6.59s\tremaining: 0us\n",
      "0:\tlearn: 0.5786008\ttotal: 8.2ms\tremaining: 7.37s\n",
      "899:\tlearn: 0.1005665\ttotal: 5.8s\tremaining: 0us\n",
      "0:\tlearn: 0.5756836\ttotal: 8.09ms\tremaining: 7.27s\n",
      "899:\tlearn: 0.1023894\ttotal: 5.68s\tremaining: 0us\n",
      "0:\tlearn: 0.5776585\ttotal: 7.96ms\tremaining: 7.16s\n",
      "899:\tlearn: 0.1072485\ttotal: 5.57s\tremaining: 0us\n",
      "0:\tlearn: 0.5763370\ttotal: 7.92ms\tremaining: 7.12s\n",
      "899:\tlearn: 0.1019533\ttotal: 5.83s\tremaining: 0us\n",
      "0:\tlearn: 0.5871835\ttotal: 7.53ms\tremaining: 6.77s\n",
      "899:\tlearn: 0.1055317\ttotal: 6.12s\tremaining: 0us\n",
      "0:\tlearn: 0.5786008\ttotal: 8.32ms\tremaining: 8.32s\n",
      "999:\tlearn: 0.0940538\ttotal: 6.45s\tremaining: 0us\n",
      "0:\tlearn: 0.5756836\ttotal: 8.62ms\tremaining: 8.61s\n",
      "999:\tlearn: 0.0970660\ttotal: 6.43s\tremaining: 0us\n",
      "0:\tlearn: 0.5776585\ttotal: 9.19ms\tremaining: 9.18s\n",
      "999:\tlearn: 0.1016092\ttotal: 6.26s\tremaining: 0us\n",
      "0:\tlearn: 0.5763370\ttotal: 8.37ms\tremaining: 8.36s\n",
      "999:\tlearn: 0.0958790\ttotal: 6.73s\tremaining: 0us\n",
      "0:\tlearn: 0.5871835\ttotal: 8.77ms\tremaining: 8.76s\n",
      "999:\tlearn: 0.1003298\ttotal: 6.25s\tremaining: 0us\n",
      "0:\tlearn: 0.5307205\ttotal: 8.96ms\tremaining: 8.06s\n",
      "899:\tlearn: 0.0793230\ttotal: 5.78s\tremaining: 0us\n",
      "0:\tlearn: 0.5270141\ttotal: 8.2ms\tremaining: 7.37s\n",
      "899:\tlearn: 0.0772164\ttotal: 5.95s\tremaining: 0us\n",
      "0:\tlearn: 0.5295179\ttotal: 8.38ms\tremaining: 7.54s\n",
      "899:\tlearn: 0.0791944\ttotal: 5.85s\tremaining: 0us\n",
      "0:\tlearn: 0.5277566\ttotal: 9.27ms\tremaining: 8.33s\n",
      "899:\tlearn: 0.0789800\ttotal: 5.83s\tremaining: 0us\n",
      "0:\tlearn: 0.5419441\ttotal: 9.24ms\tremaining: 8.31s\n",
      "899:\tlearn: 0.0796675\ttotal: 5.8s\tremaining: 0us\n",
      "0:\tlearn: 0.5307205\ttotal: 7.91ms\tremaining: 7.9s\n",
      "999:\tlearn: 0.0747218\ttotal: 6.3s\tremaining: 0us\n",
      "0:\tlearn: 0.5270141\ttotal: 8.18ms\tremaining: 8.17s\n",
      "999:\tlearn: 0.0729893\ttotal: 6.55s\tremaining: 0us\n",
      "0:\tlearn: 0.5295179\ttotal: 8.3ms\tremaining: 8.3s\n",
      "999:\tlearn: 0.0746133\ttotal: 6.39s\tremaining: 0us\n",
      "0:\tlearn: 0.5277566\ttotal: 7.9ms\tremaining: 7.89s\n",
      "999:\tlearn: 0.0732750\ttotal: 6.45s\tremaining: 0us\n",
      "0:\tlearn: 0.5419441\ttotal: 7.3ms\tremaining: 7.29s\n",
      "999:\tlearn: 0.0745663\ttotal: 6.27s\tremaining: 0us\n",
      "0:\tlearn: 0.5458246\ttotal: 11.6ms\tremaining: 10.5s\n",
      "899:\tlearn: 0.0941457\ttotal: 6.65s\tremaining: 0us\n"
     ]
    },
    {
     "data": {
      "text/html": [
       "<div>\n",
       "<style scoped>\n",
       "    .dataframe tbody tr th:only-of-type {\n",
       "        vertical-align: middle;\n",
       "    }\n",
       "\n",
       "    .dataframe tbody tr th {\n",
       "        vertical-align: top;\n",
       "    }\n",
       "\n",
       "    .dataframe thead th {\n",
       "        text-align: right;\n",
       "    }\n",
       "</style>\n",
       "<table border=\"1\" class=\"dataframe\">\n",
       "  <thead>\n",
       "    <tr style=\"text-align: right;\">\n",
       "      <th></th>\n",
       "      <th>ROC AUC (test)</th>\n",
       "      <th>ROC AUC (train)</th>\n",
       "      <th>acc (test)</th>\n",
       "      <th>acc (train)</th>\n",
       "      <th>fit time</th>\n",
       "      <th>model_name</th>\n",
       "    </tr>\n",
       "  </thead>\n",
       "  <tbody>\n",
       "    <tr>\n",
       "      <th>0</th>\n",
       "      <td>0.862795</td>\n",
       "      <td>0.872742</td>\n",
       "      <td>0.823989</td>\n",
       "      <td>0.824281</td>\n",
       "      <td>0.013037</td>\n",
       "      <td>DecisionTree</td>\n",
       "    </tr>\n",
       "    <tr>\n",
       "      <th>1</th>\n",
       "      <td>0.864344</td>\n",
       "      <td>0.907976</td>\n",
       "      <td>0.826118</td>\n",
       "      <td>0.837593</td>\n",
       "      <td>0.212811</td>\n",
       "      <td>RandomForest</td>\n",
       "    </tr>\n",
       "    <tr>\n",
       "      <th>2</th>\n",
       "      <td>0.844807</td>\n",
       "      <td>0.844293</td>\n",
       "      <td>0.811214</td>\n",
       "      <td>0.802804</td>\n",
       "      <td>0.495518</td>\n",
       "      <td>LogisticRegression</td>\n",
       "    </tr>\n",
       "    <tr>\n",
       "      <th>3</th>\n",
       "      <td>0.928114</td>\n",
       "      <td>0.982293</td>\n",
       "      <td>0.878637</td>\n",
       "      <td>0.942137</td>\n",
       "      <td>0.749501</td>\n",
       "      <td>GradientBoostingClassifier</td>\n",
       "    </tr>\n",
       "    <tr>\n",
       "      <th>4</th>\n",
       "      <td>0.926808</td>\n",
       "      <td>0.977312</td>\n",
       "      <td>0.873669</td>\n",
       "      <td>0.909123</td>\n",
       "      <td>7.547808</td>\n",
       "      <td>CatBoostClassifier</td>\n",
       "    </tr>\n",
       "  </tbody>\n",
       "</table>\n",
       "</div>"
      ],
      "text/plain": [
       "   ROC AUC (test)  ROC AUC (train)  acc (test)  acc (train)  fit time  \\\n",
       "0        0.862795         0.872742    0.823989     0.824281  0.013037   \n",
       "1        0.864344         0.907976    0.826118     0.837593  0.212811   \n",
       "2        0.844807         0.844293    0.811214     0.802804  0.495518   \n",
       "3        0.928114         0.982293    0.878637     0.942137  0.749501   \n",
       "4        0.926808         0.977312    0.873669     0.909123  7.547808   \n",
       "\n",
       "                   model_name  \n",
       "0                DecisionTree  \n",
       "1                RandomForest  \n",
       "2          LogisticRegression  \n",
       "3  GradientBoostingClassifier  \n",
       "4          CatBoostClassifier  "
      ]
     },
     "metadata": {},
     "output_type": "display_data"
    },
    {
     "name": "stdout",
     "output_type": "stream",
     "text": [
      "\n",
      "\u001b[1mМетрики для модели CatBoostClassifier (на тестовых данных)\u001b[0m\n",
      "\n",
      "Значение меры auc roc = 0.92681\n",
      "Значение меры accuracy = 0.87367\n",
      "Значение меры recall = 0.98647\n",
      "Значение меры precision = 0.86160\n",
      "Параметры лучшей модели:\n",
      "{'class_weights': [1, 3], 'learning_rate': 0.15, 'n_estimators': 900, 'random_seed': 19612, 'verbose': 1000}\n",
      "CPU times: user 4min 13s, sys: 8.96 s, total: 4min 22s\n",
      "Wall time: 4min 55s\n"
     ]
    }
   ],
   "source": [
    "%%time\n",
    "params = {'learning_rate':[0.1, 0.15], \n",
    "          'n_estimators':[900, 1000], \n",
    "          'random_seed':[RANDOM_STATE],\n",
    "          'verbose':[1000],\n",
    "          'class_weights':[[1,1],[1,3]]}\n",
    "\n",
    "cbc = CatBoostClassifier()\n",
    "\n",
    "model_types_compare, best_CBC,best_CBC_BP = find_best_model(cbc,\n",
    "                                                            params,\n",
    "                                                            X_cat_train,\n",
    "                                                            y_cat_train,\n",
    "                                                            X_cat_test,\n",
    "                                                            y_cat_test,\n",
    "                                                            model_types_compare,\n",
    "                                                            'CatBoostClassifier',\n",
    "                                                            'CB',\n",
    "                                                            cat_features)"
   ]
  },
  {
   "cell_type": "markdown",
   "metadata": {},
   "source": [
    "#### LightGBM"
   ]
  },
  {
   "cell_type": "code",
   "execution_count": 66,
   "metadata": {
    "scrolled": false
   },
   "outputs": [
    {
     "data": {
      "text/html": [
       "<div>\n",
       "<style scoped>\n",
       "    .dataframe tbody tr th:only-of-type {\n",
       "        vertical-align: middle;\n",
       "    }\n",
       "\n",
       "    .dataframe tbody tr th {\n",
       "        vertical-align: top;\n",
       "    }\n",
       "\n",
       "    .dataframe thead th {\n",
       "        text-align: right;\n",
       "    }\n",
       "</style>\n",
       "<table border=\"1\" class=\"dataframe\">\n",
       "  <thead>\n",
       "    <tr style=\"text-align: right;\">\n",
       "      <th></th>\n",
       "      <th>ROC AUC (test)</th>\n",
       "      <th>ROC AUC (train)</th>\n",
       "      <th>acc (test)</th>\n",
       "      <th>acc (train)</th>\n",
       "      <th>fit time</th>\n",
       "      <th>model_name</th>\n",
       "    </tr>\n",
       "  </thead>\n",
       "  <tbody>\n",
       "    <tr>\n",
       "      <th>0</th>\n",
       "      <td>0.862795</td>\n",
       "      <td>0.872742</td>\n",
       "      <td>0.823989</td>\n",
       "      <td>0.824281</td>\n",
       "      <td>0.013037</td>\n",
       "      <td>DecisionTree</td>\n",
       "    </tr>\n",
       "    <tr>\n",
       "      <th>1</th>\n",
       "      <td>0.864344</td>\n",
       "      <td>0.907976</td>\n",
       "      <td>0.826118</td>\n",
       "      <td>0.837593</td>\n",
       "      <td>0.212811</td>\n",
       "      <td>RandomForest</td>\n",
       "    </tr>\n",
       "    <tr>\n",
       "      <th>2</th>\n",
       "      <td>0.844807</td>\n",
       "      <td>0.844293</td>\n",
       "      <td>0.811214</td>\n",
       "      <td>0.802804</td>\n",
       "      <td>0.495518</td>\n",
       "      <td>LogisticRegression</td>\n",
       "    </tr>\n",
       "    <tr>\n",
       "      <th>3</th>\n",
       "      <td>0.928114</td>\n",
       "      <td>0.982293</td>\n",
       "      <td>0.878637</td>\n",
       "      <td>0.942137</td>\n",
       "      <td>0.749501</td>\n",
       "      <td>GradientBoostingClassifier</td>\n",
       "    </tr>\n",
       "    <tr>\n",
       "      <th>4</th>\n",
       "      <td>0.926808</td>\n",
       "      <td>0.977312</td>\n",
       "      <td>0.873669</td>\n",
       "      <td>0.909123</td>\n",
       "      <td>7.547808</td>\n",
       "      <td>CatBoostClassifier</td>\n",
       "    </tr>\n",
       "    <tr>\n",
       "      <th>5</th>\n",
       "      <td>0.910405</td>\n",
       "      <td>0.998380</td>\n",
       "      <td>0.867991</td>\n",
       "      <td>0.981186</td>\n",
       "      <td>4.497887</td>\n",
       "      <td>LGBMClassifier</td>\n",
       "    </tr>\n",
       "  </tbody>\n",
       "</table>\n",
       "</div>"
      ],
      "text/plain": [
       "   ROC AUC (test)  ROC AUC (train)  acc (test)  acc (train)  fit time  \\\n",
       "0        0.862795         0.872742    0.823989     0.824281  0.013037   \n",
       "1        0.864344         0.907976    0.826118     0.837593  0.212811   \n",
       "2        0.844807         0.844293    0.811214     0.802804  0.495518   \n",
       "3        0.928114         0.982293    0.878637     0.942137  0.749501   \n",
       "4        0.926808         0.977312    0.873669     0.909123  7.547808   \n",
       "5        0.910405         0.998380    0.867991     0.981186  4.497887   \n",
       "\n",
       "                   model_name  \n",
       "0                DecisionTree  \n",
       "1                RandomForest  \n",
       "2          LogisticRegression  \n",
       "3  GradientBoostingClassifier  \n",
       "4          CatBoostClassifier  \n",
       "5              LGBMClassifier  "
      ]
     },
     "metadata": {},
     "output_type": "display_data"
    },
    {
     "name": "stdout",
     "output_type": "stream",
     "text": [
      "\n",
      "\u001b[1mМетрики для модели LGBMClassifier (на тестовых данных)\u001b[0m\n",
      "\n",
      "Значение меры auc roc = 0.91040\n",
      "Значение меры accuracy = 0.86799\n",
      "Значение меры recall = 0.93333\n",
      "Значение меры precision = 0.89197\n",
      "Параметры лучшей модели:\n",
      "{'class_weight': None, 'learning_rate': 0.1, 'max_depth': 5, 'n_estimators': 800, 'random_state': 19612}\n",
      "CPU times: user 16min 4s, sys: 8.36 s, total: 16min 12s\n",
      "Wall time: 16min 19s\n"
     ]
    }
   ],
   "source": [
    "%%time\n",
    "params = {'class_weight':[None,'balanced'],\n",
    "          'learning_rate':[0.05,0.1], \n",
    "          'n_estimators':[800,900], \n",
    "          'max_depth':[5,10,15], \n",
    "          'random_state':[RANDOM_STATE]}\n",
    "\n",
    "lgbm = LGBMClassifier()\n",
    "\n",
    "X_cat_train[cat_features] = X_cat_train[cat_features].astype('category')\n",
    "X_cat_test[cat_features] = X_cat_test[cat_features].astype('category')\n",
    "model_types_compare, best_lgbm, best_lgbm_BP = find_best_model(lgbm,\n",
    "                                                               params,\n",
    "                                                               X_cat_train,\n",
    "                                                               y_cat_train,\n",
    "                                                               X_cat_test,\n",
    "                                                               y_cat_test,\n",
    "                                                               model_types_compare,\n",
    "                                                               'LGBMClassifier',\n",
    "                                                               'LGBM',\n",
    "                                                               [])"
   ]
  },
  {
   "cell_type": "markdown",
   "metadata": {},
   "source": [
    "### Выбор лучшей модели"
   ]
  },
  {
   "cell_type": "markdown",
   "metadata": {},
   "source": [
    "Лучшими по итогу оказались модели **GradientBoostingClassifier** и **CatBoostClassifier**. Посмотрим на их ROC-кривые."
   ]
  },
  {
   "cell_type": "code",
   "execution_count": 67,
   "metadata": {},
   "outputs": [],
   "source": [
    "#выводим roc-кривую \n",
    "def fig_roc_auc(model, name):  \n",
    "    try:\n",
    "        preds = model.predict_proba(X_test)[::,1]\n",
    "        fpr, tpr, thresholds = roc_curve(y_test,preds)\n",
    "        roc_auc = roc_auc_score(y_test,model.predict_proba(X_test)[::,1])\n",
    "    except:\n",
    "        preds = model.predict_proba(X_cat_test)[::,1]\n",
    "        fpr, tpr, thresholds = roc_curve(y_cat_test,preds)\n",
    "        roc_auc = roc_auc_score(y_cat_test,model.predict_proba(X_cat_test)[::,1])\n",
    "    plt.figure(figsize=(6,6))\n",
    "    plt.plot(fpr, tpr,label = 'AUC = %0.2f' % roc_auc)\n",
    "    plt.legend(loc = 'lower right')\n",
    "    plt.plot([0,1],[0,1],linestyle = \"--\")\n",
    "        \n",
    "    plt.xlabel('FPR')\n",
    "    plt.ylabel('TPR')\n",
    "    plt.legend()\n",
    "    plt.title('ROC-Кривая ' + name)\n",
    "    plt.grid()\n",
    "    plt.show()\n",
    "    \n",
    "    try:\n",
    "        pred = model.predict(X_test)\n",
    "        recall = recall_score(np.array(y_test),pred)\n",
    "        precision = precision_score(np.array(y_test),pred)\n",
    "    except:\n",
    "        pred = model.predict(X_cat_test)\n",
    "        recall = recall_score(np.array(y_cat_test),pred)\n",
    "        precision = precision_score(np.array(y_cat_test),pred)\n",
    "    print('Значение меры recall = ',recall)\n",
    "    print('Значение меры precision = ',precision)"
   ]
  },
  {
   "cell_type": "code",
   "execution_count": 68,
   "metadata": {},
   "outputs": [],
   "source": [
    "# Визуализация важности признаков\n",
    "def his_feature_imp(model):\n",
    "    try:\n",
    "        feature_imp = pd.Series(model.feature_importances_, index=X_test.columns).sort_values(ascending=False)\n",
    "    except:\n",
    "        feature_imp = pd.Series(model.feature_importances_, index=X_cat_test.columns).sort_values(ascending=False)\n",
    "    ax = sns.barplot(x=feature_imp, y=feature_imp.index)\n",
    "    plt.figure(figsize=(12,8))\n",
    "    label = ax.set(xlabel = 'Оценка важности признаков', ylabel = 'Признаки')\n",
    "    title = ax.set_title('Визуализация важности признаков')\n",
    "    plt.show()"
   ]
  },
  {
   "cell_type": "code",
   "execution_count": 69,
   "metadata": {},
   "outputs": [],
   "source": [
    "# Матрица ошибок\n",
    "def confusion_m(model):\n",
    "    try:\n",
    "        cm = confusion_matrix(y_test, model.predict(X_test))\n",
    "    except:\n",
    "        cm = confusion_matrix(y_cat_test, model.predict(X_cat_test))\n",
    "    f, ax = plt.subplots(figsize = (7, 6))\n",
    "    sns.heatmap(cm, annot = True, linewidths = 0.5, fmt = '.0f', ax = ax)\n",
    "    plt.xlabel('Предсказания')\n",
    "    plt.ylabel('Целевой признак')\n",
    "    plt.title('Матрица ошибок')\n",
    "    plt.show()"
   ]
  },
  {
   "cell_type": "code",
   "execution_count": 70,
   "metadata": {
    "scrolled": false
   },
   "outputs": [
    {
     "data": {
      "image/png": "[encoded data removed]",
      "text/plain": [
       "<Figure size 432x432 with 1 Axes>"
      ]
     },
     "metadata": {
      "needs_background": "light"
     },
     "output_type": "display_data"
    },
    {
     "name": "stdout",
     "output_type": "stream",
     "text": [
      "Значение меры recall =  0.9864734299516909\n",
      "Значение меры precision =  0.8616033755274262\n"
     ]
    }
   ],
   "source": [
    "fig_roc_auc(best_CBC, 'CatBoost')"
   ]
  },
  {
   "cell_type": "code",
   "execution_count": 71,
   "metadata": {},
   "outputs": [
    {
     "data": {
      "image/png": "[encoded data removed]",
      "text/plain": [
       "<Figure size 432x432 with 1 Axes>"
      ]
     },
     "metadata": {
      "needs_background": "light"
     },
     "output_type": "display_data"
    },
    {
     "name": "stdout",
     "output_type": "stream",
     "text": [
      "Значение меры recall =  0.9420289855072463\n",
      "Значение меры precision =  0.8977900552486188\n"
     ]
    }
   ],
   "source": [
    "fig_roc_auc(best_GB, 'GradientBoosting')"
   ]
  },
  {
   "cell_type": "markdown",
   "metadata": {},
   "source": [
    "Метрики моделей различаются не сильно, поэтому из-за долгой скорости обучения модели **CatBoostClassifier** думаю имеет смысл остановить свой выбор на **GradientBoostingClassifier**.\n",
    "Рассмотрим матрицу ошибок для нее и важность признаков при обучении."
   ]
  },
  {
   "cell_type": "code",
   "execution_count": 72,
   "metadata": {},
   "outputs": [
    {
     "data": {
      "image/png": "[encoded data removed]",
      "text/plain": [
       "<Figure size 504x432 with 2 Axes>"
      ]
     },
     "metadata": {
      "needs_background": "light"
     },
     "output_type": "display_data"
    }
   ],
   "source": [
    "confusion_m(best_GB)"
   ]
  },
  {
   "cell_type": "code",
   "execution_count": 73,
   "metadata": {
    "scrolled": true
   },
   "outputs": [
    {
     "data": {
      "image/png": "[encoded data removed]",
      "text/plain": [
       "<Figure size 432x288 with 1 Axes>"
      ]
     },
     "metadata": {
      "needs_background": "light"
     },
     "output_type": "display_data"
    },
    {
     "data": {
      "text/plain": [
       "<Figure size 864x576 with 0 Axes>"
      ]
     },
     "metadata": {},
     "output_type": "display_data"
    }
   ],
   "source": [
    "his_feature_imp(best_GB)"
   ]
  },
  {
   "cell_type": "markdown",
   "metadata": {},
   "source": [
    "#### Удаление лишних признаков"
   ]
  },
  {
   "cell_type": "code",
   "execution_count": 74,
   "metadata": {},
   "outputs": [],
   "source": [
    "# удалим ненужные признаки(важность признаков оценена после обучения моделей)\n",
    "columns_del = []\n",
    "columns_imp = ['LifeTime',\n",
    "               'InternetService_Fiber optic', \n",
    "               'MonthlyCharges', \n",
    "               'PaymentMethod_Electronic check']\n",
    "for i in X_train.columns:\n",
    "    if i not in columns_imp:\n",
    "        columns_del.append(i)\n",
    "X_train = X_train.drop(columns_del, axis=1)\n",
    "X_test = X_test.drop(columns_del, axis=1)"
   ]
  },
  {
   "cell_type": "code",
   "execution_count": 75,
   "metadata": {},
   "outputs": [
    {
     "data": {
      "text/html": [
       "<div>\n",
       "<style scoped>\n",
       "    .dataframe tbody tr th:only-of-type {\n",
       "        vertical-align: middle;\n",
       "    }\n",
       "\n",
       "    .dataframe tbody tr th {\n",
       "        vertical-align: top;\n",
       "    }\n",
       "\n",
       "    .dataframe thead th {\n",
       "        text-align: right;\n",
       "    }\n",
       "</style>\n",
       "<table border=\"1\" class=\"dataframe\">\n",
       "  <thead>\n",
       "    <tr style=\"text-align: right;\">\n",
       "      <th></th>\n",
       "      <th>ROC AUC (test)</th>\n",
       "      <th>ROC AUC (train)</th>\n",
       "      <th>acc (test)</th>\n",
       "      <th>acc (train)</th>\n",
       "      <th>fit time</th>\n",
       "      <th>model_name</th>\n",
       "    </tr>\n",
       "  </thead>\n",
       "  <tbody>\n",
       "    <tr>\n",
       "      <th>0</th>\n",
       "      <td>0.862795</td>\n",
       "      <td>0.872742</td>\n",
       "      <td>0.823989</td>\n",
       "      <td>0.824281</td>\n",
       "      <td>0.013037</td>\n",
       "      <td>DecisionTree</td>\n",
       "    </tr>\n",
       "    <tr>\n",
       "      <th>1</th>\n",
       "      <td>0.864344</td>\n",
       "      <td>0.907976</td>\n",
       "      <td>0.826118</td>\n",
       "      <td>0.837593</td>\n",
       "      <td>0.212811</td>\n",
       "      <td>RandomForest</td>\n",
       "    </tr>\n",
       "    <tr>\n",
       "      <th>2</th>\n",
       "      <td>0.844807</td>\n",
       "      <td>0.844293</td>\n",
       "      <td>0.811214</td>\n",
       "      <td>0.802804</td>\n",
       "      <td>0.495518</td>\n",
       "      <td>LogisticRegression</td>\n",
       "    </tr>\n",
       "    <tr>\n",
       "      <th>3</th>\n",
       "      <td>0.928114</td>\n",
       "      <td>0.982293</td>\n",
       "      <td>0.878637</td>\n",
       "      <td>0.942137</td>\n",
       "      <td>0.749501</td>\n",
       "      <td>GradientBoostingClassifier</td>\n",
       "    </tr>\n",
       "    <tr>\n",
       "      <th>4</th>\n",
       "      <td>0.926808</td>\n",
       "      <td>0.977312</td>\n",
       "      <td>0.873669</td>\n",
       "      <td>0.909123</td>\n",
       "      <td>7.547808</td>\n",
       "      <td>CatBoostClassifier</td>\n",
       "    </tr>\n",
       "    <tr>\n",
       "      <th>5</th>\n",
       "      <td>0.910405</td>\n",
       "      <td>0.998380</td>\n",
       "      <td>0.867991</td>\n",
       "      <td>0.981186</td>\n",
       "      <td>4.497887</td>\n",
       "      <td>LGBMClassifier</td>\n",
       "    </tr>\n",
       "    <tr>\n",
       "      <th>6</th>\n",
       "      <td>0.931774</td>\n",
       "      <td>0.978056</td>\n",
       "      <td>0.877218</td>\n",
       "      <td>0.934682</td>\n",
       "      <td>0.559112</td>\n",
       "      <td>GradientBoostingClassifier_UPD</td>\n",
       "    </tr>\n",
       "  </tbody>\n",
       "</table>\n",
       "</div>"
      ],
      "text/plain": [
       "   ROC AUC (test)  ROC AUC (train)  acc (test)  acc (train)  fit time  \\\n",
       "0        0.862795         0.872742    0.823989     0.824281  0.013037   \n",
       "1        0.864344         0.907976    0.826118     0.837593  0.212811   \n",
       "2        0.844807         0.844293    0.811214     0.802804  0.495518   \n",
       "3        0.928114         0.982293    0.878637     0.942137  0.749501   \n",
       "4        0.926808         0.977312    0.873669     0.909123  7.547808   \n",
       "5        0.910405         0.998380    0.867991     0.981186  4.497887   \n",
       "6        0.931774         0.978056    0.877218     0.934682  0.559112   \n",
       "\n",
       "                       model_name  \n",
       "0                    DecisionTree  \n",
       "1                    RandomForest  \n",
       "2              LogisticRegression  \n",
       "3      GradientBoostingClassifier  \n",
       "4              CatBoostClassifier  \n",
       "5                  LGBMClassifier  \n",
       "6  GradientBoostingClassifier_UPD  "
      ]
     },
     "metadata": {},
     "output_type": "display_data"
    },
    {
     "name": "stdout",
     "output_type": "stream",
     "text": [
      "\n",
      "\u001b[1mМетрики для модели GradientBoostingClassifier_UPD (на тестовых данных)\u001b[0m\n",
      "\n",
      "Значение меры auc roc = 0.93177\n",
      "Значение меры accuracy = 0.87722\n",
      "Значение меры recall = 0.94976\n",
      "Значение меры precision = 0.89040\n",
      "Параметры лучшей модели:\n",
      "{'learning_rate': 0.5, 'n_estimators': 155, 'random_state': 19612}\n",
      "CPU times: user 22.4 s, sys: 128 ms, total: 22.5 s\n",
      "Wall time: 22.5 s\n"
     ]
    }
   ],
   "source": [
    "%%time\n",
    "gb_boost = GradientBoostingClassifier()\n",
    "estim_list = [i for i in range(150,160,5)]\n",
    "params = {'learning_rate':[0.001,0.05,0.1,0.5,1],'n_estimators':estim_list,'random_state':[RANDOM_STATE]}\n",
    "model_types_compare,best_GB,best_GB_BP = find_best_model(gb_boost,\n",
    "                                                         params,\n",
    "                                                         X_train,\n",
    "                                                         y_train,\n",
    "                                                         X_test,\n",
    "                                                         y_test,\n",
    "                                                         model_types_compare,\n",
    "                                                         'GradientBoostingClassifier_UPD',\n",
    "                                                         'SL',\n",
    "                                                         [])"
   ]
  },
  {
   "cell_type": "markdown",
   "metadata": {},
   "source": [
    "## Вывод"
   ]
  },
  {
   "cell_type": "markdown",
   "metadata": {},
   "source": [
    "В ходе выполнения проекта данные были объединены в одну таблицу, прошли предварительную обработку и были проанализированы. Были добавлены некоторые новые признаки(длительность действия договора в днях, количество дополнительных интернет-услуг и целевой признак, определяющий уход пользователя). Удалены или преобразованы признаки, которые были признаны несущественными, либо избыточными для предсказания оттока клиентов. Был выявлен дисбаланс классов, примерно 1:3.\n",
    "\n",
    "Признаки были подготовлены к обучению(проведена кодировка и стандартизация). На подготовелнных данных обучены модели дерева решений, случайного леса, логистической регрессии и градиентного бустинга, дополнительно использовались бибклиотеки CatBoost, LightGBM. Лучше всего показали себя модели градиентного бустинга. \n",
    "По результатам тестирования лучших моделей выбор был остановлен на **GradientBoostingClassifier** из-за высоких значений метрик и скорости работы. \n",
    "\n",
    "После удаления малозначимых признаков и переобучении модели метрики стали следующими:\n",
    "- **AUC-ROC** = 0.93170;\n",
    "- **Accuracy** = 0.87722;\n",
    "- **Recall** = 0.94976;\n",
    "- **Precision** = 0.89040.\n",
    "\n",
    "При этом уменьшилось время обучения модели практически на 30%. \n",
    "\n",
    "Что касается признаков, влияющих на предсказания модели, то можно выделить:\n",
    "1. **LifeTime** - время жизни клиента (наиболее значимый признак);\n",
    "2. **InternetService_Fiber optic** - подключение интернета через оптоволокно;\n",
    "3. **MonthlyCharges** - ежемесячный платеж;\n",
    "4. **PaymentMethod_Electronic check** - оплата электронным чеком.\n",
    "Время жизни клиента - .\n",
    "\n",
    "\n",
    "При анализе данных были сделаны следующие наблюдения и выводы: \n",
    "- отключаться клиенты начали с 2019 года и максимум отключившихся приходится на подключившихся в том же году; \n",
    "- среди ушедших клиентов преобладают люди допенсионного возраста, без детей и супруга, а так же те, что пользовался интернетом через оптоволокно; \n",
    "- около 90% ушедших клиентов пользовались помесячной оплатой услуг провайдера, так же в среднем месячная плата ушедших клиентов была выше, чем у оставшихся (медианное значение - 80 против 64 у оставшихся); \n",
    "- выяснилось, что чем меньше человек являлся клиентом компании, тем выше была вероятноть того, что он отключится: значительная часть клиентов ушли после первого-второго месяца пользования услуг компании.\n",
    "\n",
    "Подытожив можно сказать, что у компании либо изменилась ценовая политика, либо по каким-то причинам понизилось качество оказываемых услуг и поддержки(вполне вероятно и из-за роста количества клиентом), либо появился конкурент."
   ]
  }
 ],
 "metadata": {
  "ExecuteTimeLog": [
   {
    "duration": 701,
    "start_time": "2022-01-30T05:54:54.034Z"
   },
   {
    "duration": 91,
    "start_time": "2022-01-30T05:54:55.314Z"
   },
   {
    "duration": 34,
    "start_time": "2022-01-30T05:54:57.714Z"
   },
   {
    "duration": 14,
    "start_time": "2022-01-30T05:54:58.267Z"
   },
   {
    "duration": 10,
    "start_time": "2022-01-30T05:54:59.770Z"
   },
   {
    "duration": 11,
    "start_time": "2022-01-30T05:55:00.130Z"
   },
   {
    "duration": 17,
    "start_time": "2022-01-30T05:55:00.515Z"
   },
   {
    "duration": 12,
    "start_time": "2022-01-30T05:55:00.922Z"
   },
   {
    "duration": 7,
    "start_time": "2022-01-30T05:55:01.347Z"
   },
   {
    "duration": 7,
    "start_time": "2022-01-30T05:55:01.779Z"
   },
   {
    "duration": 28,
    "start_time": "2022-01-30T05:55:02.059Z"
   },
   {
    "duration": 19,
    "start_time": "2022-01-30T05:55:02.578Z"
   },
   {
    "duration": 15,
    "start_time": "2022-01-30T05:55:02.835Z"
   },
   {
    "duration": 4,
    "start_time": "2022-01-30T05:55:03.506Z"
   },
   {
    "duration": 10,
    "start_time": "2022-01-30T05:55:03.714Z"
   },
   {
    "duration": 10,
    "start_time": "2022-01-30T05:55:03.938Z"
   },
   {
    "duration": 20,
    "start_time": "2022-01-30T05:55:04.146Z"
   },
   {
    "duration": 23,
    "start_time": "2022-01-30T05:55:04.595Z"
   },
   {
    "duration": 21,
    "start_time": "2022-01-30T05:55:04.810Z"
   },
   {
    "duration": 15,
    "start_time": "2022-01-30T05:55:05.698Z"
   },
   {
    "duration": 10,
    "start_time": "2022-01-30T05:55:06.626Z"
   },
   {
    "duration": 17,
    "start_time": "2022-01-30T05:55:07.818Z"
   },
   {
    "duration": 18,
    "start_time": "2022-01-30T05:55:08.034Z"
   },
   {
    "duration": 19,
    "start_time": "2022-01-30T05:55:08.291Z"
   },
   {
    "duration": 46,
    "start_time": "2022-01-30T05:55:08.490Z"
   },
   {
    "duration": 51,
    "start_time": "2022-01-30T05:55:09.515Z"
   },
   {
    "duration": 43,
    "start_time": "2022-01-30T05:55:10.066Z"
   },
   {
    "duration": 727,
    "start_time": "2022-01-31T17:05:33.667Z"
   },
   {
    "duration": 109,
    "start_time": "2022-01-31T17:05:34.396Z"
   },
   {
    "duration": 33,
    "start_time": "2022-01-31T17:05:34.508Z"
   },
   {
    "duration": 15,
    "start_time": "2022-01-31T17:05:34.544Z"
   },
   {
    "duration": 9,
    "start_time": "2022-01-31T17:05:34.562Z"
   },
   {
    "duration": 10,
    "start_time": "2022-01-31T17:05:34.573Z"
   },
   {
    "duration": 23,
    "start_time": "2022-01-31T17:05:34.586Z"
   },
   {
    "duration": 40,
    "start_time": "2022-01-31T17:05:34.611Z"
   },
   {
    "duration": 10,
    "start_time": "2022-01-31T17:05:34.655Z"
   },
   {
    "duration": 15,
    "start_time": "2022-01-31T17:05:34.668Z"
   },
   {
    "duration": 27,
    "start_time": "2022-01-31T17:05:34.686Z"
   },
   {
    "duration": 44,
    "start_time": "2022-01-31T17:05:34.715Z"
   },
   {
    "duration": 20,
    "start_time": "2022-01-31T17:05:34.762Z"
   },
   {
    "duration": 5,
    "start_time": "2022-01-31T17:05:34.785Z"
   },
   {
    "duration": 56,
    "start_time": "2022-01-31T17:05:34.793Z"
   },
   {
    "duration": 18,
    "start_time": "2022-01-31T17:05:34.852Z"
   },
   {
    "duration": 21,
    "start_time": "2022-01-31T17:05:34.873Z"
   },
   {
    "duration": 53,
    "start_time": "2022-01-31T17:05:34.897Z"
   },
   {
    "duration": 21,
    "start_time": "2022-01-31T17:05:34.952Z"
   },
   {
    "duration": 15,
    "start_time": "2022-01-31T17:05:34.975Z"
   },
   {
    "duration": 60,
    "start_time": "2022-01-31T17:05:34.993Z"
   },
   {
    "duration": 31,
    "start_time": "2022-01-31T17:05:35.056Z"
   },
   {
    "duration": 17,
    "start_time": "2022-01-31T17:05:35.090Z"
   },
   {
    "duration": 20,
    "start_time": "2022-01-31T17:05:35.109Z"
   },
   {
    "duration": 58,
    "start_time": "2022-01-31T17:05:35.132Z"
   },
   {
    "duration": 72,
    "start_time": "2022-01-31T17:05:35.192Z"
   },
   {
    "duration": 43,
    "start_time": "2022-01-31T17:05:35.268Z"
   },
   {
    "duration": 101,
    "start_time": "2022-01-31T17:15:22.494Z"
   },
   {
    "duration": 105,
    "start_time": "2022-01-31T17:15:29.772Z"
   },
   {
    "duration": 78,
    "start_time": "2022-01-31T17:15:33.282Z"
   },
   {
    "duration": 96,
    "start_time": "2022-01-31T17:15:36.939Z"
   },
   {
    "duration": 120,
    "start_time": "2022-01-31T17:16:07.356Z"
   },
   {
    "duration": 104,
    "start_time": "2022-01-31T17:16:53.671Z"
   },
   {
    "duration": 7074,
    "start_time": "2022-01-31T17:17:02.316Z"
   },
   {
    "duration": 255,
    "start_time": "2022-01-31T17:17:19.680Z"
   },
   {
    "duration": 26,
    "start_time": "2022-01-31T17:17:43.658Z"
   },
   {
    "duration": 431,
    "start_time": "2022-01-31T17:17:56.785Z"
   },
   {
    "duration": 27,
    "start_time": "2022-01-31T17:18:20.875Z"
   },
   {
    "duration": 11,
    "start_time": "2022-01-31T17:18:28.180Z"
   },
   {
    "duration": 8,
    "start_time": "2022-01-31T17:19:28.048Z"
   },
   {
    "duration": 14,
    "start_time": "2022-01-31T17:22:40.426Z"
   },
   {
    "duration": 13,
    "start_time": "2022-01-31T17:22:59.571Z"
   },
   {
    "duration": 12,
    "start_time": "2022-01-31T17:23:08.795Z"
   },
   {
    "duration": 12,
    "start_time": "2022-01-31T17:23:44.342Z"
   },
   {
    "duration": 230,
    "start_time": "2022-01-31T17:25:16.036Z"
   },
   {
    "duration": 114,
    "start_time": "2022-01-31T17:25:39.357Z"
   },
   {
    "duration": 6475,
    "start_time": "2022-01-31T17:25:47.197Z"
   },
   {
    "duration": 999,
    "start_time": "2022-01-31T17:28:08.421Z"
   },
   {
    "duration": 247,
    "start_time": "2022-01-31T17:28:24.647Z"
   },
   {
    "duration": 283,
    "start_time": "2022-01-31T17:28:52.067Z"
   },
   {
    "duration": 252,
    "start_time": "2022-01-31T17:30:26.181Z"
   },
   {
    "duration": 1025,
    "start_time": "2022-01-31T17:32:29.300Z"
   },
   {
    "duration": 250,
    "start_time": "2022-01-31T17:32:55.306Z"
   },
   {
    "duration": 295,
    "start_time": "2022-01-31T17:33:09.278Z"
   },
   {
    "duration": 272,
    "start_time": "2022-01-31T17:33:16.975Z"
   },
   {
    "duration": 7,
    "start_time": "2022-01-31T17:33:26.287Z"
   },
   {
    "duration": 243,
    "start_time": "2022-01-31T17:34:09.073Z"
   },
   {
    "duration": 7,
    "start_time": "2022-01-31T17:35:08.436Z"
   },
   {
    "duration": 249,
    "start_time": "2022-01-31T17:35:24.341Z"
   },
   {
    "duration": 86,
    "start_time": "2022-01-31T17:35:49.247Z"
   },
   {
    "duration": 255,
    "start_time": "2022-01-31T17:36:16.800Z"
   },
   {
    "duration": 393,
    "start_time": "2022-01-31T17:37:21.180Z"
   },
   {
    "duration": 251,
    "start_time": "2022-01-31T17:37:27.172Z"
   },
   {
    "duration": 636,
    "start_time": "2022-01-31T17:37:42.637Z"
   },
   {
    "duration": 242,
    "start_time": "2022-01-31T17:41:36.058Z"
   },
   {
    "duration": 6905,
    "start_time": "2022-01-31T17:42:27.510Z"
   },
   {
    "duration": 540,
    "start_time": "2022-01-31T17:43:56.210Z"
   },
   {
    "duration": 742,
    "start_time": "2022-01-31T17:44:30.700Z"
   },
   {
    "duration": 386,
    "start_time": "2022-01-31T17:44:44.086Z"
   },
   {
    "duration": 6815,
    "start_time": "2022-01-31T17:45:52.720Z"
   },
   {
    "duration": 6356,
    "start_time": "2022-01-31T17:46:14.522Z"
   },
   {
    "duration": 7332,
    "start_time": "2022-01-31T17:47:02.133Z"
   },
   {
    "duration": 7088,
    "start_time": "2022-01-31T17:47:20.830Z"
   },
   {
    "duration": 416,
    "start_time": "2022-01-31T17:54:38.783Z"
   },
   {
    "duration": 442,
    "start_time": "2022-01-31T17:54:49.647Z"
   },
   {
    "duration": 230,
    "start_time": "2022-01-31T17:55:59.498Z"
   },
   {
    "duration": 6060,
    "start_time": "2022-01-31T17:56:05.892Z"
   },
   {
    "duration": 254,
    "start_time": "2022-01-31T17:57:27.818Z"
   },
   {
    "duration": 242,
    "start_time": "2022-01-31T17:57:36.737Z"
   },
   {
    "duration": 689,
    "start_time": "2022-01-31T17:57:54.778Z"
   },
   {
    "duration": 603,
    "start_time": "2022-01-31T17:58:47.733Z"
   },
   {
    "duration": 585,
    "start_time": "2022-01-31T17:59:35.431Z"
   },
   {
    "duration": 599,
    "start_time": "2022-01-31T17:59:47.664Z"
   },
   {
    "duration": 628,
    "start_time": "2022-01-31T17:59:55.024Z"
   },
   {
    "duration": 649,
    "start_time": "2022-01-31T18:00:01.552Z"
   },
   {
    "duration": 759,
    "start_time": "2022-01-31T18:00:20.842Z"
   },
   {
    "duration": 618,
    "start_time": "2022-01-31T18:00:27.098Z"
   },
   {
    "duration": 611,
    "start_time": "2022-01-31T18:00:58.043Z"
   },
   {
    "duration": 610,
    "start_time": "2022-01-31T18:02:16.248Z"
   },
   {
    "duration": 641,
    "start_time": "2022-01-31T18:02:22.264Z"
   },
   {
    "duration": 659,
    "start_time": "2022-01-31T18:04:12.998Z"
   },
   {
    "duration": 714,
    "start_time": "2022-01-31T18:05:20.027Z"
   },
   {
    "duration": 660,
    "start_time": "2022-01-31T18:06:11.822Z"
   },
   {
    "duration": 630,
    "start_time": "2022-01-31T18:06:31.430Z"
   },
   {
    "duration": 1030,
    "start_time": "2022-01-31T18:06:56.177Z"
   },
   {
    "duration": 387,
    "start_time": "2022-01-31T18:08:11.108Z"
   },
   {
    "duration": 451,
    "start_time": "2022-01-31T18:08:39.918Z"
   },
   {
    "duration": 238,
    "start_time": "2022-01-31T18:14:56.309Z"
   },
   {
    "duration": 629,
    "start_time": "2022-01-31T18:15:25.490Z"
   },
   {
    "duration": 276,
    "start_time": "2022-01-31T18:15:31.274Z"
   },
   {
    "duration": 284,
    "start_time": "2022-01-31T18:15:40.002Z"
   },
   {
    "duration": 417,
    "start_time": "2022-01-31T18:22:19.658Z"
   },
   {
    "duration": 412,
    "start_time": "2022-01-31T18:23:16.629Z"
   },
   {
    "duration": 370,
    "start_time": "2022-01-31T18:23:32.493Z"
   },
   {
    "duration": 348,
    "start_time": "2022-01-31T18:23:59.410Z"
   },
   {
    "duration": 15,
    "start_time": "2022-01-31T19:14:45.674Z"
   },
   {
    "duration": 56,
    "start_time": "2022-01-31T19:22:26.299Z"
   },
   {
    "duration": 35,
    "start_time": "2022-01-31T19:27:58.670Z"
   },
   {
    "duration": 552,
    "start_time": "2022-01-31T19:30:04.316Z"
   },
   {
    "duration": 823,
    "start_time": "2022-01-31T19:30:29.367Z"
   },
   {
    "duration": 438,
    "start_time": "2022-01-31T19:31:45.474Z"
   },
   {
    "duration": 452,
    "start_time": "2022-01-31T19:31:59.483Z"
   },
   {
    "duration": 708,
    "start_time": "2022-01-31T19:32:13.732Z"
   },
   {
    "duration": 469,
    "start_time": "2022-01-31T19:32:23.469Z"
   },
   {
    "duration": 463,
    "start_time": "2022-01-31T19:32:34.430Z"
   },
   {
    "duration": 468,
    "start_time": "2022-01-31T19:32:52.133Z"
   },
   {
    "duration": 814,
    "start_time": "2022-01-31T19:32:57.270Z"
   },
   {
    "duration": 559,
    "start_time": "2022-01-31T19:33:08.703Z"
   },
   {
    "duration": 460,
    "start_time": "2022-01-31T19:33:14.055Z"
   },
   {
    "duration": 688,
    "start_time": "2022-01-31T19:33:18.080Z"
   },
   {
    "duration": 506,
    "start_time": "2022-01-31T19:33:30.976Z"
   },
   {
    "duration": 503,
    "start_time": "2022-01-31T19:33:43.784Z"
   },
   {
    "duration": 423,
    "start_time": "2022-01-31T19:33:54.569Z"
   },
   {
    "duration": 40,
    "start_time": "2022-01-31T19:34:40.797Z"
   },
   {
    "duration": 22,
    "start_time": "2022-01-31T19:35:34.111Z"
   },
   {
    "duration": 604,
    "start_time": "2022-01-31T19:36:30.818Z"
   },
   {
    "duration": 17,
    "start_time": "2022-01-31T19:36:54.475Z"
   },
   {
    "duration": 37,
    "start_time": "2022-01-31T19:38:13.376Z"
   },
   {
    "duration": 491,
    "start_time": "2022-01-31T19:38:17.272Z"
   },
   {
    "duration": 12,
    "start_time": "2022-01-31T19:38:53.986Z"
   },
   {
    "duration": 168,
    "start_time": "2022-01-31T19:55:01.231Z"
   },
   {
    "duration": 5,
    "start_time": "2022-01-31T19:55:14.488Z"
   },
   {
    "duration": 349,
    "start_time": "2022-01-31T19:55:16.680Z"
   },
   {
    "duration": 352,
    "start_time": "2022-02-01T15:10:47.651Z"
   },
   {
    "duration": 5,
    "start_time": "2022-02-01T15:10:58.954Z"
   },
   {
    "duration": 668,
    "start_time": "2022-02-01T15:11:01.402Z"
   },
   {
    "duration": 1588,
    "start_time": "2022-02-01T15:11:13.252Z"
   },
   {
    "duration": 99,
    "start_time": "2022-02-01T15:11:14.843Z"
   },
   {
    "duration": 29,
    "start_time": "2022-02-01T15:11:14.945Z"
   },
   {
    "duration": 17,
    "start_time": "2022-02-01T15:11:14.977Z"
   },
   {
    "duration": 10,
    "start_time": "2022-02-01T15:11:14.996Z"
   },
   {
    "duration": 18,
    "start_time": "2022-02-01T15:11:15.009Z"
   },
   {
    "duration": 53,
    "start_time": "2022-02-01T15:11:15.030Z"
   },
   {
    "duration": 14,
    "start_time": "2022-02-01T15:11:15.088Z"
   },
   {
    "duration": 8,
    "start_time": "2022-02-01T15:11:15.105Z"
   },
   {
    "duration": 7,
    "start_time": "2022-02-01T15:11:15.116Z"
   },
   {
    "duration": 65,
    "start_time": "2022-02-01T15:11:15.126Z"
   },
   {
    "duration": 19,
    "start_time": "2022-02-01T15:11:15.194Z"
   },
   {
    "duration": 59,
    "start_time": "2022-02-01T15:11:15.215Z"
   },
   {
    "duration": 4,
    "start_time": "2022-02-01T15:11:15.276Z"
   },
   {
    "duration": 9,
    "start_time": "2022-02-01T15:11:15.283Z"
   },
   {
    "duration": 11,
    "start_time": "2022-02-01T15:11:15.295Z"
   },
   {
    "duration": 60,
    "start_time": "2022-02-01T15:11:15.309Z"
   },
   {
    "duration": 33,
    "start_time": "2022-02-01T15:11:15.372Z"
   },
   {
    "duration": 61,
    "start_time": "2022-02-01T15:11:15.407Z"
   },
   {
    "duration": 17,
    "start_time": "2022-02-01T15:11:15.471Z"
   },
   {
    "duration": 9,
    "start_time": "2022-02-01T15:11:15.491Z"
   },
   {
    "duration": 16,
    "start_time": "2022-02-01T15:11:15.503Z"
   },
   {
    "duration": 16,
    "start_time": "2022-02-01T15:11:15.571Z"
   },
   {
    "duration": 18,
    "start_time": "2022-02-01T15:11:15.590Z"
   },
   {
    "duration": 70,
    "start_time": "2022-02-01T15:11:15.610Z"
   },
   {
    "duration": 15,
    "start_time": "2022-02-01T15:11:15.682Z"
   },
   {
    "duration": 70,
    "start_time": "2022-02-01T15:11:15.700Z"
   },
   {
    "duration": 11,
    "start_time": "2022-02-01T15:11:15.773Z"
   },
   {
    "duration": 37,
    "start_time": "2022-02-01T15:11:15.786Z"
   },
   {
    "duration": 570,
    "start_time": "2022-02-01T15:11:15.825Z"
   },
   {
    "duration": 11,
    "start_time": "2022-02-01T15:11:16.397Z"
   },
   {
    "duration": 10,
    "start_time": "2022-02-01T15:11:16.410Z"
   },
   {
    "duration": 385,
    "start_time": "2022-02-01T15:11:16.422Z"
   },
   {
    "duration": 249,
    "start_time": "2022-02-01T15:11:16.809Z"
   },
   {
    "duration": 365,
    "start_time": "2022-02-01T15:13:04.172Z"
   },
   {
    "duration": 366,
    "start_time": "2022-02-01T15:14:53.465Z"
   },
   {
    "duration": 34304,
    "start_time": "2022-02-01T15:15:53.948Z"
   },
   {
    "duration": 369,
    "start_time": "2022-02-01T15:17:53.715Z"
   },
   {
    "duration": 377,
    "start_time": "2022-02-01T15:22:05.112Z"
   },
   {
    "duration": 378,
    "start_time": "2022-02-01T15:24:07.286Z"
   },
   {
    "duration": 393,
    "start_time": "2022-02-01T15:25:06.354Z"
   },
   {
    "duration": 364,
    "start_time": "2022-02-01T15:25:36.131Z"
   },
   {
    "duration": 804,
    "start_time": "2022-02-01T15:26:09.013Z"
   },
   {
    "duration": 405,
    "start_time": "2022-02-01T15:27:53.395Z"
   },
   {
    "duration": 370,
    "start_time": "2022-02-01T15:28:31.813Z"
   },
   {
    "duration": 403,
    "start_time": "2022-02-01T15:28:59.470Z"
   },
   {
    "duration": 5,
    "start_time": "2022-02-01T17:53:42.144Z"
   },
   {
    "duration": 362,
    "start_time": "2022-02-01T17:53:42.752Z"
   },
   {
    "duration": 5,
    "start_time": "2022-02-01T18:05:11.701Z"
   },
   {
    "duration": 395,
    "start_time": "2022-02-01T18:05:14.213Z"
   },
   {
    "duration": 5,
    "start_time": "2022-02-01T18:05:32.670Z"
   },
   {
    "duration": 456,
    "start_time": "2022-02-01T18:05:34.574Z"
   },
   {
    "duration": 365,
    "start_time": "2022-02-01T18:05:48.279Z"
   },
   {
    "duration": 375,
    "start_time": "2022-02-01T18:06:25.121Z"
   },
   {
    "duration": 361,
    "start_time": "2022-02-01T18:07:41.797Z"
   },
   {
    "duration": 362,
    "start_time": "2022-02-01T18:11:14.641Z"
   },
   {
    "duration": 366,
    "start_time": "2022-02-01T18:15:19.808Z"
   },
   {
    "duration": 454,
    "start_time": "2022-02-01T18:17:26.664Z"
   },
   {
    "duration": 7,
    "start_time": "2022-02-01T18:20:00.014Z"
   },
   {
    "duration": 575,
    "start_time": "2022-02-01T18:22:29.775Z"
   },
   {
    "duration": 7683,
    "start_time": "2022-02-01T18:22:43.456Z"
   },
   {
    "duration": 48,
    "start_time": "2022-02-01T18:23:04.928Z"
   },
   {
    "duration": 9027,
    "start_time": "2022-02-01T18:23:27.395Z"
   },
   {
    "duration": 364,
    "start_time": "2022-02-01T18:24:46.967Z"
   },
   {
    "duration": 49,
    "start_time": "2022-02-01T18:25:24.202Z"
   },
   {
    "duration": 13,
    "start_time": "2022-02-01T18:25:45.515Z"
   },
   {
    "duration": 100,
    "start_time": "2022-02-01T18:26:44.280Z"
   },
   {
    "duration": 35,
    "start_time": "2022-02-01T18:26:59.390Z"
   },
   {
    "duration": 28,
    "start_time": "2022-02-01T18:27:12.254Z"
   },
   {
    "duration": 716,
    "start_time": "2022-02-01T19:08:08.229Z"
   },
   {
    "duration": 708,
    "start_time": "2022-02-01T19:08:20.157Z"
   },
   {
    "duration": 1248,
    "start_time": "2022-02-01T19:08:41.695Z"
   },
   {
    "duration": 1226,
    "start_time": "2022-02-01T19:10:51.774Z"
   },
   {
    "duration": 880,
    "start_time": "2022-02-01T19:11:38.320Z"
   },
   {
    "duration": 327,
    "start_time": "2022-02-01T19:13:57.224Z"
   },
   {
    "duration": 328,
    "start_time": "2022-02-01T19:14:03.152Z"
   },
   {
    "duration": 1061,
    "start_time": "2022-02-01T19:14:15.178Z"
   },
   {
    "duration": 629,
    "start_time": "2022-02-01T19:16:12.632Z"
   },
   {
    "duration": 937,
    "start_time": "2022-02-01T19:17:02.635Z"
   },
   {
    "duration": 173,
    "start_time": "2022-02-01T19:17:40.733Z"
   },
   {
    "duration": 124,
    "start_time": "2022-02-01T19:17:52.733Z"
   },
   {
    "duration": 830,
    "start_time": "2022-02-01T19:18:19.375Z"
   },
   {
    "duration": 959,
    "start_time": "2022-02-01T19:18:57.905Z"
   },
   {
    "duration": 616,
    "start_time": "2022-02-01T19:20:43.374Z"
   },
   {
    "duration": 957,
    "start_time": "2022-02-01T19:20:48.769Z"
   },
   {
    "duration": 958,
    "start_time": "2022-02-01T19:20:58.001Z"
   },
   {
    "duration": 957,
    "start_time": "2022-02-01T19:21:47.019Z"
   },
   {
    "duration": 7,
    "start_time": "2022-02-01T19:27:06.848Z"
   },
   {
    "duration": 360,
    "start_time": "2022-02-01T19:27:09.140Z"
   },
   {
    "duration": 368,
    "start_time": "2022-02-01T19:27:17.740Z"
   },
   {
    "duration": 606,
    "start_time": "2022-02-01T19:27:41.582Z"
   },
   {
    "duration": 943,
    "start_time": "2022-02-01T19:28:11.320Z"
   },
   {
    "duration": 11,
    "start_time": "2022-02-01T19:29:48.199Z"
   },
   {
    "duration": 15,
    "start_time": "2022-02-01T19:33:09.617Z"
   },
   {
    "duration": 19,
    "start_time": "2022-02-01T19:34:44.830Z"
   },
   {
    "duration": 107,
    "start_time": "2022-02-01T19:35:06.975Z"
   },
   {
    "duration": 133,
    "start_time": "2022-02-01T19:35:14.975Z"
   },
   {
    "duration": 17,
    "start_time": "2022-02-01T19:35:37.113Z"
   },
   {
    "duration": 16,
    "start_time": "2022-02-01T19:35:46.433Z"
   },
   {
    "duration": 14,
    "start_time": "2022-02-01T19:36:18.004Z"
   },
   {
    "duration": 15,
    "start_time": "2022-02-01T19:36:33.509Z"
   },
   {
    "duration": 14,
    "start_time": "2022-02-01T19:36:42.621Z"
   },
   {
    "duration": 16,
    "start_time": "2022-02-01T19:36:51.990Z"
   },
   {
    "duration": 15,
    "start_time": "2022-02-01T19:37:50.937Z"
   },
   {
    "duration": 824,
    "start_time": "2022-02-01T19:39:09.733Z"
   },
   {
    "duration": 721,
    "start_time": "2022-02-01T19:39:19.754Z"
   },
   {
    "duration": 801,
    "start_time": "2022-02-01T19:39:36.102Z"
   },
   {
    "duration": 593,
    "start_time": "2022-02-01T19:39:47.911Z"
   },
   {
    "duration": 623,
    "start_time": "2022-02-01T19:40:03.848Z"
   },
   {
    "duration": 621,
    "start_time": "2022-02-01T19:48:16.634Z"
   },
   {
    "duration": 668,
    "start_time": "2022-02-01T19:48:52.950Z"
   },
   {
    "duration": 935,
    "start_time": "2022-02-01T19:49:02.334Z"
   },
   {
    "duration": 544,
    "start_time": "2022-02-01T19:50:02.073Z"
   },
   {
    "duration": 529,
    "start_time": "2022-02-01T19:50:51.452Z"
   },
   {
    "duration": 804,
    "start_time": "2022-02-01T19:51:07.221Z"
   },
   {
    "duration": 565,
    "start_time": "2022-02-01T19:53:16.092Z"
   },
   {
    "duration": 557,
    "start_time": "2022-02-01T19:54:11.417Z"
   },
   {
    "duration": 570,
    "start_time": "2022-02-01T19:54:25.928Z"
   },
   {
    "duration": 625,
    "start_time": "2022-02-01T19:56:14.567Z"
   },
   {
    "duration": 637,
    "start_time": "2022-02-01T19:56:50.584Z"
   },
   {
    "duration": 618,
    "start_time": "2022-02-01T19:57:03.760Z"
   },
   {
    "duration": 539,
    "start_time": "2022-02-01T19:58:06.251Z"
   },
   {
    "duration": 468,
    "start_time": "2022-02-01T19:59:53.264Z"
   },
   {
    "duration": 330,
    "start_time": "2022-02-01T20:00:43.062Z"
   },
   {
    "duration": 27,
    "start_time": "2022-02-01T20:01:54.769Z"
   },
   {
    "duration": 23,
    "start_time": "2022-02-01T20:02:11.241Z"
   },
   {
    "duration": 24,
    "start_time": "2022-02-01T20:02:39.188Z"
   },
   {
    "duration": 35,
    "start_time": "2022-02-01T20:02:56.524Z"
   },
   {
    "duration": 24,
    "start_time": "2022-02-01T20:03:12.157Z"
   },
   {
    "duration": 24,
    "start_time": "2022-02-01T20:06:17.335Z"
   },
   {
    "duration": 1560,
    "start_time": "2022-02-01T20:22:31.279Z"
   },
   {
    "duration": 95,
    "start_time": "2022-02-01T20:22:32.841Z"
   },
   {
    "duration": 31,
    "start_time": "2022-02-01T20:22:32.939Z"
   },
   {
    "duration": 26,
    "start_time": "2022-02-01T20:22:32.973Z"
   },
   {
    "duration": 11,
    "start_time": "2022-02-01T20:22:33.002Z"
   },
   {
    "duration": 14,
    "start_time": "2022-02-01T20:22:33.016Z"
   },
   {
    "duration": 48,
    "start_time": "2022-02-01T20:22:33.033Z"
   },
   {
    "duration": 16,
    "start_time": "2022-02-01T20:22:33.087Z"
   },
   {
    "duration": 10,
    "start_time": "2022-02-01T20:22:33.107Z"
   },
   {
    "duration": 7,
    "start_time": "2022-02-01T20:22:33.121Z"
   },
   {
    "duration": 64,
    "start_time": "2022-02-01T20:22:33.131Z"
   },
   {
    "duration": 28,
    "start_time": "2022-02-01T20:22:33.198Z"
   },
   {
    "duration": 52,
    "start_time": "2022-02-01T20:22:33.229Z"
   },
   {
    "duration": 5,
    "start_time": "2022-02-01T20:22:33.283Z"
   },
   {
    "duration": 12,
    "start_time": "2022-02-01T20:22:33.290Z"
   },
   {
    "duration": 18,
    "start_time": "2022-02-01T20:22:33.304Z"
   },
   {
    "duration": 65,
    "start_time": "2022-02-01T20:22:33.325Z"
   },
   {
    "duration": 28,
    "start_time": "2022-02-01T20:22:33.392Z"
   },
   {
    "duration": 59,
    "start_time": "2022-02-01T20:22:33.424Z"
   },
   {
    "duration": 16,
    "start_time": "2022-02-01T20:22:33.485Z"
   },
   {
    "duration": 16,
    "start_time": "2022-02-01T20:22:33.503Z"
   },
   {
    "duration": 61,
    "start_time": "2022-02-01T20:22:33.521Z"
   },
   {
    "duration": 16,
    "start_time": "2022-02-01T20:22:33.587Z"
   },
   {
    "duration": 36,
    "start_time": "2022-02-01T20:22:33.607Z"
   },
   {
    "duration": 56,
    "start_time": "2022-02-01T20:22:33.646Z"
   },
   {
    "duration": 14,
    "start_time": "2022-02-01T20:22:33.704Z"
   },
   {
    "duration": 70,
    "start_time": "2022-02-01T20:22:33.721Z"
   },
   {
    "duration": 13,
    "start_time": "2022-02-01T20:22:33.794Z"
   },
   {
    "duration": 68,
    "start_time": "2022-02-01T20:22:33.810Z"
   },
   {
    "duration": 730,
    "start_time": "2022-02-01T20:22:33.881Z"
   },
   {
    "duration": 13,
    "start_time": "2022-02-01T20:22:34.614Z"
   },
   {
    "duration": 6,
    "start_time": "2022-02-01T20:22:34.631Z"
   },
   {
    "duration": 566,
    "start_time": "2022-02-01T20:22:34.640Z"
   },
   {
    "duration": 553,
    "start_time": "2022-02-01T20:22:35.209Z"
   },
   {
    "duration": 554,
    "start_time": "2022-02-01T20:22:35.765Z"
   },
   {
    "duration": 572,
    "start_time": "2022-02-01T20:22:36.322Z"
   },
   {
    "duration": 572,
    "start_time": "2022-02-01T20:22:36.897Z"
   },
   {
    "duration": 700,
    "start_time": "2022-02-01T20:22:37.472Z"
   },
   {
    "duration": 15,
    "start_time": "2022-02-01T20:22:38.175Z"
   },
   {
    "duration": 580,
    "start_time": "2022-02-01T20:22:38.193Z"
   },
   {
    "duration": 23,
    "start_time": "2022-02-01T20:22:38.775Z"
   },
   {
    "duration": 573,
    "start_time": "2022-02-01T20:24:26.990Z"
   },
   {
    "duration": 27,
    "start_time": "2022-02-01T20:27:00.549Z"
   },
   {
    "duration": 409,
    "start_time": "2022-02-02T10:08:59.658Z"
   },
   {
    "duration": 1563,
    "start_time": "2022-02-02T10:09:21.073Z"
   },
   {
    "duration": 275,
    "start_time": "2022-02-02T10:09:22.639Z"
   },
   {
    "duration": 36,
    "start_time": "2022-02-02T10:09:22.917Z"
   },
   {
    "duration": 19,
    "start_time": "2022-02-02T10:09:22.957Z"
   },
   {
    "duration": 9,
    "start_time": "2022-02-02T10:09:22.979Z"
   },
   {
    "duration": 41,
    "start_time": "2022-02-02T10:09:22.991Z"
   },
   {
    "duration": 27,
    "start_time": "2022-02-02T10:09:23.035Z"
   },
   {
    "duration": 11,
    "start_time": "2022-02-02T10:09:23.065Z"
   },
   {
    "duration": 14,
    "start_time": "2022-02-02T10:09:23.083Z"
   },
   {
    "duration": 31,
    "start_time": "2022-02-02T10:09:23.101Z"
   },
   {
    "duration": 37,
    "start_time": "2022-02-02T10:09:23.138Z"
   },
   {
    "duration": 21,
    "start_time": "2022-02-02T10:09:23.177Z"
   },
   {
    "duration": 58,
    "start_time": "2022-02-02T10:09:23.200Z"
   },
   {
    "duration": 11,
    "start_time": "2022-02-02T10:09:23.261Z"
   },
   {
    "duration": 11,
    "start_time": "2022-02-02T10:09:23.274Z"
   },
   {
    "duration": 10,
    "start_time": "2022-02-02T10:09:23.288Z"
   },
   {
    "duration": 64,
    "start_time": "2022-02-02T10:09:23.301Z"
   },
   {
    "duration": 23,
    "start_time": "2022-02-02T10:09:23.368Z"
   },
   {
    "duration": 59,
    "start_time": "2022-02-02T10:09:23.393Z"
   },
   {
    "duration": 17,
    "start_time": "2022-02-02T10:09:23.455Z"
   },
   {
    "duration": 15,
    "start_time": "2022-02-02T10:09:23.475Z"
   },
   {
    "duration": 63,
    "start_time": "2022-02-02T10:09:23.493Z"
   },
   {
    "duration": 21,
    "start_time": "2022-02-02T10:09:23.559Z"
   },
   {
    "duration": 18,
    "start_time": "2022-02-02T10:09:23.583Z"
   },
   {
    "duration": 69,
    "start_time": "2022-02-02T10:09:23.604Z"
   },
   {
    "duration": 14,
    "start_time": "2022-02-02T10:09:23.676Z"
   },
   {
    "duration": 75,
    "start_time": "2022-02-02T10:09:23.698Z"
   },
   {
    "duration": 11,
    "start_time": "2022-02-02T10:09:23.777Z"
   },
   {
    "duration": 64,
    "start_time": "2022-02-02T10:09:23.791Z"
   },
   {
    "duration": 578,
    "start_time": "2022-02-02T10:09:23.858Z"
   },
   {
    "duration": 13,
    "start_time": "2022-02-02T10:09:24.441Z"
   },
   {
    "duration": 17,
    "start_time": "2022-02-02T10:09:24.457Z"
   },
   {
    "duration": 439,
    "start_time": "2022-02-02T10:09:24.477Z"
   },
   {
    "duration": 437,
    "start_time": "2022-02-02T10:09:24.918Z"
   },
   {
    "duration": 403,
    "start_time": "2022-02-02T10:09:25.358Z"
   },
   {
    "duration": 445,
    "start_time": "2022-02-02T10:09:25.764Z"
   },
   {
    "duration": 452,
    "start_time": "2022-02-02T10:09:26.212Z"
   },
   {
    "duration": 759,
    "start_time": "2022-02-02T10:09:26.667Z"
   },
   {
    "duration": 17,
    "start_time": "2022-02-02T10:09:27.428Z"
   },
   {
    "duration": 595,
    "start_time": "2022-02-02T10:09:27.450Z"
   },
   {
    "duration": 31,
    "start_time": "2022-02-02T10:09:28.048Z"
   },
   {
    "duration": 72,
    "start_time": "2022-02-02T10:09:28.081Z"
   },
   {
    "duration": 31,
    "start_time": "2022-02-02T10:09:28.157Z"
   },
   {
    "duration": 7,
    "start_time": "2022-02-02T10:16:30.003Z"
   },
   {
    "duration": 25,
    "start_time": "2022-02-02T10:16:33.130Z"
   },
   {
    "duration": 893,
    "start_time": "2022-02-02T10:23:02.064Z"
   },
   {
    "duration": 935,
    "start_time": "2022-02-02T10:50:44.960Z"
   },
   {
    "duration": 902,
    "start_time": "2022-02-02T10:51:34.906Z"
   },
   {
    "duration": 460,
    "start_time": "2022-02-02T11:04:01.577Z"
   },
   {
    "duration": 876,
    "start_time": "2022-02-02T11:07:37.108Z"
   },
   {
    "duration": 969,
    "start_time": "2022-02-02T11:08:12.404Z"
   },
   {
    "duration": 914,
    "start_time": "2022-02-02T11:08:43.471Z"
   },
   {
    "duration": 945,
    "start_time": "2022-02-02T11:09:11.720Z"
   },
   {
    "duration": 891,
    "start_time": "2022-02-02T11:09:18.160Z"
   },
   {
    "duration": 951,
    "start_time": "2022-02-02T11:09:23.645Z"
   },
   {
    "duration": 875,
    "start_time": "2022-02-02T11:09:40.547Z"
   },
   {
    "duration": 1019,
    "start_time": "2022-02-02T11:09:53.930Z"
   },
   {
    "duration": 926,
    "start_time": "2022-02-02T11:10:02.515Z"
   },
   {
    "duration": 956,
    "start_time": "2022-02-02T11:10:25.028Z"
   },
   {
    "duration": 963,
    "start_time": "2022-02-02T11:22:21.004Z"
   },
   {
    "duration": 802,
    "start_time": "2022-02-02T11:22:44.196Z"
   },
   {
    "duration": 116,
    "start_time": "2022-02-02T11:23:00.214Z"
   },
   {
    "duration": 917,
    "start_time": "2022-02-02T11:23:05.758Z"
   },
   {
    "duration": 934,
    "start_time": "2022-02-02T11:23:21.303Z"
   },
   {
    "duration": 984,
    "start_time": "2022-02-02T11:29:48.454Z"
   },
   {
    "duration": 7,
    "start_time": "2022-02-02T11:37:19.869Z"
   },
   {
    "duration": 20,
    "start_time": "2022-02-02T11:37:22.678Z"
   },
   {
    "duration": 879,
    "start_time": "2022-02-02T11:37:32.998Z"
   },
   {
    "duration": 9,
    "start_time": "2022-02-02T12:06:06.484Z"
   },
   {
    "duration": 8,
    "start_time": "2022-02-02T12:32:40.790Z"
   },
   {
    "duration": 3,
    "start_time": "2022-02-02T12:45:22.559Z"
   },
   {
    "duration": 759,
    "start_time": "2022-02-02T12:47:58.985Z"
   },
   {
    "duration": 25,
    "start_time": "2022-02-02T12:48:23.154Z"
   },
   {
    "duration": 327,
    "start_time": "2022-02-02T12:51:31.301Z"
   },
   {
    "duration": 1668,
    "start_time": "2022-02-02T12:51:44.625Z"
   },
   {
    "duration": 4,
    "start_time": "2022-02-02T12:51:46.296Z"
   },
   {
    "duration": 98,
    "start_time": "2022-02-02T12:51:46.303Z"
   },
   {
    "duration": 29,
    "start_time": "2022-02-02T12:51:46.404Z"
   },
   {
    "duration": 14,
    "start_time": "2022-02-02T12:51:46.435Z"
   },
   {
    "duration": 10,
    "start_time": "2022-02-02T12:51:46.451Z"
   },
   {
    "duration": 11,
    "start_time": "2022-02-02T12:51:46.463Z"
   },
   {
    "duration": 57,
    "start_time": "2022-02-02T12:51:46.479Z"
   },
   {
    "duration": 10,
    "start_time": "2022-02-02T12:51:46.539Z"
   },
   {
    "duration": 9,
    "start_time": "2022-02-02T12:51:46.552Z"
   },
   {
    "duration": 8,
    "start_time": "2022-02-02T12:51:46.564Z"
   },
   {
    "duration": 57,
    "start_time": "2022-02-02T12:51:46.575Z"
   },
   {
    "duration": 22,
    "start_time": "2022-02-02T12:51:46.635Z"
   },
   {
    "duration": 25,
    "start_time": "2022-02-02T12:51:46.659Z"
   },
   {
    "duration": 48,
    "start_time": "2022-02-02T12:51:46.687Z"
   },
   {
    "duration": 11,
    "start_time": "2022-02-02T12:51:46.740Z"
   },
   {
    "duration": 14,
    "start_time": "2022-02-02T12:51:46.753Z"
   },
   {
    "duration": 63,
    "start_time": "2022-02-02T12:51:46.769Z"
   },
   {
    "duration": 34,
    "start_time": "2022-02-02T12:51:46.835Z"
   },
   {
    "duration": 63,
    "start_time": "2022-02-02T12:51:46.871Z"
   },
   {
    "duration": 17,
    "start_time": "2022-02-02T12:51:46.936Z"
   },
   {
    "duration": 14,
    "start_time": "2022-02-02T12:51:46.956Z"
   },
   {
    "duration": 65,
    "start_time": "2022-02-02T12:51:46.976Z"
   },
   {
    "duration": 15,
    "start_time": "2022-02-02T12:51:47.044Z"
   },
   {
    "duration": 16,
    "start_time": "2022-02-02T12:51:47.061Z"
   },
   {
    "duration": 93,
    "start_time": "2022-02-02T12:51:47.080Z"
   },
   {
    "duration": 14,
    "start_time": "2022-02-02T12:51:47.175Z"
   },
   {
    "duration": 72,
    "start_time": "2022-02-02T12:51:47.192Z"
   },
   {
    "duration": 12,
    "start_time": "2022-02-02T12:51:47.267Z"
   },
   {
    "duration": 68,
    "start_time": "2022-02-02T12:51:47.282Z"
   },
   {
    "duration": 524,
    "start_time": "2022-02-02T12:51:47.353Z"
   },
   {
    "duration": 11,
    "start_time": "2022-02-02T12:51:47.880Z"
   },
   {
    "duration": 5,
    "start_time": "2022-02-02T12:51:47.894Z"
   },
   {
    "duration": 410,
    "start_time": "2022-02-02T12:51:47.901Z"
   },
   {
    "duration": 383,
    "start_time": "2022-02-02T12:51:48.314Z"
   },
   {
    "duration": 388,
    "start_time": "2022-02-02T12:51:48.700Z"
   },
   {
    "duration": 555,
    "start_time": "2022-02-02T12:51:49.091Z"
   },
   {
    "duration": 400,
    "start_time": "2022-02-02T12:51:49.648Z"
   },
   {
    "duration": 853,
    "start_time": "2022-02-02T12:51:50.050Z"
   },
   {
    "duration": 26,
    "start_time": "2022-02-02T12:51:50.906Z"
   },
   {
    "duration": 545,
    "start_time": "2022-02-02T12:51:50.935Z"
   },
   {
    "duration": 22,
    "start_time": "2022-02-02T12:51:51.483Z"
   },
   {
    "duration": 26,
    "start_time": "2022-02-02T12:51:51.507Z"
   },
   {
    "duration": 904,
    "start_time": "2022-02-02T12:51:51.535Z"
   },
   {
    "duration": 6,
    "start_time": "2022-02-02T12:51:52.442Z"
   },
   {
    "duration": 84,
    "start_time": "2022-02-02T12:51:52.450Z"
   },
   {
    "duration": 25,
    "start_time": "2022-02-02T12:51:52.536Z"
   },
   {
    "duration": 6,
    "start_time": "2022-02-02T12:54:16.897Z"
   },
   {
    "duration": 1590,
    "start_time": "2022-02-02T12:54:35.491Z"
   },
   {
    "duration": 4,
    "start_time": "2022-02-02T12:54:37.084Z"
   },
   {
    "duration": 92,
    "start_time": "2022-02-02T12:54:37.092Z"
   },
   {
    "duration": 32,
    "start_time": "2022-02-02T12:54:37.187Z"
   },
   {
    "duration": 17,
    "start_time": "2022-02-02T12:54:37.222Z"
   },
   {
    "duration": 9,
    "start_time": "2022-02-02T12:54:37.241Z"
   },
   {
    "duration": 14,
    "start_time": "2022-02-02T12:54:37.253Z"
   },
   {
    "duration": 19,
    "start_time": "2022-02-02T12:54:37.271Z"
   },
   {
    "duration": 44,
    "start_time": "2022-02-02T12:54:37.293Z"
   },
   {
    "duration": 9,
    "start_time": "2022-02-02T12:54:37.339Z"
   },
   {
    "duration": 12,
    "start_time": "2022-02-02T12:54:37.350Z"
   },
   {
    "duration": 30,
    "start_time": "2022-02-02T12:54:37.364Z"
   },
   {
    "duration": 55,
    "start_time": "2022-02-02T12:54:37.396Z"
   },
   {
    "duration": 17,
    "start_time": "2022-02-02T12:54:37.453Z"
   },
   {
    "duration": 4,
    "start_time": "2022-02-02T12:54:37.472Z"
   },
   {
    "duration": 56,
    "start_time": "2022-02-02T12:54:37.479Z"
   },
   {
    "duration": 11,
    "start_time": "2022-02-02T12:54:37.538Z"
   },
   {
    "duration": 22,
    "start_time": "2022-02-02T12:54:37.552Z"
   },
   {
    "duration": 23,
    "start_time": "2022-02-02T12:54:37.576Z"
   },
   {
    "duration": 22,
    "start_time": "2022-02-02T12:54:37.632Z"
   },
   {
    "duration": 15,
    "start_time": "2022-02-02T12:54:37.656Z"
   },
   {
    "duration": 59,
    "start_time": "2022-02-02T12:54:37.673Z"
   },
   {
    "duration": 16,
    "start_time": "2022-02-02T12:54:37.737Z"
   },
   {
    "duration": 14,
    "start_time": "2022-02-02T12:54:37.757Z"
   },
   {
    "duration": 17,
    "start_time": "2022-02-02T12:54:37.773Z"
   },
   {
    "duration": 74,
    "start_time": "2022-02-02T12:54:37.792Z"
   },
   {
    "duration": 13,
    "start_time": "2022-02-02T12:54:37.869Z"
   },
   {
    "duration": 70,
    "start_time": "2022-02-02T12:54:37.884Z"
   },
   {
    "duration": 11,
    "start_time": "2022-02-02T12:54:37.956Z"
   },
   {
    "duration": 65,
    "start_time": "2022-02-02T12:54:37.969Z"
   },
   {
    "duration": 506,
    "start_time": "2022-02-02T12:54:38.036Z"
   },
   {
    "duration": 12,
    "start_time": "2022-02-02T12:54:38.546Z"
   },
   {
    "duration": 7,
    "start_time": "2022-02-02T12:54:38.561Z"
   },
   {
    "duration": 394,
    "start_time": "2022-02-02T12:54:38.571Z"
   },
   {
    "duration": 389,
    "start_time": "2022-02-02T12:54:38.969Z"
   },
   {
    "duration": 396,
    "start_time": "2022-02-02T12:54:39.361Z"
   },
   {
    "duration": 399,
    "start_time": "2022-02-02T12:54:39.761Z"
   },
   {
    "duration": 388,
    "start_time": "2022-02-02T12:54:40.162Z"
   },
   {
    "duration": 705,
    "start_time": "2022-02-02T12:54:40.553Z"
   },
   {
    "duration": 14,
    "start_time": "2022-02-02T12:54:41.260Z"
   },
   {
    "duration": 562,
    "start_time": "2022-02-02T12:54:41.277Z"
   },
   {
    "duration": 23,
    "start_time": "2022-02-02T12:54:41.841Z"
   },
   {
    "duration": 5,
    "start_time": "2022-02-02T12:54:41.866Z"
   },
   {
    "duration": 978,
    "start_time": "2022-02-02T12:54:41.873Z"
   },
   {
    "duration": 6,
    "start_time": "2022-02-02T12:54:42.854Z"
   },
   {
    "duration": 8,
    "start_time": "2022-02-02T12:54:42.863Z"
   },
   {
    "duration": 84,
    "start_time": "2022-02-02T12:54:42.873Z"
   },
   {
    "duration": 24,
    "start_time": "2022-02-02T12:54:42.960Z"
   },
   {
    "duration": 1777,
    "start_time": "2022-02-02T13:06:49.810Z"
   },
   {
    "duration": 4,
    "start_time": "2022-02-02T13:06:51.591Z"
   },
   {
    "duration": 122,
    "start_time": "2022-02-02T13:06:51.603Z"
   },
   {
    "duration": 44,
    "start_time": "2022-02-02T13:06:51.728Z"
   },
   {
    "duration": 19,
    "start_time": "2022-02-02T13:06:51.775Z"
   },
   {
    "duration": 45,
    "start_time": "2022-02-02T13:06:51.797Z"
   },
   {
    "duration": 15,
    "start_time": "2022-02-02T13:06:51.847Z"
   },
   {
    "duration": 26,
    "start_time": "2022-02-02T13:06:51.866Z"
   },
   {
    "duration": 40,
    "start_time": "2022-02-02T13:06:51.895Z"
   },
   {
    "duration": 7,
    "start_time": "2022-02-02T13:06:51.938Z"
   },
   {
    "duration": 10,
    "start_time": "2022-02-02T13:06:51.947Z"
   },
   {
    "duration": 31,
    "start_time": "2022-02-02T13:06:51.960Z"
   },
   {
    "duration": 59,
    "start_time": "2022-02-02T13:06:51.993Z"
   },
   {
    "duration": 17,
    "start_time": "2022-02-02T13:06:52.055Z"
   },
   {
    "duration": 5,
    "start_time": "2022-02-02T13:06:52.074Z"
   },
   {
    "duration": 57,
    "start_time": "2022-02-02T13:06:52.081Z"
   },
   {
    "duration": 13,
    "start_time": "2022-02-02T13:06:52.141Z"
   },
   {
    "duration": 29,
    "start_time": "2022-02-02T13:06:52.157Z"
   },
   {
    "duration": 45,
    "start_time": "2022-02-02T13:06:52.189Z"
   },
   {
    "duration": 22,
    "start_time": "2022-02-02T13:06:52.236Z"
   },
   {
    "duration": 15,
    "start_time": "2022-02-02T13:06:52.260Z"
   },
   {
    "duration": 59,
    "start_time": "2022-02-02T13:06:52.280Z"
   },
   {
    "duration": 16,
    "start_time": "2022-02-02T13:06:52.343Z"
   },
   {
    "duration": 14,
    "start_time": "2022-02-02T13:06:52.362Z"
   },
   {
    "duration": 54,
    "start_time": "2022-02-02T13:06:52.379Z"
   },
   {
    "duration": 46,
    "start_time": "2022-02-02T13:06:52.436Z"
   },
   {
    "duration": 15,
    "start_time": "2022-02-02T13:06:52.485Z"
   },
   {
    "duration": 72,
    "start_time": "2022-02-02T13:06:52.502Z"
   },
   {
    "duration": 14,
    "start_time": "2022-02-02T13:06:52.577Z"
   },
   {
    "duration": 206,
    "start_time": "2022-02-02T13:06:52.594Z"
   },
   {
    "duration": 524,
    "start_time": "2022-02-02T13:06:52.803Z"
   },
   {
    "duration": 11,
    "start_time": "2022-02-02T13:06:53.332Z"
   },
   {
    "duration": 7,
    "start_time": "2022-02-02T13:06:53.345Z"
   },
   {
    "duration": 394,
    "start_time": "2022-02-02T13:06:53.355Z"
   },
   {
    "duration": 384,
    "start_time": "2022-02-02T13:06:53.752Z"
   },
   {
    "duration": 381,
    "start_time": "2022-02-02T13:06:54.138Z"
   },
   {
    "duration": 394,
    "start_time": "2022-02-02T13:06:54.522Z"
   },
   {
    "duration": 408,
    "start_time": "2022-02-02T13:06:54.918Z"
   },
   {
    "duration": 683,
    "start_time": "2022-02-02T13:06:55.332Z"
   },
   {
    "duration": 18,
    "start_time": "2022-02-02T13:06:56.017Z"
   },
   {
    "duration": 567,
    "start_time": "2022-02-02T13:06:56.037Z"
   },
   {
    "duration": 38,
    "start_time": "2022-02-02T13:06:56.607Z"
   },
   {
    "duration": 6,
    "start_time": "2022-02-02T13:06:56.648Z"
   },
   {
    "duration": 958,
    "start_time": "2022-02-02T13:06:56.656Z"
   },
   {
    "duration": 16,
    "start_time": "2022-02-02T13:06:57.616Z"
   },
   {
    "duration": 8,
    "start_time": "2022-02-02T13:06:57.635Z"
   },
   {
    "duration": 58,
    "start_time": "2022-02-02T13:06:57.646Z"
   },
   {
    "duration": 44,
    "start_time": "2022-02-02T13:06:57.707Z"
   },
   {
    "duration": 31,
    "start_time": "2022-02-02T13:13:18.217Z"
   },
   {
    "duration": 28,
    "start_time": "2022-02-02T13:13:33.224Z"
   },
   {
    "duration": 9,
    "start_time": "2022-02-02T13:24:31.885Z"
   },
   {
    "duration": 9,
    "start_time": "2022-02-02T13:24:35.100Z"
   },
   {
    "duration": 18,
    "start_time": "2022-02-02T13:29:08.235Z"
   },
   {
    "duration": 19,
    "start_time": "2022-02-02T13:29:15.068Z"
   },
   {
    "duration": 17,
    "start_time": "2022-02-02T13:30:32.280Z"
   },
   {
    "duration": 18,
    "start_time": "2022-02-02T13:31:28.820Z"
   },
   {
    "duration": 41,
    "start_time": "2022-02-02T13:36:37.558Z"
   },
   {
    "duration": 435,
    "start_time": "2022-02-02T13:37:43.937Z"
   },
   {
    "duration": 5,
    "start_time": "2022-02-02T13:37:57.410Z"
   },
   {
    "duration": 43,
    "start_time": "2022-02-02T13:38:06.131Z"
   },
   {
    "duration": 40,
    "start_time": "2022-02-02T13:39:53.793Z"
   },
   {
    "duration": 38,
    "start_time": "2022-02-02T13:39:58.584Z"
   },
   {
    "duration": 21,
    "start_time": "2022-02-02T13:44:44.720Z"
   },
   {
    "duration": 320,
    "start_time": "2022-02-02T13:46:38.503Z"
   },
   {
    "duration": 5,
    "start_time": "2022-02-02T13:47:04.057Z"
   },
   {
    "duration": 367,
    "start_time": "2022-02-02T13:47:10.472Z"
   },
   {
    "duration": 1819,
    "start_time": "2022-02-02T13:47:31.138Z"
   },
   {
    "duration": 1955,
    "start_time": "2022-02-02T13:52:37.778Z"
   },
   {
    "duration": 1888,
    "start_time": "2022-02-02T13:52:43.482Z"
   },
   {
    "duration": 1880,
    "start_time": "2022-02-02T13:52:53.483Z"
   },
   {
    "duration": 15,
    "start_time": "2022-02-02T14:16:51.859Z"
   },
   {
    "duration": 8,
    "start_time": "2022-02-02T14:17:08.133Z"
   },
   {
    "duration": 6,
    "start_time": "2022-02-02T14:17:47.701Z"
   },
   {
    "duration": 10,
    "start_time": "2022-02-02T14:18:02.062Z"
   },
   {
    "duration": 304,
    "start_time": "2022-02-02T14:18:39.568Z"
   },
   {
    "duration": 138260,
    "start_time": "2022-02-02T14:19:16.091Z"
   },
   {
    "duration": 6,
    "start_time": "2022-02-02T14:26:22.786Z"
   },
   {
    "duration": 140602,
    "start_time": "2022-02-02T14:26:29.114Z"
   },
   {
    "duration": 7,
    "start_time": "2022-02-03T05:44:13.772Z"
   },
   {
    "duration": 1513,
    "start_time": "2022-02-03T05:45:36.481Z"
   },
   {
    "duration": 3,
    "start_time": "2022-02-03T05:45:37.997Z"
   },
   {
    "duration": 99,
    "start_time": "2022-02-03T05:45:38.003Z"
   },
   {
    "duration": 29,
    "start_time": "2022-02-03T05:45:38.105Z"
   },
   {
    "duration": 14,
    "start_time": "2022-02-03T05:45:38.136Z"
   },
   {
    "duration": 10,
    "start_time": "2022-02-03T05:45:38.152Z"
   },
   {
    "duration": 11,
    "start_time": "2022-02-03T05:45:38.164Z"
   },
   {
    "duration": 61,
    "start_time": "2022-02-03T05:45:38.178Z"
   },
   {
    "duration": 11,
    "start_time": "2022-02-03T05:45:38.242Z"
   },
   {
    "duration": 9,
    "start_time": "2022-02-03T05:45:38.255Z"
   },
   {
    "duration": 9,
    "start_time": "2022-02-03T05:45:38.266Z"
   },
   {
    "duration": 30,
    "start_time": "2022-02-03T05:45:38.277Z"
   },
   {
    "duration": 20,
    "start_time": "2022-02-03T05:45:38.332Z"
   },
   {
    "duration": 15,
    "start_time": "2022-02-03T05:45:38.354Z"
   },
   {
    "duration": 5,
    "start_time": "2022-02-03T05:45:38.371Z"
   },
   {
    "duration": 58,
    "start_time": "2022-02-03T05:45:38.378Z"
   },
   {
    "duration": 27,
    "start_time": "2022-02-03T05:45:38.439Z"
   },
   {
    "duration": 26,
    "start_time": "2022-02-03T05:45:38.468Z"
   },
   {
    "duration": 35,
    "start_time": "2022-02-03T05:45:38.497Z"
   },
   {
    "duration": 23,
    "start_time": "2022-02-03T05:45:38.535Z"
   },
   {
    "duration": 16,
    "start_time": "2022-02-03T05:45:38.561Z"
   },
   {
    "duration": 60,
    "start_time": "2022-02-03T05:45:38.580Z"
   },
   {
    "duration": 16,
    "start_time": "2022-02-03T05:45:38.646Z"
   },
   {
    "duration": 15,
    "start_time": "2022-02-03T05:45:38.665Z"
   },
   {
    "duration": 56,
    "start_time": "2022-02-03T05:45:38.682Z"
   },
   {
    "duration": 48,
    "start_time": "2022-02-03T05:45:38.740Z"
   },
   {
    "duration": 45,
    "start_time": "2022-02-03T05:45:38.790Z"
   },
   {
    "duration": 43,
    "start_time": "2022-02-03T05:45:38.837Z"
   },
   {
    "duration": 11,
    "start_time": "2022-02-03T05:45:38.883Z"
   },
   {
    "duration": 70,
    "start_time": "2022-02-03T05:45:38.896Z"
   },
   {
    "duration": 507,
    "start_time": "2022-02-03T05:45:38.968Z"
   },
   {
    "duration": 11,
    "start_time": "2022-02-03T05:45:39.477Z"
   },
   {
    "duration": 7,
    "start_time": "2022-02-03T05:45:39.490Z"
   },
   {
    "duration": 379,
    "start_time": "2022-02-03T05:45:39.499Z"
   },
   {
    "duration": 380,
    "start_time": "2022-02-03T05:45:39.881Z"
   },
   {
    "duration": 380,
    "start_time": "2022-02-03T05:45:40.264Z"
   },
   {
    "duration": 454,
    "start_time": "2022-02-03T05:45:40.647Z"
   },
   {
    "duration": 378,
    "start_time": "2022-02-03T05:45:41.104Z"
   },
   {
    "duration": 629,
    "start_time": "2022-02-03T05:45:41.484Z"
   },
   {
    "duration": 24,
    "start_time": "2022-02-03T05:45:42.115Z"
   },
   {
    "duration": 559,
    "start_time": "2022-02-03T05:45:42.142Z"
   },
   {
    "duration": 34,
    "start_time": "2022-02-03T05:45:42.703Z"
   },
   {
    "duration": 6,
    "start_time": "2022-02-03T05:45:42.740Z"
   },
   {
    "duration": 921,
    "start_time": "2022-02-03T05:45:42.748Z"
   },
   {
    "duration": 6,
    "start_time": "2022-02-03T05:45:43.671Z"
   },
   {
    "duration": 9,
    "start_time": "2022-02-03T05:45:43.679Z"
   },
   {
    "duration": 60,
    "start_time": "2022-02-03T05:45:43.690Z"
   },
   {
    "duration": 25,
    "start_time": "2022-02-03T05:45:43.753Z"
   },
   {
    "duration": 18,
    "start_time": "2022-02-03T05:45:43.780Z"
   },
   {
    "duration": 47,
    "start_time": "2022-02-03T05:45:43.800Z"
   },
   {
    "duration": 40,
    "start_time": "2022-02-03T05:45:43.849Z"
   },
   {
    "duration": 62,
    "start_time": "2022-02-03T05:45:43.891Z"
   },
   {
    "duration": 8,
    "start_time": "2022-02-03T05:45:43.955Z"
   },
   {
    "duration": 10,
    "start_time": "2022-02-03T05:45:43.966Z"
   },
   {
    "duration": 7,
    "start_time": "2022-02-03T05:45:43.979Z"
   },
   {
    "duration": 46,
    "start_time": "2022-02-03T05:45:43.988Z"
   },
   {
    "duration": 136597,
    "start_time": "2022-02-03T05:45:44.037Z"
   },
   {
    "duration": 745,
    "start_time": "2022-02-03T05:47:59.891Z"
   },
   {
    "duration": 742,
    "start_time": "2022-02-03T05:47:59.896Z"
   },
   {
    "duration": 7,
    "start_time": "2022-02-03T05:52:59.040Z"
   },
   {
    "duration": 6,
    "start_time": "2022-02-03T05:53:02.545Z"
   },
   {
    "duration": 110,
    "start_time": "2022-02-03T05:55:19.625Z"
   },
   {
    "duration": 6,
    "start_time": "2022-02-03T05:55:36.466Z"
   },
   {
    "duration": 9,
    "start_time": "2022-02-03T05:57:10.128Z"
   },
   {
    "duration": 25132,
    "start_time": "2022-02-03T05:58:04.099Z"
   },
   {
    "duration": 7,
    "start_time": "2022-02-03T06:08:52.445Z"
   },
   {
    "duration": 10485,
    "start_time": "2022-02-03T06:09:10.350Z"
   },
   {
    "duration": 7,
    "start_time": "2022-02-03T06:14:44.457Z"
   },
   {
    "duration": 5,
    "start_time": "2022-02-03T06:15:01.793Z"
   },
   {
    "duration": 11,
    "start_time": "2022-02-03T06:15:05.176Z"
   },
   {
    "duration": 10353,
    "start_time": "2022-02-03T06:15:12.097Z"
   },
   {
    "duration": 7,
    "start_time": "2022-02-03T06:17:11.424Z"
   },
   {
    "duration": 7,
    "start_time": "2022-02-03T06:17:12.728Z"
   },
   {
    "duration": 10,
    "start_time": "2022-02-03T06:17:15.280Z"
   },
   {
    "duration": 10634,
    "start_time": "2022-02-03T06:17:18.216Z"
   },
   {
    "duration": 6,
    "start_time": "2022-02-03T06:39:12.751Z"
   },
   {
    "duration": 15,
    "start_time": "2022-02-03T06:43:25.957Z"
   },
   {
    "duration": 5,
    "start_time": "2022-02-03T06:46:44.329Z"
   },
   {
    "duration": 5896,
    "start_time": "2022-02-03T06:46:54.249Z"
   },
   {
    "duration": 313,
    "start_time": "2022-02-03T06:51:12.824Z"
   },
   {
    "duration": 13,
    "start_time": "2022-02-03T06:51:24.744Z"
   },
   {
    "duration": 12,
    "start_time": "2022-02-03T06:51:29.520Z"
   },
   {
    "duration": 13,
    "start_time": "2022-02-03T06:52:00.441Z"
   },
   {
    "duration": 13,
    "start_time": "2022-02-03T06:53:56.296Z"
   },
   {
    "duration": 6,
    "start_time": "2022-02-03T07:00:49.120Z"
   },
   {
    "duration": 6,
    "start_time": "2022-02-03T07:00:56.079Z"
   },
   {
    "duration": 6,
    "start_time": "2022-02-03T07:05:06.297Z"
   },
   {
    "duration": 7,
    "start_time": "2022-02-03T07:05:06.679Z"
   },
   {
    "duration": 13,
    "start_time": "2022-02-03T07:05:07.880Z"
   },
   {
    "duration": 18,
    "start_time": "2022-02-03T07:05:09.680Z"
   },
   {
    "duration": 307,
    "start_time": "2022-02-03T07:05:23.337Z"
   },
   {
    "duration": 9,
    "start_time": "2022-02-03T07:07:31.230Z"
   },
   {
    "duration": 139,
    "start_time": "2022-02-03T07:07:34.269Z"
   },
   {
    "duration": 106,
    "start_time": "2022-02-03T07:07:55.392Z"
   },
   {
    "duration": 16893,
    "start_time": "2022-02-03T07:08:42.210Z"
   },
   {
    "duration": 153683,
    "start_time": "2022-02-03T07:11:19.394Z"
   },
   {
    "duration": 9,
    "start_time": "2022-02-03T07:23:18.426Z"
   },
   {
    "duration": 17720,
    "start_time": "2022-02-03T07:23:28.195Z"
   },
   {
    "duration": 9,
    "start_time": "2022-02-03T07:25:24.905Z"
   },
   {
    "duration": 17064,
    "start_time": "2022-02-03T07:25:33.618Z"
   },
   {
    "duration": 144231,
    "start_time": "2022-02-03T07:32:16.520Z"
   },
   {
    "duration": 561802,
    "start_time": "2022-02-03T07:34:40.754Z"
   },
   {
    "duration": 3144607,
    "start_time": "2022-02-03T07:44:02.559Z"
   },
   {
    "duration": 699,
    "start_time": "2022-02-03T08:36:27.168Z"
   },
   {
    "duration": 1583646,
    "start_time": "2022-02-03T08:42:35.493Z"
   },
   {
    "duration": 7,
    "start_time": "2022-02-03T09:31:32.898Z"
   },
   {
    "duration": 4,
    "start_time": "2022-02-03T09:31:33.282Z"
   },
   {
    "duration": 97,
    "start_time": "2022-02-03T09:31:33.514Z"
   },
   {
    "duration": 27,
    "start_time": "2022-02-03T09:31:35.107Z"
   },
   {
    "duration": 15,
    "start_time": "2022-02-03T09:31:35.683Z"
   },
   {
    "duration": 11,
    "start_time": "2022-02-03T09:31:37.194Z"
   },
   {
    "duration": 11,
    "start_time": "2022-02-03T09:31:38.130Z"
   },
   {
    "duration": 24,
    "start_time": "2022-02-03T09:31:38.634Z"
   },
   {
    "duration": 16,
    "start_time": "2022-02-03T09:31:39.059Z"
   },
   {
    "duration": 8,
    "start_time": "2022-02-03T09:31:39.522Z"
   },
   {
    "duration": 7,
    "start_time": "2022-02-03T09:31:40.090Z"
   },
   {
    "duration": 28,
    "start_time": "2022-02-03T09:31:41.331Z"
   },
   {
    "duration": 20,
    "start_time": "2022-02-03T09:31:41.947Z"
   },
   {
    "duration": 16,
    "start_time": "2022-02-03T09:31:42.203Z"
   },
   {
    "duration": 5,
    "start_time": "2022-02-03T09:31:42.850Z"
   },
   {
    "duration": 10,
    "start_time": "2022-02-03T09:31:43.042Z"
   },
   {
    "duration": 10,
    "start_time": "2022-02-03T09:31:43.242Z"
   },
   {
    "duration": 20,
    "start_time": "2022-02-03T09:31:43.459Z"
   },
   {
    "duration": 25,
    "start_time": "2022-02-03T09:31:43.891Z"
   },
   {
    "duration": 24,
    "start_time": "2022-02-03T09:31:44.091Z"
   },
   {
    "duration": 22,
    "start_time": "2022-02-03T09:31:44.972Z"
   },
   {
    "duration": 13,
    "start_time": "2022-02-03T09:31:45.219Z"
   },
   {
    "duration": 18,
    "start_time": "2022-02-03T09:31:46.627Z"
   },
   {
    "duration": 17,
    "start_time": "2022-02-03T09:31:46.874Z"
   },
   {
    "duration": 17,
    "start_time": "2022-02-03T09:31:47.115Z"
   },
   {
    "duration": 47,
    "start_time": "2022-02-03T09:31:47.339Z"
   },
   {
    "duration": 18,
    "start_time": "2022-02-03T09:31:48.003Z"
   },
   {
    "duration": 64,
    "start_time": "2022-02-03T09:31:48.412Z"
   },
   {
    "duration": 14,
    "start_time": "2022-02-03T09:31:50.980Z"
   },
   {
    "duration": 55,
    "start_time": "2022-02-03T09:31:52.099Z"
   },
   {
    "duration": 597,
    "start_time": "2022-02-03T09:31:52.723Z"
   },
   {
    "duration": 12,
    "start_time": "2022-02-03T09:31:53.460Z"
   },
   {
    "duration": 5,
    "start_time": "2022-02-03T09:31:56.147Z"
   },
   {
    "duration": 362,
    "start_time": "2022-02-03T09:31:59.276Z"
   },
   {
    "duration": 368,
    "start_time": "2022-02-03T09:32:04.708Z"
   },
   {
    "duration": 359,
    "start_time": "2022-02-03T09:32:07.668Z"
   },
   {
    "duration": 377,
    "start_time": "2022-02-03T09:32:10.596Z"
   },
   {
    "duration": 384,
    "start_time": "2022-02-03T09:32:14.508Z"
   },
   {
    "duration": 2436,
    "start_time": "2022-02-03T09:32:17.685Z"
   },
   {
    "duration": 3443,
    "start_time": "2022-02-03T09:33:46.337Z"
   },
   {
    "duration": 399,
    "start_time": "2022-02-03T09:37:03.451Z"
   },
   {
    "duration": 428,
    "start_time": "2022-02-03T09:37:35.981Z"
   },
   {
    "duration": 715,
    "start_time": "2022-02-03T09:45:11.681Z"
   },
   {
    "duration": 14,
    "start_time": "2022-02-03T09:45:13.305Z"
   },
   {
    "duration": 904,
    "start_time": "2022-02-03T09:45:15.360Z"
   },
   {
    "duration": 30,
    "start_time": "2022-02-03T09:45:16.268Z"
   },
   {
    "duration": 8,
    "start_time": "2022-02-03T09:45:19.649Z"
   },
   {
    "duration": 1301,
    "start_time": "2022-02-03T09:45:22.658Z"
   },
   {
    "duration": 9,
    "start_time": "2022-02-03T09:45:26.522Z"
   },
   {
    "duration": 60,
    "start_time": "2022-02-03T09:45:29.242Z"
   },
   {
    "duration": 6,
    "start_time": "2022-02-03T09:45:40.522Z"
   },
   {
    "duration": 23,
    "start_time": "2022-02-03T09:46:09.425Z"
   },
   {
    "duration": 25,
    "start_time": "2022-02-03T09:47:59.873Z"
   },
   {
    "duration": 20,
    "start_time": "2022-02-03T09:48:03.547Z"
   },
   {
    "duration": 18,
    "start_time": "2022-02-03T09:48:52.397Z"
   },
   {
    "duration": 19,
    "start_time": "2022-02-03T09:48:53.493Z"
   },
   {
    "duration": 37,
    "start_time": "2022-02-03T09:49:00.205Z"
   },
   {
    "duration": 33,
    "start_time": "2022-02-03T09:49:21.935Z"
   },
   {
    "duration": 6,
    "start_time": "2022-02-03T09:49:31.702Z"
   },
   {
    "duration": 7,
    "start_time": "2022-02-03T09:49:32.839Z"
   },
   {
    "duration": 10,
    "start_time": "2022-02-03T09:49:34.280Z"
   },
   {
    "duration": 19,
    "start_time": "2022-02-03T09:49:37.359Z"
   },
   {
    "duration": 17034,
    "start_time": "2022-02-03T09:49:45.672Z"
   },
   {
    "duration": 8511,
    "start_time": "2022-02-03T09:51:27.499Z"
   },
   {
    "duration": 14,
    "start_time": "2022-02-03T09:52:58.783Z"
   },
   {
    "duration": 9204,
    "start_time": "2022-02-03T09:53:54.678Z"
   },
   {
    "duration": 30,
    "start_time": "2022-02-03T09:55:48.108Z"
   },
   {
    "duration": 20,
    "start_time": "2022-02-03T09:56:00.685Z"
   },
   {
    "duration": 20,
    "start_time": "2022-02-03T09:57:24.871Z"
   },
   {
    "duration": 2372,
    "start_time": "2022-02-03T09:57:39.272Z"
   },
   {
    "duration": 2089,
    "start_time": "2022-02-03T10:04:02.617Z"
   },
   {
    "duration": 4,
    "start_time": "2022-02-03T10:04:04.709Z"
   },
   {
    "duration": 97,
    "start_time": "2022-02-03T10:04:04.717Z"
   },
   {
    "duration": 28,
    "start_time": "2022-02-03T10:04:04.817Z"
   },
   {
    "duration": 16,
    "start_time": "2022-02-03T10:04:04.847Z"
   },
   {
    "duration": 10,
    "start_time": "2022-02-03T10:04:04.865Z"
   },
   {
    "duration": 54,
    "start_time": "2022-02-03T10:04:04.878Z"
   },
   {
    "duration": 22,
    "start_time": "2022-02-03T10:04:04.936Z"
   },
   {
    "duration": 11,
    "start_time": "2022-02-03T10:04:04.961Z"
   },
   {
    "duration": 8,
    "start_time": "2022-02-03T10:04:04.974Z"
   },
   {
    "duration": 7,
    "start_time": "2022-02-03T10:04:04.984Z"
   },
   {
    "duration": 59,
    "start_time": "2022-02-03T10:04:04.993Z"
   },
   {
    "duration": 20,
    "start_time": "2022-02-03T10:04:05.054Z"
   },
   {
    "duration": 57,
    "start_time": "2022-02-03T10:04:05.077Z"
   },
   {
    "duration": 6,
    "start_time": "2022-02-03T10:04:05.137Z"
   },
   {
    "duration": 15,
    "start_time": "2022-02-03T10:04:05.146Z"
   },
   {
    "duration": 11,
    "start_time": "2022-02-03T10:04:05.163Z"
   },
   {
    "duration": 56,
    "start_time": "2022-02-03T10:04:05.176Z"
   },
   {
    "duration": 23,
    "start_time": "2022-02-03T10:04:05.235Z"
   },
   {
    "duration": 25,
    "start_time": "2022-02-03T10:04:05.261Z"
   },
   {
    "duration": 15,
    "start_time": "2022-02-03T10:04:05.334Z"
   },
   {
    "duration": 10,
    "start_time": "2022-02-03T10:04:05.352Z"
   },
   {
    "duration": 16,
    "start_time": "2022-02-03T10:04:05.368Z"
   },
   {
    "duration": 15,
    "start_time": "2022-02-03T10:04:05.433Z"
   },
   {
    "duration": 19,
    "start_time": "2022-02-03T10:04:05.450Z"
   },
   {
    "duration": 73,
    "start_time": "2022-02-03T10:04:05.471Z"
   },
   {
    "duration": 15,
    "start_time": "2022-02-03T10:04:05.546Z"
   },
   {
    "duration": 76,
    "start_time": "2022-02-03T10:04:05.565Z"
   },
   {
    "duration": 15,
    "start_time": "2022-02-03T10:04:05.644Z"
   },
   {
    "duration": 37,
    "start_time": "2022-02-03T10:04:05.661Z"
   },
   {
    "duration": 513,
    "start_time": "2022-02-03T10:04:05.733Z"
   },
   {
    "duration": 12,
    "start_time": "2022-02-03T10:04:06.249Z"
   },
   {
    "duration": 7,
    "start_time": "2022-02-03T10:04:06.263Z"
   },
   {
    "duration": 395,
    "start_time": "2022-02-03T10:04:06.272Z"
   },
   {
    "duration": 374,
    "start_time": "2022-02-03T10:04:06.669Z"
   },
   {
    "duration": 381,
    "start_time": "2022-02-03T10:04:07.045Z"
   },
   {
    "duration": 459,
    "start_time": "2022-02-03T10:04:07.428Z"
   },
   {
    "duration": 387,
    "start_time": "2022-02-03T10:04:07.889Z"
   },
   {
    "duration": 2419,
    "start_time": "2022-02-03T10:04:08.279Z"
   },
   {
    "duration": 419,
    "start_time": "2022-02-03T10:04:10.700Z"
   },
   {
    "duration": 634,
    "start_time": "2022-02-03T10:04:11.132Z"
   },
   {
    "duration": 15,
    "start_time": "2022-02-03T10:04:11.769Z"
   },
   {
    "duration": 676,
    "start_time": "2022-02-03T10:04:11.786Z"
   },
   {
    "duration": 21,
    "start_time": "2022-02-03T10:04:12.464Z"
   },
   {
    "duration": 6,
    "start_time": "2022-02-03T10:04:12.488Z"
   },
   {
    "duration": 932,
    "start_time": "2022-02-03T10:04:12.497Z"
   },
   {
    "duration": 7,
    "start_time": "2022-02-03T10:04:13.432Z"
   },
   {
    "duration": 39,
    "start_time": "2022-02-03T10:04:13.441Z"
   },
   {
    "duration": 20,
    "start_time": "2022-02-03T10:04:13.483Z"
   },
   {
    "duration": 24,
    "start_time": "2022-02-03T10:04:13.533Z"
   },
   {
    "duration": 21,
    "start_time": "2022-02-03T10:04:13.559Z"
   },
   {
    "duration": 50,
    "start_time": "2022-02-03T10:04:13.582Z"
   },
   {
    "duration": 16,
    "start_time": "2022-02-03T10:04:13.634Z"
   },
   {
    "duration": 35,
    "start_time": "2022-02-03T10:04:13.652Z"
   },
   {
    "duration": 67,
    "start_time": "2022-02-03T10:04:13.689Z"
   },
   {
    "duration": 5,
    "start_time": "2022-02-03T10:04:13.759Z"
   },
   {
    "duration": 13,
    "start_time": "2022-02-03T10:04:13.766Z"
   },
   {
    "duration": 9,
    "start_time": "2022-02-03T10:04:13.781Z"
   },
   {
    "duration": 436,
    "start_time": "2022-02-03T10:04:13.832Z"
   },
   {
    "duration": -27,
    "start_time": "2022-02-03T10:04:14.298Z"
   },
   {
    "duration": -30,
    "start_time": "2022-02-03T10:04:14.303Z"
   },
   {
    "duration": -35,
    "start_time": "2022-02-03T10:04:14.309Z"
   },
   {
    "duration": -40,
    "start_time": "2022-02-03T10:04:14.316Z"
   },
   {
    "duration": -43,
    "start_time": "2022-02-03T10:04:14.321Z"
   },
   {
    "duration": -47,
    "start_time": "2022-02-03T10:04:14.327Z"
   },
   {
    "duration": -54,
    "start_time": "2022-02-03T10:04:14.335Z"
   },
   {
    "duration": -57,
    "start_time": "2022-02-03T10:04:14.340Z"
   },
   {
    "duration": -62,
    "start_time": "2022-02-03T10:04:14.347Z"
   },
   {
    "duration": -67,
    "start_time": "2022-02-03T10:04:14.353Z"
   },
   {
    "duration": -69,
    "start_time": "2022-02-03T10:04:14.357Z"
   },
   {
    "duration": -75,
    "start_time": "2022-02-03T10:04:14.365Z"
   },
   {
    "duration": -79,
    "start_time": "2022-02-03T10:04:14.370Z"
   },
   {
    "duration": -83,
    "start_time": "2022-02-03T10:04:14.375Z"
   },
   {
    "duration": 2432,
    "start_time": "2022-02-03T10:05:58.484Z"
   },
   {
    "duration": 2662,
    "start_time": "2022-02-03T10:06:58.932Z"
   },
   {
    "duration": 2500,
    "start_time": "2022-02-03T10:14:01.726Z"
   },
   {
    "duration": 30,
    "start_time": "2022-02-03T10:14:46.592Z"
   },
   {
    "duration": 42,
    "start_time": "2022-02-03T10:15:00.217Z"
   },
   {
    "duration": 823,
    "start_time": "2022-02-03T10:15:19.722Z"
   },
   {
    "duration": 26,
    "start_time": "2022-02-03T10:15:47.035Z"
   },
   {
    "duration": 27,
    "start_time": "2022-02-03T10:16:26.157Z"
   },
   {
    "duration": 25,
    "start_time": "2022-02-03T10:19:23.359Z"
   },
   {
    "duration": 32,
    "start_time": "2022-02-03T10:21:22.478Z"
   },
   {
    "duration": 695682,
    "start_time": "2022-02-03T10:21:46.502Z"
   },
   {
    "duration": 291,
    "start_time": "2022-02-03T10:36:26.608Z"
   },
   {
    "duration": 5,
    "start_time": "2022-02-03T10:36:51.185Z"
   },
   {
    "duration": 635,
    "start_time": "2022-02-03T10:37:03.857Z"
   },
   {
    "duration": 5,
    "start_time": "2022-02-03T10:37:11.937Z"
   },
   {
    "duration": 6,
    "start_time": "2022-02-03T10:39:43.444Z"
   },
   {
    "duration": 8,
    "start_time": "2022-02-03T10:40:04.323Z"
   },
   {
    "duration": 14,
    "start_time": "2022-02-03T10:40:11.820Z"
   },
   {
    "duration": 15255,
    "start_time": "2022-02-03T10:40:17.499Z"
   },
   {
    "duration": 686955,
    "start_time": "2022-02-03T10:41:15.104Z"
   },
   {
    "duration": -23,
    "start_time": "2022-02-03T10:52:42.084Z"
   },
   {
    "duration": 5,
    "start_time": "2022-02-03T10:56:51.420Z"
   },
   {
    "duration": 323,
    "start_time": "2022-02-03T10:56:54.748Z"
   },
   {
    "duration": 234799,
    "start_time": "2022-02-03T10:57:03.787Z"
   },
   {
    "duration": 294,
    "start_time": "2022-02-03T11:04:53.229Z"
   },
   {
    "duration": 13,
    "start_time": "2022-02-03T11:09:35.716Z"
   },
   {
    "duration": 5,
    "start_time": "2022-02-03T11:09:46.877Z"
   },
   {
    "duration": 7,
    "start_time": "2022-02-03T11:10:10.270Z"
   },
   {
    "duration": 5,
    "start_time": "2022-02-03T11:11:02.262Z"
   },
   {
    "duration": 7109,
    "start_time": "2022-02-03T11:15:04.943Z"
   },
   {
    "duration": 16,
    "start_time": "2022-02-03T11:15:29.113Z"
   },
   {
    "duration": 30,
    "start_time": "2022-02-03T11:35:01.869Z"
   },
   {
    "duration": 32,
    "start_time": "2022-02-03T11:35:46.619Z"
   },
   {
    "duration": 10,
    "start_time": "2022-02-03T11:35:50.131Z"
   },
   {
    "duration": 6,
    "start_time": "2022-02-03T11:36:17.555Z"
   },
   {
    "duration": 31,
    "start_time": "2022-02-03T11:36:31.589Z"
   },
   {
    "duration": 328,
    "start_time": "2022-02-03T11:36:55.894Z"
   },
   {
    "duration": 134,
    "start_time": "2022-02-03T11:37:06.870Z"
   },
   {
    "duration": 24,
    "start_time": "2022-02-03T11:37:10.423Z"
   },
   {
    "duration": 28,
    "start_time": "2022-02-03T11:37:39.600Z"
   },
   {
    "duration": 33,
    "start_time": "2022-02-03T11:38:13.699Z"
   },
   {
    "duration": 28,
    "start_time": "2022-02-03T11:38:32.620Z"
   },
   {
    "duration": 791,
    "start_time": "2022-02-03T11:39:03.814Z"
   },
   {
    "duration": 10,
    "start_time": "2022-02-03T11:40:30.460Z"
   },
   {
    "duration": 5,
    "start_time": "2022-02-03T11:40:30.947Z"
   },
   {
    "duration": 120,
    "start_time": "2022-02-03T11:40:31.412Z"
   },
   {
    "duration": 35,
    "start_time": "2022-02-03T11:40:32.892Z"
   },
   {
    "duration": 18,
    "start_time": "2022-02-03T11:40:34.524Z"
   },
   {
    "duration": 10,
    "start_time": "2022-02-03T11:40:36.067Z"
   },
   {
    "duration": 12,
    "start_time": "2022-02-03T11:40:36.595Z"
   },
   {
    "duration": 20,
    "start_time": "2022-02-03T11:40:40.507Z"
   },
   {
    "duration": 12,
    "start_time": "2022-02-03T11:40:41.011Z"
   },
   {
    "duration": 7,
    "start_time": "2022-02-03T11:40:41.563Z"
   },
   {
    "duration": 8,
    "start_time": "2022-02-03T11:40:42.275Z"
   },
   {
    "duration": 40,
    "start_time": "2022-02-03T11:40:50.540Z"
   },
   {
    "duration": 27,
    "start_time": "2022-02-03T11:41:11.870Z"
   },
   {
    "duration": 20,
    "start_time": "2022-02-03T11:41:13.454Z"
   },
   {
    "duration": 6,
    "start_time": "2022-02-03T11:41:14.421Z"
   },
   {
    "duration": 14,
    "start_time": "2022-02-03T11:41:14.669Z"
   },
   {
    "duration": 16,
    "start_time": "2022-02-03T11:41:14.909Z"
   },
   {
    "duration": 23,
    "start_time": "2022-02-03T11:41:15.237Z"
   },
   {
    "duration": 23,
    "start_time": "2022-02-03T11:41:16.173Z"
   },
   {
    "duration": 27,
    "start_time": "2022-02-03T11:41:16.422Z"
   },
   {
    "duration": 16,
    "start_time": "2022-02-03T11:41:17.486Z"
   },
   {
    "duration": 9,
    "start_time": "2022-02-03T11:41:17.942Z"
   },
   {
    "duration": 15,
    "start_time": "2022-02-03T11:41:20.141Z"
   },
   {
    "duration": 15,
    "start_time": "2022-02-03T11:41:20.397Z"
   },
   {
    "duration": 18,
    "start_time": "2022-02-03T11:41:20.701Z"
   },
   {
    "duration": 45,
    "start_time": "2022-02-03T11:41:21.006Z"
   },
   {
    "duration": 21,
    "start_time": "2022-02-03T11:41:23.285Z"
   },
   {
    "duration": 62,
    "start_time": "2022-02-03T11:41:24.647Z"
   },
   {
    "duration": 15,
    "start_time": "2022-02-03T11:41:27.310Z"
   },
   {
    "duration": 54,
    "start_time": "2022-02-03T11:41:28.822Z"
   },
   {
    "duration": 767,
    "start_time": "2022-02-03T11:41:30.623Z"
   },
   {
    "duration": 14,
    "start_time": "2022-02-03T11:41:31.394Z"
   },
   {
    "duration": 6,
    "start_time": "2022-02-03T11:41:33.895Z"
   },
   {
    "duration": 380,
    "start_time": "2022-02-03T11:41:35.655Z"
   },
   {
    "duration": 385,
    "start_time": "2022-02-03T11:41:52.647Z"
   },
   {
    "duration": 488,
    "start_time": "2022-02-03T11:41:54.079Z"
   },
   {
    "duration": 555,
    "start_time": "2022-02-03T11:41:56.432Z"
   },
   {
    "duration": 540,
    "start_time": "2022-02-03T11:41:59.735Z"
   },
   {
    "duration": 3571,
    "start_time": "2022-02-03T11:42:03.153Z"
   },
   {
    "duration": 641,
    "start_time": "2022-02-03T11:42:07.999Z"
   },
   {
    "duration": 969,
    "start_time": "2022-02-03T11:42:17.904Z"
   },
   {
    "duration": 19,
    "start_time": "2022-02-03T11:42:22.889Z"
   },
   {
    "duration": 552,
    "start_time": "2022-02-03T11:42:28.321Z"
   },
   {
    "duration": 23,
    "start_time": "2022-02-03T11:42:29.506Z"
   },
   {
    "duration": 6,
    "start_time": "2022-02-03T11:43:58.702Z"
   },
   {
    "duration": 964,
    "start_time": "2022-02-03T11:43:59.742Z"
   },
   {
    "duration": 7,
    "start_time": "2022-02-03T11:44:07.742Z"
   },
   {
    "duration": 43,
    "start_time": "2022-02-03T11:44:09.999Z"
   },
   {
    "duration": 22,
    "start_time": "2022-02-03T11:44:20.208Z"
   },
   {
    "duration": 27,
    "start_time": "2022-02-03T11:44:20.887Z"
   },
   {
    "duration": 20,
    "start_time": "2022-02-03T11:44:21.480Z"
   },
   {
    "duration": 21,
    "start_time": "2022-02-03T11:44:46.145Z"
   },
   {
    "duration": 113,
    "start_time": "2022-02-03T11:44:54.249Z"
   },
   {
    "duration": 38,
    "start_time": "2022-02-03T11:44:55.930Z"
   },
   {
    "duration": 36,
    "start_time": "2022-02-03T11:44:57.194Z"
   },
   {
    "duration": 5,
    "start_time": "2022-02-03T11:44:59.265Z"
   },
   {
    "duration": 7,
    "start_time": "2022-02-03T11:45:03.644Z"
   },
   {
    "duration": 10,
    "start_time": "2022-02-03T11:45:05.082Z"
   },
   {
    "duration": 298,
    "start_time": "2022-02-03T11:45:06.091Z"
   },
   {
    "duration": 13856,
    "start_time": "2022-02-03T11:45:13.010Z"
   },
   {
    "duration": 33,
    "start_time": "2022-02-03T11:45:47.877Z"
   },
   {
    "duration": 9585,
    "start_time": "2022-02-03T11:46:05.437Z"
   },
   {
    "duration": 57000,
    "start_time": "2022-02-03T11:47:17.992Z"
   },
   {
    "duration": 1585,
    "start_time": "2022-02-03T11:56:08.283Z"
   },
   {
    "duration": 3,
    "start_time": "2022-02-03T11:56:09.870Z"
   },
   {
    "duration": 96,
    "start_time": "2022-02-03T11:56:09.880Z"
   },
   {
    "duration": 27,
    "start_time": "2022-02-03T11:56:09.978Z"
   },
   {
    "duration": 24,
    "start_time": "2022-02-03T11:56:10.008Z"
   },
   {
    "duration": 9,
    "start_time": "2022-02-03T11:56:10.035Z"
   },
   {
    "duration": 16,
    "start_time": "2022-02-03T11:56:10.049Z"
   },
   {
    "duration": 21,
    "start_time": "2022-02-03T11:56:10.068Z"
   },
   {
    "duration": 51,
    "start_time": "2022-02-03T11:56:10.092Z"
   },
   {
    "duration": 13,
    "start_time": "2022-02-03T11:56:10.146Z"
   },
   {
    "duration": 12,
    "start_time": "2022-02-03T11:56:10.162Z"
   },
   {
    "duration": 32,
    "start_time": "2022-02-03T11:56:10.176Z"
   },
   {
    "duration": 38,
    "start_time": "2022-02-03T11:56:10.211Z"
   },
   {
    "duration": 15,
    "start_time": "2022-02-03T11:56:10.251Z"
   },
   {
    "duration": 4,
    "start_time": "2022-02-03T11:56:10.268Z"
   },
   {
    "duration": 59,
    "start_time": "2022-02-03T11:56:10.274Z"
   },
   {
    "duration": 13,
    "start_time": "2022-02-03T11:56:10.335Z"
   },
   {
    "duration": 23,
    "start_time": "2022-02-03T11:56:10.351Z"
   },
   {
    "duration": 58,
    "start_time": "2022-02-03T11:56:10.377Z"
   },
   {
    "duration": 23,
    "start_time": "2022-02-03T11:56:10.439Z"
   },
   {
    "duration": 67,
    "start_time": "2022-02-03T11:56:10.465Z"
   },
   {
    "duration": 9,
    "start_time": "2022-02-03T11:56:10.538Z"
   },
   {
    "duration": 32,
    "start_time": "2022-02-03T11:56:10.551Z"
   },
   {
    "duration": 46,
    "start_time": "2022-02-03T11:56:10.587Z"
   },
   {
    "duration": 17,
    "start_time": "2022-02-03T11:56:10.637Z"
   },
   {
    "duration": 76,
    "start_time": "2022-02-03T11:56:10.657Z"
   },
   {
    "duration": 15,
    "start_time": "2022-02-03T11:56:10.736Z"
   },
   {
    "duration": 50,
    "start_time": "2022-02-03T11:56:10.753Z"
   },
   {
    "duration": 34,
    "start_time": "2022-02-03T11:56:10.806Z"
   },
   {
    "duration": 50,
    "start_time": "2022-02-03T11:56:10.843Z"
   },
   {
    "duration": 764,
    "start_time": "2022-02-03T11:56:10.896Z"
   },
   {
    "duration": 15,
    "start_time": "2022-02-03T11:56:11.663Z"
   },
   {
    "duration": 7,
    "start_time": "2022-02-03T11:56:11.681Z"
   },
   {
    "duration": 408,
    "start_time": "2022-02-03T11:56:11.691Z"
   },
   {
    "duration": 380,
    "start_time": "2022-02-03T11:56:12.101Z"
   },
   {
    "duration": 375,
    "start_time": "2022-02-03T11:56:12.483Z"
   },
   {
    "duration": 454,
    "start_time": "2022-02-03T11:56:12.861Z"
   },
   {
    "duration": 395,
    "start_time": "2022-02-03T11:56:13.317Z"
   },
   {
    "duration": 2404,
    "start_time": "2022-02-03T11:56:13.715Z"
   },
   {
    "duration": 415,
    "start_time": "2022-02-03T11:56:16.121Z"
   },
   {
    "duration": 633,
    "start_time": "2022-02-03T11:56:16.538Z"
   },
   {
    "duration": 14,
    "start_time": "2022-02-03T11:56:17.173Z"
   },
   {
    "duration": 474,
    "start_time": "2022-02-03T11:56:17.190Z"
   },
   {
    "duration": 21,
    "start_time": "2022-02-03T11:56:17.646Z"
   },
   {
    "duration": 17,
    "start_time": "2022-02-03T11:56:17.652Z"
   },
   {
    "duration": 13,
    "start_time": "2022-02-03T11:56:17.657Z"
   },
   {
    "duration": 11,
    "start_time": "2022-02-03T11:56:17.660Z"
   },
   {
    "duration": 6,
    "start_time": "2022-02-03T11:56:17.667Z"
   },
   {
    "duration": 2,
    "start_time": "2022-02-03T11:56:17.672Z"
   },
   {
    "duration": 0,
    "start_time": "2022-02-03T11:56:17.675Z"
   },
   {
    "duration": -2,
    "start_time": "2022-02-03T11:56:17.679Z"
   },
   {
    "duration": -8,
    "start_time": "2022-02-03T11:56:17.686Z"
   },
   {
    "duration": -12,
    "start_time": "2022-02-03T11:56:17.691Z"
   },
   {
    "duration": -14,
    "start_time": "2022-02-03T11:56:17.695Z"
   },
   {
    "duration": -20,
    "start_time": "2022-02-03T11:56:17.702Z"
   },
   {
    "duration": -23,
    "start_time": "2022-02-03T11:56:17.706Z"
   },
   {
    "duration": -25,
    "start_time": "2022-02-03T11:56:17.710Z"
   },
   {
    "duration": -31,
    "start_time": "2022-02-03T11:56:17.717Z"
   },
   {
    "duration": -34,
    "start_time": "2022-02-03T11:56:17.721Z"
   },
   {
    "duration": -36,
    "start_time": "2022-02-03T11:56:17.725Z"
   },
   {
    "duration": -39,
    "start_time": "2022-02-03T11:56:17.729Z"
   },
   {
    "duration": -45,
    "start_time": "2022-02-03T11:56:17.736Z"
   },
   {
    "duration": -46,
    "start_time": "2022-02-03T11:56:17.739Z"
   },
   {
    "duration": -151,
    "start_time": "2022-02-03T11:56:17.845Z"
   },
   {
    "duration": 3,
    "start_time": "2022-02-03T11:56:17.852Z"
   },
   {
    "duration": 0,
    "start_time": "2022-02-03T11:56:17.856Z"
   },
   {
    "duration": -2,
    "start_time": "2022-02-03T11:56:17.860Z"
   },
   {
    "duration": -8,
    "start_time": "2022-02-03T11:56:17.867Z"
   },
   {
    "duration": -16,
    "start_time": "2022-02-03T11:56:17.877Z"
   },
   {
    "duration": -22,
    "start_time": "2022-02-03T11:56:17.884Z"
   },
   {
    "duration": -28,
    "start_time": "2022-02-03T11:56:17.892Z"
   },
   {
    "duration": -31,
    "start_time": "2022-02-03T11:56:17.896Z"
   },
   {
    "duration": 1630,
    "start_time": "2022-02-03T11:58:08.562Z"
   },
   {
    "duration": 3,
    "start_time": "2022-02-03T11:58:10.195Z"
   },
   {
    "duration": 97,
    "start_time": "2022-02-03T11:58:10.201Z"
   },
   {
    "duration": 28,
    "start_time": "2022-02-03T11:58:10.301Z"
   },
   {
    "duration": 17,
    "start_time": "2022-02-03T11:58:10.332Z"
   },
   {
    "duration": 8,
    "start_time": "2022-02-03T11:58:10.352Z"
   },
   {
    "duration": 15,
    "start_time": "2022-02-03T11:58:10.363Z"
   },
   {
    "duration": 51,
    "start_time": "2022-02-03T11:58:10.381Z"
   },
   {
    "duration": 11,
    "start_time": "2022-02-03T11:58:10.435Z"
   },
   {
    "duration": 10,
    "start_time": "2022-02-03T11:58:10.449Z"
   },
   {
    "duration": 9,
    "start_time": "2022-02-03T11:58:10.461Z"
   },
   {
    "duration": 28,
    "start_time": "2022-02-03T11:58:10.472Z"
   },
   {
    "duration": 50,
    "start_time": "2022-02-03T11:58:10.502Z"
   },
   {
    "duration": 20,
    "start_time": "2022-02-03T11:58:10.555Z"
   },
   {
    "duration": 56,
    "start_time": "2022-02-03T11:58:10.578Z"
   },
   {
    "duration": 12,
    "start_time": "2022-02-03T11:58:10.637Z"
   },
   {
    "duration": 11,
    "start_time": "2022-02-03T11:58:10.651Z"
   },
   {
    "duration": 29,
    "start_time": "2022-02-03T11:58:10.665Z"
   },
   {
    "duration": 56,
    "start_time": "2022-02-03T11:58:10.697Z"
   },
   {
    "duration": 25,
    "start_time": "2022-02-03T11:58:10.755Z"
   },
   {
    "duration": 58,
    "start_time": "2022-02-03T11:58:10.782Z"
   },
   {
    "duration": 10,
    "start_time": "2022-02-03T11:58:10.842Z"
   },
   {
    "duration": 17,
    "start_time": "2022-02-03T11:58:10.857Z"
   },
   {
    "duration": 14,
    "start_time": "2022-02-03T11:58:10.877Z"
   },
   {
    "duration": 51,
    "start_time": "2022-02-03T11:58:10.893Z"
   },
   {
    "duration": 42,
    "start_time": "2022-02-03T11:58:10.947Z"
   },
   {
    "duration": 41,
    "start_time": "2022-02-03T11:58:10.991Z"
   },
   {
    "duration": 48,
    "start_time": "2022-02-03T11:58:11.035Z"
   },
   {
    "duration": 11,
    "start_time": "2022-02-03T11:58:11.086Z"
   },
   {
    "duration": 67,
    "start_time": "2022-02-03T11:58:11.099Z"
   },
   {
    "duration": 522,
    "start_time": "2022-02-03T11:58:11.169Z"
   },
   {
    "duration": 13,
    "start_time": "2022-02-03T11:58:11.693Z"
   },
   {
    "duration": 24,
    "start_time": "2022-02-03T11:58:11.709Z"
   },
   {
    "duration": 386,
    "start_time": "2022-02-03T11:58:11.736Z"
   },
   {
    "duration": 379,
    "start_time": "2022-02-03T11:58:12.125Z"
   },
   {
    "duration": 479,
    "start_time": "2022-02-03T11:58:12.506Z"
   },
   {
    "duration": 463,
    "start_time": "2022-02-03T11:58:12.988Z"
   },
   {
    "duration": 393,
    "start_time": "2022-02-03T11:58:13.454Z"
   },
   {
    "duration": 2433,
    "start_time": "2022-02-03T11:58:13.851Z"
   },
   {
    "duration": 422,
    "start_time": "2022-02-03T11:58:16.288Z"
   },
   {
    "duration": 644,
    "start_time": "2022-02-03T11:58:16.713Z"
   },
   {
    "duration": 17,
    "start_time": "2022-02-03T11:58:17.360Z"
   },
   {
    "duration": 656,
    "start_time": "2022-02-03T11:58:17.379Z"
   },
   {
    "duration": 22,
    "start_time": "2022-02-03T11:58:18.038Z"
   },
   {
    "duration": 6,
    "start_time": "2022-02-03T11:58:18.062Z"
   },
   {
    "duration": 986,
    "start_time": "2022-02-03T11:58:18.070Z"
   },
   {
    "duration": 7,
    "start_time": "2022-02-03T11:58:19.058Z"
   },
   {
    "duration": 65,
    "start_time": "2022-02-03T11:58:19.067Z"
   },
   {
    "duration": 21,
    "start_time": "2022-02-03T11:58:19.134Z"
   },
   {
    "duration": 24,
    "start_time": "2022-02-03T11:58:19.157Z"
   },
   {
    "duration": 58,
    "start_time": "2022-02-03T11:58:19.183Z"
   },
   {
    "duration": 16,
    "start_time": "2022-02-03T11:58:19.244Z"
   },
   {
    "duration": 15,
    "start_time": "2022-02-03T11:58:19.263Z"
   },
   {
    "duration": 71,
    "start_time": "2022-02-03T11:58:19.281Z"
   },
   {
    "duration": 33,
    "start_time": "2022-02-03T11:58:19.354Z"
   },
   {
    "duration": 5,
    "start_time": "2022-02-03T11:58:19.390Z"
   },
   {
    "duration": 37,
    "start_time": "2022-02-03T11:58:19.397Z"
   },
   {
    "duration": 9,
    "start_time": "2022-02-03T11:58:19.436Z"
   },
   {
    "duration": 16,
    "start_time": "2022-02-03T11:58:19.448Z"
   },
   {
    "duration": 13780,
    "start_time": "2022-02-03T11:58:19.466Z"
   },
   {
    "duration": 160470,
    "start_time": "2022-02-03T11:58:33.248Z"
   },
   {
    "duration": 70818,
    "start_time": "2022-02-03T12:01:13.720Z"
   },
   {
    "duration": 486505,
    "start_time": "2022-02-03T12:02:24.541Z"
   },
   {
    "duration": 2420290,
    "start_time": "2022-02-03T12:10:31.049Z"
   },
   {
    "duration": 2652295,
    "start_time": "2022-02-03T12:50:51.342Z"
   },
   {
    "duration": 97,
    "start_time": "2022-02-03T13:35:03.639Z"
   },
   {
    "duration": 58,
    "start_time": "2022-02-03T13:35:03.681Z"
   },
   {
    "duration": 53,
    "start_time": "2022-02-03T13:35:03.687Z"
   },
   {
    "duration": 50,
    "start_time": "2022-02-03T13:35:03.692Z"
   },
   {
    "duration": 47,
    "start_time": "2022-02-03T13:35:03.696Z"
   },
   {
    "duration": 43,
    "start_time": "2022-02-03T13:35:03.702Z"
   },
   {
    "duration": 5,
    "start_time": "2022-02-03T13:51:37.527Z"
   },
   {
    "duration": 450,
    "start_time": "2022-02-03T13:52:09.056Z"
   },
   {
    "duration": 602,
    "start_time": "2022-02-03T13:52:35.506Z"
   },
   {
    "duration": 5,
    "start_time": "2022-02-03T13:52:59.483Z"
   },
   {
    "duration": 573,
    "start_time": "2022-02-03T13:53:02.344Z"
   },
   {
    "duration": 4,
    "start_time": "2022-02-03T13:53:12.868Z"
   },
   {
    "duration": 326,
    "start_time": "2022-02-03T13:53:15.332Z"
   },
   {
    "duration": 5,
    "start_time": "2022-02-03T13:54:18.623Z"
   },
   {
    "duration": 326,
    "start_time": "2022-02-03T13:54:20.976Z"
   },
   {
    "duration": 5,
    "start_time": "2022-02-03T13:54:25.760Z"
   },
   {
    "duration": 426,
    "start_time": "2022-02-03T13:54:28.248Z"
   },
   {
    "duration": 5,
    "start_time": "2022-02-03T13:54:36.513Z"
   },
   {
    "duration": 5,
    "start_time": "2022-02-03T13:54:40.201Z"
   },
   {
    "duration": 461,
    "start_time": "2022-02-03T13:54:42.785Z"
   },
   {
    "duration": 5,
    "start_time": "2022-02-03T13:54:54.370Z"
   },
   {
    "duration": 524,
    "start_time": "2022-02-03T13:54:57.130Z"
   },
   {
    "duration": 5,
    "start_time": "2022-02-03T13:56:42.168Z"
   },
   {
    "duration": 464,
    "start_time": "2022-02-03T13:56:44.695Z"
   },
   {
    "duration": 5,
    "start_time": "2022-02-03T13:58:54.599Z"
   },
   {
    "duration": 503,
    "start_time": "2022-02-03T13:58:56.554Z"
   },
   {
    "duration": 357,
    "start_time": "2022-02-03T14:03:12.934Z"
   },
   {
    "duration": 5,
    "start_time": "2022-02-03T14:03:16.222Z"
   },
   {
    "duration": 7290,
    "start_time": "2022-02-03T14:03:18.303Z"
   },
   {
    "duration": 7,
    "start_time": "2022-02-03T14:05:22.062Z"
   },
   {
    "duration": 6,
    "start_time": "2022-02-03T14:05:24.405Z"
   },
   {
    "duration": 489,
    "start_time": "2022-02-03T14:05:27.382Z"
   },
   {
    "duration": 7,
    "start_time": "2022-02-03T14:06:13.816Z"
   },
   {
    "duration": 384,
    "start_time": "2022-02-03T14:06:16.241Z"
   },
   {
    "duration": 8,
    "start_time": "2022-02-03T14:06:23.001Z"
   },
   {
    "duration": 395,
    "start_time": "2022-02-03T14:06:24.137Z"
   },
   {
    "duration": 6,
    "start_time": "2022-02-03T14:06:30.408Z"
   },
   {
    "duration": 422,
    "start_time": "2022-02-03T14:06:31.841Z"
   },
   {
    "duration": 6,
    "start_time": "2022-02-03T14:07:45.509Z"
   },
   {
    "duration": 490,
    "start_time": "2022-02-03T14:07:46.813Z"
   },
   {
    "duration": 7,
    "start_time": "2022-02-03T14:21:00.280Z"
   },
   {
    "duration": 512,
    "start_time": "2022-02-03T14:21:07.273Z"
   },
   {
    "duration": 5,
    "start_time": "2022-02-03T14:21:30.379Z"
   },
   {
    "duration": 302,
    "start_time": "2022-02-03T14:21:32.651Z"
   },
   {
    "duration": 5,
    "start_time": "2022-02-03T14:21:49.803Z"
   },
   {
    "duration": 586,
    "start_time": "2022-02-03T14:21:53.315Z"
   },
   {
    "duration": 6,
    "start_time": "2022-02-03T14:22:18.044Z"
   },
   {
    "duration": 482,
    "start_time": "2022-02-03T14:22:35.533Z"
   },
   {
    "duration": 294,
    "start_time": "2022-02-03T14:22:50.990Z"
   },
   {
    "duration": 6,
    "start_time": "2022-02-03T14:22:53.526Z"
   },
   {
    "duration": 661,
    "start_time": "2022-02-03T14:22:56.024Z"
   },
   {
    "duration": 93,
    "start_time": "2022-02-03T14:30:59.043Z"
   },
   {
    "duration": 8,
    "start_time": "2022-02-03T14:31:09.578Z"
   },
   {
    "duration": 1065,
    "start_time": "2022-02-03T14:31:23.235Z"
   },
   {
    "duration": 8,
    "start_time": "2022-02-03T14:32:42.264Z"
   },
   {
    "duration": 1051,
    "start_time": "2022-02-03T14:32:44.776Z"
   },
   {
    "duration": 7,
    "start_time": "2022-02-03T14:33:00.160Z"
   },
   {
    "duration": 903,
    "start_time": "2022-02-03T14:33:02.457Z"
   },
   {
    "duration": 8,
    "start_time": "2022-02-03T14:36:48.716Z"
   },
   {
    "duration": 407,
    "start_time": "2022-02-03T14:36:50.805Z"
   },
   {
    "duration": 8,
    "start_time": "2022-02-03T14:37:32.312Z"
   },
   {
    "duration": 42,
    "start_time": "2022-02-03T14:37:34.808Z"
   },
   {
    "duration": 8,
    "start_time": "2022-02-03T14:37:51.248Z"
   },
   {
    "duration": 713,
    "start_time": "2022-02-03T14:37:53.889Z"
   },
   {
    "duration": 8,
    "start_time": "2022-02-03T14:38:11.473Z"
   },
   {
    "duration": 397,
    "start_time": "2022-02-03T14:38:13.915Z"
   },
   {
    "duration": 7,
    "start_time": "2022-02-03T14:38:31.995Z"
   },
   {
    "duration": 1005,
    "start_time": "2022-02-03T14:38:34.755Z"
   },
   {
    "duration": 8,
    "start_time": "2022-02-03T14:38:46.227Z"
   },
   {
    "duration": 414,
    "start_time": "2022-02-03T14:38:49.556Z"
   },
   {
    "duration": 8,
    "start_time": "2022-02-03T14:39:02.323Z"
   },
   {
    "duration": 389,
    "start_time": "2022-02-03T14:39:03.933Z"
   },
   {
    "duration": 8,
    "start_time": "2022-02-03T14:41:00.580Z"
   },
   {
    "duration": 406,
    "start_time": "2022-02-03T14:41:02.795Z"
   },
   {
    "duration": 8,
    "start_time": "2022-02-03T14:41:21.820Z"
   },
   {
    "duration": 438,
    "start_time": "2022-02-03T14:41:23.013Z"
   },
   {
    "duration": 12,
    "start_time": "2022-02-03T14:42:08.391Z"
   },
   {
    "duration": 390,
    "start_time": "2022-02-03T14:42:09.767Z"
   },
   {
    "duration": 7,
    "start_time": "2022-02-03T14:43:10.474Z"
   },
   {
    "duration": 473,
    "start_time": "2022-02-03T14:43:11.746Z"
   },
   {
    "duration": 8,
    "start_time": "2022-02-03T14:43:54.893Z"
   },
   {
    "duration": 336,
    "start_time": "2022-02-03T14:43:56.115Z"
   },
   {
    "duration": 9,
    "start_time": "2022-02-03T14:44:17.013Z"
   },
   {
    "duration": 642,
    "start_time": "2022-02-03T14:44:19.564Z"
   },
   {
    "duration": 9,
    "start_time": "2022-02-03T14:48:25.842Z"
   },
   {
    "duration": 7056,
    "start_time": "2022-02-03T14:48:28.954Z"
   },
   {
    "duration": 8,
    "start_time": "2022-02-03T14:49:16.828Z"
   },
   {
    "duration": 319,
    "start_time": "2022-02-03T14:49:18.996Z"
   },
   {
    "duration": 8,
    "start_time": "2022-02-03T14:50:28.168Z"
   },
   {
    "duration": 327,
    "start_time": "2022-02-03T14:50:30.792Z"
   },
   {
    "duration": 326,
    "start_time": "2022-02-03T14:51:15.906Z"
   },
   {
    "duration": 6,
    "start_time": "2022-02-03T14:53:10.921Z"
   },
   {
    "duration": 427,
    "start_time": "2022-02-03T14:53:12.154Z"
   },
   {
    "duration": 414,
    "start_time": "2022-02-03T14:53:26.578Z"
   },
   {
    "duration": 555,
    "start_time": "2022-02-03T14:56:28.540Z"
   },
   {
    "duration": 458,
    "start_time": "2022-02-03T14:56:40.701Z"
   },
   {
    "duration": 7198,
    "start_time": "2022-02-03T15:00:17.273Z"
   },
   {
    "duration": 330,
    "start_time": "2022-02-03T15:00:47.364Z"
   },
   {
    "duration": 18,
    "start_time": "2022-02-03T15:01:22.117Z"
   },
   {
    "duration": 6,
    "start_time": "2022-02-03T15:01:31.237Z"
   },
   {
    "duration": 8,
    "start_time": "2022-02-03T15:01:52.454Z"
   },
   {
    "duration": 6,
    "start_time": "2022-02-03T15:02:14.352Z"
   },
   {
    "duration": 338,
    "start_time": "2022-02-03T15:02:24.400Z"
   },
   {
    "duration": 4,
    "start_time": "2022-02-03T15:02:37.785Z"
   },
   {
    "duration": 5,
    "start_time": "2022-02-03T15:02:46.601Z"
   },
   {
    "duration": 29,
    "start_time": "2022-02-03T15:03:10.971Z"
   },
   {
    "duration": 6,
    "start_time": "2022-02-03T15:03:16.907Z"
   },
   {
    "duration": 16,
    "start_time": "2022-02-03T15:03:29.042Z"
   },
   {
    "duration": 5,
    "start_time": "2022-02-03T15:03:39.076Z"
   },
   {
    "duration": 5,
    "start_time": "2022-02-03T15:03:41.605Z"
   },
   {
    "duration": 27,
    "start_time": "2022-02-03T15:05:05.233Z"
   },
   {
    "duration": 6,
    "start_time": "2022-02-03T15:05:10.377Z"
   },
   {
    "duration": 11,
    "start_time": "2022-02-03T15:07:10.504Z"
   },
   {
    "duration": 387,
    "start_time": "2022-02-03T15:07:14.216Z"
   },
   {
    "duration": 336,
    "start_time": "2022-02-03T15:07:18.712Z"
   },
   {
    "duration": 10,
    "start_time": "2022-02-03T15:10:44.876Z"
   },
   {
    "duration": 468,
    "start_time": "2022-02-03T15:10:48.004Z"
   },
   {
    "duration": 9,
    "start_time": "2022-02-03T15:12:09.898Z"
   },
   {
    "duration": 6,
    "start_time": "2022-02-03T15:12:10.682Z"
   },
   {
    "duration": 8,
    "start_time": "2022-02-03T15:12:11.458Z"
   },
   {
    "duration": 425,
    "start_time": "2022-02-03T15:12:12.923Z"
   },
   {
    "duration": 677,
    "start_time": "2022-02-03T15:12:46.756Z"
   },
   {
    "duration": 516,
    "start_time": "2022-02-03T15:12:47.516Z"
   },
   {
    "duration": 543,
    "start_time": "2022-02-03T15:17:53.395Z"
   },
   {
    "duration": 6,
    "start_time": "2022-02-03T15:18:18.588Z"
   },
   {
    "duration": 383,
    "start_time": "2022-02-03T15:18:24.333Z"
   },
   {
    "duration": 6,
    "start_time": "2022-02-03T15:19:16.207Z"
   },
   {
    "duration": 404,
    "start_time": "2022-02-03T15:19:19.688Z"
   },
   {
    "duration": 6,
    "start_time": "2022-02-03T15:19:33.736Z"
   },
   {
    "duration": 409,
    "start_time": "2022-02-03T15:19:37.368Z"
   },
   {
    "duration": 396,
    "start_time": "2022-02-03T15:23:25.981Z"
   },
   {
    "duration": 547,
    "start_time": "2022-02-03T15:24:14.312Z"
   },
   {
    "duration": 1596,
    "start_time": "2022-02-03T16:07:12.310Z"
   },
   {
    "duration": 3,
    "start_time": "2022-02-03T16:07:13.910Z"
   },
   {
    "duration": 115,
    "start_time": "2022-02-03T16:07:13.916Z"
   },
   {
    "duration": 28,
    "start_time": "2022-02-03T16:07:14.034Z"
   },
   {
    "duration": 13,
    "start_time": "2022-02-03T16:07:14.065Z"
   },
   {
    "duration": 8,
    "start_time": "2022-02-03T16:07:14.081Z"
   },
   {
    "duration": 58,
    "start_time": "2022-02-03T16:07:14.092Z"
   },
   {
    "duration": 24,
    "start_time": "2022-02-03T16:07:14.155Z"
   },
   {
    "duration": 12,
    "start_time": "2022-02-03T16:07:14.183Z"
   },
   {
    "duration": 6,
    "start_time": "2022-02-03T16:07:14.197Z"
   },
   {
    "duration": 7,
    "start_time": "2022-02-03T16:07:14.233Z"
   },
   {
    "duration": 29,
    "start_time": "2022-02-03T16:07:14.242Z"
   },
   {
    "duration": 20,
    "start_time": "2022-02-03T16:07:14.273Z"
   },
   {
    "duration": 19,
    "start_time": "2022-02-03T16:07:14.334Z"
   },
   {
    "duration": 4,
    "start_time": "2022-02-03T16:07:14.355Z"
   },
   {
    "duration": 15,
    "start_time": "2022-02-03T16:07:14.361Z"
   },
   {
    "duration": 11,
    "start_time": "2022-02-03T16:07:14.378Z"
   },
   {
    "duration": 55,
    "start_time": "2022-02-03T16:07:14.392Z"
   },
   {
    "duration": 22,
    "start_time": "2022-02-03T16:07:14.449Z"
   },
   {
    "duration": 60,
    "start_time": "2022-02-03T16:07:14.474Z"
   },
   {
    "duration": 15,
    "start_time": "2022-02-03T16:07:14.536Z"
   },
   {
    "duration": 10,
    "start_time": "2022-02-03T16:07:14.553Z"
   },
   {
    "duration": 63,
    "start_time": "2022-02-03T16:07:14.569Z"
   },
   {
    "duration": 14,
    "start_time": "2022-02-03T16:07:14.637Z"
   },
   {
    "duration": 16,
    "start_time": "2022-02-03T16:07:14.654Z"
   },
   {
    "duration": 71,
    "start_time": "2022-02-03T16:07:14.673Z"
   },
   {
    "duration": 24,
    "start_time": "2022-02-03T16:07:14.746Z"
   },
   {
    "duration": 62,
    "start_time": "2022-02-03T16:07:14.772Z"
   },
   {
    "duration": 12,
    "start_time": "2022-02-03T16:07:14.836Z"
   },
   {
    "duration": 36,
    "start_time": "2022-02-03T16:07:14.851Z"
   },
   {
    "duration": 548,
    "start_time": "2022-02-03T16:07:14.890Z"
   },
   {
    "duration": 11,
    "start_time": "2022-02-03T16:07:15.440Z"
   },
   {
    "duration": 5,
    "start_time": "2022-02-03T16:07:15.453Z"
   },
   {
    "duration": 400,
    "start_time": "2022-02-03T16:07:15.461Z"
   },
   {
    "duration": 375,
    "start_time": "2022-02-03T16:07:15.863Z"
   },
   {
    "duration": 394,
    "start_time": "2022-02-03T16:07:16.241Z"
   },
   {
    "duration": 595,
    "start_time": "2022-02-03T16:07:16.639Z"
   },
   {
    "duration": 400,
    "start_time": "2022-02-03T16:07:17.237Z"
   },
   {
    "duration": 2382,
    "start_time": "2022-02-03T16:07:17.639Z"
   },
   {
    "duration": 414,
    "start_time": "2022-02-03T16:07:20.024Z"
   },
   {
    "duration": 616,
    "start_time": "2022-02-03T16:07:20.440Z"
   },
   {
    "duration": 15,
    "start_time": "2022-02-03T16:07:21.059Z"
   },
   {
    "duration": 658,
    "start_time": "2022-02-03T16:07:21.077Z"
   },
   {
    "duration": 23,
    "start_time": "2022-02-03T16:07:21.737Z"
   },
   {
    "duration": 6,
    "start_time": "2022-02-03T16:07:21.762Z"
   },
   {
    "duration": 972,
    "start_time": "2022-02-03T16:07:21.770Z"
   },
   {
    "duration": 8,
    "start_time": "2022-02-03T16:07:22.745Z"
   },
   {
    "duration": 41,
    "start_time": "2022-02-03T16:07:22.756Z"
   },
   {
    "duration": 48,
    "start_time": "2022-02-03T16:07:22.800Z"
   },
   {
    "duration": 28,
    "start_time": "2022-02-03T16:07:22.851Z"
   },
   {
    "duration": 63,
    "start_time": "2022-02-03T16:07:22.881Z"
   },
   {
    "duration": 19,
    "start_time": "2022-02-03T16:07:22.947Z"
   },
   {
    "duration": 18,
    "start_time": "2022-02-03T16:07:22.969Z"
   },
   {
    "duration": 70,
    "start_time": "2022-02-03T16:07:22.989Z"
   },
   {
    "duration": 42,
    "start_time": "2022-02-03T16:07:23.062Z"
   },
   {
    "duration": 30,
    "start_time": "2022-02-03T16:07:23.106Z"
   },
   {
    "duration": 18,
    "start_time": "2022-02-03T16:07:23.138Z"
   },
   {
    "duration": 9,
    "start_time": "2022-02-03T16:07:23.159Z"
   },
   {
    "duration": 35,
    "start_time": "2022-02-03T16:07:23.171Z"
   },
   {
    "duration": 13661,
    "start_time": "2022-02-03T16:07:23.209Z"
   },
   {
    "duration": 154293,
    "start_time": "2022-02-03T16:07:36.872Z"
   },
   {
    "duration": 70568,
    "start_time": "2022-02-03T16:10:11.167Z"
   },
   {
    "duration": 7335,
    "start_time": "2022-02-03T16:11:21.739Z"
   },
   {
    "duration": 562991,
    "start_time": "2022-02-03T16:11:29.076Z"
   },
   {
    "duration": 2922876,
    "start_time": "2022-02-03T16:20:52.070Z"
   },
   {
    "duration": 14,
    "start_time": "2022-02-03T17:09:34.949Z"
   },
   {
    "duration": 11,
    "start_time": "2022-02-03T17:09:34.966Z"
   },
   {
    "duration": 6,
    "start_time": "2022-02-03T17:09:35.037Z"
   },
   {
    "duration": 413,
    "start_time": "2022-02-03T17:09:35.045Z"
   },
   {
    "duration": 373,
    "start_time": "2022-02-03T17:09:35.460Z"
   },
   {
    "duration": 368,
    "start_time": "2022-02-03T17:09:35.835Z"
   },
   {
    "duration": 681,
    "start_time": "2022-02-03T17:09:36.206Z"
   },
   {
    "duration": 1221,
    "start_time": "2022-02-03T19:09:02.434Z"
   },
   {
    "duration": 3,
    "start_time": "2022-02-03T19:09:03.656Z"
   },
   {
    "duration": 90,
    "start_time": "2022-02-03T19:09:03.661Z"
   },
   {
    "duration": 20,
    "start_time": "2022-02-03T19:09:39.243Z"
   },
   {
    "duration": 11,
    "start_time": "2022-02-03T19:09:39.868Z"
   },
   {
    "duration": 8,
    "start_time": "2022-02-03T19:10:07.622Z"
   },
   {
    "duration": 9,
    "start_time": "2022-02-03T19:10:08.228Z"
   },
   {
    "duration": 13,
    "start_time": "2022-02-03T19:10:08.758Z"
   },
   {
    "duration": 9,
    "start_time": "2022-02-03T19:10:09.302Z"
   },
   {
    "duration": 6,
    "start_time": "2022-02-03T19:10:09.767Z"
   },
   {
    "duration": 6,
    "start_time": "2022-02-03T19:10:10.311Z"
   },
   {
    "duration": 20,
    "start_time": "2022-02-03T19:10:12.174Z"
   },
   {
    "duration": 15,
    "start_time": "2022-02-03T19:10:29.903Z"
   },
   {
    "duration": 11,
    "start_time": "2022-02-03T19:10:30.068Z"
   },
   {
    "duration": 4,
    "start_time": "2022-02-03T19:10:37.750Z"
   },
   {
    "duration": 8,
    "start_time": "2022-02-03T19:10:37.935Z"
   },
   {
    "duration": 8,
    "start_time": "2022-02-03T19:10:38.804Z"
   },
   {
    "duration": 15,
    "start_time": "2022-02-03T19:10:39.416Z"
   },
   {
    "duration": 15,
    "start_time": "2022-02-03T19:10:40.534Z"
   },
   {
    "duration": 14,
    "start_time": "2022-02-03T19:10:40.872Z"
   },
   {
    "duration": 10,
    "start_time": "2022-02-03T19:10:42.436Z"
   },
   {
    "duration": 7,
    "start_time": "2022-02-03T19:10:42.687Z"
   },
   {
    "duration": 11,
    "start_time": "2022-02-03T19:10:44.509Z"
   },
   {
    "duration": 11,
    "start_time": "2022-02-03T19:10:44.722Z"
   },
   {
    "duration": 12,
    "start_time": "2022-02-03T19:10:44.909Z"
   },
   {
    "duration": 29,
    "start_time": "2022-02-03T19:10:45.131Z"
   },
   {
    "duration": 11,
    "start_time": "2022-02-03T19:10:45.799Z"
   },
   {
    "duration": 28,
    "start_time": "2022-02-03T19:10:46.426Z"
   },
   {
    "duration": 8,
    "start_time": "2022-02-03T19:12:45.810Z"
   },
   {
    "duration": 22,
    "start_time": "2022-02-03T19:12:51.838Z"
   },
   {
    "duration": 339,
    "start_time": "2022-02-03T19:13:01.911Z"
   },
   {
    "duration": 8,
    "start_time": "2022-02-03T19:13:03.201Z"
   },
   {
    "duration": 4,
    "start_time": "2022-02-03T19:13:08.400Z"
   },
   {
    "duration": 239,
    "start_time": "2022-02-03T19:13:09.440Z"
   },
   {
    "duration": 255,
    "start_time": "2022-02-03T19:13:11.160Z"
   },
   {
    "duration": 247,
    "start_time": "2022-02-03T19:13:13.218Z"
   },
   {
    "duration": 308,
    "start_time": "2022-02-03T19:13:14.645Z"
   },
   {
    "duration": 248,
    "start_time": "2022-02-03T19:13:16.082Z"
   },
   {
    "duration": 1581,
    "start_time": "2022-02-03T19:13:17.233Z"
   },
   {
    "duration": 274,
    "start_time": "2022-02-03T19:13:18.816Z"
   },
   {
    "duration": 420,
    "start_time": "2022-02-03T19:13:19.092Z"
   },
   {
    "duration": 11,
    "start_time": "2022-02-03T19:13:20.196Z"
   },
   {
    "duration": 420,
    "start_time": "2022-02-03T19:14:06.752Z"
   },
   {
    "duration": 16,
    "start_time": "2022-02-03T19:14:10.246Z"
   },
   {
    "duration": 4,
    "start_time": "2022-02-03T19:15:58.174Z"
   },
   {
    "duration": 707,
    "start_time": "2022-02-03T19:16:24.062Z"
   },
   {
    "duration": 6,
    "start_time": "2022-02-03T19:17:14.113Z"
   },
   {
    "duration": 27,
    "start_time": "2022-02-03T19:17:15.856Z"
   },
   {
    "duration": 13,
    "start_time": "2022-02-03T19:19:05.686Z"
   },
   {
    "duration": 16,
    "start_time": "2022-02-03T19:19:09.588Z"
   },
   {
    "duration": 14,
    "start_time": "2022-02-03T19:19:21.603Z"
   },
   {
    "duration": 13,
    "start_time": "2022-02-03T19:19:55.528Z"
   },
   {
    "duration": 12,
    "start_time": "2022-02-03T19:19:56.179Z"
   },
   {
    "duration": 23,
    "start_time": "2022-02-03T19:20:54.907Z"
   },
   {
    "duration": 23,
    "start_time": "2022-02-03T19:20:55.926Z"
   },
   {
    "duration": 4,
    "start_time": "2022-02-03T19:21:53.471Z"
   },
   {
    "duration": 4,
    "start_time": "2022-02-03T19:21:54.285Z"
   },
   {
    "duration": 7,
    "start_time": "2022-02-03T19:21:55.777Z"
   },
   {
    "duration": 9,
    "start_time": "2022-02-03T19:21:57.272Z"
   },
   {
    "duration": 9303,
    "start_time": "2022-02-03T19:22:01.029Z"
   },
   {
    "duration": 96994,
    "start_time": "2022-02-03T19:22:10.335Z"
   },
   {
    "duration": 50990,
    "start_time": "2022-02-03T19:23:47.331Z"
   },
   {
    "duration": 23927,
    "start_time": "2022-02-03T19:24:38.327Z"
   },
   {
    "duration": 405,
    "start_time": "2022-02-03T20:06:14.411Z"
   },
   {
    "duration": 2024,
    "start_time": "2022-02-03T20:06:23.516Z"
   },
   {
    "duration": 4,
    "start_time": "2022-02-03T20:06:26.029Z"
   },
   {
    "duration": 96,
    "start_time": "2022-02-03T20:06:26.589Z"
   },
   {
    "duration": 30,
    "start_time": "2022-02-03T20:06:27.957Z"
   },
   {
    "duration": 16,
    "start_time": "2022-02-03T20:06:28.181Z"
   },
   {
    "duration": 10,
    "start_time": "2022-02-03T20:06:29.021Z"
   },
   {
    "duration": 11,
    "start_time": "2022-02-03T20:06:29.213Z"
   },
   {
    "duration": 18,
    "start_time": "2022-02-03T20:06:29.405Z"
   },
   {
    "duration": 11,
    "start_time": "2022-02-03T20:06:29.605Z"
   },
   {
    "duration": 7,
    "start_time": "2022-02-03T20:06:29.804Z"
   },
   {
    "duration": 9,
    "start_time": "2022-02-03T20:06:29.980Z"
   },
   {
    "duration": 32,
    "start_time": "2022-02-03T20:06:30.190Z"
   },
   {
    "duration": 22,
    "start_time": "2022-02-03T20:06:30.597Z"
   },
   {
    "duration": 19,
    "start_time": "2022-02-03T20:06:30.821Z"
   },
   {
    "duration": 5,
    "start_time": "2022-02-03T20:06:31.421Z"
   },
   {
    "duration": 12,
    "start_time": "2022-02-03T20:06:31.581Z"
   },
   {
    "duration": 11,
    "start_time": "2022-02-03T20:06:31.829Z"
   },
   {
    "duration": 21,
    "start_time": "2022-02-03T20:06:32.022Z"
   },
   {
    "duration": 24,
    "start_time": "2022-02-03T20:06:32.437Z"
   },
   {
    "duration": 23,
    "start_time": "2022-02-03T20:06:32.645Z"
   },
   {
    "duration": 15,
    "start_time": "2022-02-03T20:06:33.442Z"
   },
   {
    "duration": 9,
    "start_time": "2022-02-03T20:06:33.645Z"
   },
   {
    "duration": 16,
    "start_time": "2022-02-03T20:06:34.909Z"
   },
   {
    "duration": 15,
    "start_time": "2022-02-03T20:06:35.109Z"
   },
   {
    "duration": 17,
    "start_time": "2022-02-03T20:06:35.317Z"
   },
   {
    "duration": 44,
    "start_time": "2022-02-03T20:06:35.528Z"
   },
   {
    "duration": 17,
    "start_time": "2022-02-03T20:06:36.421Z"
   },
   {
    "duration": 41,
    "start_time": "2022-02-03T20:06:36.654Z"
   },
   {
    "duration": 13,
    "start_time": "2022-02-03T20:06:38.525Z"
   },
   {
    "duration": 35,
    "start_time": "2022-02-03T20:06:39.382Z"
   },
   {
    "duration": 613,
    "start_time": "2022-02-03T20:06:39.725Z"
   },
   {
    "duration": 12,
    "start_time": "2022-02-03T20:06:40.341Z"
   },
   {
    "duration": 5,
    "start_time": "2022-02-03T20:06:40.718Z"
   },
   {
    "duration": 365,
    "start_time": "2022-02-03T20:06:41.830Z"
   },
   {
    "duration": 366,
    "start_time": "2022-02-03T20:06:42.486Z"
   },
   {
    "duration": 365,
    "start_time": "2022-02-03T20:06:43.125Z"
   },
   {
    "duration": 435,
    "start_time": "2022-02-03T20:06:43.749Z"
   },
   {
    "duration": 367,
    "start_time": "2022-02-03T20:06:44.406Z"
   },
   {
    "duration": 2423,
    "start_time": "2022-02-03T20:06:45.070Z"
   },
   {
    "duration": 426,
    "start_time": "2022-02-03T20:06:47.497Z"
   },
   {
    "duration": 727,
    "start_time": "2022-02-03T20:06:47.927Z"
   },
   {
    "duration": 17,
    "start_time": "2022-02-03T20:06:48.658Z"
   },
   {
    "duration": 626,
    "start_time": "2022-02-03T20:06:51.590Z"
   },
   {
    "duration": 21,
    "start_time": "2022-02-03T20:06:57.375Z"
   },
   {
    "duration": 6,
    "start_time": "2022-02-03T20:07:04.335Z"
   },
   {
    "duration": 8971,
    "start_time": "2022-02-03T20:07:15.992Z"
   },
   {
    "duration": 483,
    "start_time": "2022-02-03T20:07:37.608Z"
   },
   {
    "duration": 335,
    "start_time": "2022-02-03T20:23:14.330Z"
   },
   {
    "duration": 6,
    "start_time": "2022-02-03T20:23:24.378Z"
   },
   {
    "duration": 311,
    "start_time": "2022-02-03T20:23:29.475Z"
   },
   {
    "duration": 106,
    "start_time": "2022-02-03T21:30:29.862Z"
   },
   {
    "duration": 112,
    "start_time": "2022-02-03T21:31:13.104Z"
   },
   {
    "duration": 120,
    "start_time": "2022-02-03T21:31:33.673Z"
   },
   {
    "duration": 114,
    "start_time": "2022-02-03T21:32:06.675Z"
   },
   {
    "duration": 124,
    "start_time": "2022-02-03T21:32:21.673Z"
   },
   {
    "duration": 103,
    "start_time": "2022-02-03T21:32:52.497Z"
   },
   {
    "duration": 151,
    "start_time": "2022-02-03T21:33:04.910Z"
   },
   {
    "duration": 162,
    "start_time": "2022-02-03T21:33:30.744Z"
   },
   {
    "duration": 281,
    "start_time": "2022-02-03T22:06:17.763Z"
   },
   {
    "duration": 628,
    "start_time": "2022-02-03T22:07:01.360Z"
   },
   {
    "duration": 287,
    "start_time": "2022-02-03T22:07:41.272Z"
   },
   {
    "duration": 270,
    "start_time": "2022-02-03T22:08:21.495Z"
   },
   {
    "duration": 264,
    "start_time": "2022-02-03T22:08:36.610Z"
   },
   {
    "duration": 261,
    "start_time": "2022-02-03T22:10:08.248Z"
   },
   {
    "duration": 6,
    "start_time": "2022-02-03T22:18:32.237Z"
   },
   {
    "duration": 4,
    "start_time": "2022-02-03T22:18:32.789Z"
   },
   {
    "duration": 97,
    "start_time": "2022-02-03T22:18:33.237Z"
   },
   {
    "duration": 25,
    "start_time": "2022-02-03T22:18:34.118Z"
   },
   {
    "duration": 14,
    "start_time": "2022-02-03T22:18:35.886Z"
   },
   {
    "duration": 9,
    "start_time": "2022-02-03T22:18:36.975Z"
   },
   {
    "duration": 11,
    "start_time": "2022-02-03T22:18:37.173Z"
   },
   {
    "duration": 18,
    "start_time": "2022-02-03T22:18:37.397Z"
   },
   {
    "duration": 11,
    "start_time": "2022-02-03T22:18:37.645Z"
   },
   {
    "duration": 6,
    "start_time": "2022-02-03T22:18:37.869Z"
   },
   {
    "duration": 7,
    "start_time": "2022-02-03T22:18:38.381Z"
   },
   {
    "duration": 27,
    "start_time": "2022-02-03T22:18:38.598Z"
   },
   {
    "duration": 19,
    "start_time": "2022-02-03T22:18:39.182Z"
   },
   {
    "duration": 16,
    "start_time": "2022-02-03T22:18:39.478Z"
   },
   {
    "duration": 4,
    "start_time": "2022-02-03T22:18:40.629Z"
   },
   {
    "duration": 10,
    "start_time": "2022-02-03T22:18:40.933Z"
   },
   {
    "duration": 11,
    "start_time": "2022-02-03T22:18:41.189Z"
   },
   {
    "duration": 20,
    "start_time": "2022-02-03T22:18:41.486Z"
   },
   {
    "duration": 25,
    "start_time": "2022-02-03T22:18:42.031Z"
   },
   {
    "duration": 21,
    "start_time": "2022-02-03T22:18:42.262Z"
   },
   {
    "duration": 16,
    "start_time": "2022-02-03T22:18:43.405Z"
   },
   {
    "duration": 10,
    "start_time": "2022-02-03T22:18:43.646Z"
   },
   {
    "duration": 17,
    "start_time": "2022-02-03T22:18:45.206Z"
   },
   {
    "duration": 17,
    "start_time": "2022-02-03T22:18:45.734Z"
   },
   {
    "duration": 19,
    "start_time": "2022-02-03T22:18:46.037Z"
   },
   {
    "duration": 45,
    "start_time": "2022-02-03T22:18:46.479Z"
   },
   {
    "duration": 16,
    "start_time": "2022-02-03T22:18:48.278Z"
   },
   {
    "duration": 44,
    "start_time": "2022-02-03T22:18:49.247Z"
   },
   {
    "duration": 12,
    "start_time": "2022-02-03T22:18:54.646Z"
   },
   {
    "duration": 35,
    "start_time": "2022-02-03T22:18:57.135Z"
   },
   {
    "duration": 564,
    "start_time": "2022-02-03T22:18:58.031Z"
   },
   {
    "duration": 25,
    "start_time": "2022-02-03T22:18:58.598Z"
   },
   {
    "duration": 6,
    "start_time": "2022-02-03T22:19:07.855Z"
   },
   {
    "duration": 356,
    "start_time": "2022-02-03T22:19:09.631Z"
   },
   {
    "duration": 435,
    "start_time": "2022-02-03T22:19:10.815Z"
   },
   {
    "duration": 351,
    "start_time": "2022-02-03T22:19:11.575Z"
   },
   {
    "duration": 378,
    "start_time": "2022-02-03T22:19:12.223Z"
   },
   {
    "duration": 364,
    "start_time": "2022-02-03T22:19:12.927Z"
   },
   {
    "duration": 2382,
    "start_time": "2022-02-03T22:19:16.832Z"
   },
   {
    "duration": 391,
    "start_time": "2022-02-03T22:19:33.832Z"
   },
   {
    "duration": 619,
    "start_time": "2022-02-03T22:20:02.691Z"
   },
   {
    "duration": 16,
    "start_time": "2022-02-03T22:20:19.195Z"
   },
   {
    "duration": 6,
    "start_time": "2022-02-03T22:47:03.985Z"
   },
   {
    "duration": 7,
    "start_time": "2022-02-03T22:50:13.756Z"
   },
   {
    "duration": 1443,
    "start_time": "2022-02-03T22:50:16.964Z"
   },
   {
    "duration": 7,
    "start_time": "2022-02-03T22:52:06.963Z"
   },
   {
    "duration": 987,
    "start_time": "2022-02-03T22:52:09.066Z"
   },
   {
    "duration": 6,
    "start_time": "2022-02-03T22:53:18.870Z"
   },
   {
    "duration": 92,
    "start_time": "2022-02-03T22:53:20.951Z"
   },
   {
    "duration": 1033,
    "start_time": "2022-02-03T22:53:24.032Z"
   },
   {
    "duration": 6,
    "start_time": "2022-02-03T22:53:38.336Z"
   },
   {
    "duration": 1006,
    "start_time": "2022-02-03T22:53:46.656Z"
   },
   {
    "duration": 3,
    "start_time": "2022-02-03T22:54:33.450Z"
   },
   {
    "duration": 472,
    "start_time": "2022-02-03T22:55:36.415Z"
   },
   {
    "duration": 353,
    "start_time": "2022-02-03T22:56:48.570Z"
   },
   {
    "duration": 2153,
    "start_time": "2022-02-03T22:57:07.371Z"
   },
   {
    "duration": 367,
    "start_time": "2022-02-03T22:57:23.827Z"
   },
   {
    "duration": 6,
    "start_time": "2022-02-03T23:10:02.230Z"
   },
   {
    "duration": 6,
    "start_time": "2022-02-03T23:11:30.676Z"
   },
   {
    "duration": 4,
    "start_time": "2022-02-03T23:11:30.884Z"
   },
   {
    "duration": 94,
    "start_time": "2022-02-03T23:11:31.092Z"
   },
   {
    "duration": 25,
    "start_time": "2022-02-03T23:11:31.837Z"
   },
   {
    "duration": 19,
    "start_time": "2022-02-03T23:11:32.037Z"
   },
   {
    "duration": 11,
    "start_time": "2022-02-03T23:11:32.909Z"
   },
   {
    "duration": 15,
    "start_time": "2022-02-03T23:11:33.125Z"
   },
   {
    "duration": 27,
    "start_time": "2022-02-03T23:11:33.307Z"
   },
   {
    "duration": 15,
    "start_time": "2022-02-03T23:11:33.517Z"
   },
   {
    "duration": 9,
    "start_time": "2022-02-03T23:11:33.709Z"
   },
   {
    "duration": 7,
    "start_time": "2022-02-03T23:11:33.900Z"
   },
   {
    "duration": 29,
    "start_time": "2022-02-03T23:11:34.108Z"
   },
   {
    "duration": 25,
    "start_time": "2022-02-03T23:11:34.536Z"
   },
   {
    "duration": 20,
    "start_time": "2022-02-03T23:11:34.740Z"
   },
   {
    "duration": 5,
    "start_time": "2022-02-03T23:11:35.372Z"
   },
   {
    "duration": 15,
    "start_time": "2022-02-03T23:11:35.581Z"
   },
   {
    "duration": 15,
    "start_time": "2022-02-03T23:11:35.797Z"
   },
   {
    "duration": 27,
    "start_time": "2022-02-03T23:11:36.005Z"
   },
   {
    "duration": 33,
    "start_time": "2022-02-03T23:11:36.420Z"
   },
   {
    "duration": 24,
    "start_time": "2022-02-03T23:11:36.628Z"
   },
   {
    "duration": 16,
    "start_time": "2022-02-03T23:11:37.508Z"
   },
   {
    "duration": 10,
    "start_time": "2022-02-03T23:11:37.740Z"
   },
   {
    "duration": 17,
    "start_time": "2022-02-03T23:11:39.885Z"
   },
   {
    "duration": 17,
    "start_time": "2022-02-03T23:11:40.133Z"
   },
   {
    "duration": 20,
    "start_time": "2022-02-03T23:11:40.412Z"
   },
   {
    "duration": 46,
    "start_time": "2022-02-03T23:11:40.781Z"
   },
   {
    "duration": 16,
    "start_time": "2022-02-03T23:11:42.429Z"
   },
   {
    "duration": 59,
    "start_time": "2022-02-03T23:11:42.685Z"
   },
   {
    "duration": 14,
    "start_time": "2022-02-03T23:11:50.293Z"
   },
   {
    "duration": 36,
    "start_time": "2022-02-03T23:11:51.678Z"
   },
   {
    "duration": 486,
    "start_time": "2022-02-03T23:11:52.189Z"
   },
   {
    "duration": 12,
    "start_time": "2022-02-03T23:11:52.678Z"
   },
   {
    "duration": 5,
    "start_time": "2022-02-03T23:11:53.213Z"
   },
   {
    "duration": 469,
    "start_time": "2022-02-03T23:11:53.693Z"
   },
   {
    "duration": 360,
    "start_time": "2022-02-03T23:11:56.318Z"
   },
   {
    "duration": 1636,
    "start_time": "2022-02-03T23:16:02.374Z"
   },
   {
    "duration": 10,
    "start_time": "2022-02-03T23:16:04.013Z"
   },
   {
    "duration": 112,
    "start_time": "2022-02-03T23:16:04.031Z"
   },
   {
    "duration": 29,
    "start_time": "2022-02-03T23:16:04.146Z"
   },
   {
    "duration": 15,
    "start_time": "2022-02-03T23:16:04.178Z"
   },
   {
    "duration": 38,
    "start_time": "2022-02-03T23:16:04.196Z"
   },
   {
    "duration": 17,
    "start_time": "2022-02-03T23:16:04.237Z"
   },
   {
    "duration": 17,
    "start_time": "2022-02-03T23:16:04.258Z"
   },
   {
    "duration": 10,
    "start_time": "2022-02-03T23:16:04.278Z"
   },
   {
    "duration": 36,
    "start_time": "2022-02-03T23:16:04.291Z"
   },
   {
    "duration": 9,
    "start_time": "2022-02-03T23:16:04.331Z"
   },
   {
    "duration": 31,
    "start_time": "2022-02-03T23:16:04.342Z"
   },
   {
    "duration": 56,
    "start_time": "2022-02-03T23:16:04.375Z"
   },
   {
    "duration": 25,
    "start_time": "2022-02-03T23:16:04.435Z"
   },
   {
    "duration": 6,
    "start_time": "2022-02-03T23:16:04.463Z"
   },
   {
    "duration": 54,
    "start_time": "2022-02-03T23:16:04.472Z"
   },
   {
    "duration": 15,
    "start_time": "2022-02-03T23:16:04.530Z"
   },
   {
    "duration": 28,
    "start_time": "2022-02-03T23:16:04.548Z"
   },
   {
    "duration": 50,
    "start_time": "2022-02-03T23:16:04.578Z"
   },
   {
    "duration": 45,
    "start_time": "2022-02-03T23:16:04.631Z"
   },
   {
    "duration": 51,
    "start_time": "2022-02-03T23:16:04.679Z"
   },
   {
    "duration": 12,
    "start_time": "2022-02-03T23:16:04.734Z"
   },
   {
    "duration": 17,
    "start_time": "2022-02-03T23:16:04.752Z"
   },
   {
    "duration": 15,
    "start_time": "2022-02-03T23:16:04.773Z"
   },
   {
    "duration": 23,
    "start_time": "2022-02-03T23:16:04.825Z"
   },
   {
    "duration": 44,
    "start_time": "2022-02-03T23:16:04.850Z"
   },
   {
    "duration": 22,
    "start_time": "2022-02-03T23:16:04.924Z"
   },
   {
    "duration": 75,
    "start_time": "2022-02-03T23:16:04.949Z"
   },
   {
    "duration": 16,
    "start_time": "2022-02-03T23:16:05.027Z"
   },
   {
    "duration": 38,
    "start_time": "2022-02-03T23:16:05.046Z"
   },
   {
    "duration": 606,
    "start_time": "2022-02-03T23:16:05.087Z"
   },
   {
    "duration": 30,
    "start_time": "2022-02-03T23:16:05.695Z"
   },
   {
    "duration": 9,
    "start_time": "2022-02-03T23:16:05.729Z"
   },
   {
    "duration": 425,
    "start_time": "2022-02-03T23:16:05.741Z"
   },
   {
    "duration": 431,
    "start_time": "2022-02-03T23:16:06.169Z"
   },
   {
    "duration": 451,
    "start_time": "2022-02-03T23:16:06.602Z"
   },
   {
    "duration": 534,
    "start_time": "2022-02-03T23:16:07.056Z"
   },
   {
    "duration": 452,
    "start_time": "2022-02-03T23:16:07.593Z"
   },
   {
    "duration": 2581,
    "start_time": "2022-02-03T23:16:08.048Z"
   },
   {
    "duration": 435,
    "start_time": "2022-02-03T23:16:10.632Z"
   },
   {
    "duration": 689,
    "start_time": "2022-02-03T23:16:11.071Z"
   },
   {
    "duration": 18,
    "start_time": "2022-02-03T23:16:11.763Z"
   },
   {
    "duration": 707,
    "start_time": "2022-02-03T23:16:11.783Z"
   },
   {
    "duration": 41,
    "start_time": "2022-02-03T23:16:12.493Z"
   },
   {
    "duration": 8,
    "start_time": "2022-02-03T23:16:12.538Z"
   },
   {
    "duration": 574,
    "start_time": "2022-02-03T23:16:12.549Z"
   },
   {
    "duration": 8,
    "start_time": "2022-02-03T23:16:13.127Z"
   },
   {
    "duration": 66,
    "start_time": "2022-02-03T23:16:13.137Z"
   },
   {
    "duration": 41,
    "start_time": "2022-02-03T23:16:13.206Z"
   },
   {
    "duration": 28,
    "start_time": "2022-02-03T23:16:13.251Z"
   },
   {
    "duration": 62,
    "start_time": "2022-02-03T23:16:13.282Z"
   },
   {
    "duration": 114,
    "start_time": "2022-02-03T23:16:13.346Z"
   },
   {
    "duration": 283,
    "start_time": "2022-02-03T23:16:13.180Z"
   },
   {
    "duration": 279,
    "start_time": "2022-02-03T23:16:13.185Z"
   },
   {
    "duration": 274,
    "start_time": "2022-02-03T23:16:13.192Z"
   },
   {
    "duration": 270,
    "start_time": "2022-02-03T23:16:13.197Z"
   },
   {
    "duration": 266,
    "start_time": "2022-02-03T23:16:13.203Z"
   },
   {
    "duration": 260,
    "start_time": "2022-02-03T23:16:13.210Z"
   },
   {
    "duration": 256,
    "start_time": "2022-02-03T23:16:13.215Z"
   },
   {
    "duration": 254,
    "start_time": "2022-02-03T23:16:13.219Z"
   },
   {
    "duration": 248,
    "start_time": "2022-02-03T23:16:13.226Z"
   },
   {
    "duration": 244,
    "start_time": "2022-02-03T23:16:13.231Z"
   },
   {
    "duration": 241,
    "start_time": "2022-02-03T23:16:13.236Z"
   },
   {
    "duration": 236,
    "start_time": "2022-02-03T23:16:13.242Z"
   },
   {
    "duration": 232,
    "start_time": "2022-02-03T23:16:13.247Z"
   },
   {
    "duration": 228,
    "start_time": "2022-02-03T23:16:13.252Z"
   },
   {
    "duration": 224,
    "start_time": "2022-02-03T23:16:13.258Z"
   },
   {
    "duration": 220,
    "start_time": "2022-02-03T23:16:13.263Z"
   },
   {
    "duration": 217,
    "start_time": "2022-02-03T23:16:13.268Z"
   },
   {
    "duration": 214,
    "start_time": "2022-02-03T23:16:13.272Z"
   },
   {
    "duration": 208,
    "start_time": "2022-02-03T23:16:13.279Z"
   },
   {
    "duration": 205,
    "start_time": "2022-02-03T23:16:13.284Z"
   },
   {
    "duration": 194,
    "start_time": "2022-02-03T23:16:13.296Z"
   },
   {
    "duration": 190,
    "start_time": "2022-02-03T23:16:13.301Z"
   },
   {
    "duration": 6,
    "start_time": "2022-02-03T23:17:06.252Z"
   },
   {
    "duration": 484,
    "start_time": "2022-02-03T23:21:22.186Z"
   },
   {
    "duration": 371,
    "start_time": "2022-02-03T23:23:00.591Z"
   },
   {
    "duration": 7,
    "start_time": "2022-02-03T23:23:37.585Z"
   },
   {
    "duration": 362,
    "start_time": "2022-02-03T23:23:56.723Z"
   },
   {
    "duration": 354,
    "start_time": "2022-02-03T23:24:03.611Z"
   },
   {
    "duration": 8,
    "start_time": "2022-02-03T23:24:18.683Z"
   },
   {
    "duration": 9,
    "start_time": "2022-02-03T23:24:38.285Z"
   },
   {
    "duration": 7,
    "start_time": "2022-02-03T23:26:31.539Z"
   },
   {
    "duration": 1734,
    "start_time": "2022-02-03T23:27:25.633Z"
   },
   {
    "duration": 4,
    "start_time": "2022-02-03T23:27:27.370Z"
   },
   {
    "duration": 127,
    "start_time": "2022-02-03T23:27:27.377Z"
   },
   {
    "duration": 40,
    "start_time": "2022-02-03T23:27:27.507Z"
   },
   {
    "duration": 15,
    "start_time": "2022-02-03T23:27:27.550Z"
   },
   {
    "duration": 9,
    "start_time": "2022-02-03T23:27:27.568Z"
   },
   {
    "duration": 48,
    "start_time": "2022-02-03T23:27:27.579Z"
   },
   {
    "duration": 27,
    "start_time": "2022-02-03T23:27:27.632Z"
   },
   {
    "duration": 11,
    "start_time": "2022-02-03T23:27:27.662Z"
   },
   {
    "duration": 6,
    "start_time": "2022-02-03T23:27:27.676Z"
   },
   {
    "duration": 6,
    "start_time": "2022-02-03T23:27:27.684Z"
   },
   {
    "duration": 35,
    "start_time": "2022-02-03T23:27:27.724Z"
   },
   {
    "duration": 19,
    "start_time": "2022-02-03T23:27:27.761Z"
   },
   {
    "duration": 57,
    "start_time": "2022-02-03T23:27:27.782Z"
   },
   {
    "duration": 10,
    "start_time": "2022-02-03T23:27:27.842Z"
   },
   {
    "duration": 17,
    "start_time": "2022-02-03T23:27:27.854Z"
   },
   {
    "duration": 49,
    "start_time": "2022-02-03T23:27:27.874Z"
   },
   {
    "duration": 27,
    "start_time": "2022-02-03T23:27:27.926Z"
   },
   {
    "duration": 24,
    "start_time": "2022-02-03T23:27:27.956Z"
   },
   {
    "duration": 69,
    "start_time": "2022-02-03T23:27:27.983Z"
   },
   {
    "duration": 16,
    "start_time": "2022-02-03T23:27:28.055Z"
   },
   {
    "duration": 51,
    "start_time": "2022-02-03T23:27:28.074Z"
   },
   {
    "duration": 21,
    "start_time": "2022-02-03T23:27:28.136Z"
   },
   {
    "duration": 15,
    "start_time": "2022-02-03T23:27:28.161Z"
   },
   {
    "duration": 52,
    "start_time": "2022-02-03T23:27:28.178Z"
   },
   {
    "duration": 48,
    "start_time": "2022-02-03T23:27:28.237Z"
   },
   {
    "duration": 49,
    "start_time": "2022-02-03T23:27:28.288Z"
   },
   {
    "duration": 48,
    "start_time": "2022-02-03T23:27:28.341Z"
   },
   {
    "duration": 37,
    "start_time": "2022-02-03T23:27:28.391Z"
   },
   {
    "duration": 42,
    "start_time": "2022-02-03T23:27:28.432Z"
   },
   {
    "duration": 577,
    "start_time": "2022-02-03T23:27:28.477Z"
   },
   {
    "duration": 11,
    "start_time": "2022-02-03T23:27:29.056Z"
   },
   {
    "duration": 5,
    "start_time": "2022-02-03T23:27:29.070Z"
   },
   {
    "duration": 432,
    "start_time": "2022-02-03T23:27:29.077Z"
   },
   {
    "duration": 399,
    "start_time": "2022-02-03T23:27:29.511Z"
   },
   {
    "duration": 418,
    "start_time": "2022-02-03T23:27:29.913Z"
   },
   {
    "duration": 524,
    "start_time": "2022-02-03T23:27:30.334Z"
   },
   {
    "duration": 453,
    "start_time": "2022-02-03T23:27:30.861Z"
   },
   {
    "duration": 3460,
    "start_time": "2022-02-03T23:27:31.329Z"
   },
   {
    "duration": 589,
    "start_time": "2022-02-03T23:27:34.792Z"
   },
   {
    "duration": 770,
    "start_time": "2022-02-03T23:27:35.383Z"
   },
   {
    "duration": 15,
    "start_time": "2022-02-03T23:27:36.155Z"
   },
   {
    "duration": 637,
    "start_time": "2022-02-03T23:27:36.172Z"
   },
   {
    "duration": 38,
    "start_time": "2022-02-03T23:27:36.811Z"
   },
   {
    "duration": 6,
    "start_time": "2022-02-03T23:27:36.852Z"
   },
   {
    "duration": 549,
    "start_time": "2022-02-03T23:27:36.860Z"
   },
   {
    "duration": 11,
    "start_time": "2022-02-03T23:27:37.412Z"
   },
   {
    "duration": 47,
    "start_time": "2022-02-03T23:27:37.426Z"
   },
   {
    "duration": 23,
    "start_time": "2022-02-03T23:27:37.475Z"
   },
   {
    "duration": 32,
    "start_time": "2022-02-03T23:27:37.524Z"
   },
   {
    "duration": 21,
    "start_time": "2022-02-03T23:27:37.559Z"
   },
   {
    "duration": 44,
    "start_time": "2022-02-03T23:27:37.583Z"
   },
   {
    "duration": 26,
    "start_time": "2022-02-03T23:27:37.630Z"
   },
   {
    "duration": 17,
    "start_time": "2022-02-03T23:27:37.659Z"
   },
   {
    "duration": 494,
    "start_time": "2022-02-03T23:27:37.678Z"
   },
   {
    "duration": 285,
    "start_time": "2022-02-03T23:27:37.892Z"
   },
   {
    "duration": 280,
    "start_time": "2022-02-03T23:27:37.899Z"
   },
   {
    "duration": 276,
    "start_time": "2022-02-03T23:27:37.904Z"
   },
   {
    "duration": 273,
    "start_time": "2022-02-03T23:27:37.909Z"
   },
   {
    "duration": 269,
    "start_time": "2022-02-03T23:27:37.915Z"
   },
   {
    "duration": 266,
    "start_time": "2022-02-03T23:27:37.920Z"
   },
   {
    "duration": 262,
    "start_time": "2022-02-03T23:27:37.926Z"
   },
   {
    "duration": 256,
    "start_time": "2022-02-03T23:27:37.934Z"
   },
   {
    "duration": 253,
    "start_time": "2022-02-03T23:27:37.939Z"
   },
   {
    "duration": 249,
    "start_time": "2022-02-03T23:27:37.945Z"
   },
   {
    "duration": 244,
    "start_time": "2022-02-03T23:27:37.952Z"
   },
   {
    "duration": 240,
    "start_time": "2022-02-03T23:27:37.957Z"
   },
   {
    "duration": 234,
    "start_time": "2022-02-03T23:27:37.965Z"
   },
   {
    "duration": 231,
    "start_time": "2022-02-03T23:27:37.970Z"
   },
   {
    "duration": 227,
    "start_time": "2022-02-03T23:27:37.976Z"
   },
   {
    "duration": 222,
    "start_time": "2022-02-03T23:27:37.983Z"
   },
   {
    "duration": 220,
    "start_time": "2022-02-03T23:27:37.987Z"
   },
   {
    "duration": 230,
    "start_time": "2022-02-03T23:27:37.993Z"
   },
   {
    "duration": 1592,
    "start_time": "2022-02-03T23:33:32.975Z"
   },
   {
    "duration": 3,
    "start_time": "2022-02-03T23:33:34.570Z"
   },
   {
    "duration": 96,
    "start_time": "2022-02-03T23:33:34.576Z"
   },
   {
    "duration": 28,
    "start_time": "2022-02-03T23:33:34.674Z"
   },
   {
    "duration": 20,
    "start_time": "2022-02-03T23:33:34.704Z"
   },
   {
    "duration": 9,
    "start_time": "2022-02-03T23:33:34.727Z"
   },
   {
    "duration": 9,
    "start_time": "2022-02-03T23:33:34.739Z"
   },
   {
    "duration": 17,
    "start_time": "2022-02-03T23:33:34.751Z"
   },
   {
    "duration": 10,
    "start_time": "2022-02-03T23:33:34.770Z"
   },
   {
    "duration": 43,
    "start_time": "2022-02-03T23:33:34.783Z"
   },
   {
    "duration": 7,
    "start_time": "2022-02-03T23:33:34.828Z"
   },
   {
    "duration": 28,
    "start_time": "2022-02-03T23:33:34.837Z"
   },
   {
    "duration": 56,
    "start_time": "2022-02-03T23:33:34.867Z"
   },
   {
    "duration": 17,
    "start_time": "2022-02-03T23:33:34.925Z"
   },
   {
    "duration": 4,
    "start_time": "2022-02-03T23:33:34.944Z"
   },
   {
    "duration": 10,
    "start_time": "2022-02-03T23:33:34.951Z"
   },
   {
    "duration": 9,
    "start_time": "2022-02-03T23:33:34.963Z"
   },
   {
    "duration": 65,
    "start_time": "2022-02-03T23:33:34.977Z"
   },
   {
    "duration": 22,
    "start_time": "2022-02-03T23:33:35.046Z"
   },
   {
    "duration": 59,
    "start_time": "2022-02-03T23:33:35.071Z"
   },
   {
    "duration": 15,
    "start_time": "2022-02-03T23:33:35.132Z"
   },
   {
    "duration": 9,
    "start_time": "2022-02-03T23:33:35.149Z"
   },
   {
    "duration": 15,
    "start_time": "2022-02-03T23:33:35.161Z"
   },
   {
    "duration": 56,
    "start_time": "2022-02-03T23:33:35.178Z"
   },
   {
    "duration": 17,
    "start_time": "2022-02-03T23:33:35.236Z"
   },
   {
    "duration": 74,
    "start_time": "2022-02-03T23:33:35.255Z"
   },
   {
    "duration": 14,
    "start_time": "2022-02-03T23:33:35.332Z"
   },
   {
    "duration": 42,
    "start_time": "2022-02-03T23:33:35.348Z"
   },
   {
    "duration": 11,
    "start_time": "2022-02-03T23:33:35.424Z"
   },
   {
    "duration": 39,
    "start_time": "2022-02-03T23:33:35.437Z"
   },
   {
    "duration": 493,
    "start_time": "2022-02-03T23:33:35.479Z"
   },
   {
    "duration": 11,
    "start_time": "2022-02-03T23:33:35.974Z"
   },
   {
    "duration": 6,
    "start_time": "2022-02-03T23:33:35.988Z"
   },
   {
    "duration": 370,
    "start_time": "2022-02-03T23:33:35.996Z"
   },
   {
    "duration": 361,
    "start_time": "2022-02-03T23:33:36.369Z"
   },
   {
    "duration": 365,
    "start_time": "2022-02-03T23:33:36.733Z"
   },
   {
    "duration": 429,
    "start_time": "2022-02-03T23:33:37.100Z"
   },
   {
    "duration": 379,
    "start_time": "2022-02-03T23:33:37.531Z"
   },
   {
    "duration": 2410,
    "start_time": "2022-02-03T23:33:37.913Z"
   },
   {
    "duration": 408,
    "start_time": "2022-02-03T23:33:40.326Z"
   },
   {
    "duration": 608,
    "start_time": "2022-02-03T23:33:40.736Z"
   },
   {
    "duration": 15,
    "start_time": "2022-02-03T23:33:41.347Z"
   },
   {
    "duration": 632,
    "start_time": "2022-02-03T23:33:41.364Z"
   },
   {
    "duration": 37,
    "start_time": "2022-02-03T23:33:41.999Z"
   },
   {
    "duration": 7,
    "start_time": "2022-02-03T23:33:42.038Z"
   },
   {
    "duration": 480,
    "start_time": "2022-02-03T23:33:42.047Z"
   },
   {
    "duration": 6,
    "start_time": "2022-02-03T23:33:42.529Z"
   },
   {
    "duration": 37,
    "start_time": "2022-02-03T23:33:42.538Z"
   },
   {
    "duration": 52,
    "start_time": "2022-02-03T23:33:42.577Z"
   },
   {
    "duration": 27,
    "start_time": "2022-02-03T23:33:42.632Z"
   },
   {
    "duration": 21,
    "start_time": "2022-02-03T23:33:42.662Z"
   },
   {
    "duration": 47,
    "start_time": "2022-02-03T23:33:42.686Z"
   },
   {
    "duration": 17,
    "start_time": "2022-02-03T23:33:42.736Z"
   },
   {
    "duration": 16,
    "start_time": "2022-02-03T23:33:42.761Z"
   },
   {
    "duration": 63,
    "start_time": "2022-02-03T23:33:42.779Z"
   },
   {
    "duration": 31,
    "start_time": "2022-02-03T23:33:42.845Z"
   },
   {
    "duration": 5,
    "start_time": "2022-02-03T23:33:42.879Z"
   },
   {
    "duration": 40,
    "start_time": "2022-02-03T23:33:42.887Z"
   },
   {
    "duration": 10,
    "start_time": "2022-02-03T23:33:42.929Z"
   },
   {
    "duration": 15,
    "start_time": "2022-02-03T23:33:42.941Z"
   },
   {
    "duration": 7816,
    "start_time": "2022-02-03T23:33:42.958Z"
   },
   {
    "duration": 1808,
    "start_time": "2022-02-03T23:42:29.775Z"
   },
   {
    "duration": 3,
    "start_time": "2022-02-03T23:42:31.586Z"
   },
   {
    "duration": 103,
    "start_time": "2022-02-03T23:42:31.592Z"
   },
   {
    "duration": 30,
    "start_time": "2022-02-03T23:42:31.698Z"
   },
   {
    "duration": 14,
    "start_time": "2022-02-03T23:42:31.730Z"
   },
   {
    "duration": 8,
    "start_time": "2022-02-03T23:42:31.747Z"
   },
   {
    "duration": 14,
    "start_time": "2022-02-03T23:42:31.757Z"
   },
   {
    "duration": 58,
    "start_time": "2022-02-03T23:42:31.775Z"
   },
   {
    "duration": 12,
    "start_time": "2022-02-03T23:42:31.835Z"
   },
   {
    "duration": 10,
    "start_time": "2022-02-03T23:42:31.849Z"
   },
   {
    "duration": 7,
    "start_time": "2022-02-03T23:42:31.861Z"
   },
   {
    "duration": 56,
    "start_time": "2022-02-03T23:42:31.870Z"
   },
   {
    "duration": 21,
    "start_time": "2022-02-03T23:42:31.929Z"
   },
   {
    "duration": 17,
    "start_time": "2022-02-03T23:42:31.952Z"
   },
   {
    "duration": 53,
    "start_time": "2022-02-03T23:42:31.971Z"
   },
   {
    "duration": 10,
    "start_time": "2022-02-03T23:42:32.026Z"
   },
   {
    "duration": 22,
    "start_time": "2022-02-03T23:42:32.038Z"
   },
   {
    "duration": 26,
    "start_time": "2022-02-03T23:42:32.062Z"
   },
   {
    "duration": 44,
    "start_time": "2022-02-03T23:42:32.091Z"
   },
   {
    "duration": 22,
    "start_time": "2022-02-03T23:42:32.137Z"
   },
   {
    "duration": 61,
    "start_time": "2022-02-03T23:42:32.162Z"
   },
   {
    "duration": 11,
    "start_time": "2022-02-03T23:42:32.225Z"
   },
   {
    "duration": 16,
    "start_time": "2022-02-03T23:42:32.242Z"
   },
   {
    "duration": 16,
    "start_time": "2022-02-03T23:42:32.263Z"
   },
   {
    "duration": 51,
    "start_time": "2022-02-03T23:42:32.282Z"
   },
   {
    "duration": 47,
    "start_time": "2022-02-03T23:42:32.336Z"
   },
   {
    "duration": 50,
    "start_time": "2022-02-03T23:42:32.386Z"
   },
   {
    "duration": 41,
    "start_time": "2022-02-03T23:42:32.439Z"
   },
   {
    "duration": 49,
    "start_time": "2022-02-03T23:42:32.483Z"
   },
   {
    "duration": 35,
    "start_time": "2022-02-03T23:42:32.535Z"
   },
   {
    "duration": 511,
    "start_time": "2022-02-03T23:42:32.573Z"
   },
   {
    "duration": 12,
    "start_time": "2022-02-03T23:42:33.087Z"
   },
   {
    "duration": 25,
    "start_time": "2022-02-03T23:42:33.102Z"
   },
   {
    "duration": 399,
    "start_time": "2022-02-03T23:42:33.129Z"
   },
   {
    "duration": 372,
    "start_time": "2022-02-03T23:42:33.531Z"
   },
   {
    "duration": 367,
    "start_time": "2022-02-03T23:42:33.905Z"
   },
   {
    "duration": 432,
    "start_time": "2022-02-03T23:42:34.275Z"
   },
   {
    "duration": 370,
    "start_time": "2022-02-03T23:42:34.710Z"
   },
   {
    "duration": 2413,
    "start_time": "2022-02-03T23:42:35.083Z"
   },
   {
    "duration": 401,
    "start_time": "2022-02-03T23:42:37.499Z"
   },
   {
    "duration": 585,
    "start_time": "2022-02-03T23:42:37.903Z"
   },
   {
    "duration": 14,
    "start_time": "2022-02-03T23:42:38.490Z"
   },
   {
    "duration": 639,
    "start_time": "2022-02-03T23:42:38.507Z"
   },
   {
    "duration": 22,
    "start_time": "2022-02-03T23:42:39.148Z"
   },
   {
    "duration": 5,
    "start_time": "2022-02-03T23:42:39.172Z"
   },
   {
    "duration": 508,
    "start_time": "2022-02-03T23:42:39.180Z"
   },
   {
    "duration": 6,
    "start_time": "2022-02-03T23:42:39.690Z"
   },
   {
    "duration": 55,
    "start_time": "2022-02-03T23:42:39.698Z"
   },
   {
    "duration": 20,
    "start_time": "2022-02-03T23:42:39.755Z"
   },
   {
    "duration": 45,
    "start_time": "2022-02-03T23:42:39.778Z"
   },
   {
    "duration": 20,
    "start_time": "2022-02-03T23:42:39.825Z"
   },
   {
    "duration": 10,
    "start_time": "2022-02-03T23:42:39.847Z"
   },
   {
    "duration": 15,
    "start_time": "2022-02-03T23:42:39.859Z"
   },
   {
    "duration": 52,
    "start_time": "2022-02-03T23:42:39.876Z"
   },
   {
    "duration": 25,
    "start_time": "2022-02-03T23:42:39.930Z"
   },
   {
    "duration": 31,
    "start_time": "2022-02-03T23:42:39.957Z"
   },
   {
    "duration": 34,
    "start_time": "2022-02-03T23:42:39.991Z"
   },
   {
    "duration": 9,
    "start_time": "2022-02-03T23:42:40.029Z"
   },
   {
    "duration": 11,
    "start_time": "2022-02-03T23:42:40.041Z"
   },
   {
    "duration": 17,
    "start_time": "2022-02-03T23:42:40.054Z"
   },
   {
    "duration": 7591,
    "start_time": "2022-02-03T23:42:40.074Z"
   },
   {
    "duration": 137671,
    "start_time": "2022-02-03T23:42:47.668Z"
   },
   {
    "duration": 3794,
    "start_time": "2022-02-03T23:45:05.341Z"
   },
   {
    "duration": 16525,
    "start_time": "2022-02-03T23:45:09.138Z"
   },
   {
    "duration": 9476,
    "start_time": "2022-02-03T23:45:25.666Z"
   },
   {
    "duration": 286,
    "start_time": "2022-02-03T23:45:35.144Z"
   },
   {
    "duration": 9,
    "start_time": "2022-02-03T23:45:35.433Z"
   },
   {
    "duration": 9,
    "start_time": "2022-02-03T23:45:35.448Z"
   },
   {
    "duration": 5,
    "start_time": "2022-02-03T23:45:35.460Z"
   },
   {
    "duration": 312,
    "start_time": "2022-02-03T23:45:35.468Z"
   },
   {
    "duration": 298,
    "start_time": "2022-02-03T23:45:35.484Z"
   },
   {
    "duration": 293,
    "start_time": "2022-02-03T23:45:35.490Z"
   },
   {
    "duration": 290,
    "start_time": "2022-02-03T23:45:35.495Z"
   },
   {
    "duration": 5,
    "start_time": "2022-02-03T23:52:32.864Z"
   },
   {
    "duration": 5,
    "start_time": "2022-02-03T23:52:53.328Z"
   },
   {
    "duration": 6,
    "start_time": "2022-02-03T23:53:17.850Z"
   },
   {
    "duration": 9812,
    "start_time": "2022-02-03T23:53:37.974Z"
   },
   {
    "duration": 14,
    "start_time": "2022-02-03T23:55:12.025Z"
   },
   {
    "duration": 29,
    "start_time": "2022-02-03T23:55:20.489Z"
   },
   {
    "duration": 1717,
    "start_time": "2022-02-03T23:58:19.022Z"
   },
   {
    "duration": 3,
    "start_time": "2022-02-03T23:58:20.741Z"
   },
   {
    "duration": 101,
    "start_time": "2022-02-03T23:58:20.747Z"
   },
   {
    "duration": 28,
    "start_time": "2022-02-03T23:58:20.851Z"
   },
   {
    "duration": 13,
    "start_time": "2022-02-03T23:58:20.882Z"
   },
   {
    "duration": 32,
    "start_time": "2022-02-03T23:58:20.898Z"
   },
   {
    "duration": 14,
    "start_time": "2022-02-03T23:58:20.932Z"
   },
   {
    "duration": 18,
    "start_time": "2022-02-03T23:58:20.949Z"
   },
   {
    "duration": 9,
    "start_time": "2022-02-03T23:58:20.970Z"
   },
   {
    "duration": 9,
    "start_time": "2022-02-03T23:58:20.982Z"
   },
   {
    "duration": 33,
    "start_time": "2022-02-03T23:58:20.993Z"
   },
   {
    "duration": 26,
    "start_time": "2022-02-03T23:58:21.029Z"
   },
   {
    "duration": 18,
    "start_time": "2022-02-03T23:58:21.058Z"
   },
   {
    "duration": 58,
    "start_time": "2022-02-03T23:58:21.079Z"
   },
   {
    "duration": 4,
    "start_time": "2022-02-03T23:58:21.140Z"
   },
   {
    "duration": 10,
    "start_time": "2022-02-03T23:58:21.147Z"
   },
   {
    "duration": 11,
    "start_time": "2022-02-03T23:58:21.159Z"
   },
   {
    "duration": 64,
    "start_time": "2022-02-03T23:58:21.172Z"
   },
   {
    "duration": 24,
    "start_time": "2022-02-03T23:58:21.238Z"
   },
   {
    "duration": 64,
    "start_time": "2022-02-03T23:58:21.265Z"
   },
   {
    "duration": 15,
    "start_time": "2022-02-03T23:58:21.331Z"
   },
   {
    "duration": 9,
    "start_time": "2022-02-03T23:58:21.349Z"
   },
   {
    "duration": 16,
    "start_time": "2022-02-03T23:58:21.365Z"
   },
   {
    "duration": 15,
    "start_time": "2022-02-03T23:58:21.425Z"
   },
   {
    "duration": 15,
    "start_time": "2022-02-03T23:58:21.443Z"
   },
   {
    "duration": 69,
    "start_time": "2022-02-03T23:58:21.460Z"
   },
   {
    "duration": 15,
    "start_time": "2022-02-03T23:58:21.532Z"
   },
   {
    "duration": 39,
    "start_time": "2022-02-03T23:58:21.549Z"
   },
   {
    "duration": 39,
    "start_time": "2022-02-03T23:58:21.591Z"
   },
   {
    "duration": 34,
    "start_time": "2022-02-03T23:58:21.632Z"
   },
   {
    "duration": 560,
    "start_time": "2022-02-03T23:58:21.668Z"
   },
   {
    "duration": 11,
    "start_time": "2022-02-03T23:58:22.230Z"
   },
   {
    "duration": 9,
    "start_time": "2022-02-03T23:58:22.243Z"
   },
   {
    "duration": 368,
    "start_time": "2022-02-03T23:58:22.255Z"
   },
   {
    "duration": 380,
    "start_time": "2022-02-03T23:58:22.626Z"
   },
   {
    "duration": 454,
    "start_time": "2022-02-03T23:58:23.008Z"
   },
   {
    "duration": 605,
    "start_time": "2022-02-03T23:58:23.465Z"
   },
   {
    "duration": 369,
    "start_time": "2022-02-03T23:58:24.072Z"
   },
   {
    "duration": 2384,
    "start_time": "2022-02-03T23:58:24.443Z"
   },
   {
    "duration": 404,
    "start_time": "2022-02-03T23:58:26.829Z"
   },
   {
    "duration": 605,
    "start_time": "2022-02-03T23:58:27.236Z"
   },
   {
    "duration": 14,
    "start_time": "2022-02-03T23:58:27.844Z"
   },
   {
    "duration": 637,
    "start_time": "2022-02-03T23:58:27.861Z"
   },
   {
    "duration": 35,
    "start_time": "2022-02-03T23:58:28.501Z"
   },
   {
    "duration": 6,
    "start_time": "2022-02-03T23:58:28.538Z"
   },
   {
    "duration": 507,
    "start_time": "2022-02-03T23:58:28.546Z"
   },
   {
    "duration": 7,
    "start_time": "2022-02-03T23:58:29.055Z"
   },
   {
    "duration": 59,
    "start_time": "2022-02-03T23:58:29.064Z"
   },
   {
    "duration": 20,
    "start_time": "2022-02-03T23:58:29.125Z"
   },
   {
    "duration": 24,
    "start_time": "2022-02-03T23:58:29.147Z"
   },
   {
    "duration": 51,
    "start_time": "2022-02-03T23:58:29.173Z"
   },
   {
    "duration": 8,
    "start_time": "2022-02-03T23:58:29.227Z"
   },
   {
    "duration": 18,
    "start_time": "2022-02-03T23:58:29.237Z"
   },
   {
    "duration": 14,
    "start_time": "2022-02-03T23:58:29.257Z"
   },
   {
    "duration": 68,
    "start_time": "2022-02-03T23:58:29.273Z"
   },
   {
    "duration": 25,
    "start_time": "2022-02-03T23:58:29.344Z"
   },
   {
    "duration": 8,
    "start_time": "2022-02-03T23:58:29.373Z"
   },
   {
    "duration": 44,
    "start_time": "2022-02-03T23:58:29.384Z"
   },
   {
    "duration": 10,
    "start_time": "2022-02-03T23:58:29.431Z"
   },
   {
    "duration": 14,
    "start_time": "2022-02-03T23:58:29.445Z"
   },
   {
    "duration": 13432,
    "start_time": "2022-02-03T23:58:29.461Z"
   },
   {
    "duration": 147388,
    "start_time": "2022-02-03T23:58:42.895Z"
   },
   {
    "duration": 76742,
    "start_time": "2022-02-04T00:01:10.286Z"
   },
   {
    "duration": 32884,
    "start_time": "2022-02-04T00:02:27.031Z"
   },
   {
    "duration": 953630,
    "start_time": "2022-02-04T00:02:59.924Z"
   },
   {
    "duration": 394,
    "start_time": "2022-02-04T00:18:53.557Z"
   },
   {
    "duration": 10,
    "start_time": "2022-02-04T00:18:53.954Z"
   },
   {
    "duration": 6,
    "start_time": "2022-02-04T00:18:53.971Z"
   },
   {
    "duration": 6,
    "start_time": "2022-02-04T00:18:53.980Z"
   },
   {
    "duration": 341,
    "start_time": "2022-02-04T00:18:53.988Z"
   },
   {
    "duration": 356,
    "start_time": "2022-02-04T00:18:54.332Z"
   },
   {
    "duration": 390,
    "start_time": "2022-02-04T00:18:54.690Z"
   },
   {
    "duration": 404,
    "start_time": "2022-02-04T00:18:55.083Z"
   },
   {
    "duration": 1607,
    "start_time": "2022-02-04T00:29:17.691Z"
   },
   {
    "duration": 3,
    "start_time": "2022-02-04T00:29:19.301Z"
   },
   {
    "duration": 97,
    "start_time": "2022-02-04T00:29:19.307Z"
   },
   {
    "duration": 29,
    "start_time": "2022-02-04T00:29:19.406Z"
   },
   {
    "duration": 14,
    "start_time": "2022-02-04T00:29:19.437Z"
   },
   {
    "duration": 8,
    "start_time": "2022-02-04T00:29:19.454Z"
   },
   {
    "duration": 18,
    "start_time": "2022-02-04T00:29:19.465Z"
   },
   {
    "duration": 18,
    "start_time": "2022-02-04T00:29:19.523Z"
   },
   {
    "duration": 11,
    "start_time": "2022-02-04T00:29:19.544Z"
   },
   {
    "duration": 8,
    "start_time": "2022-02-04T00:29:19.557Z"
   },
   {
    "duration": 10,
    "start_time": "2022-02-04T00:29:19.567Z"
   },
   {
    "duration": 58,
    "start_time": "2022-02-04T00:29:19.579Z"
   },
   {
    "duration": 19,
    "start_time": "2022-02-04T00:29:19.640Z"
   },
   {
    "duration": 17,
    "start_time": "2022-02-04T00:29:19.661Z"
   },
   {
    "duration": 44,
    "start_time": "2022-02-04T00:29:19.680Z"
   },
   {
    "duration": 17,
    "start_time": "2022-02-04T00:29:19.727Z"
   },
   {
    "duration": 11,
    "start_time": "2022-02-04T00:29:19.746Z"
   },
   {
    "duration": 20,
    "start_time": "2022-02-04T00:29:19.760Z"
   },
   {
    "duration": 51,
    "start_time": "2022-02-04T00:29:19.783Z"
   },
   {
    "duration": 21,
    "start_time": "2022-02-04T00:29:19.836Z"
   },
   {
    "duration": 14,
    "start_time": "2022-02-04T00:29:19.859Z"
   },
   {
    "duration": 55,
    "start_time": "2022-02-04T00:29:19.875Z"
   },
   {
    "duration": 16,
    "start_time": "2022-02-04T00:29:19.936Z"
   },
   {
    "duration": 13,
    "start_time": "2022-02-04T00:29:19.956Z"
   },
   {
    "duration": 51,
    "start_time": "2022-02-04T00:29:19.972Z"
   },
   {
    "duration": 44,
    "start_time": "2022-02-04T00:29:20.025Z"
   },
   {
    "duration": 16,
    "start_time": "2022-02-04T00:29:20.071Z"
   },
   {
    "duration": 68,
    "start_time": "2022-02-04T00:29:20.089Z"
   },
   {
    "duration": 12,
    "start_time": "2022-02-04T00:29:20.159Z"
   },
   {
    "duration": 68,
    "start_time": "2022-02-04T00:29:20.173Z"
   },
   {
    "duration": 499,
    "start_time": "2022-02-04T00:29:20.243Z"
   },
   {
    "duration": 12,
    "start_time": "2022-02-04T00:29:20.744Z"
   },
   {
    "duration": 4,
    "start_time": "2022-02-04T00:29:20.759Z"
   },
   {
    "duration": 376,
    "start_time": "2022-02-04T00:29:20.766Z"
   },
   {
    "duration": 363,
    "start_time": "2022-02-04T00:29:21.144Z"
   },
   {
    "duration": 364,
    "start_time": "2022-02-04T00:29:21.509Z"
   },
   {
    "duration": 430,
    "start_time": "2022-02-04T00:29:21.875Z"
   },
   {
    "duration": 363,
    "start_time": "2022-02-04T00:29:22.308Z"
   },
   {
    "duration": 2287,
    "start_time": "2022-02-04T00:29:22.673Z"
   },
   {
    "duration": 390,
    "start_time": "2022-02-04T00:29:24.963Z"
   },
   {
    "duration": 595,
    "start_time": "2022-02-04T00:29:25.356Z"
   },
   {
    "duration": 21,
    "start_time": "2022-02-04T00:29:25.954Z"
   },
   {
    "duration": 707,
    "start_time": "2022-02-04T00:29:25.977Z"
   },
   {
    "duration": 37,
    "start_time": "2022-02-04T00:29:26.686Z"
   },
   {
    "duration": 6,
    "start_time": "2022-02-04T00:29:26.725Z"
   },
   {
    "duration": 458,
    "start_time": "2022-02-04T00:29:26.733Z"
   },
   {
    "duration": 6,
    "start_time": "2022-02-04T00:29:27.193Z"
   },
   {
    "duration": 57,
    "start_time": "2022-02-04T00:29:27.201Z"
   },
   {
    "duration": 20,
    "start_time": "2022-02-04T00:29:27.261Z"
   },
   {
    "duration": 44,
    "start_time": "2022-02-04T00:29:27.283Z"
   },
   {
    "duration": 19,
    "start_time": "2022-02-04T00:29:27.330Z"
   },
   {
    "duration": 472,
    "start_time": "2022-02-04T00:29:27.352Z"
   },
   {
    "duration": 321,
    "start_time": "2022-02-04T00:29:27.506Z"
   },
   {
    "duration": 311,
    "start_time": "2022-02-04T00:29:27.517Z"
   },
   {
    "duration": 307,
    "start_time": "2022-02-04T00:29:27.522Z"
   },
   {
    "duration": 301,
    "start_time": "2022-02-04T00:29:27.530Z"
   },
   {
    "duration": 297,
    "start_time": "2022-02-04T00:29:27.536Z"
   },
   {
    "duration": 290,
    "start_time": "2022-02-04T00:29:27.544Z"
   },
   {
    "duration": 286,
    "start_time": "2022-02-04T00:29:27.549Z"
   },
   {
    "duration": 283,
    "start_time": "2022-02-04T00:29:27.554Z"
   },
   {
    "duration": 276,
    "start_time": "2022-02-04T00:29:27.562Z"
   },
   {
    "duration": 273,
    "start_time": "2022-02-04T00:29:27.567Z"
   },
   {
    "duration": 269,
    "start_time": "2022-02-04T00:29:27.572Z"
   },
   {
    "duration": 262,
    "start_time": "2022-02-04T00:29:27.580Z"
   },
   {
    "duration": 258,
    "start_time": "2022-02-04T00:29:27.586Z"
   },
   {
    "duration": 250,
    "start_time": "2022-02-04T00:29:27.595Z"
   },
   {
    "duration": 247,
    "start_time": "2022-02-04T00:29:27.600Z"
   },
   {
    "duration": 243,
    "start_time": "2022-02-04T00:29:27.605Z"
   },
   {
    "duration": 236,
    "start_time": "2022-02-04T00:29:27.613Z"
   },
   {
    "duration": 233,
    "start_time": "2022-02-04T00:29:27.618Z"
   },
   {
    "duration": 229,
    "start_time": "2022-02-04T00:29:27.623Z"
   },
   {
    "duration": 223,
    "start_time": "2022-02-04T00:29:27.631Z"
   },
   {
    "duration": 219,
    "start_time": "2022-02-04T00:29:27.636Z"
   },
   {
    "duration": 1520,
    "start_time": "2022-02-04T00:30:13.872Z"
   },
   {
    "duration": 4,
    "start_time": "2022-02-04T00:30:15.394Z"
   },
   {
    "duration": 101,
    "start_time": "2022-02-04T00:30:15.401Z"
   },
   {
    "duration": 28,
    "start_time": "2022-02-04T00:30:15.505Z"
   },
   {
    "duration": 15,
    "start_time": "2022-02-04T00:30:15.535Z"
   },
   {
    "duration": 9,
    "start_time": "2022-02-04T00:30:15.553Z"
   },
   {
    "duration": 10,
    "start_time": "2022-02-04T00:30:15.564Z"
   },
   {
    "duration": 63,
    "start_time": "2022-02-04T00:30:15.577Z"
   },
   {
    "duration": 11,
    "start_time": "2022-02-04T00:30:15.643Z"
   },
   {
    "duration": 7,
    "start_time": "2022-02-04T00:30:15.656Z"
   },
   {
    "duration": 8,
    "start_time": "2022-02-04T00:30:15.665Z"
   },
   {
    "duration": 64,
    "start_time": "2022-02-04T00:30:15.675Z"
   },
   {
    "duration": 19,
    "start_time": "2022-02-04T00:30:15.742Z"
   },
   {
    "duration": 16,
    "start_time": "2022-02-04T00:30:15.764Z"
   },
   {
    "duration": 6,
    "start_time": "2022-02-04T00:30:15.824Z"
   },
   {
    "duration": 10,
    "start_time": "2022-02-04T00:30:15.833Z"
   },
   {
    "duration": 13,
    "start_time": "2022-02-04T00:30:15.845Z"
   },
   {
    "duration": 20,
    "start_time": "2022-02-04T00:30:15.861Z"
   },
   {
    "duration": 60,
    "start_time": "2022-02-04T00:30:15.883Z"
   },
   {
    "duration": 21,
    "start_time": "2022-02-04T00:30:15.945Z"
   },
   {
    "duration": 63,
    "start_time": "2022-02-04T00:30:15.969Z"
   },
   {
    "duration": 9,
    "start_time": "2022-02-04T00:30:16.035Z"
   },
   {
    "duration": 15,
    "start_time": "2022-02-04T00:30:16.051Z"
   },
   {
    "duration": 14,
    "start_time": "2022-02-04T00:30:16.070Z"
   },
   {
    "duration": 18,
    "start_time": "2022-02-04T00:30:16.124Z"
   },
   {
    "duration": 45,
    "start_time": "2022-02-04T00:30:16.145Z"
   },
   {
    "duration": 44,
    "start_time": "2022-02-04T00:30:16.193Z"
   },
   {
    "duration": 42,
    "start_time": "2022-02-04T00:30:16.240Z"
   },
   {
    "duration": 43,
    "start_time": "2022-02-04T00:30:16.285Z"
   },
   {
    "duration": 34,
    "start_time": "2022-02-04T00:30:16.331Z"
   },
   {
    "duration": 507,
    "start_time": "2022-02-04T00:30:16.368Z"
   },
   {
    "duration": 11,
    "start_time": "2022-02-04T00:30:16.877Z"
   },
   {
    "duration": 5,
    "start_time": "2022-02-04T00:30:16.891Z"
   },
   {
    "duration": 379,
    "start_time": "2022-02-04T00:30:16.898Z"
   },
   {
    "duration": 371,
    "start_time": "2022-02-04T00:30:17.280Z"
   },
   {
    "duration": 364,
    "start_time": "2022-02-04T00:30:17.653Z"
   },
   {
    "duration": 464,
    "start_time": "2022-02-04T00:30:18.024Z"
   },
   {
    "duration": 372,
    "start_time": "2022-02-04T00:30:18.491Z"
   },
   {
    "duration": 2429,
    "start_time": "2022-02-04T00:30:18.865Z"
   },
   {
    "duration": 388,
    "start_time": "2022-02-04T00:30:21.296Z"
   },
   {
    "duration": 618,
    "start_time": "2022-02-04T00:30:21.686Z"
   },
   {
    "duration": 24,
    "start_time": "2022-02-04T00:30:22.306Z"
   },
   {
    "duration": 608,
    "start_time": "2022-02-04T00:30:22.332Z"
   },
   {
    "duration": 24,
    "start_time": "2022-02-04T00:30:22.942Z"
   },
   {
    "duration": 7,
    "start_time": "2022-02-04T00:30:22.969Z"
   },
   {
    "duration": 509,
    "start_time": "2022-02-04T00:30:22.979Z"
   },
   {
    "duration": 7,
    "start_time": "2022-02-04T00:30:23.491Z"
   },
   {
    "duration": 54,
    "start_time": "2022-02-04T00:30:23.501Z"
   },
   {
    "duration": 23,
    "start_time": "2022-02-04T00:30:23.557Z"
   },
   {
    "duration": 54,
    "start_time": "2022-02-04T00:30:23.583Z"
   },
   {
    "duration": 21,
    "start_time": "2022-02-04T00:30:23.639Z"
   },
   {
    "duration": 7,
    "start_time": "2022-02-04T00:30:23.662Z"
   },
   {
    "duration": 16,
    "start_time": "2022-02-04T00:30:23.671Z"
   },
   {
    "duration": 17,
    "start_time": "2022-02-04T00:30:23.724Z"
   },
   {
    "duration": 484,
    "start_time": "2022-02-04T00:30:23.744Z"
   },
   {
    "duration": 310,
    "start_time": "2022-02-04T00:30:23.920Z"
   },
   {
    "duration": 308,
    "start_time": "2022-02-04T00:30:23.924Z"
   },
   {
    "duration": 305,
    "start_time": "2022-02-04T00:30:23.928Z"
   },
   {
    "duration": 302,
    "start_time": "2022-02-04T00:30:23.933Z"
   },
   {
    "duration": 299,
    "start_time": "2022-02-04T00:30:23.937Z"
   },
   {
    "duration": 296,
    "start_time": "2022-02-04T00:30:23.942Z"
   },
   {
    "duration": 293,
    "start_time": "2022-02-04T00:30:23.947Z"
   },
   {
    "duration": 289,
    "start_time": "2022-02-04T00:30:23.952Z"
   },
   {
    "duration": 288,
    "start_time": "2022-02-04T00:30:23.955Z"
   },
   {
    "duration": 284,
    "start_time": "2022-02-04T00:30:23.960Z"
   },
   {
    "duration": 281,
    "start_time": "2022-02-04T00:30:23.965Z"
   },
   {
    "duration": 279,
    "start_time": "2022-02-04T00:30:23.969Z"
   },
   {
    "duration": 276,
    "start_time": "2022-02-04T00:30:23.973Z"
   },
   {
    "duration": 272,
    "start_time": "2022-02-04T00:30:23.979Z"
   },
   {
    "duration": 270,
    "start_time": "2022-02-04T00:30:23.982Z"
   },
   {
    "duration": 267,
    "start_time": "2022-02-04T00:30:23.987Z"
   },
   {
    "duration": 264,
    "start_time": "2022-02-04T00:30:23.992Z"
   },
   {
    "duration": 260,
    "start_time": "2022-02-04T00:30:23.997Z"
   },
   {
    "duration": 1527,
    "start_time": "2022-02-04T00:33:00.557Z"
   },
   {
    "duration": 4,
    "start_time": "2022-02-04T00:33:02.086Z"
   },
   {
    "duration": 98,
    "start_time": "2022-02-04T00:33:02.093Z"
   },
   {
    "duration": 27,
    "start_time": "2022-02-04T00:33:02.194Z"
   },
   {
    "duration": 13,
    "start_time": "2022-02-04T00:33:02.224Z"
   },
   {
    "duration": 9,
    "start_time": "2022-02-04T00:33:02.239Z"
   },
   {
    "duration": 10,
    "start_time": "2022-02-04T00:33:02.250Z"
   },
   {
    "duration": 22,
    "start_time": "2022-02-04T00:33:02.264Z"
   },
   {
    "duration": 11,
    "start_time": "2022-02-04T00:33:02.324Z"
   },
   {
    "duration": 7,
    "start_time": "2022-02-04T00:33:02.338Z"
   },
   {
    "duration": 6,
    "start_time": "2022-02-04T00:33:02.348Z"
   },
   {
    "duration": 27,
    "start_time": "2022-02-04T00:33:02.356Z"
   },
   {
    "duration": 20,
    "start_time": "2022-02-04T00:33:02.423Z"
   },
   {
    "duration": 16,
    "start_time": "2022-02-04T00:33:02.446Z"
   },
   {
    "duration": 4,
    "start_time": "2022-02-04T00:33:02.464Z"
   },
   {
    "duration": 58,
    "start_time": "2022-02-04T00:33:02.470Z"
   },
   {
    "duration": 28,
    "start_time": "2022-02-04T00:33:02.530Z"
   },
   {
    "duration": 21,
    "start_time": "2022-02-04T00:33:02.561Z"
   },
   {
    "duration": 21,
    "start_time": "2022-02-04T00:33:02.584Z"
   },
   {
    "duration": 33,
    "start_time": "2022-02-04T00:33:02.608Z"
   },
   {
    "duration": 15,
    "start_time": "2022-02-04T00:33:02.643Z"
   },
   {
    "duration": 11,
    "start_time": "2022-02-04T00:33:02.661Z"
   },
   {
    "duration": 16,
    "start_time": "2022-02-04T00:33:02.723Z"
   },
   {
    "duration": 15,
    "start_time": "2022-02-04T00:33:02.743Z"
   },
   {
    "duration": 16,
    "start_time": "2022-02-04T00:33:02.760Z"
   },
   {
    "duration": 76,
    "start_time": "2022-02-04T00:33:02.778Z"
   },
   {
    "duration": 15,
    "start_time": "2022-02-04T00:33:02.856Z"
   },
   {
    "duration": 64,
    "start_time": "2022-02-04T00:33:02.873Z"
   },
   {
    "duration": 11,
    "start_time": "2022-02-04T00:33:02.940Z"
   },
   {
    "duration": 34,
    "start_time": "2022-02-04T00:33:02.953Z"
   },
   {
    "duration": 557,
    "start_time": "2022-02-04T00:33:02.989Z"
   },
   {
    "duration": 11,
    "start_time": "2022-02-04T00:33:03.549Z"
   },
   {
    "duration": 5,
    "start_time": "2022-02-04T00:33:03.563Z"
   },
   {
    "duration": 381,
    "start_time": "2022-02-04T00:33:03.570Z"
   },
   {
    "duration": 361,
    "start_time": "2022-02-04T00:33:03.953Z"
   },
   {
    "duration": 347,
    "start_time": "2022-02-04T00:33:04.323Z"
   },
   {
    "duration": 416,
    "start_time": "2022-02-04T00:33:04.672Z"
   },
   {
    "duration": 367,
    "start_time": "2022-02-04T00:33:05.090Z"
   },
   {
    "duration": 2364,
    "start_time": "2022-02-04T00:33:05.459Z"
   },
   {
    "duration": 392,
    "start_time": "2022-02-04T00:33:07.826Z"
   },
   {
    "duration": 611,
    "start_time": "2022-02-04T00:33:08.224Z"
   },
   {
    "duration": 15,
    "start_time": "2022-02-04T00:33:08.837Z"
   },
   {
    "duration": 610,
    "start_time": "2022-02-04T00:33:08.854Z"
   },
   {
    "duration": 24,
    "start_time": "2022-02-04T00:33:09.467Z"
   },
   {
    "duration": 29,
    "start_time": "2022-02-04T00:33:09.494Z"
   },
   {
    "duration": 487,
    "start_time": "2022-02-04T00:33:09.526Z"
   },
   {
    "duration": 7,
    "start_time": "2022-02-04T00:33:10.023Z"
   },
   {
    "duration": 38,
    "start_time": "2022-02-04T00:33:10.032Z"
   },
   {
    "duration": 21,
    "start_time": "2022-02-04T00:33:10.072Z"
   },
   {
    "duration": 49,
    "start_time": "2022-02-04T00:33:10.096Z"
   },
   {
    "duration": 19,
    "start_time": "2022-02-04T00:33:10.147Z"
   },
   {
    "duration": 8,
    "start_time": "2022-02-04T00:33:10.168Z"
   },
   {
    "duration": 49,
    "start_time": "2022-02-04T00:33:10.179Z"
   },
   {
    "duration": 17,
    "start_time": "2022-02-04T00:33:10.230Z"
   },
   {
    "duration": 457,
    "start_time": "2022-02-04T00:33:10.249Z"
   },
   {
    "duration": 312,
    "start_time": "2022-02-04T00:33:10.397Z"
   },
   {
    "duration": 306,
    "start_time": "2022-02-04T00:33:10.404Z"
   },
   {
    "duration": 301,
    "start_time": "2022-02-04T00:33:10.410Z"
   },
   {
    "duration": 297,
    "start_time": "2022-02-04T00:33:10.416Z"
   },
   {
    "duration": 292,
    "start_time": "2022-02-04T00:33:10.422Z"
   },
   {
    "duration": 289,
    "start_time": "2022-02-04T00:33:10.427Z"
   },
   {
    "duration": 284,
    "start_time": "2022-02-04T00:33:10.433Z"
   },
   {
    "duration": 277,
    "start_time": "2022-02-04T00:33:10.441Z"
   },
   {
    "duration": 274,
    "start_time": "2022-02-04T00:33:10.446Z"
   },
   {
    "duration": 270,
    "start_time": "2022-02-04T00:33:10.452Z"
   },
   {
    "duration": 265,
    "start_time": "2022-02-04T00:33:10.459Z"
   },
   {
    "duration": 262,
    "start_time": "2022-02-04T00:33:10.463Z"
   },
   {
    "duration": 257,
    "start_time": "2022-02-04T00:33:10.469Z"
   },
   {
    "duration": 251,
    "start_time": "2022-02-04T00:33:10.476Z"
   },
   {
    "duration": 246,
    "start_time": "2022-02-04T00:33:10.483Z"
   },
   {
    "duration": 241,
    "start_time": "2022-02-04T00:33:10.489Z"
   },
   {
    "duration": 236,
    "start_time": "2022-02-04T00:33:10.495Z"
   },
   {
    "duration": 233,
    "start_time": "2022-02-04T00:33:10.500Z"
   },
   {
    "duration": 6,
    "start_time": "2022-02-04T00:34:34.160Z"
   },
   {
    "duration": 14,
    "start_time": "2022-02-04T00:35:00.362Z"
   },
   {
    "duration": 18,
    "start_time": "2022-02-04T00:35:48.533Z"
   },
   {
    "duration": 38,
    "start_time": "2022-02-04T00:37:52.484Z"
   },
   {
    "duration": 1796,
    "start_time": "2022-02-04T00:38:47.827Z"
   },
   {
    "duration": 4,
    "start_time": "2022-02-04T00:38:49.627Z"
   },
   {
    "duration": 78,
    "start_time": "2022-02-04T00:38:49.637Z"
   },
   {
    "duration": 28,
    "start_time": "2022-02-04T00:38:49.718Z"
   },
   {
    "duration": 13,
    "start_time": "2022-02-04T00:38:49.748Z"
   },
   {
    "duration": 9,
    "start_time": "2022-02-04T00:38:49.763Z"
   },
   {
    "duration": 52,
    "start_time": "2022-02-04T00:38:49.776Z"
   },
   {
    "duration": 18,
    "start_time": "2022-02-04T00:38:49.831Z"
   },
   {
    "duration": 12,
    "start_time": "2022-02-04T00:38:49.851Z"
   },
   {
    "duration": 9,
    "start_time": "2022-02-04T00:38:49.865Z"
   },
   {
    "duration": 9,
    "start_time": "2022-02-04T00:38:49.876Z"
   },
   {
    "duration": 62,
    "start_time": "2022-02-04T00:38:49.887Z"
   },
   {
    "duration": 18,
    "start_time": "2022-02-04T00:38:49.952Z"
   },
   {
    "duration": 54,
    "start_time": "2022-02-04T00:38:49.972Z"
   },
   {
    "duration": 4,
    "start_time": "2022-02-04T00:38:50.028Z"
   },
   {
    "duration": 13,
    "start_time": "2022-02-04T00:38:50.035Z"
   },
   {
    "duration": 16,
    "start_time": "2022-02-04T00:38:50.051Z"
   },
   {
    "duration": 20,
    "start_time": "2022-02-04T00:38:50.069Z"
   },
   {
    "duration": 54,
    "start_time": "2022-02-04T00:38:50.091Z"
   },
   {
    "duration": 21,
    "start_time": "2022-02-04T00:38:50.147Z"
   },
   {
    "duration": 62,
    "start_time": "2022-02-04T00:38:50.170Z"
   },
   {
    "duration": 9,
    "start_time": "2022-02-04T00:38:50.239Z"
   },
   {
    "duration": 23,
    "start_time": "2022-02-04T00:38:50.255Z"
   },
   {
    "duration": 52,
    "start_time": "2022-02-04T00:38:50.281Z"
   },
   {
    "duration": 17,
    "start_time": "2022-02-04T00:38:50.336Z"
   },
   {
    "duration": 74,
    "start_time": "2022-02-04T00:38:50.355Z"
   },
   {
    "duration": 15,
    "start_time": "2022-02-04T00:38:50.432Z"
   },
   {
    "duration": 74,
    "start_time": "2022-02-04T00:38:50.450Z"
   },
   {
    "duration": 12,
    "start_time": "2022-02-04T00:38:50.527Z"
   },
   {
    "duration": 35,
    "start_time": "2022-02-04T00:38:50.541Z"
   },
   {
    "duration": 523,
    "start_time": "2022-02-04T00:38:50.579Z"
   },
   {
    "duration": 22,
    "start_time": "2022-02-04T00:38:51.105Z"
   },
   {
    "duration": 5,
    "start_time": "2022-02-04T00:38:51.130Z"
   },
   {
    "duration": 392,
    "start_time": "2022-02-04T00:38:51.138Z"
   },
   {
    "duration": 371,
    "start_time": "2022-02-04T00:38:51.533Z"
   },
   {
    "duration": 375,
    "start_time": "2022-02-04T00:38:51.908Z"
   },
   {
    "duration": 451,
    "start_time": "2022-02-04T00:38:52.286Z"
   },
   {
    "duration": 411,
    "start_time": "2022-02-04T00:38:52.740Z"
   },
   {
    "duration": 2355,
    "start_time": "2022-02-04T00:38:53.153Z"
   },
   {
    "duration": 402,
    "start_time": "2022-02-04T00:38:55.510Z"
   },
   {
    "duration": 611,
    "start_time": "2022-02-04T00:38:55.915Z"
   },
   {
    "duration": 17,
    "start_time": "2022-02-04T00:38:56.528Z"
   },
   {
    "duration": 631,
    "start_time": "2022-02-04T00:38:56.548Z"
   },
   {
    "duration": 24,
    "start_time": "2022-02-04T00:38:57.182Z"
   },
   {
    "duration": 10,
    "start_time": "2022-02-04T00:38:57.224Z"
   },
   {
    "duration": 495,
    "start_time": "2022-02-04T00:38:57.237Z"
   },
   {
    "duration": 6,
    "start_time": "2022-02-04T00:38:57.734Z"
   },
   {
    "duration": 53,
    "start_time": "2022-02-04T00:38:57.743Z"
   },
   {
    "duration": 33,
    "start_time": "2022-02-04T00:38:57.798Z"
   },
   {
    "duration": 24,
    "start_time": "2022-02-04T00:38:57.833Z"
   },
   {
    "duration": 19,
    "start_time": "2022-02-04T00:38:57.860Z"
   },
   {
    "duration": 57,
    "start_time": "2022-02-04T00:38:57.881Z"
   },
   {
    "duration": 16,
    "start_time": "2022-02-04T00:38:57.940Z"
   },
   {
    "duration": 88,
    "start_time": "2022-02-04T00:38:57.959Z"
   },
   {
    "duration": 36,
    "start_time": "2022-02-04T00:38:58.049Z"
   },
   {
    "duration": 69,
    "start_time": "2022-02-04T00:38:58.088Z"
   },
   {
    "duration": 7,
    "start_time": "2022-02-04T00:38:58.160Z"
   },
   {
    "duration": 20,
    "start_time": "2022-02-04T00:38:58.170Z"
   },
   {
    "duration": 37,
    "start_time": "2022-02-04T00:38:58.192Z"
   },
   {
    "duration": 27,
    "start_time": "2022-02-04T00:38:58.232Z"
   },
   {
    "duration": 14095,
    "start_time": "2022-02-04T00:38:58.262Z"
   },
   {
    "duration": 146280,
    "start_time": "2022-02-04T00:39:12.359Z"
   },
   {
    "duration": 69784,
    "start_time": "2022-02-04T00:41:38.642Z"
   },
   {
    "duration": 32941,
    "start_time": "2022-02-04T00:42:48.430Z"
   },
   {
    "duration": 1820198,
    "start_time": "2022-02-04T00:43:21.374Z"
   },
   {
    "duration": 1393261,
    "start_time": "2022-02-04T01:13:41.574Z"
   },
   {
    "duration": 9,
    "start_time": "2022-02-04T01:36:54.842Z"
   },
   {
    "duration": 10,
    "start_time": "2022-02-04T01:36:54.853Z"
   },
   {
    "duration": 5,
    "start_time": "2022-02-04T01:36:54.866Z"
   },
   {
    "duration": 400,
    "start_time": "2022-02-04T01:36:54.874Z"
   },
   {
    "duration": 336,
    "start_time": "2022-02-04T01:36:55.277Z"
   },
   {
    "duration": 367,
    "start_time": "2022-02-04T01:36:55.615Z"
   },
   {
    "duration": 395,
    "start_time": "2022-02-04T01:36:55.985Z"
   },
   {
    "duration": 309,
    "start_time": "2022-02-04T04:41:22.683Z"
   },
   {
    "duration": 5,
    "start_time": "2022-02-04T06:14:04.472Z"
   },
   {
    "duration": 28,
    "start_time": "2022-02-04T06:14:23.249Z"
   },
   {
    "duration": 5,
    "start_time": "2022-02-04T06:15:43.182Z"
   },
   {
    "duration": 25,
    "start_time": "2022-02-04T06:18:33.966Z"
   },
   {
    "duration": 8,
    "start_time": "2022-02-04T06:19:26.769Z"
   },
   {
    "duration": 16,
    "start_time": "2022-02-04T06:19:30.906Z"
   },
   {
    "duration": 17732,
    "start_time": "2022-02-04T06:19:40.234Z"
   },
   {
    "duration": 97,
    "start_time": "2022-02-04T20:19:14.025Z"
   },
   {
    "duration": 93,
    "start_time": "2022-02-04T20:21:41.051Z"
   },
   {
    "duration": 1512,
    "start_time": "2022-08-01T12:20:07.669Z"
   },
   {
    "duration": 3,
    "start_time": "2022-08-01T12:20:09.182Z"
   },
   {
    "duration": 281,
    "start_time": "2022-08-01T12:20:09.186Z"
   },
   {
    "duration": 25,
    "start_time": "2022-08-01T12:20:09.469Z"
   },
   {
    "duration": 11,
    "start_time": "2022-08-01T12:20:09.497Z"
   },
   {
    "duration": 5,
    "start_time": "2022-08-01T12:20:09.510Z"
   },
   {
    "duration": 8,
    "start_time": "2022-08-01T12:20:09.517Z"
   },
   {
    "duration": 20,
    "start_time": "2022-08-01T12:20:09.526Z"
   },
   {
    "duration": 7,
    "start_time": "2022-08-01T12:20:09.548Z"
   },
   {
    "duration": 6,
    "start_time": "2022-08-01T12:20:09.556Z"
   },
   {
    "duration": 6,
    "start_time": "2022-08-01T12:20:09.563Z"
   },
   {
    "duration": 25,
    "start_time": "2022-08-01T12:20:09.570Z"
   },
   {
    "duration": 43,
    "start_time": "2022-08-01T12:20:09.597Z"
   },
   {
    "duration": 12,
    "start_time": "2022-08-01T12:20:09.644Z"
   },
   {
    "duration": 3,
    "start_time": "2022-08-01T12:20:09.658Z"
   },
   {
    "duration": 15,
    "start_time": "2022-08-01T12:20:09.662Z"
   },
   {
    "duration": 6,
    "start_time": "2022-08-01T12:20:09.678Z"
   },
   {
    "duration": 51,
    "start_time": "2022-08-01T12:20:09.686Z"
   },
   {
    "duration": 17,
    "start_time": "2022-08-01T12:20:09.739Z"
   },
   {
    "duration": 14,
    "start_time": "2022-08-01T12:20:09.758Z"
   },
   {
    "duration": 18,
    "start_time": "2022-08-01T12:20:09.773Z"
   },
   {
    "duration": 8,
    "start_time": "2022-08-01T12:20:09.793Z"
   },
   {
    "duration": 41,
    "start_time": "2022-08-01T12:20:09.803Z"
   },
   {
    "duration": 9,
    "start_time": "2022-08-01T12:20:09.846Z"
   },
   {
    "duration": 9,
    "start_time": "2022-08-01T12:20:09.857Z"
   },
   {
    "duration": 31,
    "start_time": "2022-08-01T12:20:09.867Z"
   },
   {
    "duration": 9,
    "start_time": "2022-08-01T12:20:09.899Z"
   },
   {
    "duration": 32,
    "start_time": "2022-08-01T12:20:09.936Z"
   },
   {
    "duration": 9,
    "start_time": "2022-08-01T12:20:09.970Z"
   },
   {
    "duration": 20,
    "start_time": "2022-08-01T12:20:09.980Z"
   },
   {
    "duration": 227,
    "start_time": "2022-08-01T12:20:10.002Z"
   },
   {
    "duration": 8,
    "start_time": "2022-08-01T12:20:10.236Z"
   },
   {
    "duration": 9,
    "start_time": "2022-08-01T12:20:10.245Z"
   },
   {
    "duration": 163,
    "start_time": "2022-08-01T12:20:10.255Z"
   },
   {
    "duration": 211,
    "start_time": "2022-08-01T12:20:10.419Z"
   },
   {
    "duration": 148,
    "start_time": "2022-08-01T12:20:10.632Z"
   },
   {
    "duration": 164,
    "start_time": "2022-08-01T12:20:10.781Z"
   },
   {
    "duration": 164,
    "start_time": "2022-08-01T12:20:10.947Z"
   },
   {
    "duration": 1025,
    "start_time": "2022-08-01T12:20:11.113Z"
   },
   {
    "duration": 186,
    "start_time": "2022-08-01T12:20:12.140Z"
   },
   {
    "duration": 253,
    "start_time": "2022-08-01T12:20:12.331Z"
   },
   {
    "duration": 11,
    "start_time": "2022-08-01T12:20:12.585Z"
   },
   {
    "duration": 301,
    "start_time": "2022-08-01T12:20:12.597Z"
   },
   {
    "duration": 14,
    "start_time": "2022-08-01T12:20:12.899Z"
   },
   {
    "duration": 4,
    "start_time": "2022-08-01T12:20:12.914Z"
   },
   {
    "duration": 319,
    "start_time": "2022-08-01T12:20:12.920Z"
   },
   {
    "duration": 4,
    "start_time": "2022-08-01T12:20:13.240Z"
   },
   {
    "duration": 29,
    "start_time": "2022-08-01T12:20:13.246Z"
   },
   {
    "duration": 13,
    "start_time": "2022-08-01T12:20:13.277Z"
   },
   {
    "duration": 12,
    "start_time": "2022-08-01T12:20:13.291Z"
   },
   {
    "duration": 38,
    "start_time": "2022-08-01T12:20:13.305Z"
   },
   {
    "duration": 10,
    "start_time": "2022-08-01T12:20:13.345Z"
   },
   {
    "duration": 9,
    "start_time": "2022-08-01T12:20:13.356Z"
   },
   {
    "duration": 29,
    "start_time": "2022-08-01T12:20:13.367Z"
   },
   {
    "duration": 54,
    "start_time": "2022-08-01T12:20:13.397Z"
   },
   {
    "duration": 23,
    "start_time": "2022-08-01T12:20:13.453Z"
   },
   {
    "duration": 4,
    "start_time": "2022-08-01T12:20:13.477Z"
   },
   {
    "duration": 6,
    "start_time": "2022-08-01T12:20:13.483Z"
   },
   {
    "duration": 8,
    "start_time": "2022-08-01T12:20:13.490Z"
   },
   {
    "duration": 13,
    "start_time": "2022-08-01T12:20:13.499Z"
   },
   {
    "duration": 9806,
    "start_time": "2022-08-01T12:20:13.537Z"
   },
   {
    "duration": 99840,
    "start_time": "2022-08-01T12:20:23.344Z"
   },
   {
    "duration": 66153,
    "start_time": "2022-08-01T12:22:03.186Z"
   },
   {
    "duration": 31946,
    "start_time": "2022-08-01T12:23:09.341Z"
   },
   {
    "duration": 295363,
    "start_time": "2022-08-01T12:23:41.288Z"
   },
   {
    "duration": 979191,
    "start_time": "2022-08-01T12:28:36.653Z"
   },
   {
    "duration": 6,
    "start_time": "2022-08-01T12:44:55.846Z"
   },
   {
    "duration": 10,
    "start_time": "2022-08-01T12:44:55.854Z"
   },
   {
    "duration": 6,
    "start_time": "2022-08-01T12:44:55.865Z"
   },
   {
    "duration": 217,
    "start_time": "2022-08-01T12:44:55.873Z"
   },
   {
    "duration": 165,
    "start_time": "2022-08-01T12:44:56.092Z"
   },
   {
    "duration": 246,
    "start_time": "2022-08-01T12:44:56.258Z"
   },
   {
    "duration": 232,
    "start_time": "2022-08-01T12:44:56.506Z"
   },
   {
    "duration": 6,
    "start_time": "2022-08-01T12:44:56.739Z"
   },
   {
    "duration": 22514,
    "start_time": "2022-08-01T12:44:56.746Z"
   }
  ],
  "kernelspec": {
   "display_name": "Python 3 (ipykernel)",
   "language": "python",
   "name": "python3"
  },
  "language_info": {
   "codemirror_mode": {
    "name": "ipython",
    "version": 3
   },
   "file_extension": ".py",
   "mimetype": "text/x-python",
   "name": "python",
   "nbconvert_exporter": "python",
   "pygments_lexer": "ipython3",
   "version": "3.9.12"
  },
  "toc": {
   "base_numbering": 1,
   "nav_menu": {},
   "number_sections": true,
   "sideBar": true,
   "skip_h1_title": true,
   "title_cell": "Table of Contents",
   "title_sidebar": "Contents",
   "toc_cell": false,
   "toc_position": {},
   "toc_section_display": true,
   "toc_window_display": false
  }
 },
 "nbformat": 4,
 "nbformat_minor": 2
}
